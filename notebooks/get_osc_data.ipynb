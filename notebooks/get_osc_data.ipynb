{
 "cells": [
  {
   "cell_type": "code",
   "execution_count": 1,
   "metadata": {
    "id": "mV8WD56fP2Zr"
   },
   "outputs": [],
   "source": [
    "import requests\n",
    "\n",
    "import pandas as pd\n",
    "import numpy as np\n",
    "\n",
    "import camelot\n",
    "import json\n",
    "\n",
    "from glob import glob\n",
    "\n",
    "from datetime import datetime as dt"
   ]
  },
  {
   "cell_type": "code",
   "execution_count": 2,
   "metadata": {},
   "outputs": [],
   "source": [
    "pd.set_option('display.max_rows', 500)\n",
    "pd.set_option('display.max_columns', 500)\n",
    "pd.set_option('display.width', 1000)\n",
    "pd.options.display.max_colwidth = 200"
   ]
  },
  {
   "cell_type": "code",
   "execution_count": 3,
   "metadata": {
    "id": "ISvfBehEIC-5"
   },
   "outputs": [],
   "source": [
    "import matplotlib.pyplot as plt\n",
    "plt.rcParams['figure.figsize'] = [10, 10]"
   ]
  },
  {
   "cell_type": "markdown",
   "metadata": {
    "id": "iI6hplGSBPtH"
   },
   "source": [
    "## 1. OSC with CLUNI (Clave Única de Inscripción)"
   ]
  },
  {
   "cell_type": "code",
   "execution_count": 107,
   "metadata": {
    "scrolled": true
   },
   "outputs": [
    {
     "name": "stdout",
     "output_type": "stream",
     "text": [
      "2021-02-23 09:57:42 - Loading OSCs with CLUNI (Unique Id)\n",
      "\n",
      "2021-02-23 09:57:42 - File already exists. Retrieving most recent (2021-02-22 07:58:12)...\n",
      "\n",
      "2021-02-23 09:57:43 - Data loaded in dataframe\n"
     ]
    }
   ],
   "source": [
    "print(str(dt.now())[:19], '- Loading OSCs with CLUNI (Unique Id)\\n')\n",
    "\n",
    "# check if file already exist in folder\n",
    "sirfosc_files = glob('../data/SIRFOSC/csv/*.csv')\n",
    "\n",
    "if len(sirfosc_files) > 0: \n",
    "    most_recent_file = max([pd.to_datetime(dt[-23:-4], format='%Y-%m-%d-%H-%M-%S') for dt in sirfosc_files])\n",
    "    print(str(dt.now())[:19], f'- File already exists. Retrieving most recent ({str(most_recent_file)})...\\n')\n",
    "    file_name = '../data/SIRFOSC/csv/report-rfosc-' + str(most_recent_file).replace(' ', '-').replace(':', '-') + '.csv'\n",
    "    \n",
    "    df_osc_cluni = pd.read_csv(file_name, low_memory=False)\n",
    "    df_osc_cluni = df_osc_cluni.drop(df_osc_cluni.columns[0], axis=1)\n",
    "    print(str(dt.now())[:19], '- Data loaded in dataframe')\n",
    "    \n",
    "# if not, download from gov site\n",
    "else:\n",
    "    print(str(dt.now())[:19], '- Info is not locally available. Data will be downloaded from SII portal')\n",
    "    with open(\"../params/sirfosc_query_filters.json\", \"r\") as  params:\n",
    "        jParams = json.load(params)\n",
    "\n",
    "    CLUNI_URL = f\"http://www.sii.gob.mx/portal/organizaciones/excel/?cluni={jParams['CLUNI']}&nombre={jParams['NOMBRE']}&acronimo={jParams['ACRONIMO']}&rfc={jParams['RFC']}&status_osc={jParams['STATUS_OSC']}&status_sancion={jParams['STATUS_SANCION']}&figura_juridica={jParams['FIGURA_JURIDICA']}&estado={jParams['ESTADO']}&municipio={jParams['MUNICIPIO']}&asentamiento={jParams['ASENTAMIENTO']}&cp={jParams['CP']}&rep_nombre={jParams['REP_NOMBRE']}&rep_apaterno={jParams['REP_APATERNO']}&rep_amaterno={jParams['REP_AMATERNO']}&num_notaria={jParams['NUM_NOTARIA']}&objeto_social={jParams['OBJETO_SOCIAL']}&red={jParams['RED']}&advanced=1\"\n",
    "\n",
    "    # todo: do i really need all this data to talk to the server?\n",
    "    payload={}\n",
    "    headers = {\n",
    "      'Upgrade-Insecure-Requests': '1',\n",
    "      'User-Agent': 'Mozilla/5.0 (Macintosh; Intel Mac OS X 11_2_0) AppleWebKit/537.36 (KHTML, like Gecko) Chrome/88.0.4324.96 Safari/537.36',\n",
    "      'Accept': 'text/html,application/xhtml+xml,application/xml;q=0.9,image/avif,image/webp,image/apng,*/*;q=0.8,application/signed-exchange;v=b3;q=0.9'\n",
    "    }\n",
    "    \n",
    "    print(str(dt.now())[:19], '- Requesting data to server...')\n",
    "    cluni_response = requests.request(\"GET\", CLUNI_URL, headers=headers, data=payload)\n",
    "\n",
    "    CLUNI_NOW = str(dt.now())[:19].replace(' ', '-').replace(':', '-')\n",
    "\n",
    "    print(str(dt.now())[:19], '- Applying some cleaning processing')\n",
    "    with open(f\"../data/SIRFOSC/txt/report-rfosc-{CLUNI_NOW}.txt\", \"w+\") as f:\n",
    "        f.write(cluni_response.text)\n",
    "        \n",
    "    print(str(dt.now())[:19], '- Saving retreived data as text file')\n",
    "    df_osc_cluni = pd.DataFrame([row.split('\",\"') for row in cluni_response.text.split('\\n')])\n",
    "    df_osc_cluni[0] = df_osc_cluni[0].str.replace('\"', '')\n",
    "    df_osc_cluni[df_osc_cluni.shape[1]-1] = df_osc_cluni[df_osc_cluni.shape[1]-1].str.replace('\"\\r', '')\n",
    "    df_osc_cluni = df_osc_cluni.rename(columns=df_osc_cluni.iloc[0]).iloc[1:]\n",
    "    df_osc_cluni = df_osc_cluni[:-1].reset_index(drop=True)\n",
    "    \n",
    "    print(str(dt.now())[:19], '- Writing request as csv in SIRFOSC folder\\n')\n",
    "    df_osc_cluni.to_csv(f\"../data/SIRFOSC/csv/report-rfosc-{CLUNI_NOW}.csv\")\n",
    "    \n",
    "    print(str(dt.now())[:19], '- Data loaded in dataframe')"
   ]
  },
  {
   "cell_type": "code",
   "execution_count": 108,
   "metadata": {},
   "outputs": [],
   "source": [
    "with_active_cluni = (df_osc_cluni.ESTATUS == 'ACTIVA')\n",
    "with_valid_status = (df_osc_cluni['ESTATUS DE LA REPRESENTACION'] == 'VIGENTE')\n",
    "\n",
    "# df_osc_cluni = df_osc_cluni[with_active_cluni & with_valid_status]\n",
    "df_osc_cluni = df_osc_cluni[df_osc_cluni.RFC.str.len().isin([12, 13])]\n",
    "df_osc_cluni = df_osc_cluni.reset_index(drop=True)\n",
    "df_osc_cluni = df_osc_cluni[['RFC', 'CLUNI', 'RAZON SOCIAL', 'ESTATUS', 'ESTATUS DE LA REPRESENTACION', 'FIGURA JURIDICA', 'FECHA DE CONSTITUCION']]"
   ]
  },
  {
   "cell_type": "code",
   "execution_count": 109,
   "metadata": {},
   "outputs": [],
   "source": [
    "new_col_names = [(c, c.lower().replace(' ', '_')) for c in df_osc_cluni.columns]"
   ]
  },
  {
   "cell_type": "code",
   "execution_count": 110,
   "metadata": {},
   "outputs": [],
   "source": [
    "df_osc_cluni = df_osc_cluni.rename(columns=dict(new_col_names))"
   ]
  },
  {
   "cell_type": "code",
   "execution_count": 111,
   "metadata": {},
   "outputs": [],
   "source": [
    "df_osc_cluni = df_osc_cluni.rename(columns={'razon_social': 'cluni_razon_social', 'estatus_de_la_representacion':'cluni_representacion'})"
   ]
  },
  {
   "cell_type": "code",
   "execution_count": 112,
   "metadata": {},
   "outputs": [],
   "source": [
    "df_osc_cluni['fecha_de_constitucion'] = pd.to_datetime(df_osc_cluni.fecha_de_constitucion)"
   ]
  },
  {
   "cell_type": "code",
   "execution_count": 119,
   "metadata": {},
   "outputs": [],
   "source": [
    "df_osc_cluni[['estatus', 'cluni_representacion']] = df_osc_cluni[['estatus', 'cluni_representacion']].apply(lambda col: col.str.lower())"
   ]
  },
  {
   "cell_type": "code",
   "execution_count": 120,
   "metadata": {},
   "outputs": [],
   "source": [
    "df_osc_cluni.loc[:, 'cluni_year'] = '2020'"
   ]
  },
  {
   "cell_type": "code",
   "execution_count": 121,
   "metadata": {},
   "outputs": [
    {
     "data": {
      "text/html": [
       "<div>\n",
       "<style scoped>\n",
       "    .dataframe tbody tr th:only-of-type {\n",
       "        vertical-align: middle;\n",
       "    }\n",
       "\n",
       "    .dataframe tbody tr th {\n",
       "        vertical-align: top;\n",
       "    }\n",
       "\n",
       "    .dataframe thead th {\n",
       "        text-align: right;\n",
       "    }\n",
       "</style>\n",
       "<table border=\"1\" class=\"dataframe\">\n",
       "  <thead>\n",
       "    <tr style=\"text-align: right;\">\n",
       "      <th></th>\n",
       "      <th>rfc</th>\n",
       "      <th>cluni</th>\n",
       "      <th>cluni_razon_social</th>\n",
       "      <th>estatus</th>\n",
       "      <th>cluni_representacion</th>\n",
       "      <th>figura_juridica</th>\n",
       "      <th>fecha_de_constitucion</th>\n",
       "      <th>cluni_year</th>\n",
       "    </tr>\n",
       "  </thead>\n",
       "  <tbody>\n",
       "    <tr>\n",
       "      <th>0</th>\n",
       "      <td>VCO980914457</td>\n",
       "      <td>VCO98091405018</td>\n",
       "      <td>Voluntades por Coahuila</td>\n",
       "      <td>activa</td>\n",
       "      <td>vencida</td>\n",
       "      <td>Asociación Civil</td>\n",
       "      <td>1998-09-14</td>\n",
       "      <td>2020</td>\n",
       "    </tr>\n",
       "    <tr>\n",
       "      <th>1</th>\n",
       "      <td>UEF0303179P9</td>\n",
       "      <td>UEF0303170101D</td>\n",
       "      <td>Unión Estatal Femenil FEPRA</td>\n",
       "      <td>activa</td>\n",
       "      <td>vigente</td>\n",
       "      <td>Asociación Civil</td>\n",
       "      <td>2003-03-17</td>\n",
       "      <td>2020</td>\n",
       "    </tr>\n",
       "    <tr>\n",
       "      <th>2</th>\n",
       "      <td>FOJ041002PB3</td>\n",
       "      <td>FOJ04100219013</td>\n",
       "      <td>Federación de Organizaciones Juveniles</td>\n",
       "      <td>inactiva</td>\n",
       "      <td>vigente</td>\n",
       "      <td>Asociación Civil</td>\n",
       "      <td>2004-10-02</td>\n",
       "      <td>2020</td>\n",
       "    </tr>\n",
       "    <tr>\n",
       "      <th>3</th>\n",
       "      <td>ARP950406IF8</td>\n",
       "      <td>ARP95040609019</td>\n",
       "      <td>Aguilas Reales Pro Dignidad del Discapacitado</td>\n",
       "      <td>activa</td>\n",
       "      <td>vencida</td>\n",
       "      <td>Asociación Civil</td>\n",
       "      <td>1995-04-06</td>\n",
       "      <td>2020</td>\n",
       "    </tr>\n",
       "    <tr>\n",
       "      <th>4</th>\n",
       "      <td>FIM971201896</td>\n",
       "      <td>FIM97120122015</td>\n",
       "      <td>Formación Integral de la Mujer</td>\n",
       "      <td>inactiva</td>\n",
       "      <td>vigente</td>\n",
       "      <td>Institución de Asistencia Privada</td>\n",
       "      <td>1997-09-18</td>\n",
       "      <td>2020</td>\n",
       "    </tr>\n",
       "  </tbody>\n",
       "</table>\n",
       "</div>"
      ],
      "text/plain": [
       "            rfc           cluni                             cluni_razon_social   estatus cluni_representacion                    figura_juridica fecha_de_constitucion cluni_year\n",
       "0  VCO980914457  VCO98091405018                        Voluntades por Coahuila    activa              vencida                   Asociación Civil            1998-09-14       2020\n",
       "1  UEF0303179P9  UEF0303170101D                    Unión Estatal Femenil FEPRA    activa              vigente                   Asociación Civil            2003-03-17       2020\n",
       "2  FOJ041002PB3  FOJ04100219013         Federación de Organizaciones Juveniles  inactiva              vigente                   Asociación Civil            2004-10-02       2020\n",
       "3  ARP950406IF8  ARP95040609019  Aguilas Reales Pro Dignidad del Discapacitado    activa              vencida                   Asociación Civil            1995-04-06       2020\n",
       "4  FIM971201896  FIM97120122015                 Formación Integral de la Mujer  inactiva              vigente  Institución de Asistencia Privada            1997-09-18       2020"
      ]
     },
     "execution_count": 121,
     "metadata": {},
     "output_type": "execute_result"
    }
   ],
   "source": [
    "df_osc_cluni.head(5)"
   ]
  },
  {
   "cell_type": "code",
   "execution_count": null,
   "metadata": {
    "id": "ZOH43fh5Dqb_"
   },
   "outputs": [],
   "source": []
  },
  {
   "cell_type": "markdown",
   "metadata": {
    "id": "eMmFi-iBBeIV"
   },
   "source": [
    "## 2. Donatarias Autorizadas (Directorio SAT)"
   ]
  },
  {
   "cell_type": "code",
   "execution_count": 69,
   "metadata": {
    "id": "FzsAhw2PIMBt"
   },
   "outputs": [
    {
     "name": "stdout",
     "output_type": "stream",
     "text": [
      "2021-02-23 09:44:28 - Loading OSCs from Directorio Donatarias Autorizadas (SAT)\n",
      "\n",
      "2021-02-23 09:44:28 - File already exists. Retrieving most recent (2021-02-21 11:23:35)...\n",
      "\n",
      "2021-02-23 09:44:28 - Data loaded in dataframe\n"
     ]
    }
   ],
   "source": [
    "print(str(dt.now())[:19], '- Loading OSCs from Directorio Donatarias Autorizadas (SAT)\\n')\n",
    "\n",
    "# check if file already exist in folder\n",
    "ddonaut_files = glob('../data/DonatariasAutorizadas/*.xls')\n",
    "\n",
    "if len(ddonaut_files) > 0: \n",
    "    most_recent_file = max([pd.to_datetime(dt[-23:-4], format='%Y-%m-%d-%H-%M-%S') for dt in ddonaut_files])\n",
    "    print(str(dt.now())[:19], f'- File already exists. Retrieving most recent ({str(most_recent_file)})...\\n')\n",
    "    file_name = '../data/DonatariasAutorizadas/report-sat-2020-' + str(most_recent_file).replace(' ', '-').replace(':', '-') + '.xls'\n",
    "    \n",
    "    df_osc_donaut_sat = pd.read_excel(file_name, skiprows = range(0, 27), usecols = \"A:O\")\n",
    "    df_osc_donaut_sat.columns = df_osc_donaut_sat.iloc[0]\n",
    "    df_osc_donaut_sat = df_osc_donaut_sat.loc[1:].reset_index(drop=True)\n",
    "    print(str(dt.now())[:19], '- Data loaded in dataframe')\n",
    "\n",
    "else:\n",
    "    \n",
    "    print(str(dt.now())[:19], '- Info is not locally available. Data will be downloaded from SAT portal')\n",
    "    # todo: create params to download directorio donaut\n",
    "    YEAR = '2020'\n",
    "    DONAUT_NOW = str(dt.now())[:19].replace(' ', '-').replace(':', '-')\n",
    "    SAT_URL = f'http://omawww.sat.gob.mx/documentossat/Documents/DirectorioDonatariasAutorizadas{YEAR}.xls'\n",
    "\n",
    "    print(str(dt.now())[:19], '- Requesting data to server...')\n",
    "    response = requests.get(SAT_URL)\n",
    "\n",
    "    print(str(dt.now())[:19], '- Saving retreived data as XLS file\\n')\n",
    "    with open(f\"../data/DonatariasAutorizadas/report-sat-{YEAR}-{DONAUT_NOW}.xls\", \"wb\") as f:\n",
    "        f.write(response.content)\n",
    "        \n",
    "    df_osc_donaut_sat = pd.read_excel(\n",
    "        f\"./data/DonatariasAutorizadas/report-sat-{YEAR}-{DONAUT_NOW}.xls\"\n",
    "        , skiprows = range(0, 27)\n",
    "        , usecols = \"A:O\"\n",
    "        )\n",
    "\n",
    "    df_osc_donaut_sat = df_osc_donaut_sat.rename(columns=df_osc_donaut_sat.iloc[0]).iloc[1:].reset_index(drop=True)\n",
    "    print(str(dt.now())[:19], '- Data loaded in dataframe')"
   ]
  },
  {
   "cell_type": "code",
   "execution_count": 70,
   "metadata": {
    "colab": {
     "base_uri": "https://localhost:8080/"
    },
    "id": "UhobnA0dHFos",
    "outputId": "ac9b7217-c9fe-4075-df8c-a867e0b732e8"
   },
   "outputs": [],
   "source": [
    "df_osc_donaut_sat = (\n",
    "    df_osc_donaut_sat\n",
    "    .drop_duplicates('RFC')\n",
    "    [['RFC', 'FECHA DE OFICIO']]\n",
    "    .rename(columns={\n",
    "        'RFC': 'rfc'\n",
    "        , 'FECHA DE OFICIO': 'fecha_oficio_sat'\n",
    "    })\n",
    ")"
   ]
  },
  {
   "cell_type": "code",
   "execution_count": 71,
   "metadata": {},
   "outputs": [],
   "source": [
    "df_osc_donaut_sat = df_osc_donaut_sat[df_osc_donaut_sat.rfc.str.len().isin([12, 13])].reset_index(drop=True)"
   ]
  },
  {
   "cell_type": "code",
   "execution_count": 72,
   "metadata": {},
   "outputs": [],
   "source": [
    "df_osc_donaut_sat['fecha_oficio_sat'] = pd.to_datetime(df_osc_donaut_sat.fecha_oficio_sat)"
   ]
  },
  {
   "cell_type": "code",
   "execution_count": 73,
   "metadata": {},
   "outputs": [],
   "source": [
    "df_osc_donaut_sat.loc[:, 'sat_year'] = '2020'"
   ]
  },
  {
   "cell_type": "code",
   "execution_count": 74,
   "metadata": {},
   "outputs": [
    {
     "data": {
      "text/html": [
       "<div>\n",
       "<style scoped>\n",
       "    .dataframe tbody tr th:only-of-type {\n",
       "        vertical-align: middle;\n",
       "    }\n",
       "\n",
       "    .dataframe tbody tr th {\n",
       "        vertical-align: top;\n",
       "    }\n",
       "\n",
       "    .dataframe thead th {\n",
       "        text-align: right;\n",
       "    }\n",
       "</style>\n",
       "<table border=\"1\" class=\"dataframe\">\n",
       "  <thead>\n",
       "    <tr style=\"text-align: right;\">\n",
       "      <th></th>\n",
       "      <th>rfc</th>\n",
       "      <th>fecha_oficio_sat</th>\n",
       "      <th>sat_year</th>\n",
       "    </tr>\n",
       "  </thead>\n",
       "  <tbody>\n",
       "    <tr>\n",
       "      <th>0</th>\n",
       "      <td>AAG150226BX0</td>\n",
       "      <td>2019-09-26</td>\n",
       "      <td>2020</td>\n",
       "    </tr>\n",
       "    <tr>\n",
       "      <th>1</th>\n",
       "      <td>AAP010713QV5</td>\n",
       "      <td>2020-05-22</td>\n",
       "      <td>2020</td>\n",
       "    </tr>\n",
       "    <tr>\n",
       "      <th>2</th>\n",
       "      <td>AAP7601261F0</td>\n",
       "      <td>2012-06-26</td>\n",
       "      <td>2020</td>\n",
       "    </tr>\n",
       "    <tr>\n",
       "      <th>3</th>\n",
       "      <td>ACD130327SG7</td>\n",
       "      <td>2014-08-26</td>\n",
       "      <td>2020</td>\n",
       "    </tr>\n",
       "    <tr>\n",
       "      <th>4</th>\n",
       "      <td>ACU860228JM2</td>\n",
       "      <td>2014-12-05</td>\n",
       "      <td>2020</td>\n",
       "    </tr>\n",
       "  </tbody>\n",
       "</table>\n",
       "</div>"
      ],
      "text/plain": [
       "0           rfc fecha_oficio_sat sat_year\n",
       "0  AAG150226BX0       2019-09-26     2020\n",
       "1  AAP010713QV5       2020-05-22     2020\n",
       "2  AAP7601261F0       2012-06-26     2020\n",
       "3  ACD130327SG7       2014-08-26     2020\n",
       "4  ACU860228JM2       2014-12-05     2020"
      ]
     },
     "execution_count": 74,
     "metadata": {},
     "output_type": "execute_result"
    }
   ],
   "source": [
    "df_osc_donaut_sat.head(5)"
   ]
  },
  {
   "cell_type": "code",
   "execution_count": null,
   "metadata": {
    "id": "M7CoJ8zdHFks"
   },
   "outputs": [],
   "source": []
  },
  {
   "cell_type": "markdown",
   "metadata": {
    "id": "cT6d15Sk5-G9"
   },
   "source": [
    "## 3. Donatarias Autorizadas (Resolución Miscelánea Fiscal)"
   ]
  },
  {
   "cell_type": "code",
   "execution_count": 51,
   "metadata": {
    "id": "UrAfkAbvNKJl"
   },
   "outputs": [],
   "source": [
    "with open(\"../params/dof_page_breaks.json\", \"r\") as  params:\n",
    "    jParams = json.load(params)"
   ]
  },
  {
   "cell_type": "code",
   "execution_count": 52,
   "metadata": {},
   "outputs": [],
   "source": [
    "DOF_YEARS = list(jParams.keys())"
   ]
  },
  {
   "cell_type": "code",
   "execution_count": 53,
   "metadata": {
    "id": "n030le57PFG-"
   },
   "outputs": [],
   "source": [
    "def fix_multiple_cols_name(df):\n",
    "    ncols = df.shape[1]\n",
    "    if ncols == 2: return(df)\n",
    "    elif ncols > 2:\n",
    "        # names can generate multiple columns due to bad parsing\n",
    "        name_cols = list(range(1, ncols))\n",
    "        df[1] = df[name_cols].apply(lambda row: ' '.join(row.values.astype(str)), axis=1)\n",
    "        df = df[[0, 1]]\n",
    "        return(df)\n",
    "    else:\n",
    "        # print('Check dataframe')\n",
    "        # print(df.head(3))\n",
    "        return(pd.DataFrame(columns=[0, 1]))"
   ]
  },
  {
   "cell_type": "code",
   "execution_count": 54,
   "metadata": {
    "scrolled": false
   },
   "outputs": [
    {
     "name": "stdout",
     "output_type": "stream",
     "text": [
      "2021-02-23 08:28:43 - Getting OSC data from \"Diario Oficial de la Federacion (2020)\"\n",
      "\n",
      "2021-02-23 08:28:43 - Create dataframe to store OSC's data\n",
      "2021-02-23 08:28:43 - Parsing first page (112) where OSC's data begins\n",
      "2021-02-23 08:28:43 - Parsing full pages (113-401) where OSC's data is present\n",
      "2021-02-23 08:30:37 - Parsing last page (402) where OSC's data ends\n",
      "\n",
      "2021-02-23 08:30:37 - Parse process completed\n",
      "2021-02-23 08:30:37 - Applying a some cleaning to the data\n",
      "2021-02-23 08:30:37 - Fixing splitted OSC names\n",
      "2021-02-23 08:30:38 - Remove bad RFCs\n",
      "2021-02-23 08:30:38 - Total unique OSCs retrived in 2020: 7692 \n",
      "\n"
     ]
    }
   ],
   "source": [
    "df_osc_donaut_dof = pd.DataFrame(columns=['RFC', 'razon_social', 'dof_year'])\n",
    "\n",
    "for year in DOF_YEARS:\n",
    "    \n",
    "    if year != '2020': continue\n",
    "    print(str(dt.now())[:19], f'- Getting OSC data from \"Diario Oficial de la Federacion ({year})\"\\n')\n",
    "    DOF_YEAR = year\n",
    "    \n",
    "    print(str(dt.now())[:19], \"- Create dataframe to store OSC's data\")\n",
    "    df_donaut_rms = pd.DataFrame(columns=[0, 1])\n",
    "    \n",
    "    # parsing first page where osc start (truncated)\n",
    "    first = jParams[DOF_YEAR]['parse']['start']['pages']\n",
    "    print(str(dt.now())[:19], f\"- Parsing first page ({first}) where OSC's data begins\")\n",
    "    start_tl = jParams[DOF_YEAR]['parse']['start']['top-left']\n",
    "    start_br = jParams[DOF_YEAR]['parse']['start']['bottom-right']\n",
    "    first_page = camelot.read_pdf(\n",
    "        '../data/A14-RMS/a14-rms-2021.pdf'\n",
    "        , flavor='stream'\n",
    "        , table_areas=[','.join(start_tl + start_br)]\n",
    "        , pages=first\n",
    "        )\n",
    "\n",
    "    df_donaut_rms = pd.concat([df_donaut_rms, fix_multiple_cols_name(first_page[0].df)])\n",
    "    \n",
    "    # parsing full pages where osc continue\n",
    "    full = jParams[DOF_YEAR]['parse']['full']['pages']\n",
    "    print(str(dt.now())[:19], f\"- Parsing full pages ({full}) where OSC's data is present\")\n",
    "    full_tl = jParams[DOF_YEAR]['parse']['full']['top-left']\n",
    "    full_br = jParams[DOF_YEAR]['parse']['full']['bottom-right']\n",
    "    full_pages = camelot.read_pdf(\n",
    "        '../data/A14-RMS/a14-rms-2021.pdf'\n",
    "        , flavor='stream'\n",
    "        , table_areas=[','.join(full_tl + full_br)]\n",
    "        , pages=full\n",
    "        )\n",
    "    \n",
    "    for n in range(len(full_pages)):\n",
    "        aux = fix_multiple_cols_name(full_pages[n].df)\n",
    "        df_donaut_rms = pd.concat([df_donaut_rms, aux])\n",
    "    \n",
    "    # parsing last page where osc end (truncated)\n",
    "    last = jParams[DOF_YEAR]['parse']['end']['pages']\n",
    "    print(str(dt.now())[:19], f\"- Parsing last page ({last}) where OSC's data ends\\n\")\n",
    "    end_tl = jParams[DOF_YEAR]['parse']['end']['top-left']\n",
    "    end_br = jParams[DOF_YEAR]['parse']['end']['bottom-right']\n",
    "    last_page = camelot.read_pdf(\n",
    "        '../data/A14-RMS/a14-rms-2021.pdf'\n",
    "        , flavor='stream'\n",
    "        , table_areas=[','.join(end_tl + end_br)]\n",
    "        , pages=last\n",
    "        )\n",
    "\n",
    "    df_donaut_rms = pd.concat([df_donaut_rms, fix_multiple_cols_name(last_page[0].df)])\n",
    "    print(str(dt.now())[:19], '- Parse process completed')\n",
    "    \n",
    "    # some cleaning over here\n",
    "    print(str(dt.now())[:19], '- Applying a some cleaning to the data')\n",
    "    df_donaut_rms = df_donaut_rms.rename(columns={0: 'RFC', 1: 'razon_social'})\n",
    "    # remove headers when osc changes their social objective in pdf\n",
    "    df_donaut_rms = df_donaut_rms[~((df_donaut_rms.RFC == 'RFC') & (df_donaut_rms.razon_social == 'Denominación Social'))].reset_index(drop=True)\n",
    "    df_donaut_rms = df_donaut_rms[df_donaut_rms.RFC.str.len().isin([0, 12])].reset_index(drop=True)\n",
    "    \n",
    "    df_donaut_rms['razon_social'] = df_donaut_rms.razon_social.str.replace('\\n', ' ')\n",
    "    \n",
    "    print(str(dt.now())[:19], '- Fixing splitted OSC names')\n",
    "    # check if razon social was splitted in two, row merge needed\n",
    "    df_donaut_rms[['merge_needed']] = (\n",
    "        1*(df_donaut_rms.razon_social.shift(-1).str.len() == 0) \n",
    "        + 1*(df_donaut_rms.razon_social.shift(1).str.len() == 0)\n",
    "    )\n",
    "    df_donaut_rms[['merge_needed']] = (df_donaut_rms.merge_needed.shift(-1) + df_donaut_rms.merge_needed.shift(1))\n",
    "    for i in df_donaut_rms[df_donaut_rms.merge_needed == 2].index:\n",
    "        df_donaut_rms.loc[i, 'razon_social'] = df_donaut_rms.loc[i-1, 'razon_social'] + ' ' + df_donaut_rms.loc[i+1, 'razon_social']\n",
    "    \n",
    "    print(str(dt.now())[:19], '- Remove bad RFCs')\n",
    "    df_donaut_rms = df_donaut_rms[df_donaut_rms.RFC.str.len() == 12]\n",
    "    df_donaut_rms = df_donaut_rms[df_donaut_rms.RFC.str.isupper()]\n",
    "    df_donaut_rms = df_donaut_rms[~df_donaut_rms.RFC.str.isalpha()].reset_index(drop=True)\n",
    "    df_donaut_rms = df_donaut_rms.drop_duplicates(\"RFC\").reset_index(drop=True)\n",
    "    df_donaut_rms = df_donaut_rms.drop(columns=['merge_needed'])\n",
    "    \n",
    "    df_donaut_rms[['dof_year']] = DOF_YEAR\n",
    "    \n",
    "    print(str(dt.now())[:19], f'- Total unique OSCs retrived in {year}:', str(df_donaut_rms.shape[0]), '\\n')\n",
    "    \n",
    "    df_osc_donaut_dof = pd.concat([df_osc_donaut_dof, df_donaut_rms])\n",
    "    "
   ]
  },
  {
   "cell_type": "code",
   "execution_count": null,
   "metadata": {
    "colab": {
     "base_uri": "https://localhost:8080/"
    },
    "id": "7Bk6DCAqOA79",
    "outputId": "4af9eca8-4d4e-43d0-c3b2-799efdc6daf3"
   },
   "outputs": [],
   "source": [
    "# accuracies = []\n",
    "# whitespaces = []\n",
    "\n",
    "# accuracies += [full_pages[n].parsing_report['accuracy']\n",
    "# whitespaces += [full_pages[n].parsing_report['accuracy']]\n",
    "\n",
    "# print('Average parsed accuracy', np.mean(accuracies).round(2))\n",
    "# print('Average parsed whitespace', np.mean(whitespaces).round(2))"
   ]
  },
  {
   "cell_type": "code",
   "execution_count": 80,
   "metadata": {},
   "outputs": [],
   "source": [
    "df_osc_donaut_dof = df_osc_donaut_dof.rename(columns={'razon_social': 'sat_razon_social', 'RFC': 'rfc'})"
   ]
  },
  {
   "cell_type": "code",
   "execution_count": 81,
   "metadata": {},
   "outputs": [
    {
     "data": {
      "text/html": [
       "<div>\n",
       "<style scoped>\n",
       "    .dataframe tbody tr th:only-of-type {\n",
       "        vertical-align: middle;\n",
       "    }\n",
       "\n",
       "    .dataframe tbody tr th {\n",
       "        vertical-align: top;\n",
       "    }\n",
       "\n",
       "    .dataframe thead th {\n",
       "        text-align: right;\n",
       "    }\n",
       "</style>\n",
       "<table border=\"1\" class=\"dataframe\">\n",
       "  <thead>\n",
       "    <tr style=\"text-align: right;\">\n",
       "      <th></th>\n",
       "      <th>rfc</th>\n",
       "      <th>sat_razon_social</th>\n",
       "      <th>dof_year</th>\n",
       "    </tr>\n",
       "  </thead>\n",
       "  <tbody>\n",
       "    <tr>\n",
       "      <th>0</th>\n",
       "      <td>RTO101020SY4</td>\n",
       "      <td>Rescatando Tesoros de la Oscuridad, A. C.</td>\n",
       "      <td>2020</td>\n",
       "    </tr>\n",
       "    <tr>\n",
       "      <th>1</th>\n",
       "      <td>RUQ980312DE1</td>\n",
       "      <td>Rescate 1 de Querétaro, I.A.P.</td>\n",
       "      <td>2020</td>\n",
       "    </tr>\n",
       "    <tr>\n",
       "      <th>2</th>\n",
       "      <td>RES1105233G4</td>\n",
       "      <td>Rescate 1910, A.C.</td>\n",
       "      <td>2020</td>\n",
       "    </tr>\n",
       "    <tr>\n",
       "      <th>3</th>\n",
       "      <td>RXC1310255G2</td>\n",
       "      <td>Rescate 4x4 Chihuahua, A.C.</td>\n",
       "      <td>2020</td>\n",
       "    </tr>\n",
       "    <tr>\n",
       "      <th>4</th>\n",
       "      <td>RIN071009M33</td>\n",
       "      <td>Rescate Infantil Nuevo Amanecer, A.C.</td>\n",
       "      <td>2020</td>\n",
       "    </tr>\n",
       "  </tbody>\n",
       "</table>\n",
       "</div>"
      ],
      "text/plain": [
       "            rfc                           sat_razon_social dof_year\n",
       "0  RTO101020SY4  Rescatando Tesoros de la Oscuridad, A. C.     2020\n",
       "1  RUQ980312DE1             Rescate 1 de Querétaro, I.A.P.     2020\n",
       "2  RES1105233G4                         Rescate 1910, A.C.     2020\n",
       "3  RXC1310255G2                Rescate 4x4 Chihuahua, A.C.     2020\n",
       "4  RIN071009M33      Rescate Infantil Nuevo Amanecer, A.C.     2020"
      ]
     },
     "execution_count": 81,
     "metadata": {},
     "output_type": "execute_result"
    }
   ],
   "source": [
    "df_osc_donaut_dof.head()"
   ]
  },
  {
   "cell_type": "code",
   "execution_count": null,
   "metadata": {},
   "outputs": [],
   "source": []
  },
  {
   "cell_type": "markdown",
   "metadata": {},
   "source": [
    "## 4. Consolidate Datasets"
   ]
  },
  {
   "cell_type": "code",
   "execution_count": 176,
   "metadata": {},
   "outputs": [
    {
     "data": {
      "text/plain": [
       "(42726, 8)"
      ]
     },
     "execution_count": 176,
     "metadata": {},
     "output_type": "execute_result"
    }
   ],
   "source": [
    "df_osc_cluni.shape"
   ]
  },
  {
   "cell_type": "code",
   "execution_count": 177,
   "metadata": {},
   "outputs": [
    {
     "data": {
      "text/plain": [
       "(9591, 3)"
      ]
     },
     "execution_count": 177,
     "metadata": {},
     "output_type": "execute_result"
    }
   ],
   "source": [
    "df_osc_donaut_sat.shape"
   ]
  },
  {
   "cell_type": "code",
   "execution_count": 178,
   "metadata": {
    "id": "V0p7xlvg_edW"
   },
   "outputs": [],
   "source": [
    "df_osc = (\n",
    "    df_osc_cluni\n",
    "    .merge(df_osc_donaut_sat, how='outer', on='rfc')\n",
    "    .merge(df_osc_donaut_dof, how='outer', on='rfc')\n",
    ")"
   ]
  },
  {
   "cell_type": "code",
   "execution_count": 179,
   "metadata": {},
   "outputs": [],
   "source": [
    "df_osc = df_osc.drop_duplicates().reset_index(drop=True)"
   ]
  },
  {
   "cell_type": "code",
   "execution_count": 180,
   "metadata": {},
   "outputs": [
    {
     "data": {
      "text/html": [
       "<div>\n",
       "<style scoped>\n",
       "    .dataframe tbody tr th:only-of-type {\n",
       "        vertical-align: middle;\n",
       "    }\n",
       "\n",
       "    .dataframe tbody tr th {\n",
       "        vertical-align: top;\n",
       "    }\n",
       "\n",
       "    .dataframe thead th {\n",
       "        text-align: right;\n",
       "    }\n",
       "</style>\n",
       "<table border=\"1\" class=\"dataframe\">\n",
       "  <thead>\n",
       "    <tr style=\"text-align: right;\">\n",
       "      <th></th>\n",
       "      <th>rfc</th>\n",
       "      <th>cluni</th>\n",
       "      <th>cluni_razon_social</th>\n",
       "      <th>estatus</th>\n",
       "      <th>cluni_representacion</th>\n",
       "      <th>figura_juridica</th>\n",
       "      <th>fecha_de_constitucion</th>\n",
       "      <th>cluni_year</th>\n",
       "      <th>fecha_oficio_sat</th>\n",
       "      <th>sat_year</th>\n",
       "      <th>sat_razon_social</th>\n",
       "      <th>dof_year</th>\n",
       "    </tr>\n",
       "  </thead>\n",
       "  <tbody>\n",
       "    <tr>\n",
       "      <th>14383</th>\n",
       "      <td>CAZ020215I59</td>\n",
       "      <td>CAZ0202152601B</td>\n",
       "      <td>Cacto Azul, A.C.</td>\n",
       "      <td>inactiva</td>\n",
       "      <td>vigente</td>\n",
       "      <td>Asociación Civil</td>\n",
       "      <td>2002-02-13</td>\n",
       "      <td>2020</td>\n",
       "      <td>NaT</td>\n",
       "      <td>NaN</td>\n",
       "      <td>NaN</td>\n",
       "      <td>NaN</td>\n",
       "    </tr>\n",
       "    <tr>\n",
       "      <th>41993</th>\n",
       "      <td>GID190513640</td>\n",
       "      <td>GID19051330YAU</td>\n",
       "      <td>Gestión Integral Para el Desarrollo y la Conservación Ambiental</td>\n",
       "      <td>activa</td>\n",
       "      <td>vigente</td>\n",
       "      <td>Asociación Civil</td>\n",
       "      <td>2019-05-13</td>\n",
       "      <td>2020</td>\n",
       "      <td>2020-08-18</td>\n",
       "      <td>2020</td>\n",
       "      <td>GESTION INTEGRAL PARA EL DESARROLLO Y LA CONSERVACION AMBIENTAL, A.C.</td>\n",
       "      <td>2020</td>\n",
       "    </tr>\n",
       "    <tr>\n",
       "      <th>33805</th>\n",
       "      <td>PPD150827GY1</td>\n",
       "      <td>PPD150827305B9</td>\n",
       "      <td>Productores de Plátano Dominico del Filobobos de Atzalan</td>\n",
       "      <td>activa</td>\n",
       "      <td>vigente</td>\n",
       "      <td>Asociación Civil</td>\n",
       "      <td>2015-08-27</td>\n",
       "      <td>2020</td>\n",
       "      <td>NaT</td>\n",
       "      <td>NaN</td>\n",
       "      <td>NaN</td>\n",
       "      <td>NaN</td>\n",
       "    </tr>\n",
       "    <tr>\n",
       "      <th>44834</th>\n",
       "      <td>CNC941123LF4</td>\n",
       "      <td>NaN</td>\n",
       "      <td>NaN</td>\n",
       "      <td>NaN</td>\n",
       "      <td>NaN</td>\n",
       "      <td>NaN</td>\n",
       "      <td>NaT</td>\n",
       "      <td>NaN</td>\n",
       "      <td>2020-01-13</td>\n",
       "      <td>2020</td>\n",
       "      <td>CIUDAD DE LOS NIÑOS DE CIUDAD HIDALGO, I.A.P.  Asistencial</td>\n",
       "      <td>2020</td>\n",
       "    </tr>\n",
       "    <tr>\n",
       "      <th>44646</th>\n",
       "      <td>PPD900111CCA</td>\n",
       "      <td>NaN</td>\n",
       "      <td>NaN</td>\n",
       "      <td>NaN</td>\n",
       "      <td>NaN</td>\n",
       "      <td>NaN</td>\n",
       "      <td>NaT</td>\n",
       "      <td>NaN</td>\n",
       "      <td>2003-01-21</td>\n",
       "      <td>2020</td>\n",
       "      <td>NaN</td>\n",
       "      <td>NaN</td>\n",
       "    </tr>\n",
       "  </tbody>\n",
       "</table>\n",
       "</div>"
      ],
      "text/plain": [
       "                rfc           cluni                                               cluni_razon_social   estatus cluni_representacion   figura_juridica fecha_de_constitucion cluni_year fecha_oficio_sat sat_year                                                       sat_razon_social dof_year\n",
       "14383  CAZ020215I59  CAZ0202152601B                                                 Cacto Azul, A.C.  inactiva              vigente  Asociación Civil            2002-02-13       2020              NaT      NaN                                                                    NaN      NaN\n",
       "41993  GID190513640  GID19051330YAU  Gestión Integral Para el Desarrollo y la Conservación Ambiental    activa              vigente  Asociación Civil            2019-05-13       2020       2020-08-18     2020  GESTION INTEGRAL PARA EL DESARROLLO Y LA CONSERVACION AMBIENTAL, A.C.     2020\n",
       "33805  PPD150827GY1  PPD150827305B9         Productores de Plátano Dominico del Filobobos de Atzalan    activa              vigente  Asociación Civil            2015-08-27       2020              NaT      NaN                                                                    NaN      NaN\n",
       "44834  CNC941123LF4             NaN                                                              NaN       NaN                  NaN               NaN                   NaT        NaN       2020-01-13     2020             CIUDAD DE LOS NIÑOS DE CIUDAD HIDALGO, I.A.P.  Asistencial     2020\n",
       "44646  PPD900111CCA             NaN                                                              NaN       NaN                  NaN               NaN                   NaT        NaN       2003-01-21     2020                                                                    NaN      NaN"
      ]
     },
     "execution_count": 180,
     "metadata": {},
     "output_type": "execute_result"
    }
   ],
   "source": [
    "df_osc.sample(5)"
   ]
  },
  {
   "cell_type": "code",
   "execution_count": 182,
   "metadata": {},
   "outputs": [
    {
     "data": {
      "text/plain": [
       "(46281, 12)"
      ]
     },
     "execution_count": 182,
     "metadata": {},
     "output_type": "execute_result"
    }
   ],
   "source": [
    "df_osc.shape"
   ]
  },
  {
   "cell_type": "code",
   "execution_count": 183,
   "metadata": {},
   "outputs": [
    {
     "data": {
      "text/plain": [
       "rfc                   46281\n",
       "cluni                 42725\n",
       "cluni_razon_social    42725\n",
       "sat_razon_social       7696\n",
       "dtype: int64"
      ]
     },
     "execution_count": 183,
     "metadata": {},
     "output_type": "execute_result"
    }
   ],
   "source": [
    "(~df_osc[['rfc', 'cluni', 'cluni_razon_social', 'sat_razon_social']].isna()).sum(axis=0)"
   ]
  },
  {
   "cell_type": "code",
   "execution_count": 184,
   "metadata": {},
   "outputs": [
    {
     "name": "stdout",
     "output_type": "stream",
     "text": [
      "OSCs with RFC: 46260\n",
      "OSCs with CLUNI: 42725\n"
     ]
    }
   ],
   "source": [
    "print('OSCs with RFC:', df_osc.rfc.nunique())\n",
    "print('OSCs with CLUNI:', df_osc.cluni.nunique())"
   ]
  },
  {
   "cell_type": "code",
   "execution_count": 185,
   "metadata": {},
   "outputs": [],
   "source": [
    "with_cluni = ~df_osc.cluni.isna()\n",
    "with_donaut = ~(df_osc.sat_year.isna() & df_osc.dof_year.isna())"
   ]
  },
  {
   "cell_type": "code",
   "execution_count": 186,
   "metadata": {},
   "outputs": [],
   "source": [
    "df_osc_cluni_not_donaut = df_osc[with_cluni & ~with_donaut].reset_index(drop=True)\n",
    "df_osc_cluni_donaut = df_osc[with_cluni & with_donaut].reset_index(drop=True)\n",
    "df_osc_donaut_not_cluni = df_osc[~with_cluni & with_donaut].reset_index(drop=True)"
   ]
  },
  {
   "cell_type": "code",
   "execution_count": 187,
   "metadata": {},
   "outputs": [
    {
     "name": "stdout",
     "output_type": "stream",
     "text": [
      "OSCs CLUNI not Donaut: 36174\n",
      "OSCs CLUNI and Donaut: 6530\n",
      "OSCs Donaut not CLUNI : 3556\n"
     ]
    }
   ],
   "source": [
    "print('OSCs CLUNI not Donaut:', df_osc_cluni_not_donaut.rfc.nunique())\n",
    "print('OSCs CLUNI and Donaut:', df_osc_cluni_donaut.rfc.nunique())\n",
    "print('OSCs Donaut not CLUNI :', df_osc_donaut_not_cluni.rfc.nunique())"
   ]
  },
  {
   "cell_type": "code",
   "execution_count": null,
   "metadata": {},
   "outputs": [],
   "source": []
  },
  {
   "cell_type": "code",
   "execution_count": 196,
   "metadata": {},
   "outputs": [],
   "source": [
    "bad_rfc_cluni_not_donaut = df_osc_cluni_not_donaut.rfc.value_counts()[df_osc_cluni_not_donaut.rfc.value_counts() > 1].index.tolist()\n",
    "bad_rfc_cluni_donaut = df_osc_cluni_donaut.rfc.value_counts()[df_osc_cluni_donaut.rfc.value_counts() > 1].index.tolist()\n",
    "bad_rfc_donaut_not_cluni = df_osc_donaut_not_cluni.rfc.value_counts()[df_osc_donaut_not_cluni.rfc.value_counts() > 1].index.tolist()"
   ]
  },
  {
   "cell_type": "code",
   "execution_count": 197,
   "metadata": {},
   "outputs": [],
   "source": [
    "one_rfc_many_cluni = bad_rfc_cluni_not_donaut + bad_rfc_cluni_donaut + bad_rfc_donaut_not_cluni"
   ]
  },
  {
   "cell_type": "code",
   "execution_count": 206,
   "metadata": {
    "scrolled": false
   },
   "outputs": [
    {
     "data": {
      "text/html": [
       "<div>\n",
       "<style scoped>\n",
       "    .dataframe tbody tr th:only-of-type {\n",
       "        vertical-align: middle;\n",
       "    }\n",
       "\n",
       "    .dataframe tbody tr th {\n",
       "        vertical-align: top;\n",
       "    }\n",
       "\n",
       "    .dataframe thead th {\n",
       "        text-align: right;\n",
       "    }\n",
       "</style>\n",
       "<table border=\"1\" class=\"dataframe\">\n",
       "  <thead>\n",
       "    <tr style=\"text-align: right;\">\n",
       "      <th>estatus</th>\n",
       "      <th>activa</th>\n",
       "      <th>inactiva</th>\n",
       "    </tr>\n",
       "    <tr>\n",
       "      <th>rfc</th>\n",
       "      <th></th>\n",
       "      <th></th>\n",
       "    </tr>\n",
       "  </thead>\n",
       "  <tbody>\n",
       "    <tr>\n",
       "      <th>AAD0105316Y4</th>\n",
       "      <td>1.0</td>\n",
       "      <td>1.0</td>\n",
       "    </tr>\n",
       "    <tr>\n",
       "      <th>CDD110128IP9</th>\n",
       "      <td>1.0</td>\n",
       "      <td>1.0</td>\n",
       "    </tr>\n",
       "    <tr>\n",
       "      <th>CUC100305JB9</th>\n",
       "      <td>1.0</td>\n",
       "      <td>1.0</td>\n",
       "    </tr>\n",
       "    <tr>\n",
       "      <th>DTV080303U27</th>\n",
       "      <td>1.0</td>\n",
       "      <td>1.0</td>\n",
       "    </tr>\n",
       "    <tr>\n",
       "      <th>PRS941219416</th>\n",
       "      <td>1.0</td>\n",
       "      <td>1.0</td>\n",
       "    </tr>\n",
       "    <tr>\n",
       "      <th>AMR9602261P0</th>\n",
       "      <td>NaN</td>\n",
       "      <td>2.0</td>\n",
       "    </tr>\n",
       "    <tr>\n",
       "      <th>APC080920AQ2</th>\n",
       "      <td>NaN</td>\n",
       "      <td>2.0</td>\n",
       "    </tr>\n",
       "    <tr>\n",
       "      <th>ARS050720IF2</th>\n",
       "      <td>NaN</td>\n",
       "      <td>2.0</td>\n",
       "    </tr>\n",
       "    <tr>\n",
       "      <th>ARS051215G51</th>\n",
       "      <td>NaN</td>\n",
       "      <td>2.0</td>\n",
       "    </tr>\n",
       "    <tr>\n",
       "      <th>AVE120302BM0</th>\n",
       "      <td>NaN</td>\n",
       "      <td>2.0</td>\n",
       "    </tr>\n",
       "    <tr>\n",
       "      <th>CMD0504236WA</th>\n",
       "      <td>NaN</td>\n",
       "      <td>2.0</td>\n",
       "    </tr>\n",
       "    <tr>\n",
       "      <th>CRA081021V15</th>\n",
       "      <td>NaN</td>\n",
       "      <td>2.0</td>\n",
       "    </tr>\n",
       "    <tr>\n",
       "      <th>CRA1607011J0</th>\n",
       "      <td>NaN</td>\n",
       "      <td>2.0</td>\n",
       "    </tr>\n",
       "    <tr>\n",
       "      <th>EEI090930QY1</th>\n",
       "      <td>NaN</td>\n",
       "      <td>2.0</td>\n",
       "    </tr>\n",
       "    <tr>\n",
       "      <th>FLI090110D48</th>\n",
       "      <td>NaN</td>\n",
       "      <td>2.0</td>\n",
       "    </tr>\n",
       "    <tr>\n",
       "      <th>GAM0803318L7</th>\n",
       "      <td>NaN</td>\n",
       "      <td>2.0</td>\n",
       "    </tr>\n",
       "    <tr>\n",
       "      <th>GPM080112U5A</th>\n",
       "      <td>NaN</td>\n",
       "      <td>2.0</td>\n",
       "    </tr>\n",
       "    <tr>\n",
       "      <th>OIN0101312E0</th>\n",
       "      <td>NaN</td>\n",
       "      <td>2.0</td>\n",
       "    </tr>\n",
       "    <tr>\n",
       "      <th>RJD070518AY7</th>\n",
       "      <td>NaN</td>\n",
       "      <td>2.0</td>\n",
       "    </tr>\n",
       "    <tr>\n",
       "      <th>RNP051114SP8</th>\n",
       "      <td>NaN</td>\n",
       "      <td>2.0</td>\n",
       "    </tr>\n",
       "    <tr>\n",
       "      <th>SIS080326DT8</th>\n",
       "      <td>NaN</td>\n",
       "      <td>2.0</td>\n",
       "    </tr>\n",
       "  </tbody>\n",
       "</table>\n",
       "</div>"
      ],
      "text/plain": [
       "estatus       activa  inactiva\n",
       "rfc                           \n",
       "AAD0105316Y4     1.0       1.0\n",
       "CDD110128IP9     1.0       1.0\n",
       "CUC100305JB9     1.0       1.0\n",
       "DTV080303U27     1.0       1.0\n",
       "PRS941219416     1.0       1.0\n",
       "AMR9602261P0     NaN       2.0\n",
       "APC080920AQ2     NaN       2.0\n",
       "ARS050720IF2     NaN       2.0\n",
       "ARS051215G51     NaN       2.0\n",
       "AVE120302BM0     NaN       2.0\n",
       "CMD0504236WA     NaN       2.0\n",
       "CRA081021V15     NaN       2.0\n",
       "CRA1607011J0     NaN       2.0\n",
       "EEI090930QY1     NaN       2.0\n",
       "FLI090110D48     NaN       2.0\n",
       "GAM0803318L7     NaN       2.0\n",
       "GPM080112U5A     NaN       2.0\n",
       "OIN0101312E0     NaN       2.0\n",
       "RJD070518AY7     NaN       2.0\n",
       "RNP051114SP8     NaN       2.0\n",
       "SIS080326DT8     NaN       2.0"
      ]
     },
     "execution_count": 206,
     "metadata": {},
     "output_type": "execute_result"
    }
   ],
   "source": [
    "(\n",
    "    df_osc[df_osc.rfc.isin(one_rfc_many_cluni)]\n",
    "    .groupby(['rfc', 'estatus'])\n",
    "    [['rfc']].count()\n",
    "    .rename(columns={'rfc': 'count'})\n",
    "    .reset_index(drop=False)\n",
    "    .pivot('rfc', 'estatus', 'count')\n",
    "    .sort_values('activa')\n",
    ")"
   ]
  },
  {
   "cell_type": "code",
   "execution_count": null,
   "metadata": {},
   "outputs": [],
   "source": []
  }
 ],
 "metadata": {
  "colab": {
   "collapsed_sections": [
    "iI6hplGSBPtH",
    "EJj-dMi7HFgw",
    "gGbRTqIAXnTu"
   ],
   "name": "get_osc_data.ipynb",
   "provenance": [],
   "toc_visible": true
  },
  "kernelspec": {
   "display_name": "Python [conda env:osc-mexico-2021]",
   "language": "python",
   "name": "osc-mexico-2021"
  },
  "language_info": {
   "codemirror_mode": {
    "name": "ipython",
    "version": 3
   },
   "file_extension": ".py",
   "mimetype": "text/x-python",
   "name": "python",
   "nbconvert_exporter": "python",
   "pygments_lexer": "ipython3",
   "version": "3.9.1"
  }
 },
 "nbformat": 4,
 "nbformat_minor": 1
}
