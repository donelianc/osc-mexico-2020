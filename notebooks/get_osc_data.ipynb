{
 "cells": [
  {
   "cell_type": "code",
   "execution_count": 1,
   "metadata": {
    "id": "mV8WD56fP2Zr"
   },
   "outputs": [],
   "source": [
    "import requests\n",
    "\n",
    "import pandas as pd\n",
    "import numpy as np\n",
    "\n",
    "import camelot\n",
    "import json\n",
    "\n",
    "from glob import glob\n",
    "\n",
    "from datetime import datetime as dt"
   ]
  },
  {
   "cell_type": "code",
   "execution_count": 2,
   "metadata": {},
   "outputs": [],
   "source": [
    "pd.set_option('display.max_rows', 500)\n",
    "pd.set_option('display.max_columns', 500)\n",
    "pd.set_option('display.width', 1000)\n",
    "pd.options.display.max_colwidth = 200"
   ]
  },
  {
   "cell_type": "code",
   "execution_count": 3,
   "metadata": {
    "id": "ISvfBehEIC-5"
   },
   "outputs": [],
   "source": [
    "import matplotlib.pyplot as plt\n",
    "plt.rcParams['figure.figsize'] = [10, 10]"
   ]
  },
  {
   "cell_type": "markdown",
   "metadata": {
    "id": "iI6hplGSBPtH"
   },
   "source": [
    "## 1. OSC with CLUNI (Clave Única de Inscripción)"
   ]
  },
  {
   "cell_type": "code",
   "execution_count": 4,
   "metadata": {
    "scrolled": true
   },
   "outputs": [
    {
     "name": "stdout",
     "output_type": "stream",
     "text": [
      "2021-03-03 07:04:20 - Loading OSCs with CLUNI (Unique Id)\n",
      "\n",
      "2021-03-03 07:04:20 - File already exists. Retrieving most recent (2021-02-22 07:58:12)...\n",
      "\n",
      "2021-03-03 07:04:21 - Data loaded in dataframe\n"
     ]
    }
   ],
   "source": [
    "print(str(dt.now())[:19], '- Loading OSCs with CLUNI (Unique Id)\\n')\n",
    "\n",
    "# check if file already exist in folder\n",
    "sirfosc_files = glob('../data/SIRFOSC/csv/*.csv')\n",
    "\n",
    "if len(sirfosc_files) > 0: \n",
    "    most_recent_file = max([pd.to_datetime(dt[-23:-4], format='%Y-%m-%d-%H-%M-%S') for dt in sirfosc_files])\n",
    "    print(str(dt.now())[:19], f'- File already exists. Retrieving most recent ({str(most_recent_file)})...\\n')\n",
    "    file_name = '../data/SIRFOSC/csv/report-rfosc-' + str(most_recent_file).replace(' ', '-').replace(':', '-') + '.csv'\n",
    "    \n",
    "    df_osc_cluni = pd.read_csv(file_name, low_memory=False)\n",
    "    df_osc_cluni = df_osc_cluni.drop(df_osc_cluni.columns[0], axis=1)\n",
    "    print(str(dt.now())[:19], '- Data loaded in dataframe')\n",
    "    \n",
    "# if not, download from gov site\n",
    "else:\n",
    "    print(str(dt.now())[:19], '- Info is not locally available. Data will be downloaded from SII portal')\n",
    "    with open(\"../params/sirfosc_query_filters.json\", \"r\") as  params:\n",
    "        jParams = json.load(params)\n",
    "\n",
    "    CLUNI_URL = f\"http://www.sii.gob.mx/portal/organizaciones/excel/?cluni={jParams['CLUNI']}&nombre={jParams['NOMBRE']}&acronimo={jParams['ACRONIMO']}&rfc={jParams['RFC']}&status_osc={jParams['STATUS_OSC']}&status_sancion={jParams['STATUS_SANCION']}&figura_juridica={jParams['FIGURA_JURIDICA']}&estado={jParams['ESTADO']}&municipio={jParams['MUNICIPIO']}&asentamiento={jParams['ASENTAMIENTO']}&cp={jParams['CP']}&rep_nombre={jParams['REP_NOMBRE']}&rep_apaterno={jParams['REP_APATERNO']}&rep_amaterno={jParams['REP_AMATERNO']}&num_notaria={jParams['NUM_NOTARIA']}&objeto_social={jParams['OBJETO_SOCIAL']}&red={jParams['RED']}&advanced=1\"\n",
    "\n",
    "    # todo: do i really need all this data to talk to the server?\n",
    "    payload={}\n",
    "    headers = {\n",
    "      'Upgrade-Insecure-Requests': '1',\n",
    "      'User-Agent': 'Mozilla/5.0 (Macintosh; Intel Mac OS X 11_2_0) AppleWebKit/537.36 (KHTML, like Gecko) Chrome/88.0.4324.96 Safari/537.36',\n",
    "      'Accept': 'text/html,application/xhtml+xml,application/xml;q=0.9,image/avif,image/webp,image/apng,*/*;q=0.8,application/signed-exchange;v=b3;q=0.9'\n",
    "    }\n",
    "    \n",
    "    print(str(dt.now())[:19], '- Requesting data to server...')\n",
    "    cluni_response = requests.request(\"GET\", CLUNI_URL, headers=headers, data=payload)\n",
    "\n",
    "    CLUNI_NOW = str(dt.now())[:19].replace(' ', '-').replace(':', '-')\n",
    "\n",
    "    print(str(dt.now())[:19], '- Applying some cleaning processing')\n",
    "    with open(f\"../data/SIRFOSC/txt/report-rfosc-{CLUNI_NOW}.txt\", \"w+\") as f:\n",
    "        f.write(cluni_response.text)\n",
    "        \n",
    "    print(str(dt.now())[:19], '- Saving retreived data as text file')\n",
    "    df_osc_cluni = pd.DataFrame([row.split('\",\"') for row in cluni_response.text.split('\\n')])\n",
    "    df_osc_cluni[0] = df_osc_cluni[0].str.replace('\"', '')\n",
    "    df_osc_cluni[df_osc_cluni.shape[1]-1] = df_osc_cluni[df_osc_cluni.shape[1]-1].str.replace('\"\\r', '')\n",
    "    df_osc_cluni = df_osc_cluni.rename(columns=df_osc_cluni.iloc[0]).iloc[1:]\n",
    "    df_osc_cluni = df_osc_cluni[:-1].reset_index(drop=True)\n",
    "    \n",
    "    print(str(dt.now())[:19], '- Writing request as csv in SIRFOSC folder\\n')\n",
    "    df_osc_cluni.to_csv(f\"../data/SIRFOSC/csv/report-rfosc-{CLUNI_NOW}.csv\")\n",
    "    \n",
    "    print(str(dt.now())[:19], '- Data loaded in dataframe')"
   ]
  },
  {
   "cell_type": "code",
   "execution_count": 5,
   "metadata": {},
   "outputs": [],
   "source": [
    "with_active_cluni = (df_osc_cluni.ESTATUS == 'ACTIVA')\n",
    "with_valid_status = (df_osc_cluni['ESTATUS DE LA REPRESENTACION'] == 'VIGENTE')\n",
    "\n",
    "# df_osc_cluni = df_osc_cluni[with_active_cluni & with_valid_status]\n",
    "df_osc_cluni = df_osc_cluni[df_osc_cluni.RFC.str.len().isin([12, 13])]\n",
    "df_osc_cluni = df_osc_cluni.reset_index(drop=True)\n",
    "df_osc_cluni = df_osc_cluni[['RFC', 'CLUNI', 'RAZON SOCIAL', 'ESTATUS', 'ESTATUS DE LA REPRESENTACION', 'FIGURA JURIDICA', 'FECHA DE CONSTITUCION']]"
   ]
  },
  {
   "cell_type": "code",
   "execution_count": 6,
   "metadata": {},
   "outputs": [],
   "source": [
    "new_col_names = [(c, c.lower().replace(' ', '_')) for c in df_osc_cluni.columns]"
   ]
  },
  {
   "cell_type": "code",
   "execution_count": 7,
   "metadata": {},
   "outputs": [],
   "source": [
    "df_osc_cluni = df_osc_cluni.rename(columns=dict(new_col_names))"
   ]
  },
  {
   "cell_type": "code",
   "execution_count": 8,
   "metadata": {},
   "outputs": [],
   "source": [
    "df_osc_cluni = df_osc_cluni.rename(columns={'razon_social': 'cluni_razon_social', 'estatus_de_la_representacion':'cluni_representacion'})"
   ]
  },
  {
   "cell_type": "code",
   "execution_count": 9,
   "metadata": {},
   "outputs": [],
   "source": [
    "df_osc_cluni['fecha_de_constitucion'] = pd.to_datetime(df_osc_cluni.fecha_de_constitucion)"
   ]
  },
  {
   "cell_type": "code",
   "execution_count": 10,
   "metadata": {},
   "outputs": [],
   "source": [
    "df_osc_cluni[['estatus', 'cluni_representacion']] = df_osc_cluni[['estatus', 'cluni_representacion']].apply(lambda col: col.str.lower())"
   ]
  },
  {
   "cell_type": "code",
   "execution_count": 11,
   "metadata": {},
   "outputs": [],
   "source": [
    "df_osc_cluni.loc[:, 'cluni_year'] = '2020'"
   ]
  },
  {
   "cell_type": "code",
   "execution_count": 12,
   "metadata": {},
   "outputs": [
    {
     "data": {
      "text/html": [
       "<div>\n",
       "<style scoped>\n",
       "    .dataframe tbody tr th:only-of-type {\n",
       "        vertical-align: middle;\n",
       "    }\n",
       "\n",
       "    .dataframe tbody tr th {\n",
       "        vertical-align: top;\n",
       "    }\n",
       "\n",
       "    .dataframe thead th {\n",
       "        text-align: right;\n",
       "    }\n",
       "</style>\n",
       "<table border=\"1\" class=\"dataframe\">\n",
       "  <thead>\n",
       "    <tr style=\"text-align: right;\">\n",
       "      <th></th>\n",
       "      <th>rfc</th>\n",
       "      <th>cluni</th>\n",
       "      <th>cluni_razon_social</th>\n",
       "      <th>estatus</th>\n",
       "      <th>cluni_representacion</th>\n",
       "      <th>figura_juridica</th>\n",
       "      <th>fecha_de_constitucion</th>\n",
       "      <th>cluni_year</th>\n",
       "    </tr>\n",
       "  </thead>\n",
       "  <tbody>\n",
       "    <tr>\n",
       "      <th>0</th>\n",
       "      <td>VCO980914457</td>\n",
       "      <td>VCO98091405018</td>\n",
       "      <td>Voluntades por Coahuila</td>\n",
       "      <td>activa</td>\n",
       "      <td>vencida</td>\n",
       "      <td>Asociación Civil</td>\n",
       "      <td>1998-09-14</td>\n",
       "      <td>2020</td>\n",
       "    </tr>\n",
       "    <tr>\n",
       "      <th>1</th>\n",
       "      <td>UEF0303179P9</td>\n",
       "      <td>UEF0303170101D</td>\n",
       "      <td>Unión Estatal Femenil FEPRA</td>\n",
       "      <td>activa</td>\n",
       "      <td>vigente</td>\n",
       "      <td>Asociación Civil</td>\n",
       "      <td>2003-03-17</td>\n",
       "      <td>2020</td>\n",
       "    </tr>\n",
       "    <tr>\n",
       "      <th>2</th>\n",
       "      <td>FOJ041002PB3</td>\n",
       "      <td>FOJ04100219013</td>\n",
       "      <td>Federación de Organizaciones Juveniles</td>\n",
       "      <td>inactiva</td>\n",
       "      <td>vigente</td>\n",
       "      <td>Asociación Civil</td>\n",
       "      <td>2004-10-02</td>\n",
       "      <td>2020</td>\n",
       "    </tr>\n",
       "    <tr>\n",
       "      <th>3</th>\n",
       "      <td>ARP950406IF8</td>\n",
       "      <td>ARP95040609019</td>\n",
       "      <td>Aguilas Reales Pro Dignidad del Discapacitado</td>\n",
       "      <td>activa</td>\n",
       "      <td>vencida</td>\n",
       "      <td>Asociación Civil</td>\n",
       "      <td>1995-04-06</td>\n",
       "      <td>2020</td>\n",
       "    </tr>\n",
       "    <tr>\n",
       "      <th>4</th>\n",
       "      <td>FIM971201896</td>\n",
       "      <td>FIM97120122015</td>\n",
       "      <td>Formación Integral de la Mujer</td>\n",
       "      <td>inactiva</td>\n",
       "      <td>vigente</td>\n",
       "      <td>Institución de Asistencia Privada</td>\n",
       "      <td>1997-09-18</td>\n",
       "      <td>2020</td>\n",
       "    </tr>\n",
       "  </tbody>\n",
       "</table>\n",
       "</div>"
      ],
      "text/plain": [
       "            rfc           cluni                             cluni_razon_social   estatus cluni_representacion                    figura_juridica fecha_de_constitucion cluni_year\n",
       "0  VCO980914457  VCO98091405018                        Voluntades por Coahuila    activa              vencida                   Asociación Civil            1998-09-14       2020\n",
       "1  UEF0303179P9  UEF0303170101D                    Unión Estatal Femenil FEPRA    activa              vigente                   Asociación Civil            2003-03-17       2020\n",
       "2  FOJ041002PB3  FOJ04100219013         Federación de Organizaciones Juveniles  inactiva              vigente                   Asociación Civil            2004-10-02       2020\n",
       "3  ARP950406IF8  ARP95040609019  Aguilas Reales Pro Dignidad del Discapacitado    activa              vencida                   Asociación Civil            1995-04-06       2020\n",
       "4  FIM971201896  FIM97120122015                 Formación Integral de la Mujer  inactiva              vigente  Institución de Asistencia Privada            1997-09-18       2020"
      ]
     },
     "execution_count": 12,
     "metadata": {},
     "output_type": "execute_result"
    }
   ],
   "source": [
    "df_osc_cluni.head(5)"
   ]
  },
  {
   "cell_type": "code",
   "execution_count": null,
   "metadata": {
    "id": "ZOH43fh5Dqb_"
   },
   "outputs": [],
   "source": []
  },
  {
   "cell_type": "markdown",
   "metadata": {
    "id": "eMmFi-iBBeIV"
   },
   "source": [
    "## 2. Donatarias Autorizadas (Directorio SAT)"
   ]
  },
  {
   "cell_type": "code",
   "execution_count": 13,
   "metadata": {
    "id": "FzsAhw2PIMBt"
   },
   "outputs": [
    {
     "name": "stdout",
     "output_type": "stream",
     "text": [
      "2021-03-03 07:04:50 - Loading OSCs from Directorio Donatarias Autorizadas (SAT)\n",
      "\n",
      "2021-03-03 07:04:50 - Info is not locally available. Data will be downloaded from SAT portal\n",
      "2021-03-03 07:04:50 - Requesting data to server...\n",
      "2021-03-03 07:06:19 - Saving retreived data as XLS file\n",
      "\n"
     ]
    },
    {
     "ename": "FileNotFoundError",
     "evalue": "[Errno 2] No such file or directory: './data/DonatariasAutorizadas/report-sat-2020-2021-03-03-07-04-50.xls'",
     "output_type": "error",
     "traceback": [
      "\u001b[0;31m---------------------------------------------------------------------------\u001b[0m",
      "\u001b[0;31mFileNotFoundError\u001b[0m                         Traceback (most recent call last)",
      "\u001b[0;32m<ipython-input-13-a8f27c33429b>\u001b[0m in \u001b[0;36m<module>\u001b[0;34m\u001b[0m\n\u001b[1;32m     29\u001b[0m         \u001b[0mf\u001b[0m\u001b[0;34m.\u001b[0m\u001b[0mwrite\u001b[0m\u001b[0;34m(\u001b[0m\u001b[0mresponse\u001b[0m\u001b[0;34m.\u001b[0m\u001b[0mcontent\u001b[0m\u001b[0;34m)\u001b[0m\u001b[0;34m\u001b[0m\u001b[0;34m\u001b[0m\u001b[0m\n\u001b[1;32m     30\u001b[0m \u001b[0;34m\u001b[0m\u001b[0m\n\u001b[0;32m---> 31\u001b[0;31m     df_osc_donaut_sat = pd.read_excel(\n\u001b[0m\u001b[1;32m     32\u001b[0m         \u001b[0;34mf\"./data/DonatariasAutorizadas/report-sat-{YEAR}-{DONAUT_NOW}.xls\"\u001b[0m\u001b[0;34m\u001b[0m\u001b[0;34m\u001b[0m\u001b[0m\n\u001b[1;32m     33\u001b[0m         \u001b[0;34m,\u001b[0m \u001b[0mskiprows\u001b[0m \u001b[0;34m=\u001b[0m \u001b[0mrange\u001b[0m\u001b[0;34m(\u001b[0m\u001b[0;36m0\u001b[0m\u001b[0;34m,\u001b[0m \u001b[0;36m27\u001b[0m\u001b[0;34m)\u001b[0m\u001b[0;34m\u001b[0m\u001b[0;34m\u001b[0m\u001b[0m\n",
      "\u001b[0;32m~/opt/miniconda3/envs/osc-mexico-2021/lib/python3.9/site-packages/pandas/util/_decorators.py\u001b[0m in \u001b[0;36mwrapper\u001b[0;34m(*args, **kwargs)\u001b[0m\n\u001b[1;32m    297\u001b[0m                 )\n\u001b[1;32m    298\u001b[0m                 \u001b[0mwarnings\u001b[0m\u001b[0;34m.\u001b[0m\u001b[0mwarn\u001b[0m\u001b[0;34m(\u001b[0m\u001b[0mmsg\u001b[0m\u001b[0;34m,\u001b[0m \u001b[0mFutureWarning\u001b[0m\u001b[0;34m,\u001b[0m \u001b[0mstacklevel\u001b[0m\u001b[0;34m=\u001b[0m\u001b[0mstacklevel\u001b[0m\u001b[0;34m)\u001b[0m\u001b[0;34m\u001b[0m\u001b[0;34m\u001b[0m\u001b[0m\n\u001b[0;32m--> 299\u001b[0;31m             \u001b[0;32mreturn\u001b[0m \u001b[0mfunc\u001b[0m\u001b[0;34m(\u001b[0m\u001b[0;34m*\u001b[0m\u001b[0margs\u001b[0m\u001b[0;34m,\u001b[0m \u001b[0;34m**\u001b[0m\u001b[0mkwargs\u001b[0m\u001b[0;34m)\u001b[0m\u001b[0;34m\u001b[0m\u001b[0;34m\u001b[0m\u001b[0m\n\u001b[0m\u001b[1;32m    300\u001b[0m \u001b[0;34m\u001b[0m\u001b[0m\n\u001b[1;32m    301\u001b[0m         \u001b[0;32mreturn\u001b[0m \u001b[0mwrapper\u001b[0m\u001b[0;34m\u001b[0m\u001b[0;34m\u001b[0m\u001b[0m\n",
      "\u001b[0;32m~/opt/miniconda3/envs/osc-mexico-2021/lib/python3.9/site-packages/pandas/io/excel/_base.py\u001b[0m in \u001b[0;36mread_excel\u001b[0;34m(io, sheet_name, header, names, index_col, usecols, squeeze, dtype, engine, converters, true_values, false_values, skiprows, nrows, na_values, keep_default_na, na_filter, verbose, parse_dates, date_parser, thousands, comment, skipfooter, convert_float, mangle_dupe_cols, storage_options)\u001b[0m\n\u001b[1;32m    334\u001b[0m     \u001b[0;32mif\u001b[0m \u001b[0;32mnot\u001b[0m \u001b[0misinstance\u001b[0m\u001b[0;34m(\u001b[0m\u001b[0mio\u001b[0m\u001b[0;34m,\u001b[0m \u001b[0mExcelFile\u001b[0m\u001b[0;34m)\u001b[0m\u001b[0;34m:\u001b[0m\u001b[0;34m\u001b[0m\u001b[0;34m\u001b[0m\u001b[0m\n\u001b[1;32m    335\u001b[0m         \u001b[0mshould_close\u001b[0m \u001b[0;34m=\u001b[0m \u001b[0;32mTrue\u001b[0m\u001b[0;34m\u001b[0m\u001b[0;34m\u001b[0m\u001b[0m\n\u001b[0;32m--> 336\u001b[0;31m         \u001b[0mio\u001b[0m \u001b[0;34m=\u001b[0m \u001b[0mExcelFile\u001b[0m\u001b[0;34m(\u001b[0m\u001b[0mio\u001b[0m\u001b[0;34m,\u001b[0m \u001b[0mstorage_options\u001b[0m\u001b[0;34m=\u001b[0m\u001b[0mstorage_options\u001b[0m\u001b[0;34m,\u001b[0m \u001b[0mengine\u001b[0m\u001b[0;34m=\u001b[0m\u001b[0mengine\u001b[0m\u001b[0;34m)\u001b[0m\u001b[0;34m\u001b[0m\u001b[0;34m\u001b[0m\u001b[0m\n\u001b[0m\u001b[1;32m    337\u001b[0m     \u001b[0;32melif\u001b[0m \u001b[0mengine\u001b[0m \u001b[0;32mand\u001b[0m \u001b[0mengine\u001b[0m \u001b[0;34m!=\u001b[0m \u001b[0mio\u001b[0m\u001b[0;34m.\u001b[0m\u001b[0mengine\u001b[0m\u001b[0;34m:\u001b[0m\u001b[0;34m\u001b[0m\u001b[0;34m\u001b[0m\u001b[0m\n\u001b[1;32m    338\u001b[0m         raise ValueError(\n",
      "\u001b[0;32m~/opt/miniconda3/envs/osc-mexico-2021/lib/python3.9/site-packages/pandas/io/excel/_base.py\u001b[0m in \u001b[0;36m__init__\u001b[0;34m(self, path_or_buffer, engine, storage_options)\u001b[0m\n\u001b[1;32m   1069\u001b[0m                 \u001b[0mext\u001b[0m \u001b[0;34m=\u001b[0m \u001b[0;34m\"xls\"\u001b[0m\u001b[0;34m\u001b[0m\u001b[0;34m\u001b[0m\u001b[0m\n\u001b[1;32m   1070\u001b[0m             \u001b[0;32melse\u001b[0m\u001b[0;34m:\u001b[0m\u001b[0;34m\u001b[0m\u001b[0;34m\u001b[0m\u001b[0m\n\u001b[0;32m-> 1071\u001b[0;31m                 ext = inspect_excel_format(\n\u001b[0m\u001b[1;32m   1072\u001b[0m                     \u001b[0mcontent\u001b[0m\u001b[0;34m=\u001b[0m\u001b[0mpath_or_buffer\u001b[0m\u001b[0;34m,\u001b[0m \u001b[0mstorage_options\u001b[0m\u001b[0;34m=\u001b[0m\u001b[0mstorage_options\u001b[0m\u001b[0;34m\u001b[0m\u001b[0;34m\u001b[0m\u001b[0m\n\u001b[1;32m   1073\u001b[0m                 )\n",
      "\u001b[0;32m~/opt/miniconda3/envs/osc-mexico-2021/lib/python3.9/site-packages/pandas/io/excel/_base.py\u001b[0m in \u001b[0;36minspect_excel_format\u001b[0;34m(path, content, storage_options)\u001b[0m\n\u001b[1;32m    947\u001b[0m     \u001b[0;32massert\u001b[0m \u001b[0mcontent_or_path\u001b[0m \u001b[0;32mis\u001b[0m \u001b[0;32mnot\u001b[0m \u001b[0;32mNone\u001b[0m\u001b[0;34m\u001b[0m\u001b[0;34m\u001b[0m\u001b[0m\n\u001b[1;32m    948\u001b[0m \u001b[0;34m\u001b[0m\u001b[0m\n\u001b[0;32m--> 949\u001b[0;31m     with get_handle(\n\u001b[0m\u001b[1;32m    950\u001b[0m         \u001b[0mcontent_or_path\u001b[0m\u001b[0;34m,\u001b[0m \u001b[0;34m\"rb\"\u001b[0m\u001b[0;34m,\u001b[0m \u001b[0mstorage_options\u001b[0m\u001b[0;34m=\u001b[0m\u001b[0mstorage_options\u001b[0m\u001b[0;34m,\u001b[0m \u001b[0mis_text\u001b[0m\u001b[0;34m=\u001b[0m\u001b[0;32mFalse\u001b[0m\u001b[0;34m\u001b[0m\u001b[0;34m\u001b[0m\u001b[0m\n\u001b[1;32m    951\u001b[0m     ) as handle:\n",
      "\u001b[0;32m~/opt/miniconda3/envs/osc-mexico-2021/lib/python3.9/site-packages/pandas/io/common.py\u001b[0m in \u001b[0;36mget_handle\u001b[0;34m(path_or_buf, mode, encoding, compression, memory_map, is_text, errors, storage_options)\u001b[0m\n\u001b[1;32m    649\u001b[0m         \u001b[0;32melse\u001b[0m\u001b[0;34m:\u001b[0m\u001b[0;34m\u001b[0m\u001b[0;34m\u001b[0m\u001b[0m\n\u001b[1;32m    650\u001b[0m             \u001b[0;31m# Binary mode\u001b[0m\u001b[0;34m\u001b[0m\u001b[0;34m\u001b[0m\u001b[0;34m\u001b[0m\u001b[0m\n\u001b[0;32m--> 651\u001b[0;31m             \u001b[0mhandle\u001b[0m \u001b[0;34m=\u001b[0m \u001b[0mopen\u001b[0m\u001b[0;34m(\u001b[0m\u001b[0mhandle\u001b[0m\u001b[0;34m,\u001b[0m \u001b[0mioargs\u001b[0m\u001b[0;34m.\u001b[0m\u001b[0mmode\u001b[0m\u001b[0;34m)\u001b[0m\u001b[0;34m\u001b[0m\u001b[0;34m\u001b[0m\u001b[0m\n\u001b[0m\u001b[1;32m    652\u001b[0m         \u001b[0mhandles\u001b[0m\u001b[0;34m.\u001b[0m\u001b[0mappend\u001b[0m\u001b[0;34m(\u001b[0m\u001b[0mhandle\u001b[0m\u001b[0;34m)\u001b[0m\u001b[0;34m\u001b[0m\u001b[0;34m\u001b[0m\u001b[0m\n\u001b[1;32m    653\u001b[0m \u001b[0;34m\u001b[0m\u001b[0m\n",
      "\u001b[0;31mFileNotFoundError\u001b[0m: [Errno 2] No such file or directory: './data/DonatariasAutorizadas/report-sat-2020-2021-03-03-07-04-50.xls'"
     ]
    }
   ],
   "source": [
    "print(str(dt.now())[:19], '- Loading OSCs from Directorio Donatarias Autorizadas (SAT)\\n')\n",
    "\n",
    "# check if file already exist in folder\n",
    "ddonaut_files = glob('../data/DonatariasAutorizadas/*.xls')\n",
    "\n",
    "if len(ddonaut_files) > 0: \n",
    "    most_recent_file = max([pd.to_datetime(dt[-23:-4], format='%Y-%m-%d-%H-%M-%S') for dt in ddonaut_files])\n",
    "    print(str(dt.now())[:19], f'- File already exists. Retrieving most recent ({str(most_recent_file)})...\\n')\n",
    "    file_name = '../data/DonatariasAutorizadas/report-sat-2020-' + str(most_recent_file).replace(' ', '-').replace(':', '-') + '.xls'\n",
    "    \n",
    "    df_osc_donaut_sat = pd.read_excel(file_name, skiprows = range(0, 27), usecols = \"A:O\")\n",
    "    df_osc_donaut_sat.columns = df_osc_donaut_sat.iloc[0]\n",
    "    df_osc_donaut_sat = df_osc_donaut_sat.loc[1:].reset_index(drop=True)\n",
    "    print(str(dt.now())[:19], '- Data loaded in dataframe')\n",
    "\n",
    "else:\n",
    "    \n",
    "    print(str(dt.now())[:19], '- Info is not locally available. Data will be downloaded from SAT portal')\n",
    "    # todo: create params to download directorio donaut\n",
    "    YEAR = '2020'\n",
    "    DONAUT_NOW = str(dt.now())[:19].replace(' ', '-').replace(':', '-')\n",
    "    SAT_URL = f'http://omawww.sat.gob.mx/documentossat/Documents/DirectorioDonatariasAutorizadas{YEAR}.xls'\n",
    "\n",
    "    print(str(dt.now())[:19], '- Requesting data to server...')\n",
    "    response = requests.get(SAT_URL)\n",
    "\n",
    "    print(str(dt.now())[:19], '- Saving retreived data as XLS file\\n')\n",
    "    with open(f\"../data/DonatariasAutorizadas/report-sat-{YEAR}-{DONAUT_NOW}.xls\", \"wb\") as f:\n",
    "        f.write(response.content)\n",
    "        \n",
    "    df_osc_donaut_sat = pd.read_excel(\n",
    "        f\"../data/DonatariasAutorizadas/report-sat-{YEAR}-{DONAUT_NOW}.xls\"\n",
    "        , skiprows = range(0, 27)\n",
    "        , usecols = \"A:O\"\n",
    "        )\n",
    "\n",
    "    df_osc_donaut_sat = df_osc_donaut_sat.rename(columns=df_osc_donaut_sat.iloc[0]).iloc[1:].reset_index(drop=True)\n",
    "    print(str(dt.now())[:19], '- Data loaded in dataframe')"
   ]
  },
  {
   "cell_type": "code",
   "execution_count": null,
   "metadata": {
    "colab": {
     "base_uri": "https://localhost:8080/"
    },
    "id": "UhobnA0dHFos",
    "outputId": "ac9b7217-c9fe-4075-df8c-a867e0b732e8"
   },
   "outputs": [],
   "source": [
    "df_osc_donaut_sat = (\n",
    "    df_osc_donaut_sat\n",
    "    .drop_duplicates('RFC')\n",
    "    [['RFC', 'FECHA DE OFICIO']]\n",
    "    .rename(columns={\n",
    "        'RFC': 'rfc'\n",
    "        , 'FECHA DE OFICIO': 'fecha_oficio_sat'\n",
    "    })\n",
    ")"
   ]
  },
  {
   "cell_type": "code",
   "execution_count": null,
   "metadata": {},
   "outputs": [],
   "source": [
    "df_osc_donaut_sat = df_osc_donaut_sat[df_osc_donaut_sat.rfc.str.len().isin([12, 13])].reset_index(drop=True)"
   ]
  },
  {
   "cell_type": "code",
   "execution_count": null,
   "metadata": {},
   "outputs": [],
   "source": [
    "df_osc_donaut_sat['fecha_oficio_sat'] = pd.to_datetime(df_osc_donaut_sat.fecha_oficio_sat)"
   ]
  },
  {
   "cell_type": "code",
   "execution_count": null,
   "metadata": {},
   "outputs": [],
   "source": [
    "df_osc_donaut_sat.loc[:, 'sat_year'] = '2020'"
   ]
  },
  {
   "cell_type": "code",
   "execution_count": null,
   "metadata": {},
   "outputs": [],
   "source": [
    "df_osc_donaut_sat.head(5)"
   ]
  },
  {
   "cell_type": "code",
   "execution_count": null,
   "metadata": {
    "id": "M7CoJ8zdHFks"
   },
   "outputs": [],
   "source": []
  },
  {
   "cell_type": "markdown",
   "metadata": {
    "id": "cT6d15Sk5-G9"
   },
   "source": [
    "## 3. Donatarias Autorizadas (Resolución Miscelánea Fiscal)"
   ]
  },
  {
   "cell_type": "code",
   "execution_count": null,
   "metadata": {
    "id": "UrAfkAbvNKJl"
   },
   "outputs": [],
   "source": [
    "with open(\"../params/dof_page_breaks.json\", \"r\") as  params:\n",
    "    jParams = json.load(params)"
   ]
  },
  {
   "cell_type": "code",
   "execution_count": null,
   "metadata": {},
   "outputs": [],
   "source": [
    "DOF_YEARS = list(jParams.keys())"
   ]
  },
  {
   "cell_type": "code",
   "execution_count": null,
   "metadata": {
    "id": "n030le57PFG-"
   },
   "outputs": [],
   "source": [
    "def fix_multiple_cols_name(df):\n",
    "    ncols = df.shape[1]\n",
    "    if ncols == 2: return(df)\n",
    "    elif ncols > 2:\n",
    "        # names can generate multiple columns due to bad parsing\n",
    "        name_cols = list(range(1, ncols))\n",
    "        df[1] = df[name_cols].apply(lambda row: ' '.join(row.values.astype(str)), axis=1)\n",
    "        df = df[[0, 1]]\n",
    "        return(df)\n",
    "    else:\n",
    "        # print('Check dataframe')\n",
    "        # print(df.head(3))\n",
    "        return(pd.DataFrame(columns=[0, 1]))"
   ]
  },
  {
   "cell_type": "code",
   "execution_count": null,
   "metadata": {
    "scrolled": false
   },
   "outputs": [],
   "source": [
    "df_osc_donaut_dof = pd.DataFrame(columns=['RFC', 'razon_social', 'dof_year'])\n",
    "\n",
    "for year in DOF_YEARS:\n",
    "    \n",
    "    if year != '2020': continue\n",
    "    print(str(dt.now())[:19], f'- Getting OSC data from \"Diario Oficial de la Federacion ({year})\"\\n')\n",
    "    DOF_YEAR = year\n",
    "    \n",
    "    print(str(dt.now())[:19], \"- Create dataframe to store OSC's data\")\n",
    "    df_donaut_rms = pd.DataFrame(columns=[0, 1])\n",
    "    \n",
    "    # parsing first page where osc start (truncated)\n",
    "    first = jParams[DOF_YEAR]['parse']['start']['pages']\n",
    "    print(str(dt.now())[:19], f\"- Parsing first page ({first}) where OSC's data begins\")\n",
    "    start_tl = jParams[DOF_YEAR]['parse']['start']['top-left']\n",
    "    start_br = jParams[DOF_YEAR]['parse']['start']['bottom-right']\n",
    "    first_page = camelot.read_pdf(\n",
    "        '../data/A14-RMS/a14-rms-2021.pdf'\n",
    "        , flavor='stream'\n",
    "        , table_areas=[','.join(start_tl + start_br)]\n",
    "        , pages=first\n",
    "        )\n",
    "\n",
    "    df_donaut_rms = pd.concat([df_donaut_rms, fix_multiple_cols_name(first_page[0].df)])\n",
    "    \n",
    "    # parsing full pages where osc continue\n",
    "    full = jParams[DOF_YEAR]['parse']['full']['pages']\n",
    "    print(str(dt.now())[:19], f\"- Parsing full pages ({full}) where OSC's data is present\")\n",
    "    full_tl = jParams[DOF_YEAR]['parse']['full']['top-left']\n",
    "    full_br = jParams[DOF_YEAR]['parse']['full']['bottom-right']\n",
    "    full_pages = camelot.read_pdf(\n",
    "        '../data/A14-RMS/a14-rms-2021.pdf'\n",
    "        , flavor='stream'\n",
    "        , table_areas=[','.join(full_tl + full_br)]\n",
    "        , pages=full\n",
    "        )\n",
    "    \n",
    "    for n in range(len(full_pages)):\n",
    "        aux = fix_multiple_cols_name(full_pages[n].df)\n",
    "        df_donaut_rms = pd.concat([df_donaut_rms, aux])\n",
    "    \n",
    "    # parsing last page where osc end (truncated)\n",
    "    last = jParams[DOF_YEAR]['parse']['end']['pages']\n",
    "    print(str(dt.now())[:19], f\"- Parsing last page ({last}) where OSC's data ends\\n\")\n",
    "    end_tl = jParams[DOF_YEAR]['parse']['end']['top-left']\n",
    "    end_br = jParams[DOF_YEAR]['parse']['end']['bottom-right']\n",
    "    last_page = camelot.read_pdf(\n",
    "        '../data/A14-RMS/a14-rms-2021.pdf'\n",
    "        , flavor='stream'\n",
    "        , table_areas=[','.join(end_tl + end_br)]\n",
    "        , pages=last\n",
    "        )\n",
    "\n",
    "    df_donaut_rms = pd.concat([df_donaut_rms, fix_multiple_cols_name(last_page[0].df)])\n",
    "    print(str(dt.now())[:19], '- Parse process completed')\n",
    "    \n",
    "    # some cleaning over here\n",
    "    print(str(dt.now())[:19], '- Applying a some cleaning to the data')\n",
    "    df_donaut_rms = df_donaut_rms.rename(columns={0: 'RFC', 1: 'razon_social'})\n",
    "    # remove headers when osc changes their social objective in pdf\n",
    "    df_donaut_rms = df_donaut_rms[~((df_donaut_rms.RFC == 'RFC') & (df_donaut_rms.razon_social == 'Denominación Social'))].reset_index(drop=True)\n",
    "    df_donaut_rms = df_donaut_rms[df_donaut_rms.RFC.str.len().isin([0, 12])].reset_index(drop=True)\n",
    "    \n",
    "    df_donaut_rms['razon_social'] = df_donaut_rms.razon_social.str.replace('\\n', ' ')\n",
    "    \n",
    "    print(str(dt.now())[:19], '- Fixing splitted OSC names')\n",
    "    # check if razon social was splitted in two, row merge needed\n",
    "    df_donaut_rms[['merge_needed']] = (\n",
    "        1*(df_donaut_rms.razon_social.shift(-1).str.len() == 0) \n",
    "        + 1*(df_donaut_rms.razon_social.shift(1).str.len() == 0)\n",
    "    )\n",
    "    df_donaut_rms[['merge_needed']] = (df_donaut_rms.merge_needed.shift(-1) + df_donaut_rms.merge_needed.shift(1))\n",
    "    for i in df_donaut_rms[df_donaut_rms.merge_needed == 2].index:\n",
    "        df_donaut_rms.loc[i, 'razon_social'] = df_donaut_rms.loc[i-1, 'razon_social'] + ' ' + df_donaut_rms.loc[i+1, 'razon_social']\n",
    "    \n",
    "    print(str(dt.now())[:19], '- Remove bad RFCs')\n",
    "    df_donaut_rms = df_donaut_rms[df_donaut_rms.RFC.str.len() == 12]\n",
    "    df_donaut_rms = df_donaut_rms[df_donaut_rms.RFC.str.isupper()]\n",
    "    df_donaut_rms = df_donaut_rms[~df_donaut_rms.RFC.str.isalpha()].reset_index(drop=True)\n",
    "    df_donaut_rms = df_donaut_rms.drop_duplicates(\"RFC\").reset_index(drop=True)\n",
    "    df_donaut_rms = df_donaut_rms.drop(columns=['merge_needed'])\n",
    "    \n",
    "    df_donaut_rms[['dof_year']] = DOF_YEAR\n",
    "    \n",
    "    print(str(dt.now())[:19], f'- Total unique OSCs retrived in {year}:', str(df_donaut_rms.shape[0]), '\\n')\n",
    "    \n",
    "    df_osc_donaut_dof = pd.concat([df_osc_donaut_dof, df_donaut_rms])\n",
    "    "
   ]
  },
  {
   "cell_type": "code",
   "execution_count": null,
   "metadata": {
    "colab": {
     "base_uri": "https://localhost:8080/"
    },
    "id": "7Bk6DCAqOA79",
    "outputId": "4af9eca8-4d4e-43d0-c3b2-799efdc6daf3"
   },
   "outputs": [],
   "source": [
    "# accuracies = []\n",
    "# whitespaces = []\n",
    "\n",
    "# accuracies += [full_pages[n].parsing_report['accuracy']\n",
    "# whitespaces += [full_pages[n].parsing_report['accuracy']]\n",
    "\n",
    "# print('Average parsed accuracy', np.mean(accuracies).round(2))\n",
    "# print('Average parsed whitespace', np.mean(whitespaces).round(2))"
   ]
  },
  {
   "cell_type": "code",
   "execution_count": null,
   "metadata": {},
   "outputs": [],
   "source": [
    "df_osc_donaut_dof = df_osc_donaut_dof.rename(columns={'razon_social': 'sat_razon_social', 'RFC': 'rfc'})"
   ]
  },
  {
   "cell_type": "code",
   "execution_count": null,
   "metadata": {},
   "outputs": [],
   "source": [
    "df_osc_donaut_dof.head()"
   ]
  },
  {
   "cell_type": "code",
   "execution_count": null,
   "metadata": {},
   "outputs": [],
   "source": []
  },
  {
   "cell_type": "markdown",
   "metadata": {},
   "source": [
    "## 4. Consolidate Datasets"
   ]
  },
  {
   "cell_type": "code",
   "execution_count": null,
   "metadata": {},
   "outputs": [],
   "source": [
    "df_osc_cluni.shape"
   ]
  },
  {
   "cell_type": "code",
   "execution_count": null,
   "metadata": {},
   "outputs": [],
   "source": [
    "df_osc_donaut_sat.shape"
   ]
  },
  {
   "cell_type": "code",
   "execution_count": null,
   "metadata": {
    "id": "V0p7xlvg_edW"
   },
   "outputs": [],
   "source": [
    "df_osc = (\n",
    "    df_osc_cluni\n",
    "    .merge(df_osc_donaut_sat, how='outer', on='rfc')\n",
    "    .merge(df_osc_donaut_dof, how='outer', on='rfc')\n",
    ")"
   ]
  },
  {
   "cell_type": "code",
   "execution_count": null,
   "metadata": {},
   "outputs": [],
   "source": [
    "df_osc = df_osc.drop_duplicates().reset_index(drop=True)"
   ]
  },
  {
   "cell_type": "code",
   "execution_count": null,
   "metadata": {},
   "outputs": [],
   "source": [
    "df_osc.sample(5)"
   ]
  },
  {
   "cell_type": "code",
   "execution_count": null,
   "metadata": {},
   "outputs": [],
   "source": [
    "df_osc.shape"
   ]
  },
  {
   "cell_type": "code",
   "execution_count": null,
   "metadata": {},
   "outputs": [],
   "source": [
    "(~df_osc[['rfc', 'cluni', 'cluni_razon_social', 'sat_razon_social']].isna()).sum(axis=0)"
   ]
  },
  {
   "cell_type": "code",
   "execution_count": null,
   "metadata": {},
   "outputs": [],
   "source": [
    "print('OSCs with RFC:', df_osc.rfc.nunique())\n",
    "print('OSCs with CLUNI:', df_osc.cluni.nunique())"
   ]
  },
  {
   "cell_type": "code",
   "execution_count": null,
   "metadata": {},
   "outputs": [],
   "source": [
    "with_cluni = ~df_osc.cluni.isna()\n",
    "with_donaut = ~(df_osc.sat_year.isna() & df_osc.dof_year.isna())"
   ]
  },
  {
   "cell_type": "code",
   "execution_count": null,
   "metadata": {},
   "outputs": [],
   "source": [
    "df_osc_cluni_not_donaut = df_osc[with_cluni & ~with_donaut].reset_index(drop=True)\n",
    "df_osc_cluni_donaut = df_osc[with_cluni & with_donaut].reset_index(drop=True)\n",
    "df_osc_donaut_not_cluni = df_osc[~with_cluni & with_donaut].reset_index(drop=True)"
   ]
  },
  {
   "cell_type": "code",
   "execution_count": null,
   "metadata": {},
   "outputs": [],
   "source": [
    "print('OSCs CLUNI not Donaut:', df_osc_cluni_not_donaut.rfc.nunique())\n",
    "print('OSCs CLUNI and Donaut:', df_osc_cluni_donaut.rfc.nunique())\n",
    "print('OSCs Donaut not CLUNI :', df_osc_donaut_not_cluni.rfc.nunique())"
   ]
  },
  {
   "cell_type": "code",
   "execution_count": null,
   "metadata": {},
   "outputs": [],
   "source": []
  },
  {
   "cell_type": "code",
   "execution_count": null,
   "metadata": {},
   "outputs": [],
   "source": [
    "bad_rfc_cluni_not_donaut = df_osc_cluni_not_donaut.rfc.value_counts()[df_osc_cluni_not_donaut.rfc.value_counts() > 1].index.tolist()\n",
    "bad_rfc_cluni_donaut = df_osc_cluni_donaut.rfc.value_counts()[df_osc_cluni_donaut.rfc.value_counts() > 1].index.tolist()\n",
    "bad_rfc_donaut_not_cluni = df_osc_donaut_not_cluni.rfc.value_counts()[df_osc_donaut_not_cluni.rfc.value_counts() > 1].index.tolist()"
   ]
  },
  {
   "cell_type": "code",
   "execution_count": null,
   "metadata": {},
   "outputs": [],
   "source": [
    "one_rfc_many_cluni = bad_rfc_cluni_not_donaut + bad_rfc_cluni_donaut + bad_rfc_donaut_not_cluni"
   ]
  },
  {
   "cell_type": "code",
   "execution_count": null,
   "metadata": {
    "scrolled": false
   },
   "outputs": [],
   "source": [
    "(\n",
    "    df_osc[df_osc.rfc.isin(one_rfc_many_cluni)]\n",
    "    .groupby(['rfc', 'estatus'])\n",
    "    [['rfc']].count()\n",
    "    .rename(columns={'rfc': 'count'})\n",
    "    .reset_index(drop=False)\n",
    "    .pivot('rfc', 'estatus', 'count')\n",
    "    .sort_values('activa')\n",
    ")"
   ]
  },
  {
   "cell_type": "code",
   "execution_count": null,
   "metadata": {},
   "outputs": [],
   "source": []
  }
 ],
 "metadata": {
  "colab": {
   "collapsed_sections": [
    "iI6hplGSBPtH",
    "EJj-dMi7HFgw",
    "gGbRTqIAXnTu"
   ],
   "name": "get_osc_data.ipynb",
   "provenance": [],
   "toc_visible": true
  },
  "kernelspec": {
   "display_name": "Python [conda env:osc-mexico-2021]",
   "language": "python",
   "name": "osc-mexico-2021"
  },
  "language_info": {
   "codemirror_mode": {
    "name": "ipython",
    "version": 3
   },
   "file_extension": ".py",
   "mimetype": "text/x-python",
   "name": "python",
   "nbconvert_exporter": "python",
   "pygments_lexer": "ipython3",
   "version": "3.9.1"
  }
 },
 "nbformat": 4,
 "nbformat_minor": 1
}
