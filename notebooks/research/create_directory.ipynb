{
 "cells": [
  {
   "source": [
    "0 Modules\n",
    "====="
   ],
   "cell_type": "markdown",
   "metadata": {}
  },
  {
   "cell_type": "code",
   "execution_count": 55,
   "id": "emerging-hollywood",
   "metadata": {},
   "outputs": [],
   "source": [
    "import sys\n",
    "from pathlib import Path\n",
    "\n",
    "from get_clunis import *\n",
    "from get_donauts_sat import *\n",
    "from get_donauts_dof import *\n",
    "\n",
    "from pandas import merge\n",
    "from pandas import set_option\n",
    "\n",
    "from urllib3.exceptions import ReadTimeoutError\n",
    "\n",
    "sys.path.append(\"../../src/directorio\")"
   ]
  },
  {
   "cell_type": "code",
   "execution_count": null,
   "metadata": {},
   "outputs": [],
   "source": [
    "set_option('display.max_colwidth', None)"
   ]
  },
  {
   "source": [],
   "cell_type": "code",
   "metadata": {},
   "execution_count": null,
   "outputs": []
  },
  {
   "source": [
    "1 Directory Structure\n",
    "====="
   ],
   "cell_type": "markdown",
   "metadata": {}
  },
  {
   "cell_type": "code",
   "execution_count": 56,
   "metadata": {},
   "outputs": [],
   "source": [
    "DIRS = [\n",
    "    \"./logs\",\n",
    "    \"./params\",\n",
    "     \"./resources\"\n",
    "]"
   ]
  },
  {
   "cell_type": "code",
   "execution_count": 57,
   "metadata": {},
   "outputs": [],
   "source": [
    "for d in DIRS: \n",
    "    Path(d).mkdir(parents=True, exist_ok=True)"
   ]
  },
  {
   "cell_type": "code",
   "execution_count": null,
   "metadata": {},
   "outputs": [],
   "source": []
  },
  {
   "source": [
    "2 Collect Data\n",
    "====="
   ],
   "cell_type": "markdown",
   "metadata": {}
  },
  {
   "cell_type": "code",
   "execution_count": null,
   "metadata": {},
   "outputs": [],
   "source": [
    "df_clunis = get_clunis()"
   ]
  },
  {
   "cell_type": "code",
   "execution_count": null,
   "metadata": {},
   "outputs": [],
   "source": [
    "\n",
    "try:\n",
    "    df_donauts = get_donauts_sat()\n",
    "except ReadTimeoutError:\n",
    "    df_donauts = get_donauts_dof()\n"
   ]
  },
  {
   "cell_type": "code",
   "execution_count": null,
   "metadata": {},
   "outputs": [],
   "source": []
  },
  {
   "source": [
    "3 Merge Directories\n",
    "====="
   ],
   "cell_type": "markdown",
   "metadata": {}
  },
  {
   "source": [
    "\n",
    "df_oscs = merge(df_clunis, df_donauts, on=\"rfc\", how=\"outer\")"
   ],
   "cell_type": "code",
   "metadata": {},
   "execution_count": 120,
   "outputs": []
  },
  {
   "cell_type": "code",
   "execution_count": 121,
   "metadata": {},
   "outputs": [],
   "source": [
    "df_oscs = df_oscs.drop_duplicates([\"rfc\", \"cluni\"])"
   ]
  },
  {
   "cell_type": "code",
   "execution_count": 122,
   "metadata": {},
   "outputs": [],
   "source": [
    "# FIXME: Inlcude OSCs with duplicated records.\n",
    "rfc_duplicados = df_oscs.rfc.value_counts()[df_oscs.rfc.value_counts() > 1].index.tolist()\n",
    "df_oscs = df_oscs[~df_oscs.rfc.isin(rfc_duplicados)]"
   ]
  },
  {
   "cell_type": "code",
   "execution_count": 124,
   "metadata": {},
   "outputs": [],
   "source": [
    "only_cluni = ~df_oscs.cluni.isnull() & df_oscs.sat_razon_social.isnull()\n",
    "only_donaut = df_oscs.cluni.isnull() & ~df_oscs.sat_razon_social.isnull()\n",
    "cluni_donaut = ~df_oscs.cluni.isnull() & ~df_oscs.sat_razon_social.isnull()\n",
    "rfc_missing_data = ~( only_cluni | only_donaut | cluni_donaut )"
   ]
  },
  {
   "source": [
    "len(df_oscs) == ( \n",
    "    len(df_oscs[only_cluni]) \n",
    "    + len(df_oscs[only_donaut])\n",
    "    + len(df_oscs[cluni_donaut])\n",
    "    + sum(rfc_missing_data)\n",
    ")"
   ],
   "cell_type": "code",
   "metadata": {},
   "execution_count": 126,
   "outputs": [
    {
     "output_type": "execute_result",
     "data": {
      "text/plain": [
       "True"
      ]
     },
     "metadata": {},
     "execution_count": 126
    }
   ]
  },
  {
   "cell_type": "code",
   "execution_count": 127,
   "metadata": {},
   "outputs": [],
   "source": [
    "df_oscs = df_oscs[~rfc_missing_data].copy()\n",
    "df_oscs = df_oscs.reset_index(drop=True)"
   ]
  },
  {
   "cell_type": "code",
   "execution_count": 128,
   "metadata": {},
   "outputs": [
    {
     "output_type": "stream",
     "name": "stdout",
     "text": [
      "<class 'pandas.core.frame.DataFrame'>\nRangeIndex: 45960 entries, 0 to 45959\nData columns (total 9 columns):\n #   Column                Non-Null Count  Dtype         \n---  ------                --------------  -----         \n 0   rfc                   45960 non-null  object        \n 1   cluni                 42710 non-null  object        \n 2   cluni_razon_social    42710 non-null  object        \n 3   cluni_status          42710 non-null  object        \n 4   cluni_representation  42710 non-null  object        \n 5   osc_legal_form        42710 non-null  object        \n 6   created_at            42708 non-null  datetime64[ns]\n 7   sat_razon_social      9605 non-null   object        \n 8   dof_year              9697 non-null   object        \ndtypes: datetime64[ns](1), object(8)\nmemory usage: 3.2+ MB\n"
     ]
    }
   ],
   "source": [
    "df_oscs.info()"
   ]
  },
  {
   "cell_type": "code",
   "execution_count": 136,
   "metadata": {},
   "outputs": [
    {
     "output_type": "execute_result",
     "data": {
      "text/plain": [
       "                rfc           cluni  \\\n",
       "25315  VSC1312066X8  VSC1312062501X   \n",
       "29042  COS081217H90  COS08121720T4A   \n",
       "12931  FER460415SF8  FER4604152601C   \n",
       "3266   LIE070312UV5  LIE07031209010   \n",
       "20174  IZA120914TU7  IZA1209143201L   \n",
       "\n",
       "                                       cluni_razon_social cluni_status  \\\n",
       "25315                Voluntas al Servicio de la Comunidad       activa   \n",
       "29042    Comité Oaxaqueño de Sanidad e Inocuidad Acuícola       activa   \n",
       "12931                         Fundación Esposos Rodriguez       activa   \n",
       "3266   Laboratorio de Investigaciones  Escénico Musicales       activa   \n",
       "20174                                 Inclusión Zacatecas       activa   \n",
       "\n",
       "      cluni_representation    osc_legal_form created_at  \\\n",
       "25315              vigente  asociación civil 2013-12-06   \n",
       "29042              vencida  asociación civil 2008-12-18   \n",
       "12931              vigente    sociedad civil 1946-08-02   \n",
       "3266               vigente  asociación civil 2007-03-12   \n",
       "20174              vigente  asociación civil 2012-09-14   \n",
       "\n",
       "                          sat_razon_social dof_year  \n",
       "25315                                  NaN      NaN  \n",
       "29042                                  NaN      NaN  \n",
       "12931  Fundación Esposos Rodríguez, A.B.P.     2020  \n",
       "3266                                   NaN      NaN  \n",
       "20174            Inclusión Zacatecas, A.C.     2020  "
      ],
      "text/html": "<div>\n<style scoped>\n    .dataframe tbody tr th:only-of-type {\n        vertical-align: middle;\n    }\n\n    .dataframe tbody tr th {\n        vertical-align: top;\n    }\n\n    .dataframe thead th {\n        text-align: right;\n    }\n</style>\n<table border=\"1\" class=\"dataframe\">\n  <thead>\n    <tr style=\"text-align: right;\">\n      <th></th>\n      <th>rfc</th>\n      <th>cluni</th>\n      <th>cluni_razon_social</th>\n      <th>cluni_status</th>\n      <th>cluni_representation</th>\n      <th>osc_legal_form</th>\n      <th>created_at</th>\n      <th>sat_razon_social</th>\n      <th>dof_year</th>\n    </tr>\n  </thead>\n  <tbody>\n    <tr>\n      <th>25315</th>\n      <td>VSC1312066X8</td>\n      <td>VSC1312062501X</td>\n      <td>Voluntas al Servicio de la Comunidad</td>\n      <td>activa</td>\n      <td>vigente</td>\n      <td>asociación civil</td>\n      <td>2013-12-06</td>\n      <td>NaN</td>\n      <td>NaN</td>\n    </tr>\n    <tr>\n      <th>29042</th>\n      <td>COS081217H90</td>\n      <td>COS08121720T4A</td>\n      <td>Comité Oaxaqueño de Sanidad e Inocuidad Acuícola</td>\n      <td>activa</td>\n      <td>vencida</td>\n      <td>asociación civil</td>\n      <td>2008-12-18</td>\n      <td>NaN</td>\n      <td>NaN</td>\n    </tr>\n    <tr>\n      <th>12931</th>\n      <td>FER460415SF8</td>\n      <td>FER4604152601C</td>\n      <td>Fundación Esposos Rodriguez</td>\n      <td>activa</td>\n      <td>vigente</td>\n      <td>sociedad civil</td>\n      <td>1946-08-02</td>\n      <td>Fundación Esposos Rodríguez, A.B.P.</td>\n      <td>2020</td>\n    </tr>\n    <tr>\n      <th>3266</th>\n      <td>LIE070312UV5</td>\n      <td>LIE07031209010</td>\n      <td>Laboratorio de Investigaciones  Escénico Musicales</td>\n      <td>activa</td>\n      <td>vigente</td>\n      <td>asociación civil</td>\n      <td>2007-03-12</td>\n      <td>NaN</td>\n      <td>NaN</td>\n    </tr>\n    <tr>\n      <th>20174</th>\n      <td>IZA120914TU7</td>\n      <td>IZA1209143201L</td>\n      <td>Inclusión Zacatecas</td>\n      <td>activa</td>\n      <td>vigente</td>\n      <td>asociación civil</td>\n      <td>2012-09-14</td>\n      <td>Inclusión Zacatecas, A.C.</td>\n      <td>2020</td>\n    </tr>\n  </tbody>\n</table>\n</div>"
     },
     "metadata": {},
     "execution_count": 136
    }
   ],
   "source": [
    "df_oscs[df_oscs.cluni_status == 'activa'].sample(5)"
   ]
  },
  {
   "cell_type": "code",
   "execution_count": null,
   "metadata": {},
   "outputs": [],
   "source": []
  }
 ],
 "metadata": {
  "kernelspec": {
   "display_name": "Python [conda env:osc-mexico-2021]",
   "language": "python",
   "name": "osc-mexico-2021"
  },
  "language_info": {
   "codemirror_mode": {
    "name": "ipython",
    "version": 3
   },
   "file_extension": ".py",
   "mimetype": "text/x-python",
   "name": "python",
   "nbconvert_exporter": "python",
   "pygments_lexer": "ipython3",
   "version": "3.9.1-final"
  }
 },
 "nbformat": 4,
 "nbformat_minor": 5
}