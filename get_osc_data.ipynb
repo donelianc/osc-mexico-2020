{
  "nbformat": 4,
  "nbformat_minor": 0,
  "metadata": {
    "colab": {
      "name": "get_osc_data.ipynb",
      "provenance": [],
      "collapsed_sections": [],
      "mount_file_id": "17AOV8ZpBNA3icnTFb30yvmgdBEdMOdPa",
      "authorship_tag": "ABX9TyNtQpOSqPq4fKxhWDHmVQlu"
    },
    "kernelspec": {
      "display_name": "Python 3",
      "name": "python3"
    }
  },
  "cells": [
    {
      "cell_type": "code",
      "metadata": {
        "id": "mV8WD56fP2Zr"
      },
      "source": [
        "import requests\n",
        "import pandas as pd\n",
        "from datetime import datetime as dt"
      ],
      "execution_count": null,
      "outputs": []
    },
    {
      "cell_type": "code",
      "metadata": {
        "colab": {
          "base_uri": "https://localhost:8080/"
        },
        "id": "RCshZVHx9fz2",
        "outputId": "83ecb329-67e3-4a07-874b-f03605f0c5df"
      },
      "source": [
        "from google.colab import drive\n",
        "drive.mount('/content/drive')"
      ],
      "execution_count": null,
      "outputs": [
        {
          "output_type": "stream",
          "text": [
            "Mounted at /content/drive\n"
          ],
          "name": "stdout"
        }
      ]
    },
    {
      "cell_type": "markdown",
      "metadata": {
        "id": "iI6hplGSBPtH"
      },
      "source": [
        "## 1. OSC con Clave Única de Inscripción"
      ]
    },
    {
      "cell_type": "code",
      "metadata": {
        "id": "7JD9SYvKCkx7"
      },
      "source": [
        "CLUNI = ''\n",
        "NOMBRE = ''\n",
        "ACRONIMO = ''\n",
        "RFC = ''\n",
        "STATUS_OSC = ''\n",
        "STATUS_SANCION = ''\n",
        "FIGURA_JURIDICA = ''\n",
        "ESTADO = ''\n",
        "MUNICIPIO = ''\n",
        "ASENTAMIENTO = ''\n",
        "CP = ''\n",
        "REP_NOMBRE = ''\n",
        "REP_APATERNO = ''\n",
        "REP_AMATERNO = ''\n",
        "NUM_NOTARIA = ''\n",
        "OBJETO_SOCIAL = ''\n",
        "RED = ''\n",
        "ADVANCED = ''"
      ],
      "execution_count": null,
      "outputs": []
    },
    {
      "cell_type": "code",
      "metadata": {
        "id": "1GtEqjMSCuKG"
      },
      "source": [
        "CLUNI_URL = f\"http://www.sii.gob.mx/portal/organizaciones/excel/?cluni={CLUNI}&nombre={NOMBRE}&acronimo={ACRONIMO}&rfc={RFC}&status_osc={STATUS_OSC}&status_sancion={STATUS_SANCION}&figura_juridica={FIGURA_JURIDICA}&estado={ESTADO}&municipio={MUNICIPIO}&asentamiento={ASENTAMIENTO}&cp={CP}&rep_nombre={REP_NOMBRE}&rep_apaterno={REP_APATERNO}&rep_amaterno={REP_AMATERNO}&num_notaria={NUM_NOTARIA}&objeto_social={OBJETO_SOCIAL}&red={RED}&advanced=1\""
      ],
      "execution_count": null,
      "outputs": []
    },
    {
      "cell_type": "code",
      "metadata": {
        "id": "kn_rrecRDh1z"
      },
      "source": [
        "payload={}\n",
        "headers = {\n",
        "  'Upgrade-Insecure-Requests': '1',\n",
        "  'User-Agent': 'Mozilla/5.0 (Macintosh; Intel Mac OS X 11_2_0) AppleWebKit/537.36 (KHTML, like Gecko) Chrome/88.0.4324.96 Safari/537.36',\n",
        "  'Accept': 'text/html,application/xhtml+xml,application/xml;q=0.9,image/avif,image/webp,image/apng,*/*;q=0.8,application/signed-exchange;v=b3;q=0.9'\n",
        "}"
      ],
      "execution_count": null,
      "outputs": []
    },
    {
      "cell_type": "code",
      "metadata": {
        "id": "HfEtPSjLDIoH"
      },
      "source": [
        "cluni_response = requests.request(\"GET\", CLUNI_URL, headers=headers, data=payload)"
      ],
      "execution_count": null,
      "outputs": []
    },
    {
      "cell_type": "code",
      "metadata": {
        "id": "LjPR-20_-ber"
      },
      "source": [
        "CLUNI_NOW = str(dt.now())[:19].replace(' ', '-').replace(':', '-')"
      ],
      "execution_count": null,
      "outputs": []
    },
    {
      "cell_type": "code",
      "metadata": {
        "id": "5xd2The89OC1"
      },
      "source": [
        "with open(f\"/content/drive/MyDrive/NewCo/code/data/SIRFOSC/report-rfosc-{CLUNI_NOW}.txt\", \"w+\") as f:\n",
        "  f.write(response.text)"
      ],
      "execution_count": null,
      "outputs": []
    },
    {
      "cell_type": "code",
      "metadata": {
        "id": "ZOH43fh5Dqb_"
      },
      "source": [
        "df_osc_cluni = pd.DataFrame([row.split('\",\"') for row in cluni_response.text.split('\\n')])\n",
        "df_osc_cluni[0] = df_osc_cluni[0].str.replace('\"', '')\n",
        "df_osc_cluni[df_osc_cluni.shape[1]-1] = df_osc_cluni[df_osc_cluni.shape[1]-1].str.replace('\"\\r', '')\n",
        "df_osc_cluni = df_osc_cluni.rename(columns=df_osc_cluni.iloc[0]).iloc[1:]\n",
        "df_osc_cluni = df_osc_cluni[:-1]"
      ],
      "execution_count": null,
      "outputs": []
    },
    {
      "cell_type": "code",
      "metadata": {
        "colab": {
          "base_uri": "https://localhost:8080/",
          "height": 504
        },
        "id": "Ahac-XYg8Pps",
        "outputId": "49fc5fb9-5155-41f5-d83b-8ab20f3620a2"
      },
      "source": [
        "df_osc_cluni.head()"
      ],
      "execution_count": null,
      "outputs": [
        {
          "output_type": "execute_result",
          "data": {
            "text/html": [
              "<div>\n",
              "<style scoped>\n",
              "    .dataframe tbody tr th:only-of-type {\n",
              "        vertical-align: middle;\n",
              "    }\n",
              "\n",
              "    .dataframe tbody tr th {\n",
              "        vertical-align: top;\n",
              "    }\n",
              "\n",
              "    .dataframe thead th {\n",
              "        text-align: right;\n",
              "    }\n",
              "</style>\n",
              "<table border=\"1\" class=\"dataframe\">\n",
              "  <thead>\n",
              "    <tr style=\"text-align: right;\">\n",
              "      <th></th>\n",
              "      <th>CLUNI</th>\n",
              "      <th>RAZON SOCIAL</th>\n",
              "      <th>FIGURA JURIDICA</th>\n",
              "      <th>RFC</th>\n",
              "      <th>ESTATUS</th>\n",
              "      <th>ESTATUS DE SANCION</th>\n",
              "      <th>REPRESENTANTES LEGALES</th>\n",
              "      <th>ESTATUS DE LA REPRESENTACION</th>\n",
              "      <th>FECHA DE CONSTITUCION</th>\n",
              "      <th>FECHA DE INSCRIPCION</th>\n",
              "      <th>CORREO(S)</th>\n",
              "      <th>TELEFONO(S)</th>\n",
              "      <th>ENTIDAD FEDERATIVA DOMICILIO</th>\n",
              "      <th>MUNICIPIO</th>\n",
              "      <th>ASENTAMIENTO(COLONIA)</th>\n",
              "      <th>VIALIDAD (CALLE)</th>\n",
              "      <th>NUMERO EXTERIOR</th>\n",
              "      <th>NUMERO INTERIOR</th>\n",
              "      <th>CP</th>\n",
              "      <th>REDES</th>\n",
              "      <th>ACTIVIDAD_1</th>\n",
              "      <th>ACTIVIDAD_2</th>\n",
              "      <th>ACTIVIDAD_3</th>\n",
              "      <th>ACTIVIDAD_4</th>\n",
              "      <th>ACTIVIDAD_5</th>\n",
              "      <th>ACTIVIDAD_6</th>\n",
              "      <th>ACTIVIDAD_7</th>\n",
              "      <th>ACTIVIDAD_8</th>\n",
              "      <th>ACTIVIDAD_9</th>\n",
              "      <th>ACTIVIDAD_10</th>\n",
              "      <th>ACTIVIDAD_11</th>\n",
              "      <th>ACTIVIDAD_12</th>\n",
              "      <th>ACTIVIDAD_13</th>\n",
              "      <th>ACTIVIDAD_14</th>\n",
              "      <th>ACTIVIDAD_15</th>\n",
              "      <th>ACTIVIDAD_16</th>\n",
              "      <th>ACTIVIDAD_17</th>\n",
              "      <th>ACTIVIDAD_18</th>\n",
              "      <th>ACTIVIDAD_19</th>\n",
              "      <th>INFORME 2005 PRESENTADO</th>\n",
              "      <th>INFORME 2005 EN TIEMPO</th>\n",
              "      <th>INFORME 2006 PRESENTADO</th>\n",
              "      <th>INFORME 2006 EN TIEMPO</th>\n",
              "      <th>INFORME 2007 PRESENTADO</th>\n",
              "      <th>INFORME 2007 EN TIEMPO</th>\n",
              "      <th>INFORME 2008 PRESENTADO</th>\n",
              "      <th>INFORME 2008 EN TIEMPO</th>\n",
              "      <th>INFORME 2009 PRESENTADO</th>\n",
              "      <th>INFORME 2009 EN TIEMPO</th>\n",
              "      <th>INFORME 2010 PRESENTADO</th>\n",
              "      <th>INFORME 2010 EN TIEMPO</th>\n",
              "      <th>INFORME 2011 PRESENTADO</th>\n",
              "      <th>INFORME 2011 EN TIEMPO</th>\n",
              "      <th>INFORME 2012 PRESENTADO</th>\n",
              "      <th>INFORME 2012 EN TIEMPO</th>\n",
              "      <th>INFORME 2013 PRESENTADO</th>\n",
              "      <th>INFORME 2013 EN TIEMPO</th>\n",
              "      <th>INFORME 2014 PRESENTADO</th>\n",
              "      <th>INFORME 2014 EN TIEMPO</th>\n",
              "      <th>INFORME 2015 PRESENTADO</th>\n",
              "      <th>INFORME 2015 EN TIEMPO</th>\n",
              "      <th>INFORME 2016 PRESENTADO</th>\n",
              "      <th>INFORME 2016 EN TIEMPO</th>\n",
              "      <th>INFORME 2017 PRESENTADO</th>\n",
              "      <th>INFORME 2017 EN TIEMPO</th>\n",
              "      <th>INFORME 2018 PRESENTADO</th>\n",
              "      <th>INFORME 2018 EN TIEMPO</th>\n",
              "      <th>INFORME 2019 PRESENTADO</th>\n",
              "      <th>INFORME 2019 EN TIEMPO</th>\n",
              "    </tr>\n",
              "  </thead>\n",
              "  <tbody>\n",
              "    <tr>\n",
              "      <th>1</th>\n",
              "      <td>VCO98091405018</td>\n",
              "      <td>Voluntades por Coahuila</td>\n",
              "      <td>Asociación Civil</td>\n",
              "      <td>VCO980914457</td>\n",
              "      <td>ACTIVA</td>\n",
              "      <td>N/A</td>\n",
              "      <td>Rodrigo Montelongo Suárez</td>\n",
              "      <td>VENCIDA</td>\n",
              "      <td>1998-09-14</td>\n",
              "      <td>2005-05-18</td>\n",
              "      <td>grafitos@hotmail.com</td>\n",
              "      <td>(844) 4105590</td>\n",
              "      <td>Coahuila</td>\n",
              "      <td>Saltillo</td>\n",
              "      <td>Jacarandas Jardín</td>\n",
              "      <td>Jacarandas</td>\n",
              "      <td>124</td>\n",
              "      <td></td>\n",
              "      <td>25203</td>\n",
              "      <td>Consejo de Organismos No Gubernamentales de Co...</td>\n",
              "      <td>SI</td>\n",
              "      <td>NO</td>\n",
              "      <td>NO</td>\n",
              "      <td>NO</td>\n",
              "      <td>NO</td>\n",
              "      <td>NO</td>\n",
              "      <td>NO</td>\n",
              "      <td>NO</td>\n",
              "      <td>NO</td>\n",
              "      <td>NO</td>\n",
              "      <td>NO</td>\n",
              "      <td>NO</td>\n",
              "      <td>NO</td>\n",
              "      <td>NO</td>\n",
              "      <td>NO</td>\n",
              "      <td>NO</td>\n",
              "      <td>NO</td>\n",
              "      <td>NO</td>\n",
              "      <td>NO</td>\n",
              "      <td>SI</td>\n",
              "      <td>SI</td>\n",
              "      <td>SI</td>\n",
              "      <td>NO</td>\n",
              "      <td>SI</td>\n",
              "      <td>NO</td>\n",
              "      <td>SI</td>\n",
              "      <td>NO</td>\n",
              "      <td>SI</td>\n",
              "      <td>NO</td>\n",
              "      <td>SI</td>\n",
              "      <td>SI</td>\n",
              "      <td>SI</td>\n",
              "      <td>SI</td>\n",
              "      <td>SI</td>\n",
              "      <td>SI</td>\n",
              "      <td>NO</td>\n",
              "      <td>NA</td>\n",
              "      <td>NO</td>\n",
              "      <td>NA</td>\n",
              "      <td>NO</td>\n",
              "      <td>NA</td>\n",
              "      <td>NO</td>\n",
              "      <td>NA</td>\n",
              "      <td>NO</td>\n",
              "      <td>NA</td>\n",
              "      <td>NO</td>\n",
              "      <td>NA</td>\n",
              "      <td>NO</td>\n",
              "      <td>NA</td>\n",
              "    </tr>\n",
              "    <tr>\n",
              "      <th>2</th>\n",
              "      <td>UEF0303170101D</td>\n",
              "      <td>Unión Estatal Femenil FEPRA</td>\n",
              "      <td>Asociación Civil</td>\n",
              "      <td>UEF0303179P9</td>\n",
              "      <td>ACTIVA</td>\n",
              "      <td>N/A</td>\n",
              "      <td>Adriana Díaz de León Valdivia</td>\n",
              "      <td>VIGENTE</td>\n",
              "      <td>2003-03-17</td>\n",
              "      <td>2005-02-22</td>\n",
              "      <td>ufepra2004@yahoo.com.mx</td>\n",
              "      <td>(449) 9965235,(449) 9965235</td>\n",
              "      <td>Aguascalientes</td>\n",
              "      <td>Aguascalientes</td>\n",
              "      <td>San Ignacio</td>\n",
              "      <td>Granja El Gavilán</td>\n",
              "      <td>S/N</td>\n",
              "      <td></td>\n",
              "      <td>20326</td>\n",
              "      <td></td>\n",
              "      <td>NO</td>\n",
              "      <td>NO</td>\n",
              "      <td>SI</td>\n",
              "      <td>NO</td>\n",
              "      <td>NO</td>\n",
              "      <td>SI</td>\n",
              "      <td>NO</td>\n",
              "      <td>SI</td>\n",
              "      <td>NO</td>\n",
              "      <td>NO</td>\n",
              "      <td>NO</td>\n",
              "      <td>SI</td>\n",
              "      <td>SI</td>\n",
              "      <td>SI</td>\n",
              "      <td>NO</td>\n",
              "      <td>NO</td>\n",
              "      <td>NO</td>\n",
              "      <td>NO</td>\n",
              "      <td>NO</td>\n",
              "      <td>SI</td>\n",
              "      <td>SI</td>\n",
              "      <td>SI</td>\n",
              "      <td>NO</td>\n",
              "      <td>SI</td>\n",
              "      <td>SI</td>\n",
              "      <td>SI</td>\n",
              "      <td>SI</td>\n",
              "      <td>SI</td>\n",
              "      <td>SI</td>\n",
              "      <td>SI</td>\n",
              "      <td>SI</td>\n",
              "      <td>SI</td>\n",
              "      <td>SI</td>\n",
              "      <td>SI</td>\n",
              "      <td>SI</td>\n",
              "      <td>SI</td>\n",
              "      <td>SI</td>\n",
              "      <td>SI</td>\n",
              "      <td>SI</td>\n",
              "      <td>NO</td>\n",
              "      <td>NA</td>\n",
              "      <td>NO</td>\n",
              "      <td>NA</td>\n",
              "      <td>NO</td>\n",
              "      <td>NA</td>\n",
              "      <td>NO</td>\n",
              "      <td>NA</td>\n",
              "      <td>NO</td>\n",
              "      <td>NA</td>\n",
              "    </tr>\n",
              "    <tr>\n",
              "      <th>3</th>\n",
              "      <td>FOJ04100219013</td>\n",
              "      <td>Federación de Organizaciones Juveniles</td>\n",
              "      <td>Asociación Civil</td>\n",
              "      <td>FOJ041002PB3</td>\n",
              "      <td>INACTIVA</td>\n",
              "      <td>N/A</td>\n",
              "      <td>Jorge Alberto Arrambide Montemayor</td>\n",
              "      <td>VIGENTE</td>\n",
              "      <td>2004-10-02</td>\n",
              "      <td>2005-03-09</td>\n",
              "      <td>jorgearrambide@foj-nl.org.mx</td>\n",
              "      <td>(81) 83434270,(81) 83434270,(81) 83434091</td>\n",
              "      <td>Nuevo León</td>\n",
              "      <td>Monterrey</td>\n",
              "      <td>El Mirador</td>\n",
              "      <td>Madrid</td>\n",
              "      <td>211</td>\n",
              "      <td></td>\n",
              "      <td>64990</td>\n",
              "      <td></td>\n",
              "      <td>NO</td>\n",
              "      <td>NO</td>\n",
              "      <td>SI</td>\n",
              "      <td>NO</td>\n",
              "      <td>NO</td>\n",
              "      <td>NO</td>\n",
              "      <td>NO</td>\n",
              "      <td>SI</td>\n",
              "      <td>NO</td>\n",
              "      <td>NO</td>\n",
              "      <td>NO</td>\n",
              "      <td>NO</td>\n",
              "      <td>NO</td>\n",
              "      <td>NO</td>\n",
              "      <td>NO</td>\n",
              "      <td>SI</td>\n",
              "      <td>NO</td>\n",
              "      <td>NO</td>\n",
              "      <td>NO</td>\n",
              "      <td>NO</td>\n",
              "      <td>NA</td>\n",
              "      <td>NO</td>\n",
              "      <td>NA</td>\n",
              "      <td>NO</td>\n",
              "      <td>NA</td>\n",
              "      <td>NO</td>\n",
              "      <td>NA</td>\n",
              "      <td>NO</td>\n",
              "      <td>NA</td>\n",
              "      <td>NO</td>\n",
              "      <td>NA</td>\n",
              "      <td>NO</td>\n",
              "      <td>NA</td>\n",
              "      <td>NO</td>\n",
              "      <td>NA</td>\n",
              "      <td>NO</td>\n",
              "      <td>NA</td>\n",
              "      <td>NO</td>\n",
              "      <td>NA</td>\n",
              "      <td>NO</td>\n",
              "      <td>NA</td>\n",
              "      <td>NO</td>\n",
              "      <td>NA</td>\n",
              "      <td>NO</td>\n",
              "      <td>NA</td>\n",
              "      <td>NO</td>\n",
              "      <td>NA</td>\n",
              "      <td>NO</td>\n",
              "      <td>NA</td>\n",
              "    </tr>\n",
              "    <tr>\n",
              "      <th>4</th>\n",
              "      <td>ARP95040609019</td>\n",
              "      <td>Aguilas Reales Pro Dignidad del Discapacitado</td>\n",
              "      <td>Asociación Civil</td>\n",
              "      <td>ARP950406IF8</td>\n",
              "      <td>ACTIVA</td>\n",
              "      <td>N/A</td>\n",
              "      <td>David Peral Manzo,David Peral Manzo</td>\n",
              "      <td>VENCIDA</td>\n",
              "      <td>1995-04-06</td>\n",
              "      <td>2005-04-21</td>\n",
              "      <td>aguilasrealesac8@hotmail.com</td>\n",
              "      <td>(55) 26048545</td>\n",
              "      <td>Distrito Federal</td>\n",
              "      <td>Benito Juárez</td>\n",
              "      <td>Santa Cruz Atoyac</td>\n",
              "      <td>Emiliano Zapata</td>\n",
              "      <td>363</td>\n",
              "      <td></td>\n",
              "      <td>03310</td>\n",
              "      <td></td>\n",
              "      <td>NO</td>\n",
              "      <td>NO</td>\n",
              "      <td>SI</td>\n",
              "      <td>NO</td>\n",
              "      <td>NO</td>\n",
              "      <td>SI</td>\n",
              "      <td>SI</td>\n",
              "      <td>NO</td>\n",
              "      <td>SI</td>\n",
              "      <td>SI</td>\n",
              "      <td>NO</td>\n",
              "      <td>NO</td>\n",
              "      <td>SI</td>\n",
              "      <td>NO</td>\n",
              "      <td>NO</td>\n",
              "      <td>NO</td>\n",
              "      <td>NO</td>\n",
              "      <td>NO</td>\n",
              "      <td>NO</td>\n",
              "      <td>NO</td>\n",
              "      <td>NA</td>\n",
              "      <td>NO</td>\n",
              "      <td>NA</td>\n",
              "      <td>NO</td>\n",
              "      <td>NA</td>\n",
              "      <td>NO</td>\n",
              "      <td>NA</td>\n",
              "      <td>NO</td>\n",
              "      <td>NA</td>\n",
              "      <td>NO</td>\n",
              "      <td>NA</td>\n",
              "      <td>NO</td>\n",
              "      <td>NA</td>\n",
              "      <td>NO</td>\n",
              "      <td>NA</td>\n",
              "      <td>NO</td>\n",
              "      <td>NA</td>\n",
              "      <td>NO</td>\n",
              "      <td>NA</td>\n",
              "      <td>NO</td>\n",
              "      <td>NA</td>\n",
              "      <td>NO</td>\n",
              "      <td>NA</td>\n",
              "      <td>NO</td>\n",
              "      <td>NA</td>\n",
              "      <td>NO</td>\n",
              "      <td>NA</td>\n",
              "      <td>NO</td>\n",
              "      <td>NA</td>\n",
              "    </tr>\n",
              "    <tr>\n",
              "      <th>5</th>\n",
              "      <td>FIM97120122015</td>\n",
              "      <td>Formación Integral de la Mujer</td>\n",
              "      <td>Institución de Asistencia Privada</td>\n",
              "      <td>FIM971201896</td>\n",
              "      <td>INACTIVA</td>\n",
              "      <td>N/A</td>\n",
              "      <td>María Teresa Duarte Belloc,María Teresa Rodríg...</td>\n",
              "      <td>VIGENTE</td>\n",
              "      <td>1997-09-18</td>\n",
              "      <td>2005-04-08</td>\n",
              "      <td>fimiap@hotmail.com</td>\n",
              "      <td>(442) 2121756,(442) 2121756</td>\n",
              "      <td>Querétaro</td>\n",
              "      <td>Corregidora</td>\n",
              "      <td>Camino Real</td>\n",
              "      <td>Guerrero</td>\n",
              "      <td>10 Norte</td>\n",
              "      <td></td>\n",
              "      <td>76086</td>\n",
              "      <td></td>\n",
              "      <td>NO</td>\n",
              "      <td>NO</td>\n",
              "      <td>NO</td>\n",
              "      <td>NO</td>\n",
              "      <td>NO</td>\n",
              "      <td>SI</td>\n",
              "      <td>NO</td>\n",
              "      <td>NO</td>\n",
              "      <td>NO</td>\n",
              "      <td>NO</td>\n",
              "      <td>NO</td>\n",
              "      <td>NO</td>\n",
              "      <td>SI</td>\n",
              "      <td>NO</td>\n",
              "      <td>NO</td>\n",
              "      <td>NO</td>\n",
              "      <td>NO</td>\n",
              "      <td>NO</td>\n",
              "      <td>NO</td>\n",
              "      <td>SI</td>\n",
              "      <td>SI</td>\n",
              "      <td>SI</td>\n",
              "      <td>NO</td>\n",
              "      <td>SI</td>\n",
              "      <td>SI</td>\n",
              "      <td>SI</td>\n",
              "      <td>SI</td>\n",
              "      <td>SI</td>\n",
              "      <td>SI</td>\n",
              "      <td>SI</td>\n",
              "      <td>SI</td>\n",
              "      <td>SI</td>\n",
              "      <td>SI</td>\n",
              "      <td>SI</td>\n",
              "      <td>NO</td>\n",
              "      <td>SI</td>\n",
              "      <td>SI</td>\n",
              "      <td>SI</td>\n",
              "      <td>SI</td>\n",
              "      <td>SI</td>\n",
              "      <td>SI</td>\n",
              "      <td>SI</td>\n",
              "      <td>SI</td>\n",
              "      <td>SI</td>\n",
              "      <td>SI</td>\n",
              "      <td>SI</td>\n",
              "      <td>SI</td>\n",
              "      <td>NO</td>\n",
              "      <td>NA</td>\n",
              "    </tr>\n",
              "  </tbody>\n",
              "</table>\n",
              "</div>"
            ],
            "text/plain": [
              "            CLUNI  ... INFORME 2019 EN TIEMPO\n",
              "1  VCO98091405018  ...                     NA\n",
              "2  UEF0303170101D  ...                     NA\n",
              "3  FOJ04100219013  ...                     NA\n",
              "4  ARP95040609019  ...                     NA\n",
              "5  FIM97120122015  ...                     NA\n",
              "\n",
              "[5 rows x 69 columns]"
            ]
          },
          "metadata": {
            "tags": []
          },
          "execution_count": 99
        }
      ]
    },
    {
      "cell_type": "code",
      "metadata": {
        "id": "-QkjRNEn8obu"
      },
      "source": [
        "df_osc_cluni.to_csv(f\"/content/drive/MyDrive/NewCo/code/data/SIRFOSC/report-rfosc-{NOW}.csv\")"
      ],
      "execution_count": null,
      "outputs": []
    },
    {
      "cell_type": "code",
      "metadata": {
        "colab": {
          "base_uri": "https://localhost:8080/"
        },
        "id": "ZvFo7AzTH_Wd",
        "outputId": "9d71384b-5c5a-4066-eacb-4e7c028c6b81"
      },
      "source": [
        "df_osc_cluni.info()"
      ],
      "execution_count": null,
      "outputs": [
        {
          "output_type": "stream",
          "text": [
            "<class 'pandas.core.frame.DataFrame'>\n",
            "RangeIndex: 42718 entries, 1 to 42718\n",
            "Data columns (total 69 columns):\n",
            " #   Column                        Non-Null Count  Dtype \n",
            "---  ------                        --------------  ----- \n",
            " 0   CLUNI                         42718 non-null  object\n",
            " 1   RAZON SOCIAL                  42718 non-null  object\n",
            " 2   FIGURA JURIDICA               42718 non-null  object\n",
            " 3   RFC                           42718 non-null  object\n",
            " 4   ESTATUS                       42718 non-null  object\n",
            " 5   ESTATUS DE SANCION            42718 non-null  object\n",
            " 6   REPRESENTANTES LEGALES        42718 non-null  object\n",
            " 7   ESTATUS DE LA REPRESENTACION  42718 non-null  object\n",
            " 8   FECHA DE CONSTITUCION         42718 non-null  object\n",
            " 9   FECHA DE INSCRIPCION          42718 non-null  object\n",
            " 10  CORREO(S)                     42718 non-null  object\n",
            " 11  TELEFONO(S)                   42717 non-null  object\n",
            " 12  ENTIDAD FEDERATIVA DOMICILIO  42717 non-null  object\n",
            " 13  MUNICIPIO                     42717 non-null  object\n",
            " 14  ASENTAMIENTO(COLONIA)         42717 non-null  object\n",
            " 15  VIALIDAD (CALLE)              42717 non-null  object\n",
            " 16  NUMERO EXTERIOR               42717 non-null  object\n",
            " 17  NUMERO INTERIOR               42717 non-null  object\n",
            " 18  CP                            42717 non-null  object\n",
            " 19  REDES                         42717 non-null  object\n",
            " 20  ACTIVIDAD_1                   42717 non-null  object\n",
            " 21  ACTIVIDAD_2                   42717 non-null  object\n",
            " 22  ACTIVIDAD_3                   42717 non-null  object\n",
            " 23  ACTIVIDAD_4                   42717 non-null  object\n",
            " 24  ACTIVIDAD_5                   42717 non-null  object\n",
            " 25  ACTIVIDAD_6                   42717 non-null  object\n",
            " 26  ACTIVIDAD_7                   42717 non-null  object\n",
            " 27  ACTIVIDAD_8                   42717 non-null  object\n",
            " 28  ACTIVIDAD_9                   42717 non-null  object\n",
            " 29  ACTIVIDAD_10                  42717 non-null  object\n",
            " 30  ACTIVIDAD_11                  42717 non-null  object\n",
            " 31  ACTIVIDAD_12                  42717 non-null  object\n",
            " 32  ACTIVIDAD_13                  42717 non-null  object\n",
            " 33  ACTIVIDAD_14                  42717 non-null  object\n",
            " 34  ACTIVIDAD_15                  42717 non-null  object\n",
            " 35  ACTIVIDAD_16                  42717 non-null  object\n",
            " 36  ACTIVIDAD_17                  42717 non-null  object\n",
            " 37  ACTIVIDAD_18                  42717 non-null  object\n",
            " 38  ACTIVIDAD_19                  42717 non-null  object\n",
            " 39  INFORME 2005 PRESENTADO       42717 non-null  object\n",
            " 40  INFORME 2005 EN TIEMPO        42717 non-null  object\n",
            " 41  INFORME 2006 PRESENTADO       42717 non-null  object\n",
            " 42  INFORME 2006 EN TIEMPO        42717 non-null  object\n",
            " 43  INFORME 2007 PRESENTADO       42717 non-null  object\n",
            " 44  INFORME 2007 EN TIEMPO        42717 non-null  object\n",
            " 45  INFORME 2008 PRESENTADO       42717 non-null  object\n",
            " 46  INFORME 2008 EN TIEMPO        42717 non-null  object\n",
            " 47  INFORME 2009 PRESENTADO       42717 non-null  object\n",
            " 48  INFORME 2009 EN TIEMPO        42717 non-null  object\n",
            " 49  INFORME 2010 PRESENTADO       42717 non-null  object\n",
            " 50  INFORME 2010 EN TIEMPO        42717 non-null  object\n",
            " 51  INFORME 2011 PRESENTADO       42717 non-null  object\n",
            " 52  INFORME 2011 EN TIEMPO        42717 non-null  object\n",
            " 53  INFORME 2012 PRESENTADO       42717 non-null  object\n",
            " 54  INFORME 2012 EN TIEMPO        42717 non-null  object\n",
            " 55  INFORME 2013 PRESENTADO       42717 non-null  object\n",
            " 56  INFORME 2013 EN TIEMPO        42717 non-null  object\n",
            " 57  INFORME 2014 PRESENTADO       42717 non-null  object\n",
            " 58  INFORME 2014 EN TIEMPO        42717 non-null  object\n",
            " 59  INFORME 2015 PRESENTADO       42716 non-null  object\n",
            " 60  INFORME 2015 EN TIEMPO        42716 non-null  object\n",
            " 61  INFORME 2016 PRESENTADO       42716 non-null  object\n",
            " 62  INFORME 2016 EN TIEMPO        42716 non-null  object\n",
            " 63  INFORME 2017 PRESENTADO       42716 non-null  object\n",
            " 64  INFORME 2017 EN TIEMPO        42716 non-null  object\n",
            " 65  INFORME 2018 PRESENTADO       42716 non-null  object\n",
            " 66  INFORME 2018 EN TIEMPO        42716 non-null  object\n",
            " 67  INFORME 2019 PRESENTADO       42716 non-null  object\n",
            " 68  INFORME 2019 EN TIEMPO        42716 non-null  object\n",
            "dtypes: object(69)\n",
            "memory usage: 22.5+ MB\n"
          ],
          "name": "stdout"
        }
      ]
    },
    {
      "cell_type": "code",
      "metadata": {
        "id": "8lR6S6bXJ8UK",
        "colab": {
          "base_uri": "https://localhost:8080/"
        },
        "outputId": "a7eca95c-28c7-47bc-f378-a05a2e8565ba"
      },
      "source": [
        "df_osc_cluni.ESTATUS.value_counts()"
      ],
      "execution_count": null,
      "outputs": [
        {
          "output_type": "execute_result",
          "data": {
            "text/plain": [
              "INACTIVA          29348\n",
              "ACTIVA            13369\n",
              "Cruz del Farol        1\n",
              "Name: ESTATUS, dtype: int64"
            ]
          },
          "metadata": {
            "tags": []
          },
          "execution_count": 102
        }
      ]
    },
    {
      "cell_type": "code",
      "metadata": {
        "id": "rJ78m285DvkK",
        "colab": {
          "base_uri": "https://localhost:8080/"
        },
        "outputId": "84d69da8-668a-478e-d1a8-067dcc17c09e"
      },
      "source": [
        "(df_osc_cluni[df_osc_cluni.ESTATUS == 'ACTIVA']['FECHA DE CONSTITUCION'].str[0:4].value_counts() / len(df_osc_cluni[df_osc_cluni.ESTATUS == 'ACTIVA'])).sort_index(ascending=False).head(21)"
      ],
      "execution_count": null,
      "outputs": [
        {
          "output_type": "execute_result",
          "data": {
            "text/plain": [
              "2020    0.002394\n",
              "2019    0.020346\n",
              "2018    0.057820\n",
              "2017    0.074576\n",
              "2016    0.079213\n",
              "2015    0.072780\n",
              "2014    0.068666\n",
              "2013    0.076670\n",
              "2012    0.067844\n",
              "2011    0.061112\n",
              "2010    0.053183\n",
              "2009    0.044656\n",
              "2008    0.040616\n",
              "2007    0.030219\n",
              "2006    0.026180\n",
              "2005    0.026554\n",
              "2004    0.019672\n",
              "2003    0.016830\n",
              "2002    0.013688\n",
              "2001    0.013763\n",
              "2000    0.011818\n",
              "Name: FECHA DE CONSTITUCION, dtype: float64"
            ]
          },
          "metadata": {
            "tags": []
          },
          "execution_count": 103
        }
      ]
    },
    {
      "cell_type": "code",
      "metadata": {
        "colab": {
          "base_uri": "https://localhost:8080/"
        },
        "id": "oAXJ19ERFrnf",
        "outputId": "e8d61530-c523-4e75-9871-c9363d724d25"
      },
      "source": [
        "(df_osc_cluni[df_osc_cluni.ESTATUS == 'ACTIVA']['ENTIDAD FEDERATIVA DOMICILIO'].value_counts() / len(df_osc_cluni[df_osc_cluni.ESTATUS == 'ACTIVA'])) # .cumsum()"
      ],
      "execution_count": null,
      "outputs": [
        {
          "output_type": "execute_result",
          "data": {
            "text/plain": [
              "Distrito Federal       0.246989\n",
              "Estado de México       0.096791\n",
              "Oaxaca                 0.056773\n",
              "Veracruz               0.055277\n",
              "Chiapas                0.041589\n",
              "Jalisco                0.041140\n",
              "Puebla                 0.040018\n",
              "Baja California        0.035530\n",
              "Guanajuato             0.029546\n",
              "Chihuahua              0.029471\n",
              "Michoacán              0.027751\n",
              "Sonora                 0.024759\n",
              "Nuevo León             0.022889\n",
              "Yucatán                0.021243\n",
              "Durango                0.020944\n",
              "Hidalgo                0.020046\n",
              "Morelos                0.019149\n",
              "Guerrero               0.017428\n",
              "Querétaro              0.017279\n",
              "Coahuila               0.016755\n",
              "Sinaloa                0.016531\n",
              "Tamaulipas             0.014137\n",
              "Tabasco                0.012342\n",
              "Quintana Roo           0.012342\n",
              "San Luis Potosí        0.010921\n",
              "Tlaxcala               0.010547\n",
              "Zacatecas              0.008078\n",
              "Aguascalientes         0.007555\n",
              "Baja California Sur    0.006956\n",
              "Nayarit                0.006882\n",
              "Colima                 0.006807\n",
              "Campeche               0.005535\n",
              "Name: ENTIDAD FEDERATIVA DOMICILIO, dtype: float64"
            ]
          },
          "metadata": {
            "tags": []
          },
          "execution_count": 104
        }
      ]
    },
    {
      "cell_type": "code",
      "metadata": {
        "colab": {
          "base_uri": "https://localhost:8080/",
          "height": 222
        },
        "id": "YUrjmfkOHlmK",
        "outputId": "67507111-f493-44db-9212-33f17315e28d"
      },
      "source": [
        "df_osc_activas.sample(1)"
      ],
      "execution_count": null,
      "outputs": [
        {
          "output_type": "execute_result",
          "data": {
            "text/html": [
              "<div>\n",
              "<style scoped>\n",
              "    .dataframe tbody tr th:only-of-type {\n",
              "        vertical-align: middle;\n",
              "    }\n",
              "\n",
              "    .dataframe tbody tr th {\n",
              "        vertical-align: top;\n",
              "    }\n",
              "\n",
              "    .dataframe thead th {\n",
              "        text-align: right;\n",
              "    }\n",
              "</style>\n",
              "<table border=\"1\" class=\"dataframe\">\n",
              "  <thead>\n",
              "    <tr style=\"text-align: right;\">\n",
              "      <th></th>\n",
              "      <th>CLUNI</th>\n",
              "      <th>RAZON SOCIAL</th>\n",
              "      <th>FIGURA JURIDICA</th>\n",
              "      <th>RFC</th>\n",
              "      <th>ESTATUS</th>\n",
              "      <th>ESTATUS DE SANCION</th>\n",
              "      <th>REPRESENTANTES LEGALES</th>\n",
              "      <th>ESTATUS DE LA REPRESENTACION</th>\n",
              "      <th>FECHA DE CONSTITUCION</th>\n",
              "      <th>FECHA DE INSCRIPCION</th>\n",
              "      <th>CORREO(S)</th>\n",
              "      <th>TELEFONO(S)</th>\n",
              "      <th>ENTIDAD FEDERATIVA DOMICILIO</th>\n",
              "      <th>MUNICIPIO</th>\n",
              "      <th>ASENTAMIENTO(COLONIA)</th>\n",
              "      <th>VIALIDAD (CALLE)</th>\n",
              "      <th>NUMERO EXTERIOR</th>\n",
              "      <th>NUMERO INTERIOR</th>\n",
              "      <th>CP</th>\n",
              "      <th>REDES</th>\n",
              "      <th>ACTIVIDAD_1</th>\n",
              "      <th>ACTIVIDAD_2</th>\n",
              "      <th>ACTIVIDAD_3</th>\n",
              "      <th>ACTIVIDAD_4</th>\n",
              "      <th>ACTIVIDAD_5</th>\n",
              "      <th>ACTIVIDAD_6</th>\n",
              "      <th>ACTIVIDAD_7</th>\n",
              "      <th>ACTIVIDAD_8</th>\n",
              "      <th>ACTIVIDAD_9</th>\n",
              "      <th>ACTIVIDAD_10</th>\n",
              "      <th>ACTIVIDAD_11</th>\n",
              "      <th>ACTIVIDAD_12</th>\n",
              "      <th>ACTIVIDAD_13</th>\n",
              "      <th>ACTIVIDAD_14</th>\n",
              "      <th>ACTIVIDAD_15</th>\n",
              "      <th>ACTIVIDAD_16</th>\n",
              "      <th>ACTIVIDAD_17</th>\n",
              "      <th>ACTIVIDAD_18</th>\n",
              "      <th>ACTIVIDAD_19</th>\n",
              "      <th>INFORME 2005 PRESENTADO</th>\n",
              "      <th>INFORME 2005 EN TIEMPO</th>\n",
              "      <th>INFORME 2006 PRESENTADO</th>\n",
              "      <th>INFORME 2006 EN TIEMPO</th>\n",
              "      <th>INFORME 2007 PRESENTADO</th>\n",
              "      <th>INFORME 2007 EN TIEMPO</th>\n",
              "      <th>INFORME 2008 PRESENTADO</th>\n",
              "      <th>INFORME 2008 EN TIEMPO</th>\n",
              "      <th>INFORME 2009 PRESENTADO</th>\n",
              "      <th>INFORME 2009 EN TIEMPO</th>\n",
              "      <th>INFORME 2010 PRESENTADO</th>\n",
              "      <th>INFORME 2010 EN TIEMPO</th>\n",
              "      <th>INFORME 2011 PRESENTADO</th>\n",
              "      <th>INFORME 2011 EN TIEMPO</th>\n",
              "      <th>INFORME 2012 PRESENTADO</th>\n",
              "      <th>INFORME 2012 EN TIEMPO</th>\n",
              "      <th>INFORME 2013 PRESENTADO</th>\n",
              "      <th>INFORME 2013 EN TIEMPO</th>\n",
              "      <th>INFORME 2014 PRESENTADO</th>\n",
              "      <th>INFORME 2014 EN TIEMPO</th>\n",
              "      <th>INFORME 2015 PRESENTADO</th>\n",
              "      <th>INFORME 2015 EN TIEMPO</th>\n",
              "      <th>INFORME 2016 PRESENTADO</th>\n",
              "      <th>INFORME 2016 EN TIEMPO</th>\n",
              "      <th>INFORME 2017 PRESENTADO</th>\n",
              "      <th>INFORME 2017 EN TIEMPO</th>\n",
              "      <th>INFORME 2018 PRESENTADO</th>\n",
              "      <th>INFORME 2018 EN TIEMPO</th>\n",
              "      <th>INFORME 2019 PRESENTADO</th>\n",
              "      <th>INFORME 2019 EN TIEMPO</th>\n",
              "    </tr>\n",
              "  </thead>\n",
              "  <tbody>\n",
              "    <tr>\n",
              "      <th>5889</th>\n",
              "      <td>PDE0810073201F</td>\n",
              "      <td>Promotora del Desarrollo Empresarial de Zacatecas</td>\n",
              "      <td>Otra</td>\n",
              "      <td>PDE081007452</td>\n",
              "      <td>INACTIVA</td>\n",
              "      <td>N/A</td>\n",
              "      <td>JOSE MANUEL CARDIEL MARTINEZ</td>\n",
              "      <td>VIGENTE</td>\n",
              "      <td>2008-10-07</td>\n",
              "      <td>2008-12-22</td>\n",
              "      <td>sangali_123@yahoo.com.mx</td>\n",
              "      <td>(492) 7681497</td>\n",
              "      <td>Zacatecas</td>\n",
              "      <td>Zacatecas</td>\n",
              "      <td>La Toma de Zacatecas</td>\n",
              "      <td>DOROTEO ARANGO</td>\n",
              "      <td>104</td>\n",
              "      <td></td>\n",
              "      <td>98057</td>\n",
              "      <td></td>\n",
              "      <td>NO</td>\n",
              "      <td>NO</td>\n",
              "      <td>NO</td>\n",
              "      <td>NO</td>\n",
              "      <td>NO</td>\n",
              "      <td>NO</td>\n",
              "      <td>NO</td>\n",
              "      <td>NO</td>\n",
              "      <td>NO</td>\n",
              "      <td>NO</td>\n",
              "      <td>NO</td>\n",
              "      <td>NO</td>\n",
              "      <td>NO</td>\n",
              "      <td>NO</td>\n",
              "      <td>NO</td>\n",
              "      <td>SI</td>\n",
              "      <td>NO</td>\n",
              "      <td>NO</td>\n",
              "      <td>NO</td>\n",
              "      <td>NA</td>\n",
              "      <td>NA</td>\n",
              "      <td>NA</td>\n",
              "      <td>NA</td>\n",
              "      <td>NA</td>\n",
              "      <td>NA</td>\n",
              "      <td>NO</td>\n",
              "      <td>NA</td>\n",
              "      <td>NO</td>\n",
              "      <td>NA</td>\n",
              "      <td>NO</td>\n",
              "      <td>NA</td>\n",
              "      <td>NO</td>\n",
              "      <td>NA</td>\n",
              "      <td>NO</td>\n",
              "      <td>NA</td>\n",
              "      <td>NO</td>\n",
              "      <td>NA</td>\n",
              "      <td>NO</td>\n",
              "      <td>NA</td>\n",
              "      <td>NO</td>\n",
              "      <td>NA</td>\n",
              "      <td>NO</td>\n",
              "      <td>NA</td>\n",
              "      <td>NO</td>\n",
              "      <td>NA</td>\n",
              "      <td>NO</td>\n",
              "      <td>NA</td>\n",
              "      <td>NO</td>\n",
              "      <td>NA</td>\n",
              "    </tr>\n",
              "  </tbody>\n",
              "</table>\n",
              "</div>"
            ],
            "text/plain": [
              "               CLUNI  ... INFORME 2019 EN TIEMPO\n",
              "5889  PDE0810073201F  ...                     NA\n",
              "\n",
              "[1 rows x 69 columns]"
            ]
          },
          "metadata": {
            "tags": []
          },
          "execution_count": 105
        }
      ]
    },
    {
      "cell_type": "markdown",
      "metadata": {
        "id": "eMmFi-iBBeIV"
      },
      "source": [
        "## 2. OSC Registro Donatarias Autorizadas"
      ]
    },
    {
      "cell_type": "code",
      "metadata": {
        "id": "FzsAhw2PIMBt"
      },
      "source": [
        "YEAR = '2020'\n",
        "SAT_URL = f'http://omawww.sat.gob.mx/documentossat/Documents/DirectorioDonatariasAutorizadas{YEAR}.xls'\n",
        "\n",
        "response = requests.get(SAT_URL)\n",
        "\n",
        "with open(f\"/content/drive/MyDrive/NewCo/code/data/DonatariasAutorizadas/report-sat-{NOW}.xls\", \"wb\") as f:\n",
        "  f.write(response.content)"
      ],
      "execution_count": null,
      "outputs": []
    },
    {
      "cell_type": "code",
      "metadata": {
        "id": "fli2emVBC0K1"
      },
      "source": [
        "df_osc_sat = pd.read_excel(\n",
        "    f\"/content/drive/MyDrive/NewCo/code/data/DonatariasAutorizadas/report-sat-{NOW}.xls\"\n",
        "    , skiprows = range(0, 27)\n",
        "    , usecols = \"A:O\"\n",
        "    )\n",
        "\n",
        "df_osc_sat = df_osc_sat.rename(columns=df_osc_sat.iloc[0]).iloc[1:]"
      ],
      "execution_count": null,
      "outputs": []
    },
    {
      "cell_type": "code",
      "metadata": {
        "colab": {
          "base_uri": "https://localhost:8080/",
          "height": 556
        },
        "id": "fSY4NvvsC0C4",
        "outputId": "ebcb1234-8393-4b45-cf0d-3c9d957f177b"
      },
      "source": [
        "df_osc_sat.head()"
      ],
      "execution_count": null,
      "outputs": [
        {
          "output_type": "execute_result",
          "data": {
            "text/html": [
              "<div>\n",
              "<style scoped>\n",
              "    .dataframe tbody tr th:only-of-type {\n",
              "        vertical-align: middle;\n",
              "    }\n",
              "\n",
              "    .dataframe tbody tr th {\n",
              "        vertical-align: top;\n",
              "    }\n",
              "\n",
              "    .dataframe thead th {\n",
              "        text-align: right;\n",
              "    }\n",
              "</style>\n",
              "<table border=\"1\" class=\"dataframe\">\n",
              "  <thead>\n",
              "    <tr style=\"text-align: right;\">\n",
              "      <th></th>\n",
              "      <th>ENTIDAD FEDERATIVA</th>\n",
              "      <th>ADMINISTRACIÓN DESCONCENTRADA DE SERVICIOS AL CONTRIBUYENTE</th>\n",
              "      <th>ACTIVIDAD O FIN AUTORIZADO</th>\n",
              "      <th>RFC</th>\n",
              "      <th>DENOMINACIÓN O RAZÓN SOCIAL</th>\n",
              "      <th>DOMICILIO FISCAL</th>\n",
              "      <th>OFICIO DE AUTORIZACIÓN</th>\n",
              "      <th>FECHA DE OFICIO</th>\n",
              "      <th>OBJETO SOCIAL AUTORIZADO</th>\n",
              "      <th>REPRESENTANTE LEGAL</th>\n",
              "      <th>NÚMEROS TELEFÓNICOS</th>\n",
              "      <th>E-MAIL</th>\n",
              "      <th>DOMICILIO DE ESTABLECIMIENTO</th>\n",
              "      <th>NÚMEROS TELEFÓNICOS DEL ESTABLECIMIENTO</th>\n",
              "      <th>ACREDITAMIENTO</th>\n",
              "    </tr>\n",
              "  </thead>\n",
              "  <tbody>\n",
              "    <tr>\n",
              "      <th>1</th>\n",
              "      <td>AGUASCALIENTES</td>\n",
              "      <td>AGUASCALIENTES \"1\"</td>\n",
              "      <td>M</td>\n",
              "      <td>AAC101117RP1</td>\n",
              "      <td>AACAFIQ, A.C.</td>\n",
              "      <td>Av. de los Maestros Núm 3703, Col. José López ...</td>\n",
              "      <td>600-04-05-2013-10305</td>\n",
              "      <td>2013-02-11 00:00:00</td>\n",
              "      <td>\"ARTICULO SEGUNDO. La asociación tiene por obj...</td>\n",
              "      <td>Rosa Isabel Nájera Martínez</td>\n",
              "      <td>4491406851</td>\n",
              "      <td>rosa.najera@hotmail.com</td>\n",
              "      <td>No Manifestó</td>\n",
              "      <td>No Manifestó</td>\n",
              "      <td>oficio número DGSEA-1129/2012 de fecha 29 de n...</td>\n",
              "    </tr>\n",
              "    <tr>\n",
              "      <th>2</th>\n",
              "      <td>AGUASCALIENTES</td>\n",
              "      <td>AGUASCALIENTES \"1\"</td>\n",
              "      <td>A</td>\n",
              "      <td>AAC101117RP1</td>\n",
              "      <td>AACAFIQ, A.C.</td>\n",
              "      <td>Av. de los Maestros Núm 3703, Col. José López ...</td>\n",
              "      <td>600-04-05-2013-10305</td>\n",
              "      <td>2013-02-11 00:00:00</td>\n",
              "      <td>\"ARTICULO SEGUNDO. La asociación tiene por obj...</td>\n",
              "      <td>Rosa Isabel Nájera Martínez</td>\n",
              "      <td>4491406851</td>\n",
              "      <td>rosa.najera@hotmail.com</td>\n",
              "      <td>No Manifestó</td>\n",
              "      <td>No Manifestó</td>\n",
              "      <td>oficio número DGSEA-1129/2012 de fecha 29 de n...</td>\n",
              "    </tr>\n",
              "    <tr>\n",
              "      <th>3</th>\n",
              "      <td>AGUASCALIENTES</td>\n",
              "      <td>AGUASCALIENTES \"1\"</td>\n",
              "      <td>M</td>\n",
              "      <td>AAG150226BX0</td>\n",
              "      <td>Autismo Aguascalientes, A.C.</td>\n",
              "      <td>Canada Núm 301, Col. El Dorado 1a Sección, C.P...</td>\n",
              "      <td>700-02-01-2019-08990</td>\n",
              "      <td>2019-09-26 00:00:00</td>\n",
              "      <td>\"CUARTA.- La Asociación Autismo Aguascalientes...</td>\n",
              "      <td>Olga Rubio Camarena</td>\n",
              "      <td>No Manifestó</td>\n",
              "      <td>No Manifestó</td>\n",
              "      <td>No Manifestó</td>\n",
              "      <td>No Manifestó</td>\n",
              "      <td>Constancia de Inscripción ante el Registro Fed...</td>\n",
              "    </tr>\n",
              "    <tr>\n",
              "      <th>4</th>\n",
              "      <td>AGUASCALIENTES</td>\n",
              "      <td>AGUASCALIENTES \"1\"</td>\n",
              "      <td>A</td>\n",
              "      <td>AAG150226BX0</td>\n",
              "      <td>Autismo Aguascalientes, A.C.</td>\n",
              "      <td>Canada Núm 301, Col. El Dorado 1a Sección, C.P...</td>\n",
              "      <td>700-02-01-2019-08990</td>\n",
              "      <td>2019-09-26 00:00:00</td>\n",
              "      <td>\"CUARTA.- La Asociación Autismo Aguascalientes...</td>\n",
              "      <td>Olga Rubio Camarena</td>\n",
              "      <td>No Manifestó</td>\n",
              "      <td>No Manifestó</td>\n",
              "      <td>No Manifestó</td>\n",
              "      <td>No Manifestó</td>\n",
              "      <td>Constancia de Inscripción ante el Registro Fed...</td>\n",
              "    </tr>\n",
              "    <tr>\n",
              "      <th>5</th>\n",
              "      <td>AGUASCALIENTES</td>\n",
              "      <td>AGUASCALIENTES \"1\"</td>\n",
              "      <td>A</td>\n",
              "      <td>AAP010713QV5</td>\n",
              "      <td>Asilo de Ancianos de Pabellón de Arteaga, Agua...</td>\n",
              "      <td>Independencia Núm 48, Col. Francisco Villa, C....</td>\n",
              "      <td>700-02-01-2020-05788</td>\n",
              "      <td>2020-05-22 00:00:00</td>\n",
              "      <td>\"ARTICULO SEGUNDO.- La Asociación tendrá por o...</td>\n",
              "      <td>Ma. del Rosario Bueno Martínez</td>\n",
              "      <td>01465 958 10 90</td>\n",
              "      <td>No Manifestó</td>\n",
              "      <td>No Manifestó</td>\n",
              "      <td>No Manifestó</td>\n",
              "      <td>oficio DGSEA/0914/2019 de fecha 18 de diciembr...</td>\n",
              "    </tr>\n",
              "  </tbody>\n",
              "</table>\n",
              "</div>"
            ],
            "text/plain": [
              "  ENTIDAD FEDERATIVA  ...                                     ACREDITAMIENTO\n",
              "1     AGUASCALIENTES  ...  oficio número DGSEA-1129/2012 de fecha 29 de n...\n",
              "2     AGUASCALIENTES  ...  oficio número DGSEA-1129/2012 de fecha 29 de n...\n",
              "3     AGUASCALIENTES  ...  Constancia de Inscripción ante el Registro Fed...\n",
              "4     AGUASCALIENTES  ...  Constancia de Inscripción ante el Registro Fed...\n",
              "5     AGUASCALIENTES  ...  oficio DGSEA/0914/2019 de fecha 18 de diciembr...\n",
              "\n",
              "[5 rows x 15 columns]"
            ]
          },
          "metadata": {
            "tags": []
          },
          "execution_count": 135
        }
      ]
    },
    {
      "cell_type": "code",
      "metadata": {
        "id": "UhobnA0dHFos"
      },
      "source": [
        ""
      ],
      "execution_count": null,
      "outputs": []
    },
    {
      "cell_type": "code",
      "metadata": {
        "id": "M7CoJ8zdHFks"
      },
      "source": [
        ""
      ],
      "execution_count": null,
      "outputs": []
    },
    {
      "cell_type": "code",
      "metadata": {
        "id": "EJj-dMi7HFgw"
      },
      "source": [
        ""
      ],
      "execution_count": null,
      "outputs": []
    },
    {
      "cell_type": "code",
      "metadata": {
        "id": "-3NEjcAQHFYV"
      },
      "source": [
        ""
      ],
      "execution_count": null,
      "outputs": []
    },
    {
      "cell_type": "code",
      "metadata": {
        "id": "P6f9CxE-Cz6n"
      },
      "source": [
        "df_osc_actvig = df_osc_cluni[(df_osc_cluni['ESTATUS'] == 'ACTIVA') & (df_osc_cluni['ESTATUS DE LA REPRESENTACION'] == 'VIGENTE')][['CLUNI', 'RFC']]"
      ],
      "execution_count": null,
      "outputs": []
    },
    {
      "cell_type": "code",
      "metadata": {
        "id": "DwVzT45nCzyk"
      },
      "source": [
        "df_donas_auth = pd.merge(df_osc_actvig[['CLUNI', 'RFC']], df_osc_sat[['RFC']], how='outer')"
      ],
      "execution_count": null,
      "outputs": []
    },
    {
      "cell_type": "code",
      "metadata": {
        "id": "Dzq8If6ZMrNZ"
      },
      "source": [
        "df_donas_auth = df_donas_auth.drop_duplicates().reset_index(drop=True).copy()"
      ],
      "execution_count": null,
      "outputs": []
    },
    {
      "cell_type": "code",
      "metadata": {
        "colab": {
          "base_uri": "https://localhost:8080/"
        },
        "id": "WJHXHN8vNdLD",
        "outputId": "dd287c2e-b0d2-4fc8-c3a0-3dc1f5564e8e"
      },
      "source": [
        "len(df_donas_auth)"
      ],
      "execution_count": null,
      "outputs": [
        {
          "output_type": "execute_result",
          "data": {
            "text/plain": [
              "17663"
            ]
          },
          "metadata": {
            "tags": []
          },
          "execution_count": 146
        }
      ]
    },
    {
      "cell_type": "code",
      "metadata": {
        "colab": {
          "base_uri": "https://localhost:8080/"
        },
        "id": "jREqWVpHM1ZI",
        "outputId": "f2e7dd20-30af-4bba-8e6f-a3a796a4eaa5"
      },
      "source": [
        "df_donas_auth.isna().sum(axis=0)"
      ],
      "execution_count": null,
      "outputs": [
        {
          "output_type": "execute_result",
          "data": {
            "text/plain": [
              "CLUNI    5146\n",
              "RFC         0\n",
              "dtype: int64"
            ]
          },
          "metadata": {
            "tags": []
          },
          "execution_count": 145
        }
      ]
    },
    {
      "cell_type": "code",
      "metadata": {
        "id": "6NQudc3XM2tw"
      },
      "source": [
        "\n"
      ],
      "execution_count": null,
      "outputs": []
    }
  ]
}