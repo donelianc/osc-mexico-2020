{
  "nbformat": 4,
  "nbformat_minor": 0,
  "metadata": {
    "colab": {
      "name": "get_osc_data.ipynb",
      "provenance": [],
      "collapsed_sections": [
        "iI6hplGSBPtH",
        "eMmFi-iBBeIV",
        "EJj-dMi7HFgw",
        "gGbRTqIAXnTu"
      ],
      "toc_visible": true,
      "mount_file_id": "17AOV8ZpBNA3icnTFb30yvmgdBEdMOdPa",
      "authorship_tag": "ABX9TyPChSIsCg1ba43T0JJdqcQS"
    },
    "kernelspec": {
      "display_name": "Python 3",
      "name": "python3"
    }
  },
  "cells": [
    {
      "cell_type": "code",
      "metadata": {
        "id": "mV8WD56fP2Zr"
      },
      "source": [
        "import requests\n",
        "import pandas as pd\n",
        "import numpy as np\n",
        "from datetime import datetime as dt"
      ],
      "execution_count": 34,
      "outputs": []
    },
    {
      "cell_type": "code",
      "metadata": {
        "colab": {
          "base_uri": "https://localhost:8080/"
        },
        "id": "RCshZVHx9fz2",
        "outputId": "82a037fa-206d-4b9b-cbcd-371007552f26"
      },
      "source": [
        "from google.colab import drive\n",
        "drive.mount('/content/drive')"
      ],
      "execution_count": 2,
      "outputs": [
        {
          "output_type": "stream",
          "text": [
            "Drive already mounted at /content/drive; to attempt to forcibly remount, call drive.mount(\"/content/drive\", force_remount=True).\n"
          ],
          "name": "stdout"
        }
      ]
    },
    {
      "cell_type": "code",
      "metadata": {
        "id": "ISvfBehEIC-5"
      },
      "source": [
        "import matplotlib.pyplot as plt\n",
        "plt.rcParams['figure.figsize'] = [10, 10]"
      ],
      "execution_count": 3,
      "outputs": []
    },
    {
      "cell_type": "markdown",
      "metadata": {
        "id": "iI6hplGSBPtH"
      },
      "source": [
        "## 1. OSC con Clave Única de Inscripción"
      ]
    },
    {
      "cell_type": "code",
      "metadata": {
        "id": "7JD9SYvKCkx7"
      },
      "source": [
        "CLUNI = ''\n",
        "NOMBRE = ''\n",
        "ACRONIMO = ''\n",
        "RFC = ''\n",
        "STATUS_OSC = ''\n",
        "STATUS_SANCION = ''\n",
        "FIGURA_JURIDICA = ''\n",
        "ESTADO = ''\n",
        "MUNICIPIO = ''\n",
        "ASENTAMIENTO = ''\n",
        "CP = ''\n",
        "REP_NOMBRE = ''\n",
        "REP_APATERNO = ''\n",
        "REP_AMATERNO = ''\n",
        "NUM_NOTARIA = ''\n",
        "OBJETO_SOCIAL = ''\n",
        "RED = ''\n",
        "ADVANCED = ''"
      ],
      "execution_count": 95,
      "outputs": []
    },
    {
      "cell_type": "code",
      "metadata": {
        "id": "1GtEqjMSCuKG"
      },
      "source": [
        "CLUNI_URL = f\"http://www.sii.gob.mx/portal/organizaciones/excel/?cluni={CLUNI}&nombre={NOMBRE}&acronimo={ACRONIMO}&rfc={RFC}&status_osc={STATUS_OSC}&status_sancion={STATUS_SANCION}&figura_juridica={FIGURA_JURIDICA}&estado={ESTADO}&municipio={MUNICIPIO}&asentamiento={ASENTAMIENTO}&cp={CP}&rep_nombre={REP_NOMBRE}&rep_apaterno={REP_APATERNO}&rep_amaterno={REP_AMATERNO}&num_notaria={NUM_NOTARIA}&objeto_social={OBJETO_SOCIAL}&red={RED}&advanced=1\""
      ],
      "execution_count": 96,
      "outputs": []
    },
    {
      "cell_type": "code",
      "metadata": {
        "id": "kn_rrecRDh1z"
      },
      "source": [
        "payload={}\n",
        "headers = {\n",
        "  'Upgrade-Insecure-Requests': '1',\n",
        "  'User-Agent': 'Mozilla/5.0 (Macintosh; Intel Mac OS X 11_2_0) AppleWebKit/537.36 (KHTML, like Gecko) Chrome/88.0.4324.96 Safari/537.36',\n",
        "  'Accept': 'text/html,application/xhtml+xml,application/xml;q=0.9,image/avif,image/webp,image/apng,*/*;q=0.8,application/signed-exchange;v=b3;q=0.9'\n",
        "}"
      ],
      "execution_count": 97,
      "outputs": []
    },
    {
      "cell_type": "code",
      "metadata": {
        "id": "HfEtPSjLDIoH"
      },
      "source": [
        "cluni_response = requests.request(\"GET\", CLUNI_URL, headers=headers, data=payload)"
      ],
      "execution_count": 98,
      "outputs": []
    },
    {
      "cell_type": "code",
      "metadata": {
        "id": "LjPR-20_-ber"
      },
      "source": [
        "CLUNI_NOW = str(dt.now())[:19].replace(' ', '-').replace(':', '-')"
      ],
      "execution_count": 99,
      "outputs": []
    },
    {
      "cell_type": "code",
      "metadata": {
        "id": "5xd2The89OC1"
      },
      "source": [
        "with open(f\"/content/drive/MyDrive/NewCo/intel/data/SIRFOSC/report-rfosc-{CLUNI_NOW}.txt\", \"w+\") as f:\n",
        "  f.write(cluni_response.text)"
      ],
      "execution_count": 100,
      "outputs": []
    },
    {
      "cell_type": "code",
      "metadata": {
        "id": "ZOH43fh5Dqb_"
      },
      "source": [
        "df_osc_cluni = pd.DataFrame([row.split('\",\"') for row in cluni_response.text.split('\\n')])\n",
        "df_osc_cluni[0] = df_osc_cluni[0].str.replace('\"', '')\n",
        "df_osc_cluni[df_osc_cluni.shape[1]-1] = df_osc_cluni[df_osc_cluni.shape[1]-1].str.replace('\"\\r', '')\n",
        "df_osc_cluni = df_osc_cluni.rename(columns=df_osc_cluni.iloc[0]).iloc[1:]\n",
        "df_osc_cluni = df_osc_cluni[:-1]"
      ],
      "execution_count": 101,
      "outputs": []
    },
    {
      "cell_type": "code",
      "metadata": {
        "colab": {
          "base_uri": "https://localhost:8080/",
          "height": 496
        },
        "id": "Ahac-XYg8Pps",
        "outputId": "23708050-c77a-4ff9-b7dc-a7582114214a"
      },
      "source": [
        "df_osc_cluni.head()"
      ],
      "execution_count": 102,
      "outputs": [
        {
          "output_type": "execute_result",
          "data": {
            "text/html": [
              "<div>\n",
              "<style scoped>\n",
              "    .dataframe tbody tr th:only-of-type {\n",
              "        vertical-align: middle;\n",
              "    }\n",
              "\n",
              "    .dataframe tbody tr th {\n",
              "        vertical-align: top;\n",
              "    }\n",
              "\n",
              "    .dataframe thead th {\n",
              "        text-align: right;\n",
              "    }\n",
              "</style>\n",
              "<table border=\"1\" class=\"dataframe\">\n",
              "  <thead>\n",
              "    <tr style=\"text-align: right;\">\n",
              "      <th></th>\n",
              "      <th>CLUNI</th>\n",
              "      <th>RAZON SOCIAL</th>\n",
              "      <th>FIGURA JURIDICA</th>\n",
              "      <th>RFC</th>\n",
              "      <th>ESTATUS</th>\n",
              "      <th>ESTATUS DE SANCION</th>\n",
              "      <th>REPRESENTANTES LEGALES</th>\n",
              "      <th>ESTATUS DE LA REPRESENTACION</th>\n",
              "      <th>FECHA DE CONSTITUCION</th>\n",
              "      <th>FECHA DE INSCRIPCION</th>\n",
              "      <th>CORREO(S)</th>\n",
              "      <th>TELEFONO(S)</th>\n",
              "      <th>ENTIDAD FEDERATIVA DOMICILIO</th>\n",
              "      <th>MUNICIPIO</th>\n",
              "      <th>ASENTAMIENTO(COLONIA)</th>\n",
              "      <th>VIALIDAD (CALLE)</th>\n",
              "      <th>NUMERO EXTERIOR</th>\n",
              "      <th>NUMERO INTERIOR</th>\n",
              "      <th>CP</th>\n",
              "      <th>REDES</th>\n",
              "      <th>ACTIVIDAD_1</th>\n",
              "      <th>ACTIVIDAD_2</th>\n",
              "      <th>ACTIVIDAD_3</th>\n",
              "      <th>ACTIVIDAD_4</th>\n",
              "      <th>ACTIVIDAD_5</th>\n",
              "      <th>ACTIVIDAD_6</th>\n",
              "      <th>ACTIVIDAD_7</th>\n",
              "      <th>ACTIVIDAD_8</th>\n",
              "      <th>ACTIVIDAD_9</th>\n",
              "      <th>ACTIVIDAD_10</th>\n",
              "      <th>ACTIVIDAD_11</th>\n",
              "      <th>ACTIVIDAD_12</th>\n",
              "      <th>ACTIVIDAD_13</th>\n",
              "      <th>ACTIVIDAD_14</th>\n",
              "      <th>ACTIVIDAD_15</th>\n",
              "      <th>ACTIVIDAD_16</th>\n",
              "      <th>ACTIVIDAD_17</th>\n",
              "      <th>ACTIVIDAD_18</th>\n",
              "      <th>ACTIVIDAD_19</th>\n",
              "      <th>INFORME 2005 PRESENTADO</th>\n",
              "      <th>INFORME 2005 EN TIEMPO</th>\n",
              "      <th>INFORME 2006 PRESENTADO</th>\n",
              "      <th>INFORME 2006 EN TIEMPO</th>\n",
              "      <th>INFORME 2007 PRESENTADO</th>\n",
              "      <th>INFORME 2007 EN TIEMPO</th>\n",
              "      <th>INFORME 2008 PRESENTADO</th>\n",
              "      <th>INFORME 2008 EN TIEMPO</th>\n",
              "      <th>INFORME 2009 PRESENTADO</th>\n",
              "      <th>INFORME 2009 EN TIEMPO</th>\n",
              "      <th>INFORME 2010 PRESENTADO</th>\n",
              "      <th>INFORME 2010 EN TIEMPO</th>\n",
              "      <th>INFORME 2011 PRESENTADO</th>\n",
              "      <th>INFORME 2011 EN TIEMPO</th>\n",
              "      <th>INFORME 2012 PRESENTADO</th>\n",
              "      <th>INFORME 2012 EN TIEMPO</th>\n",
              "      <th>INFORME 2013 PRESENTADO</th>\n",
              "      <th>INFORME 2013 EN TIEMPO</th>\n",
              "      <th>INFORME 2014 PRESENTADO</th>\n",
              "      <th>INFORME 2014 EN TIEMPO</th>\n",
              "      <th>INFORME 2015 PRESENTADO</th>\n",
              "      <th>INFORME 2015 EN TIEMPO</th>\n",
              "      <th>INFORME 2016 PRESENTADO</th>\n",
              "      <th>INFORME 2016 EN TIEMPO</th>\n",
              "      <th>INFORME 2017 PRESENTADO</th>\n",
              "      <th>INFORME 2017 EN TIEMPO</th>\n",
              "      <th>INFORME 2018 PRESENTADO</th>\n",
              "      <th>INFORME 2018 EN TIEMPO</th>\n",
              "      <th>INFORME 2019 PRESENTADO</th>\n",
              "      <th>INFORME 2019 EN TIEMPO</th>\n",
              "    </tr>\n",
              "  </thead>\n",
              "  <tbody>\n",
              "    <tr>\n",
              "      <th>1</th>\n",
              "      <td>VCO98091405018</td>\n",
              "      <td>Voluntades por Coahuila</td>\n",
              "      <td>Asociación Civil</td>\n",
              "      <td>VCO980914457</td>\n",
              "      <td>ACTIVA</td>\n",
              "      <td>N/A</td>\n",
              "      <td>Rodrigo Montelongo Suárez</td>\n",
              "      <td>VENCIDA</td>\n",
              "      <td>1998-09-14</td>\n",
              "      <td>2005-05-18</td>\n",
              "      <td>grafitos@hotmail.com</td>\n",
              "      <td>(844) 4105590</td>\n",
              "      <td>Coahuila</td>\n",
              "      <td>Saltillo</td>\n",
              "      <td>Jacarandas Jardín</td>\n",
              "      <td>Jacarandas</td>\n",
              "      <td>124</td>\n",
              "      <td></td>\n",
              "      <td>25203</td>\n",
              "      <td>Consejo de Organismos No Gubernamentales de Co...</td>\n",
              "      <td>SI</td>\n",
              "      <td>NO</td>\n",
              "      <td>NO</td>\n",
              "      <td>NO</td>\n",
              "      <td>NO</td>\n",
              "      <td>NO</td>\n",
              "      <td>NO</td>\n",
              "      <td>NO</td>\n",
              "      <td>NO</td>\n",
              "      <td>NO</td>\n",
              "      <td>NO</td>\n",
              "      <td>NO</td>\n",
              "      <td>NO</td>\n",
              "      <td>NO</td>\n",
              "      <td>NO</td>\n",
              "      <td>NO</td>\n",
              "      <td>NO</td>\n",
              "      <td>NO</td>\n",
              "      <td>NO</td>\n",
              "      <td>SI</td>\n",
              "      <td>SI</td>\n",
              "      <td>SI</td>\n",
              "      <td>NO</td>\n",
              "      <td>SI</td>\n",
              "      <td>NO</td>\n",
              "      <td>SI</td>\n",
              "      <td>NO</td>\n",
              "      <td>SI</td>\n",
              "      <td>NO</td>\n",
              "      <td>SI</td>\n",
              "      <td>SI</td>\n",
              "      <td>SI</td>\n",
              "      <td>SI</td>\n",
              "      <td>SI</td>\n",
              "      <td>SI</td>\n",
              "      <td>NO</td>\n",
              "      <td>NA</td>\n",
              "      <td>NO</td>\n",
              "      <td>NA</td>\n",
              "      <td>NO</td>\n",
              "      <td>NA</td>\n",
              "      <td>NO</td>\n",
              "      <td>NA</td>\n",
              "      <td>NO</td>\n",
              "      <td>NA</td>\n",
              "      <td>NO</td>\n",
              "      <td>NA</td>\n",
              "      <td>NO</td>\n",
              "      <td>NA</td>\n",
              "    </tr>\n",
              "    <tr>\n",
              "      <th>2</th>\n",
              "      <td>UEF0303170101D</td>\n",
              "      <td>Unión Estatal Femenil FEPRA</td>\n",
              "      <td>Asociación Civil</td>\n",
              "      <td>UEF0303179P9</td>\n",
              "      <td>ACTIVA</td>\n",
              "      <td>N/A</td>\n",
              "      <td>Adriana Díaz de León Valdivia</td>\n",
              "      <td>VIGENTE</td>\n",
              "      <td>2003-03-17</td>\n",
              "      <td>2005-02-22</td>\n",
              "      <td>ufepra2004@yahoo.com.mx</td>\n",
              "      <td>(449) 9965235,(449) 9965235</td>\n",
              "      <td>Aguascalientes</td>\n",
              "      <td>Aguascalientes</td>\n",
              "      <td>San Ignacio</td>\n",
              "      <td>Granja El Gavilán</td>\n",
              "      <td>S/N</td>\n",
              "      <td></td>\n",
              "      <td>20326</td>\n",
              "      <td></td>\n",
              "      <td>NO</td>\n",
              "      <td>NO</td>\n",
              "      <td>SI</td>\n",
              "      <td>NO</td>\n",
              "      <td>NO</td>\n",
              "      <td>SI</td>\n",
              "      <td>NO</td>\n",
              "      <td>SI</td>\n",
              "      <td>NO</td>\n",
              "      <td>NO</td>\n",
              "      <td>NO</td>\n",
              "      <td>SI</td>\n",
              "      <td>SI</td>\n",
              "      <td>SI</td>\n",
              "      <td>NO</td>\n",
              "      <td>NO</td>\n",
              "      <td>NO</td>\n",
              "      <td>NO</td>\n",
              "      <td>NO</td>\n",
              "      <td>SI</td>\n",
              "      <td>SI</td>\n",
              "      <td>SI</td>\n",
              "      <td>NO</td>\n",
              "      <td>SI</td>\n",
              "      <td>SI</td>\n",
              "      <td>SI</td>\n",
              "      <td>SI</td>\n",
              "      <td>SI</td>\n",
              "      <td>SI</td>\n",
              "      <td>SI</td>\n",
              "      <td>SI</td>\n",
              "      <td>SI</td>\n",
              "      <td>SI</td>\n",
              "      <td>SI</td>\n",
              "      <td>SI</td>\n",
              "      <td>SI</td>\n",
              "      <td>SI</td>\n",
              "      <td>SI</td>\n",
              "      <td>SI</td>\n",
              "      <td>NO</td>\n",
              "      <td>NA</td>\n",
              "      <td>NO</td>\n",
              "      <td>NA</td>\n",
              "      <td>NO</td>\n",
              "      <td>NA</td>\n",
              "      <td>NO</td>\n",
              "      <td>NA</td>\n",
              "      <td>NO</td>\n",
              "      <td>NA</td>\n",
              "    </tr>\n",
              "    <tr>\n",
              "      <th>3</th>\n",
              "      <td>FOJ04100219013</td>\n",
              "      <td>Federación de Organizaciones Juveniles</td>\n",
              "      <td>Asociación Civil</td>\n",
              "      <td>FOJ041002PB3</td>\n",
              "      <td>INACTIVA</td>\n",
              "      <td>N/A</td>\n",
              "      <td>Jorge Alberto Arrambide Montemayor</td>\n",
              "      <td>VIGENTE</td>\n",
              "      <td>2004-10-02</td>\n",
              "      <td>2005-03-09</td>\n",
              "      <td>jorgearrambide@foj-nl.org.mx</td>\n",
              "      <td>(81) 83434270,(81) 83434270,(81) 83434091</td>\n",
              "      <td>Nuevo León</td>\n",
              "      <td>Monterrey</td>\n",
              "      <td>El Mirador</td>\n",
              "      <td>Madrid</td>\n",
              "      <td>211</td>\n",
              "      <td></td>\n",
              "      <td>64990</td>\n",
              "      <td></td>\n",
              "      <td>NO</td>\n",
              "      <td>NO</td>\n",
              "      <td>SI</td>\n",
              "      <td>NO</td>\n",
              "      <td>NO</td>\n",
              "      <td>NO</td>\n",
              "      <td>NO</td>\n",
              "      <td>SI</td>\n",
              "      <td>NO</td>\n",
              "      <td>NO</td>\n",
              "      <td>NO</td>\n",
              "      <td>NO</td>\n",
              "      <td>NO</td>\n",
              "      <td>NO</td>\n",
              "      <td>NO</td>\n",
              "      <td>SI</td>\n",
              "      <td>NO</td>\n",
              "      <td>NO</td>\n",
              "      <td>NO</td>\n",
              "      <td>NO</td>\n",
              "      <td>NA</td>\n",
              "      <td>NO</td>\n",
              "      <td>NA</td>\n",
              "      <td>NO</td>\n",
              "      <td>NA</td>\n",
              "      <td>NO</td>\n",
              "      <td>NA</td>\n",
              "      <td>NO</td>\n",
              "      <td>NA</td>\n",
              "      <td>NO</td>\n",
              "      <td>NA</td>\n",
              "      <td>NO</td>\n",
              "      <td>NA</td>\n",
              "      <td>NO</td>\n",
              "      <td>NA</td>\n",
              "      <td>NO</td>\n",
              "      <td>NA</td>\n",
              "      <td>NO</td>\n",
              "      <td>NA</td>\n",
              "      <td>NO</td>\n",
              "      <td>NA</td>\n",
              "      <td>NO</td>\n",
              "      <td>NA</td>\n",
              "      <td>NO</td>\n",
              "      <td>NA</td>\n",
              "      <td>NO</td>\n",
              "      <td>NA</td>\n",
              "      <td>NO</td>\n",
              "      <td>NA</td>\n",
              "    </tr>\n",
              "    <tr>\n",
              "      <th>4</th>\n",
              "      <td>ARP95040609019</td>\n",
              "      <td>Aguilas Reales Pro Dignidad del Discapacitado</td>\n",
              "      <td>Asociación Civil</td>\n",
              "      <td>ARP950406IF8</td>\n",
              "      <td>ACTIVA</td>\n",
              "      <td>N/A</td>\n",
              "      <td>David Peral Manzo,David Peral Manzo</td>\n",
              "      <td>VENCIDA</td>\n",
              "      <td>1995-04-06</td>\n",
              "      <td>2005-04-21</td>\n",
              "      <td>aguilasrealesac8@hotmail.com</td>\n",
              "      <td>(55) 26048545</td>\n",
              "      <td>Distrito Federal</td>\n",
              "      <td>Benito Juárez</td>\n",
              "      <td>Santa Cruz Atoyac</td>\n",
              "      <td>Emiliano Zapata</td>\n",
              "      <td>363</td>\n",
              "      <td></td>\n",
              "      <td>03310</td>\n",
              "      <td></td>\n",
              "      <td>NO</td>\n",
              "      <td>NO</td>\n",
              "      <td>SI</td>\n",
              "      <td>NO</td>\n",
              "      <td>NO</td>\n",
              "      <td>SI</td>\n",
              "      <td>SI</td>\n",
              "      <td>NO</td>\n",
              "      <td>SI</td>\n",
              "      <td>SI</td>\n",
              "      <td>NO</td>\n",
              "      <td>NO</td>\n",
              "      <td>SI</td>\n",
              "      <td>NO</td>\n",
              "      <td>NO</td>\n",
              "      <td>NO</td>\n",
              "      <td>NO</td>\n",
              "      <td>NO</td>\n",
              "      <td>NO</td>\n",
              "      <td>NO</td>\n",
              "      <td>NA</td>\n",
              "      <td>NO</td>\n",
              "      <td>NA</td>\n",
              "      <td>NO</td>\n",
              "      <td>NA</td>\n",
              "      <td>NO</td>\n",
              "      <td>NA</td>\n",
              "      <td>NO</td>\n",
              "      <td>NA</td>\n",
              "      <td>NO</td>\n",
              "      <td>NA</td>\n",
              "      <td>NO</td>\n",
              "      <td>NA</td>\n",
              "      <td>NO</td>\n",
              "      <td>NA</td>\n",
              "      <td>NO</td>\n",
              "      <td>NA</td>\n",
              "      <td>NO</td>\n",
              "      <td>NA</td>\n",
              "      <td>NO</td>\n",
              "      <td>NA</td>\n",
              "      <td>NO</td>\n",
              "      <td>NA</td>\n",
              "      <td>NO</td>\n",
              "      <td>NA</td>\n",
              "      <td>NO</td>\n",
              "      <td>NA</td>\n",
              "      <td>NO</td>\n",
              "      <td>NA</td>\n",
              "    </tr>\n",
              "    <tr>\n",
              "      <th>5</th>\n",
              "      <td>FIM97120122015</td>\n",
              "      <td>Formación Integral de la Mujer</td>\n",
              "      <td>Institución de Asistencia Privada</td>\n",
              "      <td>FIM971201896</td>\n",
              "      <td>INACTIVA</td>\n",
              "      <td>N/A</td>\n",
              "      <td>María Teresa Duarte Belloc,María Teresa Rodríg...</td>\n",
              "      <td>VIGENTE</td>\n",
              "      <td>1997-09-18</td>\n",
              "      <td>2005-04-08</td>\n",
              "      <td>fimiap@hotmail.com</td>\n",
              "      <td>(442) 2121756,(442) 2121756</td>\n",
              "      <td>Querétaro</td>\n",
              "      <td>Corregidora</td>\n",
              "      <td>Camino Real</td>\n",
              "      <td>Guerrero</td>\n",
              "      <td>10 Norte</td>\n",
              "      <td></td>\n",
              "      <td>76086</td>\n",
              "      <td></td>\n",
              "      <td>NO</td>\n",
              "      <td>NO</td>\n",
              "      <td>NO</td>\n",
              "      <td>NO</td>\n",
              "      <td>NO</td>\n",
              "      <td>SI</td>\n",
              "      <td>NO</td>\n",
              "      <td>NO</td>\n",
              "      <td>NO</td>\n",
              "      <td>NO</td>\n",
              "      <td>NO</td>\n",
              "      <td>NO</td>\n",
              "      <td>SI</td>\n",
              "      <td>NO</td>\n",
              "      <td>NO</td>\n",
              "      <td>NO</td>\n",
              "      <td>NO</td>\n",
              "      <td>NO</td>\n",
              "      <td>NO</td>\n",
              "      <td>SI</td>\n",
              "      <td>SI</td>\n",
              "      <td>SI</td>\n",
              "      <td>NO</td>\n",
              "      <td>SI</td>\n",
              "      <td>SI</td>\n",
              "      <td>SI</td>\n",
              "      <td>SI</td>\n",
              "      <td>SI</td>\n",
              "      <td>SI</td>\n",
              "      <td>SI</td>\n",
              "      <td>SI</td>\n",
              "      <td>SI</td>\n",
              "      <td>SI</td>\n",
              "      <td>SI</td>\n",
              "      <td>NO</td>\n",
              "      <td>SI</td>\n",
              "      <td>SI</td>\n",
              "      <td>SI</td>\n",
              "      <td>SI</td>\n",
              "      <td>SI</td>\n",
              "      <td>SI</td>\n",
              "      <td>SI</td>\n",
              "      <td>SI</td>\n",
              "      <td>SI</td>\n",
              "      <td>SI</td>\n",
              "      <td>SI</td>\n",
              "      <td>SI</td>\n",
              "      <td>NO</td>\n",
              "      <td>NA</td>\n",
              "    </tr>\n",
              "  </tbody>\n",
              "</table>\n",
              "</div>"
            ],
            "text/plain": [
              "            CLUNI  ... INFORME 2019 EN TIEMPO\n",
              "1  VCO98091405018  ...                     NA\n",
              "2  UEF0303170101D  ...                     NA\n",
              "3  FOJ04100219013  ...                     NA\n",
              "4  ARP95040609019  ...                     NA\n",
              "5  FIM97120122015  ...                     NA\n",
              "\n",
              "[5 rows x 69 columns]"
            ]
          },
          "metadata": {
            "tags": []
          },
          "execution_count": 102
        }
      ]
    },
    {
      "cell_type": "code",
      "metadata": {
        "colab": {
          "base_uri": "https://localhost:8080/"
        },
        "id": "kehbMf_6THlH",
        "outputId": "347a3dc2-f52a-4872-cb0d-97e3f0ebacf1"
      },
      "source": [
        "df_osc_cluni.shape"
      ],
      "execution_count": 103,
      "outputs": [
        {
          "output_type": "execute_result",
          "data": {
            "text/plain": [
              "(42725, 69)"
            ]
          },
          "metadata": {
            "tags": []
          },
          "execution_count": 103
        }
      ]
    },
    {
      "cell_type": "code",
      "metadata": {
        "id": "-QkjRNEn8obu"
      },
      "source": [
        "df_osc_cluni.to_csv(f\"/content/drive/MyDrive/NewCo/intel/data/SIRFOSC/report-rfosc-{CLUNI_NOW}.csv\")"
      ],
      "execution_count": 104,
      "outputs": []
    },
    {
      "cell_type": "code",
      "metadata": {
        "colab": {
          "base_uri": "https://localhost:8080/"
        },
        "id": "ZvFo7AzTH_Wd",
        "outputId": "5e6eb80d-a66d-4bc6-b687-47a0fab1a101"
      },
      "source": [
        "df_osc_cluni.info()"
      ],
      "execution_count": 105,
      "outputs": [
        {
          "output_type": "stream",
          "text": [
            "<class 'pandas.core.frame.DataFrame'>\n",
            "RangeIndex: 42725 entries, 1 to 42725\n",
            "Data columns (total 69 columns):\n",
            " #   Column                        Non-Null Count  Dtype \n",
            "---  ------                        --------------  ----- \n",
            " 0   CLUNI                         42725 non-null  object\n",
            " 1   RAZON SOCIAL                  42725 non-null  object\n",
            " 2   FIGURA JURIDICA               42725 non-null  object\n",
            " 3   RFC                           42725 non-null  object\n",
            " 4   ESTATUS                       42725 non-null  object\n",
            " 5   ESTATUS DE SANCION            42725 non-null  object\n",
            " 6   REPRESENTANTES LEGALES        42725 non-null  object\n",
            " 7   ESTATUS DE LA REPRESENTACION  42725 non-null  object\n",
            " 8   FECHA DE CONSTITUCION         42725 non-null  object\n",
            " 9   FECHA DE INSCRIPCION          42725 non-null  object\n",
            " 10  CORREO(S)                     42725 non-null  object\n",
            " 11  TELEFONO(S)                   42724 non-null  object\n",
            " 12  ENTIDAD FEDERATIVA DOMICILIO  42724 non-null  object\n",
            " 13  MUNICIPIO                     42724 non-null  object\n",
            " 14  ASENTAMIENTO(COLONIA)         42724 non-null  object\n",
            " 15  VIALIDAD (CALLE)              42724 non-null  object\n",
            " 16  NUMERO EXTERIOR               42724 non-null  object\n",
            " 17  NUMERO INTERIOR               42724 non-null  object\n",
            " 18  CP                            42724 non-null  object\n",
            " 19  REDES                         42724 non-null  object\n",
            " 20  ACTIVIDAD_1                   42724 non-null  object\n",
            " 21  ACTIVIDAD_2                   42724 non-null  object\n",
            " 22  ACTIVIDAD_3                   42724 non-null  object\n",
            " 23  ACTIVIDAD_4                   42724 non-null  object\n",
            " 24  ACTIVIDAD_5                   42724 non-null  object\n",
            " 25  ACTIVIDAD_6                   42724 non-null  object\n",
            " 26  ACTIVIDAD_7                   42724 non-null  object\n",
            " 27  ACTIVIDAD_8                   42724 non-null  object\n",
            " 28  ACTIVIDAD_9                   42724 non-null  object\n",
            " 29  ACTIVIDAD_10                  42724 non-null  object\n",
            " 30  ACTIVIDAD_11                  42724 non-null  object\n",
            " 31  ACTIVIDAD_12                  42724 non-null  object\n",
            " 32  ACTIVIDAD_13                  42724 non-null  object\n",
            " 33  ACTIVIDAD_14                  42724 non-null  object\n",
            " 34  ACTIVIDAD_15                  42724 non-null  object\n",
            " 35  ACTIVIDAD_16                  42724 non-null  object\n",
            " 36  ACTIVIDAD_17                  42724 non-null  object\n",
            " 37  ACTIVIDAD_18                  42724 non-null  object\n",
            " 38  ACTIVIDAD_19                  42724 non-null  object\n",
            " 39  INFORME 2005 PRESENTADO       42724 non-null  object\n",
            " 40  INFORME 2005 EN TIEMPO        42724 non-null  object\n",
            " 41  INFORME 2006 PRESENTADO       42724 non-null  object\n",
            " 42  INFORME 2006 EN TIEMPO        42724 non-null  object\n",
            " 43  INFORME 2007 PRESENTADO       42724 non-null  object\n",
            " 44  INFORME 2007 EN TIEMPO        42724 non-null  object\n",
            " 45  INFORME 2008 PRESENTADO       42724 non-null  object\n",
            " 46  INFORME 2008 EN TIEMPO        42724 non-null  object\n",
            " 47  INFORME 2009 PRESENTADO       42724 non-null  object\n",
            " 48  INFORME 2009 EN TIEMPO        42724 non-null  object\n",
            " 49  INFORME 2010 PRESENTADO       42724 non-null  object\n",
            " 50  INFORME 2010 EN TIEMPO        42724 non-null  object\n",
            " 51  INFORME 2011 PRESENTADO       42724 non-null  object\n",
            " 52  INFORME 2011 EN TIEMPO        42724 non-null  object\n",
            " 53  INFORME 2012 PRESENTADO       42724 non-null  object\n",
            " 54  INFORME 2012 EN TIEMPO        42724 non-null  object\n",
            " 55  INFORME 2013 PRESENTADO       42724 non-null  object\n",
            " 56  INFORME 2013 EN TIEMPO        42724 non-null  object\n",
            " 57  INFORME 2014 PRESENTADO       42724 non-null  object\n",
            " 58  INFORME 2014 EN TIEMPO        42724 non-null  object\n",
            " 59  INFORME 2015 PRESENTADO       42723 non-null  object\n",
            " 60  INFORME 2015 EN TIEMPO        42723 non-null  object\n",
            " 61  INFORME 2016 PRESENTADO       42723 non-null  object\n",
            " 62  INFORME 2016 EN TIEMPO        42723 non-null  object\n",
            " 63  INFORME 2017 PRESENTADO       42723 non-null  object\n",
            " 64  INFORME 2017 EN TIEMPO        42723 non-null  object\n",
            " 65  INFORME 2018 PRESENTADO       42723 non-null  object\n",
            " 66  INFORME 2018 EN TIEMPO        42723 non-null  object\n",
            " 67  INFORME 2019 PRESENTADO       42723 non-null  object\n",
            " 68  INFORME 2019 EN TIEMPO        42723 non-null  object\n",
            "dtypes: object(69)\n",
            "memory usage: 22.5+ MB\n"
          ],
          "name": "stdout"
        }
      ]
    },
    {
      "cell_type": "code",
      "metadata": {
        "id": "8lR6S6bXJ8UK",
        "colab": {
          "base_uri": "https://localhost:8080/"
        },
        "outputId": "e380b417-19d5-4068-c777-743e1c40be99"
      },
      "source": [
        "df_osc_cluni.ESTATUS.value_counts()"
      ],
      "execution_count": 106,
      "outputs": [
        {
          "output_type": "execute_result",
          "data": {
            "text/plain": [
              "INACTIVA          29307\n",
              "ACTIVA            13417\n",
              "Cruz del Farol        1\n",
              "Name: ESTATUS, dtype: int64"
            ]
          },
          "metadata": {
            "tags": []
          },
          "execution_count": 106
        }
      ]
    },
    {
      "cell_type": "code",
      "metadata": {
        "id": "rJ78m285DvkK",
        "colab": {
          "base_uri": "https://localhost:8080/"
        },
        "outputId": "177f1c3c-3ee3-4c4f-db54-4af68cb240ed"
      },
      "source": [
        "(df_osc_cluni[df_osc_cluni.ESTATUS == 'ACTIVA']['FECHA DE CONSTITUCION'].str[0:4].value_counts() / len(df_osc_cluni[df_osc_cluni.ESTATUS == 'ACTIVA'])).sort_index(ascending=False).head(21)"
      ],
      "execution_count": 107,
      "outputs": [
        {
          "output_type": "execute_result",
          "data": {
            "text/plain": [
              "2020    0.002460\n",
              "2019    0.020795\n",
              "2018    0.057837\n",
              "2017    0.074383\n",
              "2016    0.079079\n",
              "2015    0.072744\n",
              "2014    0.068719\n",
              "2013    0.076545\n",
              "2012    0.068048\n",
              "2011    0.061191\n",
              "2010    0.053142\n",
              "2009    0.044719\n",
              "2008    0.040546\n",
              "2007    0.030186\n",
              "2006    0.026086\n",
              "2005    0.026534\n",
              "2004    0.019602\n",
              "2003    0.016770\n",
              "2002    0.013788\n",
              "2001    0.013639\n",
              "2000    0.011851\n",
              "Name: FECHA DE CONSTITUCION, dtype: float64"
            ]
          },
          "metadata": {
            "tags": []
          },
          "execution_count": 107
        }
      ]
    },
    {
      "cell_type": "code",
      "metadata": {
        "colab": {
          "base_uri": "https://localhost:8080/"
        },
        "id": "oAXJ19ERFrnf",
        "outputId": "2eaeb753-a39d-4570-950a-a1bc60b03d09"
      },
      "source": [
        "(df_osc_cluni[df_osc_cluni.ESTATUS == 'ACTIVA']['ENTIDAD FEDERATIVA DOMICILIO'].value_counts() / len(df_osc_cluni[df_osc_cluni.ESTATUS == 'ACTIVA'])) # .cumsum()"
      ],
      "execution_count": 108,
      "outputs": [
        {
          "output_type": "execute_result",
          "data": {
            "text/plain": [
              "Distrito Federal       0.246627\n",
              "Estado de México       0.096668\n",
              "Oaxaca                 0.056645\n",
              "Veracruz               0.055303\n",
              "Chiapas                0.041440\n",
              "Jalisco                0.040993\n",
              "Puebla                 0.040098\n",
              "Baja California        0.035552\n",
              "Chihuahua              0.029515\n",
              "Guanajuato             0.029515\n",
              "Michoacán              0.027726\n",
              "Sonora                 0.024819\n",
              "Nuevo León             0.022807\n",
              "Yucatán                0.021391\n",
              "Durango                0.020869\n",
              "Hidalgo                0.020198\n",
              "Morelos                0.019155\n",
              "Guerrero               0.017515\n",
              "Querétaro              0.017142\n",
              "Coahuila               0.016844\n",
              "Sinaloa                0.016546\n",
              "Tamaulipas             0.014161\n",
              "Tabasco                0.012447\n",
              "Quintana Roo           0.012298\n",
              "San Luis Potosí        0.010882\n",
              "Tlaxcala               0.010658\n",
              "Zacatecas              0.008273\n",
              "Aguascalientes         0.007602\n",
              "Baja California Sur    0.007081\n",
              "Nayarit                0.006932\n",
              "Colima                 0.006782\n",
              "Campeche               0.005515\n",
              "Name: ENTIDAD FEDERATIVA DOMICILIO, dtype: float64"
            ]
          },
          "metadata": {
            "tags": []
          },
          "execution_count": 108
        }
      ]
    },
    {
      "cell_type": "code",
      "metadata": {
        "colab": {
          "base_uri": "https://localhost:8080/",
          "height": 202
        },
        "id": "YUrjmfkOHlmK",
        "outputId": "20da0874-4e08-4c57-aa35-58ce4a1181ec"
      },
      "source": [
        "df_osc_cluni.sample(1)"
      ],
      "execution_count": 109,
      "outputs": [
        {
          "output_type": "execute_result",
          "data": {
            "text/html": [
              "<div>\n",
              "<style scoped>\n",
              "    .dataframe tbody tr th:only-of-type {\n",
              "        vertical-align: middle;\n",
              "    }\n",
              "\n",
              "    .dataframe tbody tr th {\n",
              "        vertical-align: top;\n",
              "    }\n",
              "\n",
              "    .dataframe thead th {\n",
              "        text-align: right;\n",
              "    }\n",
              "</style>\n",
              "<table border=\"1\" class=\"dataframe\">\n",
              "  <thead>\n",
              "    <tr style=\"text-align: right;\">\n",
              "      <th></th>\n",
              "      <th>CLUNI</th>\n",
              "      <th>RAZON SOCIAL</th>\n",
              "      <th>FIGURA JURIDICA</th>\n",
              "      <th>RFC</th>\n",
              "      <th>ESTATUS</th>\n",
              "      <th>ESTATUS DE SANCION</th>\n",
              "      <th>REPRESENTANTES LEGALES</th>\n",
              "      <th>ESTATUS DE LA REPRESENTACION</th>\n",
              "      <th>FECHA DE CONSTITUCION</th>\n",
              "      <th>FECHA DE INSCRIPCION</th>\n",
              "      <th>CORREO(S)</th>\n",
              "      <th>TELEFONO(S)</th>\n",
              "      <th>ENTIDAD FEDERATIVA DOMICILIO</th>\n",
              "      <th>MUNICIPIO</th>\n",
              "      <th>ASENTAMIENTO(COLONIA)</th>\n",
              "      <th>VIALIDAD (CALLE)</th>\n",
              "      <th>NUMERO EXTERIOR</th>\n",
              "      <th>NUMERO INTERIOR</th>\n",
              "      <th>CP</th>\n",
              "      <th>REDES</th>\n",
              "      <th>ACTIVIDAD_1</th>\n",
              "      <th>ACTIVIDAD_2</th>\n",
              "      <th>ACTIVIDAD_3</th>\n",
              "      <th>ACTIVIDAD_4</th>\n",
              "      <th>ACTIVIDAD_5</th>\n",
              "      <th>ACTIVIDAD_6</th>\n",
              "      <th>ACTIVIDAD_7</th>\n",
              "      <th>ACTIVIDAD_8</th>\n",
              "      <th>ACTIVIDAD_9</th>\n",
              "      <th>ACTIVIDAD_10</th>\n",
              "      <th>ACTIVIDAD_11</th>\n",
              "      <th>ACTIVIDAD_12</th>\n",
              "      <th>ACTIVIDAD_13</th>\n",
              "      <th>ACTIVIDAD_14</th>\n",
              "      <th>ACTIVIDAD_15</th>\n",
              "      <th>ACTIVIDAD_16</th>\n",
              "      <th>ACTIVIDAD_17</th>\n",
              "      <th>ACTIVIDAD_18</th>\n",
              "      <th>ACTIVIDAD_19</th>\n",
              "      <th>INFORME 2005 PRESENTADO</th>\n",
              "      <th>INFORME 2005 EN TIEMPO</th>\n",
              "      <th>INFORME 2006 PRESENTADO</th>\n",
              "      <th>INFORME 2006 EN TIEMPO</th>\n",
              "      <th>INFORME 2007 PRESENTADO</th>\n",
              "      <th>INFORME 2007 EN TIEMPO</th>\n",
              "      <th>INFORME 2008 PRESENTADO</th>\n",
              "      <th>INFORME 2008 EN TIEMPO</th>\n",
              "      <th>INFORME 2009 PRESENTADO</th>\n",
              "      <th>INFORME 2009 EN TIEMPO</th>\n",
              "      <th>INFORME 2010 PRESENTADO</th>\n",
              "      <th>INFORME 2010 EN TIEMPO</th>\n",
              "      <th>INFORME 2011 PRESENTADO</th>\n",
              "      <th>INFORME 2011 EN TIEMPO</th>\n",
              "      <th>INFORME 2012 PRESENTADO</th>\n",
              "      <th>INFORME 2012 EN TIEMPO</th>\n",
              "      <th>INFORME 2013 PRESENTADO</th>\n",
              "      <th>INFORME 2013 EN TIEMPO</th>\n",
              "      <th>INFORME 2014 PRESENTADO</th>\n",
              "      <th>INFORME 2014 EN TIEMPO</th>\n",
              "      <th>INFORME 2015 PRESENTADO</th>\n",
              "      <th>INFORME 2015 EN TIEMPO</th>\n",
              "      <th>INFORME 2016 PRESENTADO</th>\n",
              "      <th>INFORME 2016 EN TIEMPO</th>\n",
              "      <th>INFORME 2017 PRESENTADO</th>\n",
              "      <th>INFORME 2017 EN TIEMPO</th>\n",
              "      <th>INFORME 2018 PRESENTADO</th>\n",
              "      <th>INFORME 2018 EN TIEMPO</th>\n",
              "      <th>INFORME 2019 PRESENTADO</th>\n",
              "      <th>INFORME 2019 EN TIEMPO</th>\n",
              "    </tr>\n",
              "  </thead>\n",
              "  <tbody>\n",
              "    <tr>\n",
              "      <th>19408</th>\n",
              "      <td>AUT1106132001M</td>\n",
              "      <td>Alianza Unificadora de Transportistas y Comuni...</td>\n",
              "      <td>Asociación Civil</td>\n",
              "      <td>AUT110613EBA</td>\n",
              "      <td>INACTIVA</td>\n",
              "      <td>N/A</td>\n",
              "      <td>Sergio López Sánchez</td>\n",
              "      <td>VIGENTE</td>\n",
              "      <td>2011-06-13</td>\n",
              "      <td>2012-11-09</td>\n",
              "      <td>isralopez980@hotmail.com</td>\n",
              "      <td>(951) 5168274</td>\n",
              "      <td>Oaxaca</td>\n",
              "      <td>Oaxaca de Juárez</td>\n",
              "      <td>Oaxaca Centro</td>\n",
              "      <td>Calle Díaz Ordaz</td>\n",
              "      <td>102</td>\n",
              "      <td>6</td>\n",
              "      <td>68000</td>\n",
              "      <td></td>\n",
              "      <td>NO</td>\n",
              "      <td>NO</td>\n",
              "      <td>NO</td>\n",
              "      <td>NO</td>\n",
              "      <td>SI</td>\n",
              "      <td>SI</td>\n",
              "      <td>SI</td>\n",
              "      <td>SI</td>\n",
              "      <td>SI</td>\n",
              "      <td>NO</td>\n",
              "      <td>NO</td>\n",
              "      <td>NO</td>\n",
              "      <td>NO</td>\n",
              "      <td>NO</td>\n",
              "      <td>NO</td>\n",
              "      <td>NO</td>\n",
              "      <td>NO</td>\n",
              "      <td>NO</td>\n",
              "      <td>NO</td>\n",
              "      <td>NA</td>\n",
              "      <td>NA</td>\n",
              "      <td>NA</td>\n",
              "      <td>NA</td>\n",
              "      <td>NA</td>\n",
              "      <td>NA</td>\n",
              "      <td>NA</td>\n",
              "      <td>NA</td>\n",
              "      <td>NA</td>\n",
              "      <td>NA</td>\n",
              "      <td>NA</td>\n",
              "      <td>NA</td>\n",
              "      <td>NA</td>\n",
              "      <td>NA</td>\n",
              "      <td>SI</td>\n",
              "      <td>SI</td>\n",
              "      <td>SI</td>\n",
              "      <td>SI</td>\n",
              "      <td>NO</td>\n",
              "      <td>NA</td>\n",
              "      <td>NO</td>\n",
              "      <td>NA</td>\n",
              "      <td>NO</td>\n",
              "      <td>NA</td>\n",
              "      <td>NO</td>\n",
              "      <td>NA</td>\n",
              "      <td>NO</td>\n",
              "      <td>NA</td>\n",
              "      <td>NO</td>\n",
              "      <td>NA</td>\n",
              "    </tr>\n",
              "  </tbody>\n",
              "</table>\n",
              "</div>"
            ],
            "text/plain": [
              "                CLUNI  ... INFORME 2019 EN TIEMPO\n",
              "19408  AUT1106132001M  ...                     NA\n",
              "\n",
              "[1 rows x 69 columns]"
            ]
          },
          "metadata": {
            "tags": []
          },
          "execution_count": 109
        }
      ]
    },
    {
      "cell_type": "markdown",
      "metadata": {
        "id": "eMmFi-iBBeIV"
      },
      "source": [
        "## 2. OSC Registro Donatarias Autorizadas"
      ]
    },
    {
      "cell_type": "code",
      "metadata": {
        "id": "FzsAhw2PIMBt"
      },
      "source": [
        "# TODO: not download from source if data already exist\n",
        "\n",
        "YEAR = '2020'\n",
        "DONAUT_NOW = str(dt.now())[:19].replace(' ', '-').replace(':', '-')\n",
        "SAT_URL = f'http://omawww.sat.gob.mx/documentossat/Documents/DirectorioDonatariasAutorizadas{YEAR}.xls'\n",
        "\n",
        "response = requests.get(SAT_URL)\n",
        "\n",
        "with open(f\"/content/drive/MyDrive/NewCo/intel/data/DonatariasAutorizadas/report-sat-{YEAR}-{DONAUT_NOW}.xls\", \"wb\") as f:\n",
        "  f.write(response.content)"
      ],
      "execution_count": 110,
      "outputs": []
    },
    {
      "cell_type": "code",
      "metadata": {
        "id": "fli2emVBC0K1"
      },
      "source": [
        "df_osc_sat = pd.read_excel(\n",
        "    f\"/content/drive/MyDrive/NewCo/intel/data/DonatariasAutorizadas/report-sat-{YEAR}-{DONAUT_NOW}.xls\"\n",
        "    , skiprows = range(0, 27)\n",
        "    , usecols = \"A:O\"\n",
        "    )\n",
        "\n",
        "df_osc_sat = df_osc_sat.rename(columns=df_osc_sat.iloc[0]).iloc[1:]"
      ],
      "execution_count": 111,
      "outputs": []
    },
    {
      "cell_type": "code",
      "metadata": {
        "colab": {
          "base_uri": "https://localhost:8080/",
          "height": 564
        },
        "id": "fSY4NvvsC0C4",
        "outputId": "7b400342-36b8-4b54-8a17-4179707eca4f"
      },
      "source": [
        "df_osc_sat.head()"
      ],
      "execution_count": 112,
      "outputs": [
        {
          "output_type": "execute_result",
          "data": {
            "text/html": [
              "<div>\n",
              "<style scoped>\n",
              "    .dataframe tbody tr th:only-of-type {\n",
              "        vertical-align: middle;\n",
              "    }\n",
              "\n",
              "    .dataframe tbody tr th {\n",
              "        vertical-align: top;\n",
              "    }\n",
              "\n",
              "    .dataframe thead th {\n",
              "        text-align: right;\n",
              "    }\n",
              "</style>\n",
              "<table border=\"1\" class=\"dataframe\">\n",
              "  <thead>\n",
              "    <tr style=\"text-align: right;\">\n",
              "      <th></th>\n",
              "      <th>ENTIDAD FEDERATIVA</th>\n",
              "      <th>ADMINISTRACIÓN DESCONCENTRADA DE SERVICIOS AL CONTRIBUYENTE</th>\n",
              "      <th>ACTIVIDAD O FIN AUTORIZADO</th>\n",
              "      <th>RFC</th>\n",
              "      <th>DENOMINACIÓN O RAZÓN SOCIAL</th>\n",
              "      <th>DOMICILIO FISCAL</th>\n",
              "      <th>OFICIO DE AUTORIZACIÓN</th>\n",
              "      <th>FECHA DE OFICIO</th>\n",
              "      <th>OBJETO SOCIAL AUTORIZADO</th>\n",
              "      <th>REPRESENTANTE LEGAL</th>\n",
              "      <th>NÚMEROS TELEFÓNICOS</th>\n",
              "      <th>E-MAIL</th>\n",
              "      <th>DOMICILIO DE ESTABLECIMIENTO</th>\n",
              "      <th>NÚMEROS TELEFÓNICOS DEL ESTABLECIMIENTO</th>\n",
              "      <th>ACREDITAMIENTO</th>\n",
              "    </tr>\n",
              "  </thead>\n",
              "  <tbody>\n",
              "    <tr>\n",
              "      <th>1</th>\n",
              "      <td>AGUASCALIENTES</td>\n",
              "      <td>AGUASCALIENTES \"1\"</td>\n",
              "      <td>M</td>\n",
              "      <td>AAG150226BX0</td>\n",
              "      <td>Autismo Aguascalientes, A.C.</td>\n",
              "      <td>Canada Núm 301, Col. El Dorado 1a Sección, C.P...</td>\n",
              "      <td>700-02-01-2019-08990</td>\n",
              "      <td>2019-09-26 00:00:00</td>\n",
              "      <td>\"CUARTA.- La Asociación Autismo Aguascalientes...</td>\n",
              "      <td>Olga Rubio Camarena</td>\n",
              "      <td>No Manifestó</td>\n",
              "      <td>No Manifestó</td>\n",
              "      <td>No Manifestó</td>\n",
              "      <td>No Manifestó</td>\n",
              "      <td>Constancia de Inscripción ante el Registro Fed...</td>\n",
              "    </tr>\n",
              "    <tr>\n",
              "      <th>2</th>\n",
              "      <td>AGUASCALIENTES</td>\n",
              "      <td>AGUASCALIENTES \"1\"</td>\n",
              "      <td>A</td>\n",
              "      <td>AAG150226BX0</td>\n",
              "      <td>Autismo Aguascalientes, A.C.</td>\n",
              "      <td>Canada Núm 301, Col. El Dorado 1a Sección, C.P...</td>\n",
              "      <td>700-02-01-2019-08990</td>\n",
              "      <td>2019-09-26 00:00:00</td>\n",
              "      <td>\"CUARTA.- La Asociación Autismo Aguascalientes...</td>\n",
              "      <td>Olga Rubio Camarena</td>\n",
              "      <td>No Manifestó</td>\n",
              "      <td>No Manifestó</td>\n",
              "      <td>No Manifestó</td>\n",
              "      <td>No Manifestó</td>\n",
              "      <td>Constancia de Inscripción ante el Registro Fed...</td>\n",
              "    </tr>\n",
              "    <tr>\n",
              "      <th>3</th>\n",
              "      <td>AGUASCALIENTES</td>\n",
              "      <td>AGUASCALIENTES \"1\"</td>\n",
              "      <td>A</td>\n",
              "      <td>AAP010713QV5</td>\n",
              "      <td>Asilo de Ancianos de Pabellón de Arteaga, Agua...</td>\n",
              "      <td>Independencia Núm 48, Col. Francisco Villa, C....</td>\n",
              "      <td>700-02-01-2020-05788</td>\n",
              "      <td>2020-05-22 00:00:00</td>\n",
              "      <td>\"ARTICULO SEGUNDO.- La Asociación tendrá por o...</td>\n",
              "      <td>Ma del Rosario Bueno Martínez</td>\n",
              "      <td>01465 958 10 90</td>\n",
              "      <td>No Manifestó</td>\n",
              "      <td>No Manifestó</td>\n",
              "      <td>No Manifestó</td>\n",
              "      <td>oficio DGSEA/0914/2019 de fecha 18 de diciembr...</td>\n",
              "    </tr>\n",
              "    <tr>\n",
              "      <th>4</th>\n",
              "      <td>AGUASCALIENTES</td>\n",
              "      <td>AGUASCALIENTES \"1\"</td>\n",
              "      <td>A</td>\n",
              "      <td>AAP7601261F0</td>\n",
              "      <td>Asociación Aguascalentense para la Promoción I...</td>\n",
              "      <td>Olivos Núm 202, Col. Jardines de la Cruz, C.P....</td>\n",
              "      <td>600-04-05-2012-57253</td>\n",
              "      <td>2012-06-26 00:00:00</td>\n",
              "      <td>\"ARTICULO PRIMERO: OBJETO SOCIAL: La asociació...</td>\n",
              "      <td>Luis Manuel Macías López</td>\n",
              "      <td>(01449) 970-62-92</td>\n",
              "      <td>No Manifestó</td>\n",
              "      <td>No Manifestó</td>\n",
              "      <td>No Manifestó</td>\n",
              "      <td>oficio número DEIP-GF-80 de 24 de enero de 201...</td>\n",
              "    </tr>\n",
              "    <tr>\n",
              "      <th>5</th>\n",
              "      <td>AGUASCALIENTES</td>\n",
              "      <td>AGUASCALIENTES \"1\"</td>\n",
              "      <td>M</td>\n",
              "      <td>ACD130327SG7</td>\n",
              "      <td>Aliadas Carmelitas Descalzas de la Santísima T...</td>\n",
              "      <td>Salvador Quezada Limón Núm 1105, Col. Curtidor...</td>\n",
              "      <td>600-04-02-2014-6778</td>\n",
              "      <td>2014-08-26 00:00:00</td>\n",
              "      <td>\"ARTÍCULO SEGUNDO.- El objeto de la asociación...</td>\n",
              "      <td>Laura Patricia Colmenares Ramírez</td>\n",
              "      <td>449168395</td>\n",
              "      <td>alidesamparados@hotmail.com</td>\n",
              "      <td>No Manifestó</td>\n",
              "      <td>No Manifestó</td>\n",
              "      <td>oficio número DGSEA-009/2014 de 7 de enero de ...</td>\n",
              "    </tr>\n",
              "  </tbody>\n",
              "</table>\n",
              "</div>"
            ],
            "text/plain": [
              "  ENTIDAD FEDERATIVA  ...                                     ACREDITAMIENTO\n",
              "1     AGUASCALIENTES  ...  Constancia de Inscripción ante el Registro Fed...\n",
              "2     AGUASCALIENTES  ...  Constancia de Inscripción ante el Registro Fed...\n",
              "3     AGUASCALIENTES  ...  oficio DGSEA/0914/2019 de fecha 18 de diciembr...\n",
              "4     AGUASCALIENTES  ...  oficio número DEIP-GF-80 de 24 de enero de 201...\n",
              "5     AGUASCALIENTES  ...  oficio número DGSEA-009/2014 de 7 de enero de ...\n",
              "\n",
              "[5 rows x 15 columns]"
            ]
          },
          "metadata": {
            "tags": []
          },
          "execution_count": 112
        }
      ]
    },
    {
      "cell_type": "code",
      "metadata": {
        "id": "UhobnA0dHFos",
        "colab": {
          "base_uri": "https://localhost:8080/"
        },
        "outputId": "3c896915-dcf8-4bc1-a17f-a46c37b00907"
      },
      "source": [
        "df_osc_sat.shape"
      ],
      "execution_count": 113,
      "outputs": [
        {
          "output_type": "execute_result",
          "data": {
            "text/plain": [
              "(13931, 15)"
            ]
          },
          "metadata": {
            "tags": []
          },
          "execution_count": 113
        }
      ]
    },
    {
      "cell_type": "code",
      "metadata": {
        "id": "BN_slOmajZ2I"
      },
      "source": [
        ""
      ],
      "execution_count": 113,
      "outputs": []
    },
    {
      "cell_type": "code",
      "metadata": {
        "id": "M7CoJ8zdHFks"
      },
      "source": [
        ""
      ],
      "execution_count": 113,
      "outputs": []
    },
    {
      "cell_type": "markdown",
      "metadata": {
        "id": "EJj-dMi7HFgw"
      },
      "source": [
        "## 3. CLUNI Activas y Donatarias Autorizazdas "
      ]
    },
    {
      "cell_type": "code",
      "metadata": {
        "id": "P6f9CxE-Cz6n"
      },
      "source": [
        "df_osc_actvig = df_osc_cluni[(df_osc_cluni['ESTATUS'] == 'ACTIVA') & (df_osc_cluni['ESTATUS DE LA REPRESENTACION'] == 'VIGENTE')][['CLUNI', 'RFC']]"
      ],
      "execution_count": 114,
      "outputs": []
    },
    {
      "cell_type": "code",
      "metadata": {
        "colab": {
          "base_uri": "https://localhost:8080/"
        },
        "id": "J0UlaBajWNcA",
        "outputId": "4a8aea19-643c-42d5-f9dc-a9c6677b09b6"
      },
      "source": [
        "df_osc_actvig.shape"
      ],
      "execution_count": 115,
      "outputs": [
        {
          "output_type": "execute_result",
          "data": {
            "text/plain": [
              "(12563, 2)"
            ]
          },
          "metadata": {
            "tags": []
          },
          "execution_count": 115
        }
      ]
    },
    {
      "cell_type": "code",
      "metadata": {
        "id": "DwVzT45nCzyk"
      },
      "source": [
        "df_osc = pd.merge(df_osc_actvig[['CLUNI', 'RFC']], df_osc_sat[['RFC']], how='outer')"
      ],
      "execution_count": 116,
      "outputs": []
    },
    {
      "cell_type": "code",
      "metadata": {
        "id": "Dzq8If6ZMrNZ"
      },
      "source": [
        "df_osc = df_osc.drop_duplicates().reset_index(drop=True).copy()"
      ],
      "execution_count": 117,
      "outputs": []
    },
    {
      "cell_type": "code",
      "metadata": {
        "colab": {
          "base_uri": "https://localhost:8080/"
        },
        "id": "WJHXHN8vNdLD",
        "outputId": "8b269421-59a3-4149-d2ce-bf1dc989bb7b"
      },
      "source": [
        "len(df_osc)"
      ],
      "execution_count": 118,
      "outputs": [
        {
          "output_type": "execute_result",
          "data": {
            "text/plain": [
              "17666"
            ]
          },
          "metadata": {
            "tags": []
          },
          "execution_count": 118
        }
      ]
    },
    {
      "cell_type": "code",
      "metadata": {
        "colab": {
          "base_uri": "https://localhost:8080/"
        },
        "id": "jREqWVpHM1ZI",
        "outputId": "ac161521-d1ad-4a56-f174-8c4af8ccb67c"
      },
      "source": [
        "df_osc.isna().sum(axis=0)"
      ],
      "execution_count": 119,
      "outputs": [
        {
          "output_type": "execute_result",
          "data": {
            "text/plain": [
              "CLUNI    5103\n",
              "RFC         0\n",
              "dtype: int64"
            ]
          },
          "metadata": {
            "tags": []
          },
          "execution_count": 119
        }
      ]
    },
    {
      "cell_type": "code",
      "metadata": {
        "id": "6NQudc3XM2tw",
        "colab": {
          "base_uri": "https://localhost:8080/",
          "height": 204
        },
        "outputId": "5dd43109-fbcf-40ff-b7f5-9e5f8361e9ee"
      },
      "source": [
        "df_osc.sample(5)"
      ],
      "execution_count": 120,
      "outputs": [
        {
          "output_type": "execute_result",
          "data": {
            "text/html": [
              "<div>\n",
              "<style scoped>\n",
              "    .dataframe tbody tr th:only-of-type {\n",
              "        vertical-align: middle;\n",
              "    }\n",
              "\n",
              "    .dataframe tbody tr th {\n",
              "        vertical-align: top;\n",
              "    }\n",
              "\n",
              "    .dataframe thead th {\n",
              "        text-align: right;\n",
              "    }\n",
              "</style>\n",
              "<table border=\"1\" class=\"dataframe\">\n",
              "  <thead>\n",
              "    <tr style=\"text-align: right;\">\n",
              "      <th></th>\n",
              "      <th>CLUNI</th>\n",
              "      <th>RFC</th>\n",
              "    </tr>\n",
              "  </thead>\n",
              "  <tbody>\n",
              "    <tr>\n",
              "      <th>9820</th>\n",
              "      <td>CAC161213108C8</td>\n",
              "      <td>CAC161213912</td>\n",
              "    </tr>\n",
              "    <tr>\n",
              "      <th>17526</th>\n",
              "      <td>NaN</td>\n",
              "      <td>AIP170830IN0</td>\n",
              "    </tr>\n",
              "    <tr>\n",
              "      <th>14266</th>\n",
              "      <td>NaN</td>\n",
              "      <td>ETM091126HR5</td>\n",
              "    </tr>\n",
              "    <tr>\n",
              "      <th>2636</th>\n",
              "      <td>ALD1001203001C</td>\n",
              "      <td>ALD1001201Y7</td>\n",
              "    </tr>\n",
              "    <tr>\n",
              "      <th>5410</th>\n",
              "      <td>AMP1303011801T</td>\n",
              "      <td>AMP130301B24</td>\n",
              "    </tr>\n",
              "  </tbody>\n",
              "</table>\n",
              "</div>"
            ],
            "text/plain": [
              "                CLUNI           RFC\n",
              "9820   CAC161213108C8  CAC161213912\n",
              "17526             NaN  AIP170830IN0\n",
              "14266             NaN  ETM091126HR5\n",
              "2636   ALD1001203001C  ALD1001201Y7\n",
              "5410   AMP1303011801T  AMP130301B24"
            ]
          },
          "metadata": {
            "tags": []
          },
          "execution_count": 120
        }
      ]
    },
    {
      "cell_type": "code",
      "metadata": {
        "id": "B7nfyPKiXmVU"
      },
      "source": [
        ""
      ],
      "execution_count": 120,
      "outputs": []
    },
    {
      "cell_type": "code",
      "metadata": {
        "id": "iX1AGyR4XmPI"
      },
      "source": [
        ""
      ],
      "execution_count": 120,
      "outputs": []
    },
    {
      "cell_type": "markdown",
      "metadata": {
        "id": "gGbRTqIAXnTu"
      },
      "source": [
        "## 4. CLUNI Inactivas"
      ]
    },
    {
      "cell_type": "code",
      "metadata": {
        "id": "hI_mANUVXmHZ"
      },
      "source": [
        "df_osc_inactiva = df_osc_cluni[(df_osc_cluni['ESTATUS'] == 'INACTIVA')][['CLUNI', 'RFC']]"
      ],
      "execution_count": 121,
      "outputs": []
    },
    {
      "cell_type": "code",
      "metadata": {
        "colab": {
          "base_uri": "https://localhost:8080/"
        },
        "id": "AAJ4bZToXmA8",
        "outputId": "27461b7f-9370-4b3d-aac5-afeae53d0469"
      },
      "source": [
        "df_osc_inactiva.shape"
      ],
      "execution_count": 122,
      "outputs": [
        {
          "output_type": "execute_result",
          "data": {
            "text/plain": [
              "(29307, 2)"
            ]
          },
          "metadata": {
            "tags": []
          },
          "execution_count": 122
        }
      ]
    },
    {
      "cell_type": "code",
      "metadata": {
        "colab": {
          "base_uri": "https://localhost:8080/",
          "height": 0
        },
        "id": "mj2vFDAsXk-J",
        "outputId": "5d881179-561d-4570-ca41-18de3350f3b8"
      },
      "source": [
        "pd.merge(df_osc_inactiva[['CLUNI', 'RFC']], df_osc_sat[['RFC']], how='outer').sample(5)"
      ],
      "execution_count": 123,
      "outputs": [
        {
          "output_type": "execute_result",
          "data": {
            "text/html": [
              "<div>\n",
              "<style scoped>\n",
              "    .dataframe tbody tr th:only-of-type {\n",
              "        vertical-align: middle;\n",
              "    }\n",
              "\n",
              "    .dataframe tbody tr th {\n",
              "        vertical-align: top;\n",
              "    }\n",
              "\n",
              "    .dataframe thead th {\n",
              "        text-align: right;\n",
              "    }\n",
              "</style>\n",
              "<table border=\"1\" class=\"dataframe\">\n",
              "  <thead>\n",
              "    <tr style=\"text-align: right;\">\n",
              "      <th></th>\n",
              "      <th>CLUNI</th>\n",
              "      <th>RFC</th>\n",
              "    </tr>\n",
              "  </thead>\n",
              "  <tbody>\n",
              "    <tr>\n",
              "      <th>41242</th>\n",
              "      <td>NaN</td>\n",
              "      <td>DEA821123B17</td>\n",
              "    </tr>\n",
              "    <tr>\n",
              "      <th>11488</th>\n",
              "      <td>CPC8606190901B</td>\n",
              "      <td>CPC860619PC1</td>\n",
              "    </tr>\n",
              "    <tr>\n",
              "      <th>22285</th>\n",
              "      <td>CUD14120514Q4E</td>\n",
              "      <td>CUD141205435</td>\n",
              "    </tr>\n",
              "    <tr>\n",
              "      <th>20566</th>\n",
              "      <td>IND1406250901S</td>\n",
              "      <td>IND1406259X5</td>\n",
              "    </tr>\n",
              "    <tr>\n",
              "      <th>21930</th>\n",
              "      <td>AEF05063010X2X</td>\n",
              "      <td>AEF050630LQ9</td>\n",
              "    </tr>\n",
              "  </tbody>\n",
              "</table>\n",
              "</div>"
            ],
            "text/plain": [
              "                CLUNI           RFC\n",
              "41242             NaN  DEA821123B17\n",
              "11488  CPC8606190901B  CPC860619PC1\n",
              "22285  CUD14120514Q4E  CUD141205435\n",
              "20566  IND1406250901S  IND1406259X5\n",
              "21930  AEF05063010X2X  AEF050630LQ9"
            ]
          },
          "metadata": {
            "tags": []
          },
          "execution_count": 123
        }
      ]
    },
    {
      "cell_type": "code",
      "metadata": {
        "id": "ceeVqDD0Ww9W"
      },
      "source": [
        ""
      ],
      "execution_count": 123,
      "outputs": []
    },
    {
      "cell_type": "markdown",
      "metadata": {
        "id": "cT6d15Sk5-G9"
      },
      "source": [
        "## 5. Donatarias Autorizadas (Resolución Miscelánea Fiscal)"
      ]
    },
    {
      "cell_type": "code",
      "metadata": {
        "colab": {
          "base_uri": "https://localhost:8080/"
        },
        "id": "zJmrBqGi5-a8",
        "outputId": "d271907a-bee0-4813-d2f9-65a7091dea18"
      },
      "source": [
        "!pip install ghostscript\n",
        "!pip install \"camelot-py[cv]\"\n",
        "!pip install excalibur-py\n",
        "!apt install ghostscript python3-tk\n",
        "\n",
        "from ctypes.util import find_library\n",
        "print(find_library(\"gs\")) #will display libgs.so.9 if installed; will print None if not\n",
        "!excalibur initdb"
      ],
      "execution_count": 12,
      "outputs": [
        {
          "output_type": "stream",
          "text": [
            "Requirement already satisfied: ghostscript in /usr/local/lib/python3.6/dist-packages (0.6)\n",
            "Requirement already satisfied: setuptools in /usr/local/lib/python3.6/dist-packages (from ghostscript) (53.0.0)\n",
            "Requirement already satisfied: camelot-py[cv] in /usr/local/lib/python3.6/dist-packages (0.8.2)\n",
            "Requirement already satisfied: chardet>=3.0.4 in /usr/local/lib/python3.6/dist-packages (from camelot-py[cv]) (3.0.4)\n",
            "Requirement already satisfied: numpy>=1.13.3 in /usr/local/lib/python3.6/dist-packages (from camelot-py[cv]) (1.19.5)\n",
            "Requirement already satisfied: pdfminer.six>=20200726 in /usr/local/lib/python3.6/dist-packages (from camelot-py[cv]) (20201018)\n",
            "Requirement already satisfied: openpyxl>=2.5.8 in /usr/local/lib/python3.6/dist-packages (from camelot-py[cv]) (2.5.9)\n",
            "Requirement already satisfied: PyPDF2>=1.26.0 in /usr/local/lib/python3.6/dist-packages (from camelot-py[cv]) (1.26.0)\n",
            "Requirement already satisfied: click>=6.7 in /usr/local/lib/python3.6/dist-packages (from camelot-py[cv]) (7.1.2)\n",
            "Requirement already satisfied: pandas>=0.23.4 in /usr/local/lib/python3.6/dist-packages (from camelot-py[cv]) (1.1.5)\n",
            "Requirement already satisfied: opencv-python>=3.4.2.17; extra == \"cv\" in /usr/local/lib/python3.6/dist-packages (from camelot-py[cv]) (4.1.2.30)\n",
            "Requirement already satisfied: cryptography in /usr/local/lib/python3.6/dist-packages (from pdfminer.six>=20200726->camelot-py[cv]) (3.4.5)\n",
            "Requirement already satisfied: sortedcontainers in /usr/local/lib/python3.6/dist-packages (from pdfminer.six>=20200726->camelot-py[cv]) (2.3.0)\n",
            "Requirement already satisfied: et-xmlfile in /usr/local/lib/python3.6/dist-packages (from openpyxl>=2.5.8->camelot-py[cv]) (1.0.1)\n",
            "Requirement already satisfied: jdcal in /usr/local/lib/python3.6/dist-packages (from openpyxl>=2.5.8->camelot-py[cv]) (1.4.1)\n",
            "Requirement already satisfied: pytz>=2017.2 in /usr/local/lib/python3.6/dist-packages (from pandas>=0.23.4->camelot-py[cv]) (2018.9)\n",
            "Requirement already satisfied: python-dateutil>=2.7.3 in /usr/local/lib/python3.6/dist-packages (from pandas>=0.23.4->camelot-py[cv]) (2.8.1)\n",
            "Requirement already satisfied: cffi>=1.12 in /usr/local/lib/python3.6/dist-packages (from cryptography->pdfminer.six>=20200726->camelot-py[cv]) (1.14.4)\n",
            "Requirement already satisfied: six>=1.5 in /usr/local/lib/python3.6/dist-packages (from python-dateutil>=2.7.3->pandas>=0.23.4->camelot-py[cv]) (1.15.0)\n",
            "Requirement already satisfied: pycparser in /usr/local/lib/python3.6/dist-packages (from cffi>=1.12->cryptography->pdfminer.six>=20200726->camelot-py[cv]) (2.20)\n",
            "Requirement already satisfied: excalibur-py in /usr/local/lib/python3.6/dist-packages (0.4.3)\n",
            "Requirement already satisfied: celery>=4.1.1 in /usr/local/lib/python3.6/dist-packages (from excalibur-py) (5.0.5)\n",
            "Requirement already satisfied: camelot-py[cv]>=0.7.1 in /usr/local/lib/python3.6/dist-packages (from excalibur-py) (0.8.2)\n",
            "Requirement already satisfied: Click>=7.0 in /usr/local/lib/python3.6/dist-packages (from excalibur-py) (7.1.2)\n",
            "Requirement already satisfied: Flask>=1.0.2 in /usr/local/lib/python3.6/dist-packages (from excalibur-py) (1.1.2)\n",
            "Requirement already satisfied: SQLAlchemy>=1.2.12 in /usr/local/lib/python3.6/dist-packages (from excalibur-py) (1.3.23)\n",
            "Requirement already satisfied: configparser<3.6.0,>=3.5.0 in /usr/local/lib/python3.6/dist-packages (from excalibur-py) (3.5.3)\n",
            "Requirement already satisfied: Werkzeug<1.0.0 in /usr/local/lib/python3.6/dist-packages (from excalibur-py) (0.16.1)\n",
            "Requirement already satisfied: billiard<4.0,>=3.6.3.0 in /usr/local/lib/python3.6/dist-packages (from celery>=4.1.1->excalibur-py) (3.6.3.0)\n",
            "Requirement already satisfied: kombu<6.0,>=5.0.0 in /usr/local/lib/python3.6/dist-packages (from celery>=4.1.1->excalibur-py) (5.0.2)\n",
            "Requirement already satisfied: click-plugins>=1.1.1 in /usr/local/lib/python3.6/dist-packages (from celery>=4.1.1->excalibur-py) (1.1.1)\n",
            "Requirement already satisfied: pytz>dev in /usr/local/lib/python3.6/dist-packages (from celery>=4.1.1->excalibur-py) (2018.9)\n",
            "Requirement already satisfied: click-repl>=0.1.6 in /usr/local/lib/python3.6/dist-packages (from celery>=4.1.1->excalibur-py) (0.1.6)\n",
            "Requirement already satisfied: click-didyoumean>=0.0.3 in /usr/local/lib/python3.6/dist-packages (from celery>=4.1.1->excalibur-py) (0.0.3)\n",
            "Requirement already satisfied: vine<6.0,>=5.0.0 in /usr/local/lib/python3.6/dist-packages (from celery>=4.1.1->excalibur-py) (5.0.0)\n",
            "Requirement already satisfied: PyPDF2>=1.26.0 in /usr/local/lib/python3.6/dist-packages (from camelot-py[cv]>=0.7.1->excalibur-py) (1.26.0)\n",
            "Requirement already satisfied: chardet>=3.0.4 in /usr/local/lib/python3.6/dist-packages (from camelot-py[cv]>=0.7.1->excalibur-py) (3.0.4)\n",
            "Requirement already satisfied: pandas>=0.23.4 in /usr/local/lib/python3.6/dist-packages (from camelot-py[cv]>=0.7.1->excalibur-py) (1.1.5)\n",
            "Requirement already satisfied: pdfminer.six>=20200726 in /usr/local/lib/python3.6/dist-packages (from camelot-py[cv]>=0.7.1->excalibur-py) (20201018)\n",
            "Requirement already satisfied: numpy>=1.13.3 in /usr/local/lib/python3.6/dist-packages (from camelot-py[cv]>=0.7.1->excalibur-py) (1.19.5)\n",
            "Requirement already satisfied: openpyxl>=2.5.8 in /usr/local/lib/python3.6/dist-packages (from camelot-py[cv]>=0.7.1->excalibur-py) (2.5.9)\n",
            "Requirement already satisfied: opencv-python>=3.4.2.17; extra == \"cv\" in /usr/local/lib/python3.6/dist-packages (from camelot-py[cv]>=0.7.1->excalibur-py) (4.1.2.30)\n",
            "Requirement already satisfied: itsdangerous>=0.24 in /usr/local/lib/python3.6/dist-packages (from Flask>=1.0.2->excalibur-py) (1.1.0)\n",
            "Requirement already satisfied: Jinja2>=2.10.1 in /usr/local/lib/python3.6/dist-packages (from Flask>=1.0.2->excalibur-py) (2.11.3)\n",
            "Requirement already satisfied: amqp<6.0.0,>=5.0.0 in /usr/local/lib/python3.6/dist-packages (from kombu<6.0,>=5.0.0->celery>=4.1.1->excalibur-py) (5.0.5)\n",
            "Requirement already satisfied: importlib-metadata>=0.18; python_version < \"3.8\" in /usr/local/lib/python3.6/dist-packages (from kombu<6.0,>=5.0.0->celery>=4.1.1->excalibur-py) (3.4.0)\n",
            "Requirement already satisfied: prompt-toolkit in /usr/local/lib/python3.6/dist-packages (from click-repl>=0.1.6->celery>=4.1.1->excalibur-py) (1.0.18)\n",
            "Requirement already satisfied: six in /usr/local/lib/python3.6/dist-packages (from click-repl>=0.1.6->celery>=4.1.1->excalibur-py) (1.15.0)\n",
            "Requirement already satisfied: python-dateutil>=2.7.3 in /usr/local/lib/python3.6/dist-packages (from pandas>=0.23.4->camelot-py[cv]>=0.7.1->excalibur-py) (2.8.1)\n",
            "Requirement already satisfied: sortedcontainers in /usr/local/lib/python3.6/dist-packages (from pdfminer.six>=20200726->camelot-py[cv]>=0.7.1->excalibur-py) (2.3.0)\n",
            "Requirement already satisfied: cryptography in /usr/local/lib/python3.6/dist-packages (from pdfminer.six>=20200726->camelot-py[cv]>=0.7.1->excalibur-py) (3.4.5)\n",
            "Requirement already satisfied: jdcal in /usr/local/lib/python3.6/dist-packages (from openpyxl>=2.5.8->camelot-py[cv]>=0.7.1->excalibur-py) (1.4.1)\n",
            "Requirement already satisfied: et-xmlfile in /usr/local/lib/python3.6/dist-packages (from openpyxl>=2.5.8->camelot-py[cv]>=0.7.1->excalibur-py) (1.0.1)\n",
            "Requirement already satisfied: MarkupSafe>=0.23 in /usr/local/lib/python3.6/dist-packages (from Jinja2>=2.10.1->Flask>=1.0.2->excalibur-py) (1.1.1)\n",
            "Requirement already satisfied: zipp>=0.5 in /usr/local/lib/python3.6/dist-packages (from importlib-metadata>=0.18; python_version < \"3.8\"->kombu<6.0,>=5.0.0->celery>=4.1.1->excalibur-py) (3.4.0)\n",
            "Requirement already satisfied: typing-extensions>=3.6.4; python_version < \"3.8\" in /usr/local/lib/python3.6/dist-packages (from importlib-metadata>=0.18; python_version < \"3.8\"->kombu<6.0,>=5.0.0->celery>=4.1.1->excalibur-py) (3.7.4.3)\n",
            "Requirement already satisfied: wcwidth in /usr/local/lib/python3.6/dist-packages (from prompt-toolkit->click-repl>=0.1.6->celery>=4.1.1->excalibur-py) (0.2.5)\n",
            "Requirement already satisfied: cffi>=1.12 in /usr/local/lib/python3.6/dist-packages (from cryptography->pdfminer.six>=20200726->camelot-py[cv]>=0.7.1->excalibur-py) (1.14.4)\n",
            "Requirement already satisfied: pycparser in /usr/local/lib/python3.6/dist-packages (from cffi>=1.12->cryptography->pdfminer.six>=20200726->camelot-py[cv]>=0.7.1->excalibur-py) (2.20)\n",
            "Reading package lists... Done\n",
            "Building dependency tree       \n",
            "Reading state information... Done\n",
            "python3-tk is already the newest version (3.6.9-1~18.04).\n",
            "The following additional packages will be installed:\n",
            "  fonts-droid-fallback fonts-noto-mono gsfonts libcupsfilters1 libcupsimage2\n",
            "  libgs9 libgs9-common libijs-0.35 libjbig2dec0 poppler-data\n",
            "Suggested packages:\n",
            "  fonts-noto ghostscript-x poppler-utils fonts-japanese-mincho\n",
            "  | fonts-ipafont-mincho fonts-japanese-gothic | fonts-ipafont-gothic\n",
            "  fonts-arphic-ukai fonts-arphic-uming fonts-nanum\n",
            "The following NEW packages will be installed:\n",
            "  fonts-droid-fallback fonts-noto-mono ghostscript gsfonts libcupsfilters1\n",
            "  libcupsimage2 libgs9 libgs9-common libijs-0.35 libjbig2dec0 poppler-data\n",
            "0 upgraded, 11 newly installed, 0 to remove and 17 not upgraded.\n",
            "Need to get 14.1 MB of archives.\n",
            "After this operation, 49.9 MB of additional disk space will be used.\n",
            "Get:1 http://archive.ubuntu.com/ubuntu bionic/main amd64 fonts-droid-fallback all 1:6.0.1r16-1.1 [1,805 kB]\n",
            "Get:2 http://archive.ubuntu.com/ubuntu bionic/main amd64 poppler-data all 0.4.8-2 [1,479 kB]\n",
            "Get:3 http://archive.ubuntu.com/ubuntu bionic/main amd64 fonts-noto-mono all 20171026-2 [75.5 kB]\n",
            "Get:4 http://archive.ubuntu.com/ubuntu bionic-updates/main amd64 libcupsimage2 amd64 2.2.7-1ubuntu2.8 [18.6 kB]\n",
            "Get:5 http://archive.ubuntu.com/ubuntu bionic/main amd64 libijs-0.35 amd64 0.35-13 [15.5 kB]\n",
            "Get:6 http://archive.ubuntu.com/ubuntu bionic/main amd64 libjbig2dec0 amd64 0.13-6 [55.9 kB]\n",
            "Get:7 http://archive.ubuntu.com/ubuntu bionic-updates/main amd64 libgs9-common all 9.26~dfsg+0-0ubuntu0.18.04.14 [5,092 kB]\n",
            "Get:8 http://archive.ubuntu.com/ubuntu bionic-updates/main amd64 libgs9 amd64 9.26~dfsg+0-0ubuntu0.18.04.14 [2,265 kB]\n",
            "Get:9 http://archive.ubuntu.com/ubuntu bionic-updates/main amd64 ghostscript amd64 9.26~dfsg+0-0ubuntu0.18.04.14 [51.3 kB]\n",
            "Get:10 http://archive.ubuntu.com/ubuntu bionic/main amd64 gsfonts all 1:8.11+urwcyr1.0.7~pre44-4.4 [3,120 kB]\n",
            "Get:11 http://archive.ubuntu.com/ubuntu bionic-updates/main amd64 libcupsfilters1 amd64 1.20.2-0ubuntu3.1 [108 kB]\n",
            "Fetched 14.1 MB in 1s (10.9 MB/s)\n",
            "Selecting previously unselected package fonts-droid-fallback.\n",
            "(Reading database ... 146425 files and directories currently installed.)\n",
            "Preparing to unpack .../00-fonts-droid-fallback_1%3a6.0.1r16-1.1_all.deb ...\n",
            "Unpacking fonts-droid-fallback (1:6.0.1r16-1.1) ...\n",
            "Selecting previously unselected package poppler-data.\n",
            "Preparing to unpack .../01-poppler-data_0.4.8-2_all.deb ...\n",
            "Unpacking poppler-data (0.4.8-2) ...\n",
            "Selecting previously unselected package fonts-noto-mono.\n",
            "Preparing to unpack .../02-fonts-noto-mono_20171026-2_all.deb ...\n",
            "Unpacking fonts-noto-mono (20171026-2) ...\n",
            "Selecting previously unselected package libcupsimage2:amd64.\n",
            "Preparing to unpack .../03-libcupsimage2_2.2.7-1ubuntu2.8_amd64.deb ...\n",
            "Unpacking libcupsimage2:amd64 (2.2.7-1ubuntu2.8) ...\n",
            "Selecting previously unselected package libijs-0.35:amd64.\n",
            "Preparing to unpack .../04-libijs-0.35_0.35-13_amd64.deb ...\n",
            "Unpacking libijs-0.35:amd64 (0.35-13) ...\n",
            "Selecting previously unselected package libjbig2dec0:amd64.\n",
            "Preparing to unpack .../05-libjbig2dec0_0.13-6_amd64.deb ...\n",
            "Unpacking libjbig2dec0:amd64 (0.13-6) ...\n",
            "Selecting previously unselected package libgs9-common.\n",
            "Preparing to unpack .../06-libgs9-common_9.26~dfsg+0-0ubuntu0.18.04.14_all.deb ...\n",
            "Unpacking libgs9-common (9.26~dfsg+0-0ubuntu0.18.04.14) ...\n",
            "Selecting previously unselected package libgs9:amd64.\n",
            "Preparing to unpack .../07-libgs9_9.26~dfsg+0-0ubuntu0.18.04.14_amd64.deb ...\n",
            "Unpacking libgs9:amd64 (9.26~dfsg+0-0ubuntu0.18.04.14) ...\n",
            "Selecting previously unselected package ghostscript.\n",
            "Preparing to unpack .../08-ghostscript_9.26~dfsg+0-0ubuntu0.18.04.14_amd64.deb ...\n",
            "Unpacking ghostscript (9.26~dfsg+0-0ubuntu0.18.04.14) ...\n",
            "Selecting previously unselected package gsfonts.\n",
            "Preparing to unpack .../09-gsfonts_1%3a8.11+urwcyr1.0.7~pre44-4.4_all.deb ...\n",
            "Unpacking gsfonts (1:8.11+urwcyr1.0.7~pre44-4.4) ...\n",
            "Selecting previously unselected package libcupsfilters1:amd64.\n",
            "Preparing to unpack .../10-libcupsfilters1_1.20.2-0ubuntu3.1_amd64.deb ...\n",
            "Unpacking libcupsfilters1:amd64 (1.20.2-0ubuntu3.1) ...\n",
            "Setting up libgs9-common (9.26~dfsg+0-0ubuntu0.18.04.14) ...\n",
            "Setting up fonts-droid-fallback (1:6.0.1r16-1.1) ...\n",
            "Setting up gsfonts (1:8.11+urwcyr1.0.7~pre44-4.4) ...\n",
            "Setting up poppler-data (0.4.8-2) ...\n",
            "Setting up fonts-noto-mono (20171026-2) ...\n",
            "Setting up libcupsfilters1:amd64 (1.20.2-0ubuntu3.1) ...\n",
            "Setting up libcupsimage2:amd64 (2.2.7-1ubuntu2.8) ...\n",
            "Setting up libjbig2dec0:amd64 (0.13-6) ...\n",
            "Setting up libijs-0.35:amd64 (0.35-13) ...\n",
            "Setting up libgs9:amd64 (9.26~dfsg+0-0ubuntu0.18.04.14) ...\n",
            "Setting up ghostscript (9.26~dfsg+0-0ubuntu0.18.04.14) ...\n",
            "Processing triggers for man-db (2.8.3-2ubuntu0.1) ...\n",
            "Processing triggers for fontconfig (2.12.6-0ubuntu2) ...\n",
            "Processing triggers for libc-bin (2.27-3ubuntu1.3) ...\n",
            "/sbin/ldconfig.real: /usr/local/lib/python3.6/dist-packages/ideep4py/lib/libmkldnn.so.0 is not a symbolic link\n",
            "\n",
            "libgs.so.9\n"
          ],
          "name": "stdout"
        }
      ]
    },
    {
      "cell_type": "code",
      "metadata": {
        "colab": {
          "base_uri": "https://localhost:8080/"
        },
        "id": "0zW82ABUAaxR",
        "outputId": "79919d6f-172a-41bc-c258-940ceebe9df7"
      },
      "source": [
        "# !camelot lattice -plot text /content/drive/MyDrive/NewCo/intel/data/a14-rms/test.pdf"
      ],
      "execution_count": null,
      "outputs": [
        {
          "output_type": "stream",
          "text": [
            "2021-02-15T14:04:37 - INFO - Processing page-1\n",
            "Found 0 tables\n"
          ],
          "name": "stdout"
        }
      ]
    },
    {
      "cell_type": "code",
      "metadata": {
        "id": "yCiu9iH0-Tam"
      },
      "source": [
        "import camelot"
      ],
      "execution_count": 13,
      "outputs": []
    },
    {
      "cell_type": "code",
      "metadata": {
        "id": "9lx7u9tb7toU"
      },
      "source": [
        "# the following information should be specified\n",
        "\n",
        "PAGES = '3' \n",
        "tables = camelot.read_pdf(\n",
        "    '/content/drive/MyDrive/NewCo/intel/data/a14-rms/test2.pdf'\n",
        "    , flavor='stream'\n",
        "    , table_areas=['115,528,528,57'] # coordinates when we need to id table's head\n",
        "    , pages = PAGES\n",
        "    )"
      ],
      "execution_count": 16,
      "outputs": []
    },
    {
      "cell_type": "code",
      "metadata": {
        "colab": {
          "base_uri": "https://localhost:8080/"
        },
        "id": "wThE31eF-dBu",
        "outputId": "40ad5f4d-4e84-49dc-a401-c86e40e69ebf"
      },
      "source": [
        "tables"
      ],
      "execution_count": 17,
      "outputs": [
        {
          "output_type": "execute_result",
          "data": {
            "text/plain": [
              "<TableList n=1>"
            ]
          },
          "metadata": {
            "tags": []
          },
          "execution_count": 17
        }
      ]
    },
    {
      "cell_type": "code",
      "metadata": {
        "colab": {
          "base_uri": "https://localhost:8080/"
        },
        "id": "RV-V0h_XGKgs",
        "outputId": "fd5bdf79-ef77-4b1d-d7f5-1b27678f64b5"
      },
      "source": [
        "tables[0].parsing_report"
      ],
      "execution_count": 18,
      "outputs": [
        {
          "output_type": "execute_result",
          "data": {
            "text/plain": [
              "{'accuracy': 100.0, 'order': 1, 'page': 3, 'whitespace': 7.89}"
            ]
          },
          "metadata": {
            "tags": []
          },
          "execution_count": 18
        }
      ]
    },
    {
      "cell_type": "code",
      "metadata": {
        "colab": {
          "base_uri": "https://localhost:8080/",
          "height": 592
        },
        "id": "6gW2maL6HKm6",
        "outputId": "155d4bd3-2b8b-4f3d-af87-b0db4e04e7e2"
      },
      "source": [
        "camelot.plot(tables[0], kind='contour').show()"
      ],
      "execution_count": 20,
      "outputs": [
        {
          "output_type": "display_data",
          "data": {
            "image/png": "[encoded data removed]",
            "text/plain": [
              "<Figure size 720x720 with 1 Axes>"
            ]
          },
          "metadata": {
            "tags": [],
            "needs_background": "light"
          }
        }
      ]
    },
    {
      "cell_type": "code",
      "metadata": {
        "colab": {
          "base_uri": "https://localhost:8080/",
          "height": 1000
        },
        "id": "2bE5R3HFGT6Y",
        "outputId": "221c2ca4-1dd0-4b56-864b-bb934d6c8398"
      },
      "source": [
        "tables[0].df"
      ],
      "execution_count": 21,
      "outputs": [
        {
          "output_type": "execute_result",
          "data": {
            "text/html": [
              "<div>\n",
              "<style scoped>\n",
              "    .dataframe tbody tr th:only-of-type {\n",
              "        vertical-align: middle;\n",
              "    }\n",
              "\n",
              "    .dataframe tbody tr th {\n",
              "        vertical-align: top;\n",
              "    }\n",
              "\n",
              "    .dataframe thead th {\n",
              "        text-align: right;\n",
              "    }\n",
              "</style>\n",
              "<table border=\"1\" class=\"dataframe\">\n",
              "  <thead>\n",
              "    <tr style=\"text-align: right;\">\n",
              "      <th></th>\n",
              "      <th>0</th>\n",
              "      <th>1</th>\n",
              "    </tr>\n",
              "  </thead>\n",
              "  <tbody>\n",
              "    <tr>\n",
              "      <th>0</th>\n",
              "      <td>RFC</td>\n",
              "      <td>Denominación Social</td>\n",
              "    </tr>\n",
              "    <tr>\n",
              "      <th>1</th>\n",
              "      <td>APO151201EH2</td>\n",
              "      <td>\"Ameyalco Posible\", A.C.</td>\n",
              "    </tr>\n",
              "    <tr>\n",
              "      <th>2</th>\n",
              "      <td>AAY110609KW0</td>\n",
              "      <td>\"ANEXA AYUDA\", A.C.</td>\n",
              "    </tr>\n",
              "    <tr>\n",
              "      <th>3</th>\n",
              "      <td></td>\n",
              "      <td>\"Destino  y Apoyo a las Comunidades por los Ni...</td>\n",
              "    </tr>\n",
              "    <tr>\n",
              "      <th>4</th>\n",
              "      <td>DAC0505167G4</td>\n",
              "      <td></td>\n",
              "    </tr>\n",
              "    <tr>\n",
              "      <th>5</th>\n",
              "      <td></td>\n",
              "      <td>de mi Pueblo\", A.C.</td>\n",
              "    </tr>\n",
              "    <tr>\n",
              "      <th>6</th>\n",
              "      <td>FSE110323T5A</td>\n",
              "      <td>\"FUNDACIÓN PARA LA SUPERACIÓN EDUCATIVA Y SOCI...</td>\n",
              "    </tr>\n",
              "    <tr>\n",
              "      <th>7</th>\n",
              "      <td>ODE120423K39</td>\n",
              "      <td>\"ORDEN Y DESARROLLO EN CIUDAD NEZAHUALCOYOTL\",...</td>\n",
              "    </tr>\n",
              "    <tr>\n",
              "      <th>8</th>\n",
              "      <td>SQU1005068UA</td>\n",
              "      <td>¿Sabías qué..? I.B.P.</td>\n",
              "    </tr>\n",
              "    <tr>\n",
              "      <th>9</th>\n",
              "      <td>MPS120222G22</td>\n",
              "      <td>1,2,3 Por Mi y Parque Sacramento, A.C.</td>\n",
              "    </tr>\n",
              "    <tr>\n",
              "      <th>10</th>\n",
              "      <td>DXC1112029D4</td>\n",
              "      <td>10 x Cienega, A.C.</td>\n",
              "    </tr>\n",
              "    <tr>\n",
              "      <th>11</th>\n",
              "      <td>MMT080923I39</td>\n",
              "      <td>1000 Mujeres Trabajando por México, A.C.</td>\n",
              "    </tr>\n",
              "    <tr>\n",
              "      <th>12</th>\n",
              "      <td>CDM130506M2A</td>\n",
              "      <td>110 Meridiano, A.C.</td>\n",
              "    </tr>\n",
              "    <tr>\n",
              "      <th>13</th>\n",
              "      <td>DTI1707139D7</td>\n",
              "      <td>3D Por Ti, A.C.</td>\n",
              "    </tr>\n",
              "    <tr>\n",
              "      <th>14</th>\n",
              "      <td>CPM130701655</td>\n",
              "      <td>4 Patas en mi Camino, A.C.</td>\n",
              "    </tr>\n",
              "    <tr>\n",
              "      <th>15</th>\n",
              "      <td>FNI410908EZ4</td>\n",
              "      <td>A Favor del Niño, I.A.P.</td>\n",
              "    </tr>\n",
              "    <tr>\n",
              "      <th>16</th>\n",
              "      <td>ACD980511TW7</td>\n",
              "      <td>A.A.C.E.M. Casa de Día del Anciano, I.A.P.</td>\n",
              "    </tr>\n",
              "    <tr>\n",
              "      <th>17</th>\n",
              "      <td>AAS130717Q68</td>\n",
              "      <td>Aasimi, A.C.</td>\n",
              "    </tr>\n",
              "    <tr>\n",
              "      <th>18</th>\n",
              "      <td>AEA981002RU5</td>\n",
              "      <td>Abante Experimental Agropecuario Industrial, A.C.</td>\n",
              "    </tr>\n",
              "    <tr>\n",
              "      <th>19</th>\n",
              "      <td>ACA0907227G5</td>\n",
              "      <td>Abogados con Camara, A.C.</td>\n",
              "    </tr>\n",
              "    <tr>\n",
              "      <th>20</th>\n",
              "      <td>ABR091207AL6</td>\n",
              "      <td>ABRAPALABRA, A.C.</td>\n",
              "    </tr>\n",
              "    <tr>\n",
              "      <th>21</th>\n",
              "      <td>ENE150910MS2</td>\n",
              "      <td>Abrazando Causas Fundación, A.C.</td>\n",
              "    </tr>\n",
              "    <tr>\n",
              "      <th>22</th>\n",
              "      <td>ACJ151020E62</td>\n",
              "      <td>ABRAZOS DE CORAZON JE, A.C.</td>\n",
              "    </tr>\n",
              "    <tr>\n",
              "      <th>23</th>\n",
              "      <td>ATC130705IA1</td>\n",
              "      <td>Abre tu Corazón, A.C.</td>\n",
              "    </tr>\n",
              "    <tr>\n",
              "      <th>24</th>\n",
              "      <td>ATA1408019Y0</td>\n",
              "      <td>Abre tus Alas, A. C.</td>\n",
              "    </tr>\n",
              "    <tr>\n",
              "      <th>25</th>\n",
              "      <td>ACU0403314F1</td>\n",
              "      <td>Abriendo Camino un Centro para el Desarrollo F...</td>\n",
              "    </tr>\n",
              "    <tr>\n",
              "      <th>26</th>\n",
              "      <td>ANC031125284</td>\n",
              "      <td>Abriendo Nuevos Caminos, A.C.</td>\n",
              "    </tr>\n",
              "    <tr>\n",
              "      <th>27</th>\n",
              "      <td>ABU1604085I3</td>\n",
              "      <td>Abuelandia, A.C.</td>\n",
              "    </tr>\n",
              "    <tr>\n",
              "      <th>28</th>\n",
              "      <td>ABU181203IH8</td>\n",
              "      <td>Abuelitos, A.B.P.</td>\n",
              "    </tr>\n",
              "    <tr>\n",
              "      <th>29</th>\n",
              "      <td>ATO120806LB1</td>\n",
              "      <td>Abuelos Tosepankali, A.C.</td>\n",
              "    </tr>\n",
              "    <tr>\n",
              "      <th>30</th>\n",
              "      <td>AUI141121NX4</td>\n",
              "      <td>Acajete Unido Impulsando el Desarrollo, A.C.</td>\n",
              "    </tr>\n",
              "    <tr>\n",
              "      <th>31</th>\n",
              "      <td>AVC111005BX3</td>\n",
              "      <td>Acance Victoria Central Tijuana, A.C.</td>\n",
              "    </tr>\n",
              "    <tr>\n",
              "      <th>32</th>\n",
              "      <td>AAC150310GH5</td>\n",
              "      <td>ACAPSO Agrupación Cívica de Adolescentes y Per...</td>\n",
              "    </tr>\n",
              "    <tr>\n",
              "      <th>33</th>\n",
              "      <td>AES0903205KA</td>\n",
              "      <td>ACC Especialistas, A.C.</td>\n",
              "    </tr>\n",
              "    <tr>\n",
              "      <th>34</th>\n",
              "      <td></td>\n",
              "      <td>ACCION CIUDADANA PARA GENERAR IGUALDAD Y DESAR...</td>\n",
              "    </tr>\n",
              "    <tr>\n",
              "      <th>35</th>\n",
              "      <td>ACG2010071N6</td>\n",
              "      <td></td>\n",
              "    </tr>\n",
              "    <tr>\n",
              "      <th>36</th>\n",
              "      <td></td>\n",
              "      <td>A.C.</td>\n",
              "    </tr>\n",
              "    <tr>\n",
              "      <th>37</th>\n",
              "      <td>ACB9710076W1</td>\n",
              "      <td>Acción Comunitaria del Bajío, A.C.</td>\n",
              "    </tr>\n",
              "  </tbody>\n",
              "</table>\n",
              "</div>"
            ],
            "text/plain": [
              "               0                                                  1\n",
              "0            RFC                                Denominación Social\n",
              "1   APO151201EH2                           \"Ameyalco Posible\", A.C.\n",
              "2   AAY110609KW0                                \"ANEXA AYUDA\", A.C.\n",
              "3                 \"Destino  y Apoyo a las Comunidades por los Ni...\n",
              "4   DAC0505167G4                                                   \n",
              "5                                               de mi Pueblo\", A.C.\n",
              "6   FSE110323T5A  \"FUNDACIÓN PARA LA SUPERACIÓN EDUCATIVA Y SOCI...\n",
              "7   ODE120423K39  \"ORDEN Y DESARROLLO EN CIUDAD NEZAHUALCOYOTL\",...\n",
              "8   SQU1005068UA                              ¿Sabías qué..? I.B.P.\n",
              "9   MPS120222G22             1,2,3 Por Mi y Parque Sacramento, A.C.\n",
              "10  DXC1112029D4                                 10 x Cienega, A.C.\n",
              "11  MMT080923I39           1000 Mujeres Trabajando por México, A.C.\n",
              "12  CDM130506M2A                                110 Meridiano, A.C.\n",
              "13  DTI1707139D7                                    3D Por Ti, A.C.\n",
              "14  CPM130701655                         4 Patas en mi Camino, A.C.\n",
              "15  FNI410908EZ4                           A Favor del Niño, I.A.P.\n",
              "16  ACD980511TW7         A.A.C.E.M. Casa de Día del Anciano, I.A.P.\n",
              "17  AAS130717Q68                                       Aasimi, A.C.\n",
              "18  AEA981002RU5  Abante Experimental Agropecuario Industrial, A.C.\n",
              "19  ACA0907227G5                          Abogados con Camara, A.C.\n",
              "20  ABR091207AL6                                  ABRAPALABRA, A.C.\n",
              "21  ENE150910MS2                   Abrazando Causas Fundación, A.C.\n",
              "22  ACJ151020E62                        ABRAZOS DE CORAZON JE, A.C.\n",
              "23  ATC130705IA1                              Abre tu Corazón, A.C.\n",
              "24  ATA1408019Y0                               Abre tus Alas, A. C.\n",
              "25  ACU0403314F1  Abriendo Camino un Centro para el Desarrollo F...\n",
              "26  ANC031125284                      Abriendo Nuevos Caminos, A.C.\n",
              "27  ABU1604085I3                                   Abuelandia, A.C.\n",
              "28  ABU181203IH8                                  Abuelitos, A.B.P.\n",
              "29  ATO120806LB1                          Abuelos Tosepankali, A.C.\n",
              "30  AUI141121NX4       Acajete Unido Impulsando el Desarrollo, A.C.\n",
              "31  AVC111005BX3              Acance Victoria Central Tijuana, A.C.\n",
              "32  AAC150310GH5  ACAPSO Agrupación Cívica de Adolescentes y Per...\n",
              "33  AES0903205KA                            ACC Especialistas, A.C.\n",
              "34                ACCION CIUDADANA PARA GENERAR IGUALDAD Y DESAR...\n",
              "35  ACG2010071N6                                                   \n",
              "36                                                             A.C.\n",
              "37  ACB9710076W1                 Acción Comunitaria del Bajío, A.C."
            ]
          },
          "metadata": {
            "tags": []
          },
          "execution_count": 21
        }
      ]
    },
    {
      "cell_type": "code",
      "metadata": {
        "id": "jQEAda5c-203"
      },
      "source": [
        ""
      ],
      "execution_count": null,
      "outputs": []
    },
    {
      "cell_type": "code",
      "metadata": {
        "id": "9OGPJkuUGPei"
      },
      "source": [
        "PAGES = '4-299'"
      ],
      "execution_count": 141,
      "outputs": []
    },
    {
      "cell_type": "code",
      "metadata": {
        "id": "tWPJOkHa-3X4"
      },
      "source": [
        "tables = camelot.read_pdf(\n",
        "    '/content/drive/MyDrive/NewCo/intel/data/a14-rms/test3.pdf'\n",
        "    , flavor='stream'\n",
        "    , table_areas=['115,738,528,57'] # coordinates when table is full page\n",
        "    , pages = PAGES\n",
        "    )"
      ],
      "execution_count": 142,
      "outputs": []
    },
    {
      "cell_type": "code",
      "metadata": {
        "colab": {
          "base_uri": "https://localhost:8080/"
        },
        "id": "1MqeWV0a_lAc",
        "outputId": "a9d6383a-5a2b-4ce7-bef9-41cede3b1073"
      },
      "source": [
        "len(tables)"
      ],
      "execution_count": 143,
      "outputs": [
        {
          "output_type": "execute_result",
          "data": {
            "text/plain": [
              "296"
            ]
          },
          "metadata": {
            "tags": []
          },
          "execution_count": 143
        }
      ]
    },
    {
      "cell_type": "code",
      "metadata": {
        "id": "V0p7xlvg_edW"
      },
      "source": [
        "accuracies = []\n",
        "whitespaces = []\n",
        "\n",
        "for n in range(len(tables)):\n",
        "  accuracies += [tables[n].parsing_report['accuracy']]\n",
        "  whitespaces += [tables[n].parsing_report['accuracy']]"
      ],
      "execution_count": 144,
      "outputs": []
    },
    {
      "cell_type": "code",
      "metadata": {
        "colab": {
          "base_uri": "https://localhost:8080/"
        },
        "id": "_SL0qKzB_hOx",
        "outputId": "b047e220-026f-4a68-f028-63cbf5159d76"
      },
      "source": [
        "print('Average parsed accuracy', np.mean(accuracies).round(2))\n",
        "print('Average parsed whitespace', np.mean(whitespaces).round(2))"
      ],
      "execution_count": 145,
      "outputs": [
        {
          "output_type": "stream",
          "text": [
            "Average parsed accuracy 99.91\n",
            "Average parsed whitespace 99.91\n"
          ],
          "name": "stdout"
        }
      ]
    },
    {
      "cell_type": "code",
      "metadata": {
        "id": "p8MCQD7oBSmK"
      },
      "source": [
        "df_donaut_rms = pd.DataFrame(columns=[0, 1])\n",
        "\n",
        "for n in range(len(tables)):\n",
        "  aux = tables[n].df\n",
        "  \n",
        "  if aux.shape[1] > 2: \n",
        "    # fixing some issues when osc name was not properly parsed\n",
        "    aux[1] = aux[1] + aux[2]\n",
        "    aux = aux[[0, 1]]\n",
        "    \n",
        "  df_donaut_rms = pd.concat([df_donaut_rms, aux])\n",
        "\n",
        "df_donaut_rms = df_donaut_rms.rename(columns={0: 'RFC', 1: 'razon_social'})\n",
        "\n",
        "# remove headers when osc changes their social objective in pdf\n",
        "df_donaut_rms = df_donaut_rms[~((df_donaut_rms.RFC == 'RFC') & (df_donaut_rms.razon_social == 'Denominación Social'))].reset_index(drop=True)\n",
        "df_donaut_rms = df_donaut_rms[df_donaut_rms.RFC.str.len().isin([0, 12]) ]"
      ],
      "execution_count": 149,
      "outputs": []
    },
    {
      "cell_type": "code",
      "metadata": {
        "id": "dN_QfoO5HLC8"
      },
      "source": [
        "# todo: create json with metadata to address table beggining and ending in pdf"
      ],
      "execution_count": null,
      "outputs": []
    },
    {
      "cell_type": "code",
      "metadata": {
        "id": "6K2QMLBoM1pW"
      },
      "source": [
        "# todo: check for osc duplicates in dof :/\n",
        "# todo: osc can have more than one cluni (active and inactive ids), BUT never more than 1 active cluni"
      ],
      "execution_count": null,
      "outputs": []
    },
    {
      "cell_type": "code",
      "metadata": {
        "colab": {
          "base_uri": "https://localhost:8080/",
          "height": 204
        },
        "id": "4vC9ZX7AGaI6",
        "outputId": "bcabf5af-5b52-4144-861b-883814e99c1b"
      },
      "source": [
        "df_donaut_rms.head()"
      ],
      "execution_count": 150,
      "outputs": [
        {
          "output_type": "execute_result",
          "data": {
            "text/html": [
              "<div>\n",
              "<style scoped>\n",
              "    .dataframe tbody tr th:only-of-type {\n",
              "        vertical-align: middle;\n",
              "    }\n",
              "\n",
              "    .dataframe tbody tr th {\n",
              "        vertical-align: top;\n",
              "    }\n",
              "\n",
              "    .dataframe thead th {\n",
              "        text-align: right;\n",
              "    }\n",
              "</style>\n",
              "<table border=\"1\" class=\"dataframe\">\n",
              "  <thead>\n",
              "    <tr style=\"text-align: right;\">\n",
              "      <th></th>\n",
              "      <th>RFC</th>\n",
              "      <th>razon_social</th>\n",
              "    </tr>\n",
              "  </thead>\n",
              "  <tbody>\n",
              "    <tr>\n",
              "      <th>0</th>\n",
              "      <td>ACR050616AJ2</td>\n",
              "      <td>Acción Comunitaria Rita de Cascia, I.A.P.</td>\n",
              "    </tr>\n",
              "    <tr>\n",
              "      <th>1</th>\n",
              "      <td>AAL850903EQ4</td>\n",
              "      <td>Acción contra el Alcoholismo, A.C.</td>\n",
              "    </tr>\n",
              "    <tr>\n",
              "      <th>2</th>\n",
              "      <td>ACP960911DP0</td>\n",
              "      <td>Acción Cultural Politécnica, I.A.P.</td>\n",
              "    </tr>\n",
              "    <tr>\n",
              "      <th>3</th>\n",
              "      <td>AJA180312RY9</td>\n",
              "      <td>Acción Juvenil Atla Atlatlahuca, A.C.</td>\n",
              "    </tr>\n",
              "    <tr>\n",
              "      <th>4</th>\n",
              "      <td>ASR120703B83</td>\n",
              "      <td>Acción Social Ririki, A.C.</td>\n",
              "    </tr>\n",
              "  </tbody>\n",
              "</table>\n",
              "</div>"
            ],
            "text/plain": [
              "            RFC                               razon_social\n",
              "0  ACR050616AJ2  Acción Comunitaria Rita de Cascia, I.A.P.\n",
              "1  AAL850903EQ4         Acción contra el Alcoholismo, A.C.\n",
              "2  ACP960911DP0        Acción Cultural Politécnica, I.A.P.\n",
              "3  AJA180312RY9      Acción Juvenil Atla Atlatlahuca, A.C.\n",
              "4  ASR120703B83                 Acción Social Ririki, A.C."
            ]
          },
          "metadata": {
            "tags": []
          },
          "execution_count": 150
        }
      ]
    },
    {
      "cell_type": "code",
      "metadata": {
        "id": "5xU2YYDXIJ6z"
      },
      "source": [
        "df_osc2 = pd.merge(df_osc_cluni[['CLUNI', 'RFC', 'ESTATUS']], df_donaut_rms, how='outer').drop_duplicates().reset_index(drop=True)"
      ],
      "execution_count": 184,
      "outputs": []
    },
    {
      "cell_type": "code",
      "metadata": {
        "colab": {
          "base_uri": "https://localhost:8080/"
        },
        "id": "0ArkPHpoK8qw",
        "outputId": "4833d443-fa5b-47c2-8745-75834922b2cf"
      },
      "source": [
        "df_osc2.isna().sum(axis=0)"
      ],
      "execution_count": 185,
      "outputs": [
        {
          "output_type": "execute_result",
          "data": {
            "text/plain": [
              "CLUNI            4322\n",
              "RFC                 0\n",
              "ESTATUS          4322\n",
              "razon_social    36561\n",
              "dtype: int64"
            ]
          },
          "metadata": {
            "tags": []
          },
          "execution_count": 185
        }
      ]
    },
    {
      "cell_type": "code",
      "metadata": {
        "colab": {
          "base_uri": "https://localhost:8080/",
          "height": 204
        },
        "id": "8odhpBGOLGax",
        "outputId": "a0987bd2-b9e0-43c5-9928-b4ffa2582bb0"
      },
      "source": [
        "df_osc2[df_osc2.razon_social.isna()].sample(5)"
      ],
      "execution_count": 186,
      "outputs": [
        {
          "output_type": "execute_result",
          "data": {
            "text/html": [
              "<div>\n",
              "<style scoped>\n",
              "    .dataframe tbody tr th:only-of-type {\n",
              "        vertical-align: middle;\n",
              "    }\n",
              "\n",
              "    .dataframe tbody tr th {\n",
              "        vertical-align: top;\n",
              "    }\n",
              "\n",
              "    .dataframe thead th {\n",
              "        text-align: right;\n",
              "    }\n",
              "</style>\n",
              "<table border=\"1\" class=\"dataframe\">\n",
              "  <thead>\n",
              "    <tr style=\"text-align: right;\">\n",
              "      <th></th>\n",
              "      <th>CLUNI</th>\n",
              "      <th>RFC</th>\n",
              "      <th>ESTATUS</th>\n",
              "      <th>razon_social</th>\n",
              "    </tr>\n",
              "  </thead>\n",
              "  <tbody>\n",
              "    <tr>\n",
              "      <th>21395</th>\n",
              "      <td>NSD0903282801X</td>\n",
              "      <td>NSD090328JK6</td>\n",
              "      <td>INACTIVA</td>\n",
              "      <td>NaN</td>\n",
              "    </tr>\n",
              "    <tr>\n",
              "      <th>24222</th>\n",
              "      <td>CEP0606021701J</td>\n",
              "      <td>CEP060602MF5</td>\n",
              "      <td>INACTIVA</td>\n",
              "      <td>NaN</td>\n",
              "    </tr>\n",
              "    <tr>\n",
              "      <th>36158</th>\n",
              "      <td>CAT16032309YPF</td>\n",
              "      <td>CAT160323HT0</td>\n",
              "      <td>ACTIVA</td>\n",
              "      <td>NaN</td>\n",
              "    </tr>\n",
              "    <tr>\n",
              "      <th>36437</th>\n",
              "      <td>POT16042030U0A</td>\n",
              "      <td>POT160420764</td>\n",
              "      <td>INACTIVA</td>\n",
              "      <td>NaN</td>\n",
              "    </tr>\n",
              "    <tr>\n",
              "      <th>19339</th>\n",
              "      <td>CCM03082211013</td>\n",
              "      <td>CCM030822K22</td>\n",
              "      <td>INACTIVA</td>\n",
              "      <td>NaN</td>\n",
              "    </tr>\n",
              "  </tbody>\n",
              "</table>\n",
              "</div>"
            ],
            "text/plain": [
              "                CLUNI           RFC   ESTATUS razon_social\n",
              "21395  NSD0903282801X  NSD090328JK6  INACTIVA          NaN\n",
              "24222  CEP0606021701J  CEP060602MF5  INACTIVA          NaN\n",
              "36158  CAT16032309YPF  CAT160323HT0    ACTIVA          NaN\n",
              "36437  POT16042030U0A  POT160420764  INACTIVA          NaN\n",
              "19339  CCM03082211013  CCM030822K22  INACTIVA          NaN"
            ]
          },
          "metadata": {
            "tags": []
          },
          "execution_count": 186
        }
      ]
    },
    {
      "cell_type": "code",
      "metadata": {
        "colab": {
          "base_uri": "https://localhost:8080/",
          "height": 204
        },
        "id": "QDnbcRKtLc1C",
        "outputId": "5bf184ec-7b80-40bd-f143-531829b130ae"
      },
      "source": [
        "df_osc2[df_osc2.CLUNI.isna()].sample(5)"
      ],
      "execution_count": 187,
      "outputs": [
        {
          "output_type": "execute_result",
          "data": {
            "text/html": [
              "<div>\n",
              "<style scoped>\n",
              "    .dataframe tbody tr th:only-of-type {\n",
              "        vertical-align: middle;\n",
              "    }\n",
              "\n",
              "    .dataframe tbody tr th {\n",
              "        vertical-align: top;\n",
              "    }\n",
              "\n",
              "    .dataframe thead th {\n",
              "        text-align: right;\n",
              "    }\n",
              "</style>\n",
              "<table border=\"1\" class=\"dataframe\">\n",
              "  <thead>\n",
              "    <tr style=\"text-align: right;\">\n",
              "      <th></th>\n",
              "      <th>CLUNI</th>\n",
              "      <th>RFC</th>\n",
              "      <th>ESTATUS</th>\n",
              "      <th>razon_social</th>\n",
              "    </tr>\n",
              "  </thead>\n",
              "  <tbody>\n",
              "    <tr>\n",
              "      <th>49838</th>\n",
              "      <td>NaN</td>\n",
              "      <td>CIO8004181K5</td>\n",
              "      <td>NaN</td>\n",
              "      <td>Centro de Investigaciones en Óptica, A.C.</td>\n",
              "    </tr>\n",
              "    <tr>\n",
              "      <th>46879</th>\n",
              "      <td>NaN</td>\n",
              "      <td>CID110622RF6</td>\n",
              "      <td>NaN</td>\n",
              "      <td>Centro Integral Down, A.C.</td>\n",
              "    </tr>\n",
              "    <tr>\n",
              "      <th>48601</th>\n",
              "      <td>NaN</td>\n",
              "      <td>CEE881021RQ7</td>\n",
              "      <td>NaN</td>\n",
              "      <td>Centro Escolar El Encino, A.C.</td>\n",
              "    </tr>\n",
              "    <tr>\n",
              "      <th>50676</th>\n",
              "      <td>NaN</td>\n",
              "      <td>FRA200825SH1</td>\n",
              "      <td>NaN</td>\n",
              "      <td>FUNDACION REIMAGINANDO LA AYUDA Y LA ENSEÑANZA...</td>\n",
              "    </tr>\n",
              "    <tr>\n",
              "      <th>49687</th>\n",
              "      <td>NaN</td>\n",
              "      <td>SVS8609108J4</td>\n",
              "      <td>NaN</td>\n",
              "      <td>Secundaria Vespertina Simón Bolivar, A.C.Educa...</td>\n",
              "    </tr>\n",
              "  </tbody>\n",
              "</table>\n",
              "</div>"
            ],
            "text/plain": [
              "      CLUNI  ...                                       razon_social\n",
              "49838   NaN  ...          Centro de Investigaciones en Óptica, A.C.\n",
              "46879   NaN  ...                         Centro Integral Down, A.C.\n",
              "48601   NaN  ...                     Centro Escolar El Encino, A.C.\n",
              "50676   NaN  ...  FUNDACION REIMAGINANDO LA AYUDA Y LA ENSEÑANZA...\n",
              "49687   NaN  ...  Secundaria Vespertina Simón Bolivar, A.C.Educa...\n",
              "\n",
              "[5 rows x 4 columns]"
            ]
          },
          "metadata": {
            "tags": []
          },
          "execution_count": 187
        }
      ]
    },
    {
      "cell_type": "code",
      "metadata": {
        "colab": {
          "base_uri": "https://localhost:8080/"
        },
        "id": "qIDdURd8LlB7",
        "outputId": "93ce912b-0bdd-4ac6-ff92-92db157db81f"
      },
      "source": [
        "print(len(df_osc2.RFC))\n",
        "print(len(df_osc2.RFC.drop_duplicates()))"
      ],
      "execution_count": 188,
      "outputs": [
        {
          "output_type": "stream",
          "text": [
            "50726\n",
            "46097\n"
          ],
          "name": "stdout"
        }
      ]
    },
    {
      "cell_type": "code",
      "metadata": {
        "colab": {
          "base_uri": "https://localhost:8080/"
        },
        "id": "YkkYX-M9MPHD",
        "outputId": "0014c313-f71d-46e2-94ca-6aa0f5f1556d"
      },
      "source": [
        "\n",
        "df_osc2.RFC.value_counts()[df_osc2.RFC.value_counts() > 1]"
      ],
      "execution_count": 189,
      "outputs": [
        {
          "output_type": "execute_result",
          "data": {
            "text/plain": [
              "                716\n",
              "CDD110128IP9      4\n",
              "DTV080303U27      4\n",
              "CEA080620JH9      3\n",
              "AMA460703AU4      3\n",
              "               ... \n",
              "PUY121211AT1      2\n",
              "FCA1111246Y8      2\n",
              "ASC110726IP4      2\n",
              "PBA1506161G3      2\n",
              "AUI170126HN7      2\n",
              "Name: RFC, Length: 3905, dtype: int64"
            ]
          },
          "metadata": {
            "tags": []
          },
          "execution_count": 189
        }
      ]
    },
    {
      "cell_type": "code",
      "metadata": {
        "colab": {
          "base_uri": "https://localhost:8080/",
          "height": 173
        },
        "id": "F6-NKaDQLqGD",
        "outputId": "f0166977-a38c-4d3e-ce82-9bea61ae7f8d"
      },
      "source": [
        "df_osc2[df_osc2.RFC == 'CDD110128IP9']"
      ],
      "execution_count": 190,
      "outputs": [
        {
          "output_type": "execute_result",
          "data": {
            "text/html": [
              "<div>\n",
              "<style scoped>\n",
              "    .dataframe tbody tr th:only-of-type {\n",
              "        vertical-align: middle;\n",
              "    }\n",
              "\n",
              "    .dataframe tbody tr th {\n",
              "        vertical-align: top;\n",
              "    }\n",
              "\n",
              "    .dataframe thead th {\n",
              "        text-align: right;\n",
              "    }\n",
              "</style>\n",
              "<table border=\"1\" class=\"dataframe\">\n",
              "  <thead>\n",
              "    <tr style=\"text-align: right;\">\n",
              "      <th></th>\n",
              "      <th>CLUNI</th>\n",
              "      <th>RFC</th>\n",
              "      <th>ESTATUS</th>\n",
              "      <th>razon_social</th>\n",
              "    </tr>\n",
              "  </thead>\n",
              "  <tbody>\n",
              "    <tr>\n",
              "      <th>14353</th>\n",
              "      <td>CDD1101281001C</td>\n",
              "      <td>CDD110128IP9</td>\n",
              "      <td>INACTIVA</td>\n",
              "      <td>Centro Destellos de Luz para Adultos Mayores, ...</td>\n",
              "    </tr>\n",
              "    <tr>\n",
              "      <th>14354</th>\n",
              "      <td>CDD1101281001C</td>\n",
              "      <td>CDD110128IP9</td>\n",
              "      <td>INACTIVA</td>\n",
              "      <td>Centro Destellos de Luz para Adultos Mayores, ...</td>\n",
              "    </tr>\n",
              "    <tr>\n",
              "      <th>14355</th>\n",
              "      <td>CDD1101281002D</td>\n",
              "      <td>CDD110128IP9</td>\n",
              "      <td>ACTIVA</td>\n",
              "      <td>Centro Destellos de Luz para Adultos Mayores, ...</td>\n",
              "    </tr>\n",
              "    <tr>\n",
              "      <th>14356</th>\n",
              "      <td>CDD1101281002D</td>\n",
              "      <td>CDD110128IP9</td>\n",
              "      <td>ACTIVA</td>\n",
              "      <td>Centro Destellos de Luz para Adultos Mayores, ...</td>\n",
              "    </tr>\n",
              "  </tbody>\n",
              "</table>\n",
              "</div>"
            ],
            "text/plain": [
              "                CLUNI  ...                                       razon_social\n",
              "14353  CDD1101281001C  ...  Centro Destellos de Luz para Adultos Mayores, ...\n",
              "14354  CDD1101281001C  ...  Centro Destellos de Luz para Adultos Mayores, ...\n",
              "14355  CDD1101281002D  ...  Centro Destellos de Luz para Adultos Mayores, ...\n",
              "14356  CDD1101281002D  ...  Centro Destellos de Luz para Adultos Mayores, ...\n",
              "\n",
              "[4 rows x 4 columns]"
            ]
          },
          "metadata": {
            "tags": []
          },
          "execution_count": 190
        }
      ]
    },
    {
      "cell_type": "code",
      "metadata": {
        "id": "EkkTAeHDL3Ef"
      },
      "source": [
        ""
      ],
      "execution_count": null,
      "outputs": []
    }
  ]
}