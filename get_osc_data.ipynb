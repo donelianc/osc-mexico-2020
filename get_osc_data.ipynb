{
  "nbformat": 4,
  "nbformat_minor": 0,
  "metadata": {
    "colab": {
      "name": "get_osc_data.ipynb",
      "provenance": [],
      "collapsed_sections": [
        "iI6hplGSBPtH",
        "EJj-dMi7HFgw",
        "gGbRTqIAXnTu"
      ],
      "toc_visible": true
    },
    "kernelspec": {
      "display_name": "Python 3",
      "name": "python3"
    }
  },
  "cells": [
    {
      "cell_type": "code",
      "metadata": {
        "id": "mV8WD56fP2Zr"
      },
      "source": [
        "import requests\n",
        "import pandas as pd\n",
        "import numpy as np\n",
        "from datetime import datetime as dt"
      ],
      "execution_count": 1,
      "outputs": []
    },
    {
      "cell_type": "code",
      "metadata": {
        "colab": {
          "base_uri": "https://localhost:8080/"
        },
        "id": "RCshZVHx9fz2",
        "outputId": "9d8e8175-0280-4b0c-f7e8-68311a9bbe46"
      },
      "source": [
        "from google.colab import drive\n",
        "drive.mount('/content/drive')"
      ],
      "execution_count": 2,
      "outputs": [
        {
          "output_type": "stream",
          "text": [
            "Drive already mounted at /content/drive; to attempt to forcibly remount, call drive.mount(\"/content/drive\", force_remount=True).\n"
          ],
          "name": "stdout"
        }
      ]
    },
    {
      "cell_type": "code",
      "metadata": {
        "id": "ISvfBehEIC-5"
      },
      "source": [
        "import matplotlib.pyplot as plt\n",
        "plt.rcParams['figure.figsize'] = [10, 10]"
      ],
      "execution_count": 3,
      "outputs": []
    },
    {
      "cell_type": "markdown",
      "metadata": {
        "id": "iI6hplGSBPtH"
      },
      "source": [
        "## 1. OSC con Clave Única de Inscripción"
      ]
    },
    {
      "cell_type": "code",
      "metadata": {
        "id": "7JD9SYvKCkx7"
      },
      "source": [
        "CLUNI = ''\n",
        "NOMBRE = ''\n",
        "ACRONIMO = ''\n",
        "RFC = ''\n",
        "STATUS_OSC = ''\n",
        "STATUS_SANCION = ''\n",
        "FIGURA_JURIDICA = ''\n",
        "ESTADO = ''\n",
        "MUNICIPIO = ''\n",
        "ASENTAMIENTO = ''\n",
        "CP = ''\n",
        "REP_NOMBRE = ''\n",
        "REP_APATERNO = ''\n",
        "REP_AMATERNO = ''\n",
        "NUM_NOTARIA = ''\n",
        "OBJETO_SOCIAL = ''\n",
        "RED = ''\n",
        "ADVANCED = ''"
      ],
      "execution_count": 62,
      "outputs": []
    },
    {
      "cell_type": "code",
      "metadata": {
        "id": "1GtEqjMSCuKG"
      },
      "source": [
        "CLUNI_URL = f\"http://www.sii.gob.mx/portal/organizaciones/excel/?cluni={CLUNI}&nombre={NOMBRE}&acronimo={ACRONIMO}&rfc={RFC}&status_osc={STATUS_OSC}&status_sancion={STATUS_SANCION}&figura_juridica={FIGURA_JURIDICA}&estado={ESTADO}&municipio={MUNICIPIO}&asentamiento={ASENTAMIENTO}&cp={CP}&rep_nombre={REP_NOMBRE}&rep_apaterno={REP_APATERNO}&rep_amaterno={REP_AMATERNO}&num_notaria={NUM_NOTARIA}&objeto_social={OBJETO_SOCIAL}&red={RED}&advanced=1\""
      ],
      "execution_count": 63,
      "outputs": []
    },
    {
      "cell_type": "code",
      "metadata": {
        "id": "kn_rrecRDh1z"
      },
      "source": [
        "payload={}\n",
        "headers = {\n",
        "  'Upgrade-Insecure-Requests': '1',\n",
        "  'User-Agent': 'Mozilla/5.0 (Macintosh; Intel Mac OS X 11_2_0) AppleWebKit/537.36 (KHTML, like Gecko) Chrome/88.0.4324.96 Safari/537.36',\n",
        "  'Accept': 'text/html,application/xhtml+xml,application/xml;q=0.9,image/avif,image/webp,image/apng,*/*;q=0.8,application/signed-exchange;v=b3;q=0.9'\n",
        "}"
      ],
      "execution_count": 64,
      "outputs": []
    },
    {
      "cell_type": "code",
      "metadata": {
        "id": "HfEtPSjLDIoH"
      },
      "source": [
        "cluni_response = requests.request(\"GET\", CLUNI_URL, headers=headers, data=payload)"
      ],
      "execution_count": 65,
      "outputs": []
    },
    {
      "cell_type": "code",
      "metadata": {
        "id": "LjPR-20_-ber"
      },
      "source": [
        "CLUNI_NOW = str(dt.now())[:19].replace(' ', '-').replace(':', '-')"
      ],
      "execution_count": 66,
      "outputs": []
    },
    {
      "cell_type": "code",
      "metadata": {
        "id": "5xd2The89OC1"
      },
      "source": [
        "with open(f\"/content/drive/MyDrive/NewCo/intel/data/SIRFOSC/report-rfosc-{CLUNI_NOW}.txt\", \"w+\") as f:\n",
        "  f.write(cluni_response.text)"
      ],
      "execution_count": 67,
      "outputs": []
    },
    {
      "cell_type": "code",
      "metadata": {
        "id": "ZOH43fh5Dqb_"
      },
      "source": [
        "df_osc_cluni = pd.DataFrame([row.split('\",\"') for row in cluni_response.text.split('\\n')])\n",
        "df_osc_cluni[0] = df_osc_cluni[0].str.replace('\"', '')\n",
        "df_osc_cluni[df_osc_cluni.shape[1]-1] = df_osc_cluni[df_osc_cluni.shape[1]-1].str.replace('\"\\r', '')\n",
        "df_osc_cluni = df_osc_cluni.rename(columns=df_osc_cluni.iloc[0]).iloc[1:]\n",
        "df_osc_cluni = df_osc_cluni[:-1]"
      ],
      "execution_count": 68,
      "outputs": []
    },
    {
      "cell_type": "code",
      "metadata": {
        "colab": {
          "base_uri": "https://localhost:8080/",
          "height": 496
        },
        "id": "Ahac-XYg8Pps",
        "outputId": "05a93770-0701-447f-e4ee-0b2a9ade3a1a"
      },
      "source": [
        "df_osc_cluni.head()"
      ],
      "execution_count": 69,
      "outputs": [
        {
          "output_type": "execute_result",
          "data": {
            "text/html": [
              "<div>\n",
              "<style scoped>\n",
              "    .dataframe tbody tr th:only-of-type {\n",
              "        vertical-align: middle;\n",
              "    }\n",
              "\n",
              "    .dataframe tbody tr th {\n",
              "        vertical-align: top;\n",
              "    }\n",
              "\n",
              "    .dataframe thead th {\n",
              "        text-align: right;\n",
              "    }\n",
              "</style>\n",
              "<table border=\"1\" class=\"dataframe\">\n",
              "  <thead>\n",
              "    <tr style=\"text-align: right;\">\n",
              "      <th></th>\n",
              "      <th>CLUNI</th>\n",
              "      <th>RAZON SOCIAL</th>\n",
              "      <th>FIGURA JURIDICA</th>\n",
              "      <th>RFC</th>\n",
              "      <th>ESTATUS</th>\n",
              "      <th>ESTATUS DE SANCION</th>\n",
              "      <th>REPRESENTANTES LEGALES</th>\n",
              "      <th>ESTATUS DE LA REPRESENTACION</th>\n",
              "      <th>FECHA DE CONSTITUCION</th>\n",
              "      <th>FECHA DE INSCRIPCION</th>\n",
              "      <th>CORREO(S)</th>\n",
              "      <th>TELEFONO(S)</th>\n",
              "      <th>ENTIDAD FEDERATIVA DOMICILIO</th>\n",
              "      <th>MUNICIPIO</th>\n",
              "      <th>ASENTAMIENTO(COLONIA)</th>\n",
              "      <th>VIALIDAD (CALLE)</th>\n",
              "      <th>NUMERO EXTERIOR</th>\n",
              "      <th>NUMERO INTERIOR</th>\n",
              "      <th>CP</th>\n",
              "      <th>REDES</th>\n",
              "      <th>ACTIVIDAD_1</th>\n",
              "      <th>ACTIVIDAD_2</th>\n",
              "      <th>ACTIVIDAD_3</th>\n",
              "      <th>ACTIVIDAD_4</th>\n",
              "      <th>ACTIVIDAD_5</th>\n",
              "      <th>ACTIVIDAD_6</th>\n",
              "      <th>ACTIVIDAD_7</th>\n",
              "      <th>ACTIVIDAD_8</th>\n",
              "      <th>ACTIVIDAD_9</th>\n",
              "      <th>ACTIVIDAD_10</th>\n",
              "      <th>ACTIVIDAD_11</th>\n",
              "      <th>ACTIVIDAD_12</th>\n",
              "      <th>ACTIVIDAD_13</th>\n",
              "      <th>ACTIVIDAD_14</th>\n",
              "      <th>ACTIVIDAD_15</th>\n",
              "      <th>ACTIVIDAD_16</th>\n",
              "      <th>ACTIVIDAD_17</th>\n",
              "      <th>ACTIVIDAD_18</th>\n",
              "      <th>ACTIVIDAD_19</th>\n",
              "      <th>INFORME 2005 PRESENTADO</th>\n",
              "      <th>INFORME 2005 EN TIEMPO</th>\n",
              "      <th>INFORME 2006 PRESENTADO</th>\n",
              "      <th>INFORME 2006 EN TIEMPO</th>\n",
              "      <th>INFORME 2007 PRESENTADO</th>\n",
              "      <th>INFORME 2007 EN TIEMPO</th>\n",
              "      <th>INFORME 2008 PRESENTADO</th>\n",
              "      <th>INFORME 2008 EN TIEMPO</th>\n",
              "      <th>INFORME 2009 PRESENTADO</th>\n",
              "      <th>INFORME 2009 EN TIEMPO</th>\n",
              "      <th>INFORME 2010 PRESENTADO</th>\n",
              "      <th>INFORME 2010 EN TIEMPO</th>\n",
              "      <th>INFORME 2011 PRESENTADO</th>\n",
              "      <th>INFORME 2011 EN TIEMPO</th>\n",
              "      <th>INFORME 2012 PRESENTADO</th>\n",
              "      <th>INFORME 2012 EN TIEMPO</th>\n",
              "      <th>INFORME 2013 PRESENTADO</th>\n",
              "      <th>INFORME 2013 EN TIEMPO</th>\n",
              "      <th>INFORME 2014 PRESENTADO</th>\n",
              "      <th>INFORME 2014 EN TIEMPO</th>\n",
              "      <th>INFORME 2015 PRESENTADO</th>\n",
              "      <th>INFORME 2015 EN TIEMPO</th>\n",
              "      <th>INFORME 2016 PRESENTADO</th>\n",
              "      <th>INFORME 2016 EN TIEMPO</th>\n",
              "      <th>INFORME 2017 PRESENTADO</th>\n",
              "      <th>INFORME 2017 EN TIEMPO</th>\n",
              "      <th>INFORME 2018 PRESENTADO</th>\n",
              "      <th>INFORME 2018 EN TIEMPO</th>\n",
              "      <th>INFORME 2019 PRESENTADO</th>\n",
              "      <th>INFORME 2019 EN TIEMPO</th>\n",
              "    </tr>\n",
              "  </thead>\n",
              "  <tbody>\n",
              "    <tr>\n",
              "      <th>1</th>\n",
              "      <td>VCO98091405018</td>\n",
              "      <td>Voluntades por Coahuila</td>\n",
              "      <td>Asociación Civil</td>\n",
              "      <td>VCO980914457</td>\n",
              "      <td>ACTIVA</td>\n",
              "      <td>N/A</td>\n",
              "      <td>Rodrigo Montelongo Suárez</td>\n",
              "      <td>VENCIDA</td>\n",
              "      <td>1998-09-14</td>\n",
              "      <td>2005-05-18</td>\n",
              "      <td>grafitos@hotmail.com</td>\n",
              "      <td>(844) 4105590</td>\n",
              "      <td>Coahuila</td>\n",
              "      <td>Saltillo</td>\n",
              "      <td>Jacarandas Jardín</td>\n",
              "      <td>Jacarandas</td>\n",
              "      <td>124</td>\n",
              "      <td></td>\n",
              "      <td>25203</td>\n",
              "      <td>Consejo de Organismos No Gubernamentales de Co...</td>\n",
              "      <td>SI</td>\n",
              "      <td>NO</td>\n",
              "      <td>NO</td>\n",
              "      <td>NO</td>\n",
              "      <td>NO</td>\n",
              "      <td>NO</td>\n",
              "      <td>NO</td>\n",
              "      <td>NO</td>\n",
              "      <td>NO</td>\n",
              "      <td>NO</td>\n",
              "      <td>NO</td>\n",
              "      <td>NO</td>\n",
              "      <td>NO</td>\n",
              "      <td>NO</td>\n",
              "      <td>NO</td>\n",
              "      <td>NO</td>\n",
              "      <td>NO</td>\n",
              "      <td>NO</td>\n",
              "      <td>NO</td>\n",
              "      <td>SI</td>\n",
              "      <td>SI</td>\n",
              "      <td>SI</td>\n",
              "      <td>NO</td>\n",
              "      <td>SI</td>\n",
              "      <td>NO</td>\n",
              "      <td>SI</td>\n",
              "      <td>NO</td>\n",
              "      <td>SI</td>\n",
              "      <td>NO</td>\n",
              "      <td>SI</td>\n",
              "      <td>SI</td>\n",
              "      <td>SI</td>\n",
              "      <td>SI</td>\n",
              "      <td>SI</td>\n",
              "      <td>SI</td>\n",
              "      <td>NO</td>\n",
              "      <td>NA</td>\n",
              "      <td>NO</td>\n",
              "      <td>NA</td>\n",
              "      <td>NO</td>\n",
              "      <td>NA</td>\n",
              "      <td>NO</td>\n",
              "      <td>NA</td>\n",
              "      <td>NO</td>\n",
              "      <td>NA</td>\n",
              "      <td>NO</td>\n",
              "      <td>NA</td>\n",
              "      <td>NO</td>\n",
              "      <td>NA</td>\n",
              "    </tr>\n",
              "    <tr>\n",
              "      <th>2</th>\n",
              "      <td>UEF0303170101D</td>\n",
              "      <td>Unión Estatal Femenil FEPRA</td>\n",
              "      <td>Asociación Civil</td>\n",
              "      <td>UEF0303179P9</td>\n",
              "      <td>ACTIVA</td>\n",
              "      <td>N/A</td>\n",
              "      <td>Adriana Díaz de León Valdivia</td>\n",
              "      <td>VIGENTE</td>\n",
              "      <td>2003-03-17</td>\n",
              "      <td>2005-02-22</td>\n",
              "      <td>ufepra2004@yahoo.com.mx</td>\n",
              "      <td>(449) 9965235,(449) 9965235</td>\n",
              "      <td>Aguascalientes</td>\n",
              "      <td>Aguascalientes</td>\n",
              "      <td>San Ignacio</td>\n",
              "      <td>Granja El Gavilán</td>\n",
              "      <td>S/N</td>\n",
              "      <td></td>\n",
              "      <td>20326</td>\n",
              "      <td></td>\n",
              "      <td>NO</td>\n",
              "      <td>NO</td>\n",
              "      <td>SI</td>\n",
              "      <td>NO</td>\n",
              "      <td>NO</td>\n",
              "      <td>SI</td>\n",
              "      <td>NO</td>\n",
              "      <td>SI</td>\n",
              "      <td>NO</td>\n",
              "      <td>NO</td>\n",
              "      <td>NO</td>\n",
              "      <td>SI</td>\n",
              "      <td>SI</td>\n",
              "      <td>SI</td>\n",
              "      <td>NO</td>\n",
              "      <td>NO</td>\n",
              "      <td>NO</td>\n",
              "      <td>NO</td>\n",
              "      <td>NO</td>\n",
              "      <td>SI</td>\n",
              "      <td>SI</td>\n",
              "      <td>SI</td>\n",
              "      <td>NO</td>\n",
              "      <td>SI</td>\n",
              "      <td>SI</td>\n",
              "      <td>SI</td>\n",
              "      <td>SI</td>\n",
              "      <td>SI</td>\n",
              "      <td>SI</td>\n",
              "      <td>SI</td>\n",
              "      <td>SI</td>\n",
              "      <td>SI</td>\n",
              "      <td>SI</td>\n",
              "      <td>SI</td>\n",
              "      <td>SI</td>\n",
              "      <td>SI</td>\n",
              "      <td>SI</td>\n",
              "      <td>SI</td>\n",
              "      <td>SI</td>\n",
              "      <td>NO</td>\n",
              "      <td>NA</td>\n",
              "      <td>NO</td>\n",
              "      <td>NA</td>\n",
              "      <td>NO</td>\n",
              "      <td>NA</td>\n",
              "      <td>NO</td>\n",
              "      <td>NA</td>\n",
              "      <td>NO</td>\n",
              "      <td>NA</td>\n",
              "    </tr>\n",
              "    <tr>\n",
              "      <th>3</th>\n",
              "      <td>FOJ04100219013</td>\n",
              "      <td>Federación de Organizaciones Juveniles</td>\n",
              "      <td>Asociación Civil</td>\n",
              "      <td>FOJ041002PB3</td>\n",
              "      <td>INACTIVA</td>\n",
              "      <td>N/A</td>\n",
              "      <td>Jorge Alberto Arrambide Montemayor</td>\n",
              "      <td>VIGENTE</td>\n",
              "      <td>2004-10-02</td>\n",
              "      <td>2005-03-09</td>\n",
              "      <td>jorgearrambide@foj-nl.org.mx</td>\n",
              "      <td>(81) 83434270,(81) 83434270,(81) 83434091</td>\n",
              "      <td>Nuevo León</td>\n",
              "      <td>Monterrey</td>\n",
              "      <td>El Mirador</td>\n",
              "      <td>Madrid</td>\n",
              "      <td>211</td>\n",
              "      <td></td>\n",
              "      <td>64990</td>\n",
              "      <td></td>\n",
              "      <td>NO</td>\n",
              "      <td>NO</td>\n",
              "      <td>SI</td>\n",
              "      <td>NO</td>\n",
              "      <td>NO</td>\n",
              "      <td>NO</td>\n",
              "      <td>NO</td>\n",
              "      <td>SI</td>\n",
              "      <td>NO</td>\n",
              "      <td>NO</td>\n",
              "      <td>NO</td>\n",
              "      <td>NO</td>\n",
              "      <td>NO</td>\n",
              "      <td>NO</td>\n",
              "      <td>NO</td>\n",
              "      <td>SI</td>\n",
              "      <td>NO</td>\n",
              "      <td>NO</td>\n",
              "      <td>NO</td>\n",
              "      <td>NO</td>\n",
              "      <td>NA</td>\n",
              "      <td>NO</td>\n",
              "      <td>NA</td>\n",
              "      <td>NO</td>\n",
              "      <td>NA</td>\n",
              "      <td>NO</td>\n",
              "      <td>NA</td>\n",
              "      <td>NO</td>\n",
              "      <td>NA</td>\n",
              "      <td>NO</td>\n",
              "      <td>NA</td>\n",
              "      <td>NO</td>\n",
              "      <td>NA</td>\n",
              "      <td>NO</td>\n",
              "      <td>NA</td>\n",
              "      <td>NO</td>\n",
              "      <td>NA</td>\n",
              "      <td>NO</td>\n",
              "      <td>NA</td>\n",
              "      <td>NO</td>\n",
              "      <td>NA</td>\n",
              "      <td>NO</td>\n",
              "      <td>NA</td>\n",
              "      <td>NO</td>\n",
              "      <td>NA</td>\n",
              "      <td>NO</td>\n",
              "      <td>NA</td>\n",
              "      <td>NO</td>\n",
              "      <td>NA</td>\n",
              "    </tr>\n",
              "    <tr>\n",
              "      <th>4</th>\n",
              "      <td>ARP95040609019</td>\n",
              "      <td>Aguilas Reales Pro Dignidad del Discapacitado</td>\n",
              "      <td>Asociación Civil</td>\n",
              "      <td>ARP950406IF8</td>\n",
              "      <td>ACTIVA</td>\n",
              "      <td>N/A</td>\n",
              "      <td>David Peral Manzo,David Peral Manzo</td>\n",
              "      <td>VENCIDA</td>\n",
              "      <td>1995-04-06</td>\n",
              "      <td>2005-04-21</td>\n",
              "      <td>aguilasrealesac8@hotmail.com</td>\n",
              "      <td>(55) 26048545</td>\n",
              "      <td>Distrito Federal</td>\n",
              "      <td>Benito Juárez</td>\n",
              "      <td>Santa Cruz Atoyac</td>\n",
              "      <td>Emiliano Zapata</td>\n",
              "      <td>363</td>\n",
              "      <td></td>\n",
              "      <td>03310</td>\n",
              "      <td></td>\n",
              "      <td>NO</td>\n",
              "      <td>NO</td>\n",
              "      <td>SI</td>\n",
              "      <td>NO</td>\n",
              "      <td>NO</td>\n",
              "      <td>SI</td>\n",
              "      <td>SI</td>\n",
              "      <td>NO</td>\n",
              "      <td>SI</td>\n",
              "      <td>SI</td>\n",
              "      <td>NO</td>\n",
              "      <td>NO</td>\n",
              "      <td>SI</td>\n",
              "      <td>NO</td>\n",
              "      <td>NO</td>\n",
              "      <td>NO</td>\n",
              "      <td>NO</td>\n",
              "      <td>NO</td>\n",
              "      <td>NO</td>\n",
              "      <td>NO</td>\n",
              "      <td>NA</td>\n",
              "      <td>NO</td>\n",
              "      <td>NA</td>\n",
              "      <td>NO</td>\n",
              "      <td>NA</td>\n",
              "      <td>NO</td>\n",
              "      <td>NA</td>\n",
              "      <td>NO</td>\n",
              "      <td>NA</td>\n",
              "      <td>NO</td>\n",
              "      <td>NA</td>\n",
              "      <td>NO</td>\n",
              "      <td>NA</td>\n",
              "      <td>NO</td>\n",
              "      <td>NA</td>\n",
              "      <td>NO</td>\n",
              "      <td>NA</td>\n",
              "      <td>NO</td>\n",
              "      <td>NA</td>\n",
              "      <td>NO</td>\n",
              "      <td>NA</td>\n",
              "      <td>NO</td>\n",
              "      <td>NA</td>\n",
              "      <td>NO</td>\n",
              "      <td>NA</td>\n",
              "      <td>NO</td>\n",
              "      <td>NA</td>\n",
              "      <td>NO</td>\n",
              "      <td>NA</td>\n",
              "    </tr>\n",
              "    <tr>\n",
              "      <th>5</th>\n",
              "      <td>FIM97120122015</td>\n",
              "      <td>Formación Integral de la Mujer</td>\n",
              "      <td>Institución de Asistencia Privada</td>\n",
              "      <td>FIM971201896</td>\n",
              "      <td>INACTIVA</td>\n",
              "      <td>N/A</td>\n",
              "      <td>María Teresa Duarte Belloc,María Teresa Rodríg...</td>\n",
              "      <td>VIGENTE</td>\n",
              "      <td>1997-09-18</td>\n",
              "      <td>2005-04-08</td>\n",
              "      <td>fimiap@hotmail.com</td>\n",
              "      <td>(442) 2121756,(442) 2121756</td>\n",
              "      <td>Querétaro</td>\n",
              "      <td>Corregidora</td>\n",
              "      <td>Camino Real</td>\n",
              "      <td>Guerrero</td>\n",
              "      <td>10 Norte</td>\n",
              "      <td></td>\n",
              "      <td>76086</td>\n",
              "      <td></td>\n",
              "      <td>NO</td>\n",
              "      <td>NO</td>\n",
              "      <td>NO</td>\n",
              "      <td>NO</td>\n",
              "      <td>NO</td>\n",
              "      <td>SI</td>\n",
              "      <td>NO</td>\n",
              "      <td>NO</td>\n",
              "      <td>NO</td>\n",
              "      <td>NO</td>\n",
              "      <td>NO</td>\n",
              "      <td>NO</td>\n",
              "      <td>SI</td>\n",
              "      <td>NO</td>\n",
              "      <td>NO</td>\n",
              "      <td>NO</td>\n",
              "      <td>NO</td>\n",
              "      <td>NO</td>\n",
              "      <td>NO</td>\n",
              "      <td>SI</td>\n",
              "      <td>SI</td>\n",
              "      <td>SI</td>\n",
              "      <td>NO</td>\n",
              "      <td>SI</td>\n",
              "      <td>SI</td>\n",
              "      <td>SI</td>\n",
              "      <td>SI</td>\n",
              "      <td>SI</td>\n",
              "      <td>SI</td>\n",
              "      <td>SI</td>\n",
              "      <td>SI</td>\n",
              "      <td>SI</td>\n",
              "      <td>SI</td>\n",
              "      <td>SI</td>\n",
              "      <td>NO</td>\n",
              "      <td>SI</td>\n",
              "      <td>SI</td>\n",
              "      <td>SI</td>\n",
              "      <td>SI</td>\n",
              "      <td>SI</td>\n",
              "      <td>SI</td>\n",
              "      <td>SI</td>\n",
              "      <td>SI</td>\n",
              "      <td>SI</td>\n",
              "      <td>SI</td>\n",
              "      <td>SI</td>\n",
              "      <td>SI</td>\n",
              "      <td>NO</td>\n",
              "      <td>NA</td>\n",
              "    </tr>\n",
              "  </tbody>\n",
              "</table>\n",
              "</div>"
            ],
            "text/plain": [
              "            CLUNI  ... INFORME 2019 EN TIEMPO\n",
              "1  VCO98091405018  ...                     NA\n",
              "2  UEF0303170101D  ...                     NA\n",
              "3  FOJ04100219013  ...                     NA\n",
              "4  ARP95040609019  ...                     NA\n",
              "5  FIM97120122015  ...                     NA\n",
              "\n",
              "[5 rows x 69 columns]"
            ]
          },
          "metadata": {
            "tags": []
          },
          "execution_count": 69
        }
      ]
    },
    {
      "cell_type": "code",
      "metadata": {
        "colab": {
          "base_uri": "https://localhost:8080/"
        },
        "id": "kehbMf_6THlH",
        "outputId": "b43ad6d0-f678-419c-cb1e-dfc09dfe3d4d"
      },
      "source": [
        "df_osc_cluni.shape"
      ],
      "execution_count": 70,
      "outputs": [
        {
          "output_type": "execute_result",
          "data": {
            "text/plain": [
              "(42728, 69)"
            ]
          },
          "metadata": {
            "tags": []
          },
          "execution_count": 70
        }
      ]
    },
    {
      "cell_type": "code",
      "metadata": {
        "id": "-QkjRNEn8obu"
      },
      "source": [
        "df_osc_cluni.to_csv(f\"/content/drive/MyDrive/NewCo/intel/data/SIRFOSC/report-rfosc-{CLUNI_NOW}.csv\")"
      ],
      "execution_count": 71,
      "outputs": []
    },
    {
      "cell_type": "code",
      "metadata": {
        "colab": {
          "base_uri": "https://localhost:8080/"
        },
        "id": "ZvFo7AzTH_Wd",
        "outputId": "b7d16d87-026a-415d-df6b-83a36ced14cf"
      },
      "source": [
        "df_osc_cluni.info()"
      ],
      "execution_count": 72,
      "outputs": [
        {
          "output_type": "stream",
          "text": [
            "<class 'pandas.core.frame.DataFrame'>\n",
            "RangeIndex: 42728 entries, 1 to 42728\n",
            "Data columns (total 69 columns):\n",
            " #   Column                        Non-Null Count  Dtype \n",
            "---  ------                        --------------  ----- \n",
            " 0   CLUNI                         42728 non-null  object\n",
            " 1   RAZON SOCIAL                  42728 non-null  object\n",
            " 2   FIGURA JURIDICA               42728 non-null  object\n",
            " 3   RFC                           42728 non-null  object\n",
            " 4   ESTATUS                       42728 non-null  object\n",
            " 5   ESTATUS DE SANCION            42728 non-null  object\n",
            " 6   REPRESENTANTES LEGALES        42728 non-null  object\n",
            " 7   ESTATUS DE LA REPRESENTACION  42728 non-null  object\n",
            " 8   FECHA DE CONSTITUCION         42728 non-null  object\n",
            " 9   FECHA DE INSCRIPCION          42728 non-null  object\n",
            " 10  CORREO(S)                     42728 non-null  object\n",
            " 11  TELEFONO(S)                   42727 non-null  object\n",
            " 12  ENTIDAD FEDERATIVA DOMICILIO  42727 non-null  object\n",
            " 13  MUNICIPIO                     42727 non-null  object\n",
            " 14  ASENTAMIENTO(COLONIA)         42727 non-null  object\n",
            " 15  VIALIDAD (CALLE)              42727 non-null  object\n",
            " 16  NUMERO EXTERIOR               42727 non-null  object\n",
            " 17  NUMERO INTERIOR               42727 non-null  object\n",
            " 18  CP                            42727 non-null  object\n",
            " 19  REDES                         42727 non-null  object\n",
            " 20  ACTIVIDAD_1                   42727 non-null  object\n",
            " 21  ACTIVIDAD_2                   42727 non-null  object\n",
            " 22  ACTIVIDAD_3                   42727 non-null  object\n",
            " 23  ACTIVIDAD_4                   42727 non-null  object\n",
            " 24  ACTIVIDAD_5                   42727 non-null  object\n",
            " 25  ACTIVIDAD_6                   42727 non-null  object\n",
            " 26  ACTIVIDAD_7                   42727 non-null  object\n",
            " 27  ACTIVIDAD_8                   42727 non-null  object\n",
            " 28  ACTIVIDAD_9                   42727 non-null  object\n",
            " 29  ACTIVIDAD_10                  42727 non-null  object\n",
            " 30  ACTIVIDAD_11                  42727 non-null  object\n",
            " 31  ACTIVIDAD_12                  42727 non-null  object\n",
            " 32  ACTIVIDAD_13                  42727 non-null  object\n",
            " 33  ACTIVIDAD_14                  42727 non-null  object\n",
            " 34  ACTIVIDAD_15                  42727 non-null  object\n",
            " 35  ACTIVIDAD_16                  42727 non-null  object\n",
            " 36  ACTIVIDAD_17                  42727 non-null  object\n",
            " 37  ACTIVIDAD_18                  42727 non-null  object\n",
            " 38  ACTIVIDAD_19                  42727 non-null  object\n",
            " 39  INFORME 2005 PRESENTADO       42727 non-null  object\n",
            " 40  INFORME 2005 EN TIEMPO        42727 non-null  object\n",
            " 41  INFORME 2006 PRESENTADO       42727 non-null  object\n",
            " 42  INFORME 2006 EN TIEMPO        42727 non-null  object\n",
            " 43  INFORME 2007 PRESENTADO       42727 non-null  object\n",
            " 44  INFORME 2007 EN TIEMPO        42727 non-null  object\n",
            " 45  INFORME 2008 PRESENTADO       42727 non-null  object\n",
            " 46  INFORME 2008 EN TIEMPO        42727 non-null  object\n",
            " 47  INFORME 2009 PRESENTADO       42727 non-null  object\n",
            " 48  INFORME 2009 EN TIEMPO        42727 non-null  object\n",
            " 49  INFORME 2010 PRESENTADO       42727 non-null  object\n",
            " 50  INFORME 2010 EN TIEMPO        42727 non-null  object\n",
            " 51  INFORME 2011 PRESENTADO       42727 non-null  object\n",
            " 52  INFORME 2011 EN TIEMPO        42727 non-null  object\n",
            " 53  INFORME 2012 PRESENTADO       42727 non-null  object\n",
            " 54  INFORME 2012 EN TIEMPO        42727 non-null  object\n",
            " 55  INFORME 2013 PRESENTADO       42727 non-null  object\n",
            " 56  INFORME 2013 EN TIEMPO        42727 non-null  object\n",
            " 57  INFORME 2014 PRESENTADO       42727 non-null  object\n",
            " 58  INFORME 2014 EN TIEMPO        42727 non-null  object\n",
            " 59  INFORME 2015 PRESENTADO       42726 non-null  object\n",
            " 60  INFORME 2015 EN TIEMPO        42726 non-null  object\n",
            " 61  INFORME 2016 PRESENTADO       42726 non-null  object\n",
            " 62  INFORME 2016 EN TIEMPO        42726 non-null  object\n",
            " 63  INFORME 2017 PRESENTADO       42726 non-null  object\n",
            " 64  INFORME 2017 EN TIEMPO        42726 non-null  object\n",
            " 65  INFORME 2018 PRESENTADO       42726 non-null  object\n",
            " 66  INFORME 2018 EN TIEMPO        42726 non-null  object\n",
            " 67  INFORME 2019 PRESENTADO       42726 non-null  object\n",
            " 68  INFORME 2019 EN TIEMPO        42726 non-null  object\n",
            "dtypes: object(69)\n",
            "memory usage: 22.5+ MB\n"
          ],
          "name": "stdout"
        }
      ]
    },
    {
      "cell_type": "code",
      "metadata": {
        "id": "8lR6S6bXJ8UK",
        "colab": {
          "base_uri": "https://localhost:8080/"
        },
        "outputId": "8a6b28da-087c-4177-c484-18f2b95822a9"
      },
      "source": [
        "df_osc_cluni.ESTATUS.value_counts()"
      ],
      "execution_count": 73,
      "outputs": [
        {
          "output_type": "execute_result",
          "data": {
            "text/plain": [
              "INACTIVA          29291\n",
              "ACTIVA            13436\n",
              "Cruz del Farol        1\n",
              "Name: ESTATUS, dtype: int64"
            ]
          },
          "metadata": {
            "tags": []
          },
          "execution_count": 73
        }
      ]
    },
    {
      "cell_type": "code",
      "metadata": {
        "id": "rJ78m285DvkK",
        "colab": {
          "base_uri": "https://localhost:8080/"
        },
        "outputId": "a1383cb7-3144-4502-c10e-21f25f19870f"
      },
      "source": [
        "(df_osc_cluni[df_osc_cluni.ESTATUS == 'ACTIVA']['FECHA DE CONSTITUCION'].str[0:4].value_counts() / len(df_osc_cluni[df_osc_cluni.ESTATUS == 'ACTIVA'])).sort_index(ascending=False).head(21)"
      ],
      "execution_count": 74,
      "outputs": [
        {
          "output_type": "execute_result",
          "data": {
            "text/plain": [
              "2020    0.002456\n",
              "2019    0.020840\n",
              "2018    0.057755\n",
              "2017    0.074352\n",
              "2016    0.079190\n",
              "2015    0.072641\n",
              "2014    0.068919\n",
              "2013    0.076660\n",
              "2012    0.067952\n",
              "2011    0.061179\n",
              "2010    0.053141\n",
              "2009    0.044582\n",
              "2008    0.040637\n",
              "2007    0.030143\n",
              "2006    0.026049\n",
              "2005    0.026496\n",
              "2004    0.019574\n",
              "2003    0.016746\n",
              "2002    0.013843\n",
              "2001    0.013695\n",
              "2000    0.011834\n",
              "Name: FECHA DE CONSTITUCION, dtype: float64"
            ]
          },
          "metadata": {
            "tags": []
          },
          "execution_count": 74
        }
      ]
    },
    {
      "cell_type": "code",
      "metadata": {
        "colab": {
          "base_uri": "https://localhost:8080/"
        },
        "id": "oAXJ19ERFrnf",
        "outputId": "db8f883f-2b9e-4f88-f89e-07dfa39ccbbb"
      },
      "source": [
        "(df_osc_cluni[df_osc_cluni.ESTATUS == 'ACTIVA']['ENTIDAD FEDERATIVA DOMICILIO'].value_counts() / len(df_osc_cluni[df_osc_cluni.ESTATUS == 'ACTIVA'])) # .cumsum()"
      ],
      "execution_count": 75,
      "outputs": [
        {
          "output_type": "execute_result",
          "data": {
            "text/plain": [
              "Distrito Federal       0.246576\n",
              "Estado de México       0.096532\n",
              "Oaxaca                 0.056713\n",
              "Veracruz               0.055448\n",
              "Chiapas                0.041530\n",
              "Jalisco                0.040935\n",
              "Puebla                 0.040116\n",
              "Baja California        0.035502\n",
              "Guanajuato             0.029473\n",
              "Chihuahua              0.029473\n",
              "Michoacán              0.027761\n",
              "Sonora                 0.024784\n",
              "Nuevo León             0.022849\n",
              "Yucatán                0.021286\n",
              "Durango                0.020840\n",
              "Hidalgo                0.020170\n",
              "Morelos                0.019128\n",
              "Guerrero               0.017565\n",
              "Querétaro              0.017193\n",
              "Coahuila               0.016895\n",
              "Sinaloa                0.016523\n",
              "Tamaulipas             0.014141\n",
              "Tabasco                0.012504\n",
              "Quintana Roo           0.012280\n",
              "San Luis Potosí        0.010866\n",
              "Tlaxcala               0.010643\n",
              "Zacatecas              0.008336\n",
              "Aguascalientes         0.007592\n",
              "Baja California Sur    0.007145\n",
              "Nayarit                0.006922\n",
              "Colima                 0.006773\n",
              "Campeche               0.005508\n",
              "Name: ENTIDAD FEDERATIVA DOMICILIO, dtype: float64"
            ]
          },
          "metadata": {
            "tags": []
          },
          "execution_count": 75
        }
      ]
    },
    {
      "cell_type": "code",
      "metadata": {
        "colab": {
          "base_uri": "https://localhost:8080/",
          "height": 185
        },
        "id": "YUrjmfkOHlmK",
        "outputId": "e9d03f0a-7203-4c95-aa5e-23378494e143"
      },
      "source": [
        "df_osc_cluni.sample(1)"
      ],
      "execution_count": 76,
      "outputs": [
        {
          "output_type": "execute_result",
          "data": {
            "text/html": [
              "<div>\n",
              "<style scoped>\n",
              "    .dataframe tbody tr th:only-of-type {\n",
              "        vertical-align: middle;\n",
              "    }\n",
              "\n",
              "    .dataframe tbody tr th {\n",
              "        vertical-align: top;\n",
              "    }\n",
              "\n",
              "    .dataframe thead th {\n",
              "        text-align: right;\n",
              "    }\n",
              "</style>\n",
              "<table border=\"1\" class=\"dataframe\">\n",
              "  <thead>\n",
              "    <tr style=\"text-align: right;\">\n",
              "      <th></th>\n",
              "      <th>CLUNI</th>\n",
              "      <th>RAZON SOCIAL</th>\n",
              "      <th>FIGURA JURIDICA</th>\n",
              "      <th>RFC</th>\n",
              "      <th>ESTATUS</th>\n",
              "      <th>ESTATUS DE SANCION</th>\n",
              "      <th>REPRESENTANTES LEGALES</th>\n",
              "      <th>ESTATUS DE LA REPRESENTACION</th>\n",
              "      <th>FECHA DE CONSTITUCION</th>\n",
              "      <th>FECHA DE INSCRIPCION</th>\n",
              "      <th>CORREO(S)</th>\n",
              "      <th>TELEFONO(S)</th>\n",
              "      <th>ENTIDAD FEDERATIVA DOMICILIO</th>\n",
              "      <th>MUNICIPIO</th>\n",
              "      <th>ASENTAMIENTO(COLONIA)</th>\n",
              "      <th>VIALIDAD (CALLE)</th>\n",
              "      <th>NUMERO EXTERIOR</th>\n",
              "      <th>NUMERO INTERIOR</th>\n",
              "      <th>CP</th>\n",
              "      <th>REDES</th>\n",
              "      <th>ACTIVIDAD_1</th>\n",
              "      <th>ACTIVIDAD_2</th>\n",
              "      <th>ACTIVIDAD_3</th>\n",
              "      <th>ACTIVIDAD_4</th>\n",
              "      <th>ACTIVIDAD_5</th>\n",
              "      <th>ACTIVIDAD_6</th>\n",
              "      <th>ACTIVIDAD_7</th>\n",
              "      <th>ACTIVIDAD_8</th>\n",
              "      <th>ACTIVIDAD_9</th>\n",
              "      <th>ACTIVIDAD_10</th>\n",
              "      <th>ACTIVIDAD_11</th>\n",
              "      <th>ACTIVIDAD_12</th>\n",
              "      <th>ACTIVIDAD_13</th>\n",
              "      <th>ACTIVIDAD_14</th>\n",
              "      <th>ACTIVIDAD_15</th>\n",
              "      <th>ACTIVIDAD_16</th>\n",
              "      <th>ACTIVIDAD_17</th>\n",
              "      <th>ACTIVIDAD_18</th>\n",
              "      <th>ACTIVIDAD_19</th>\n",
              "      <th>INFORME 2005 PRESENTADO</th>\n",
              "      <th>INFORME 2005 EN TIEMPO</th>\n",
              "      <th>INFORME 2006 PRESENTADO</th>\n",
              "      <th>INFORME 2006 EN TIEMPO</th>\n",
              "      <th>INFORME 2007 PRESENTADO</th>\n",
              "      <th>INFORME 2007 EN TIEMPO</th>\n",
              "      <th>INFORME 2008 PRESENTADO</th>\n",
              "      <th>INFORME 2008 EN TIEMPO</th>\n",
              "      <th>INFORME 2009 PRESENTADO</th>\n",
              "      <th>INFORME 2009 EN TIEMPO</th>\n",
              "      <th>INFORME 2010 PRESENTADO</th>\n",
              "      <th>INFORME 2010 EN TIEMPO</th>\n",
              "      <th>INFORME 2011 PRESENTADO</th>\n",
              "      <th>INFORME 2011 EN TIEMPO</th>\n",
              "      <th>INFORME 2012 PRESENTADO</th>\n",
              "      <th>INFORME 2012 EN TIEMPO</th>\n",
              "      <th>INFORME 2013 PRESENTADO</th>\n",
              "      <th>INFORME 2013 EN TIEMPO</th>\n",
              "      <th>INFORME 2014 PRESENTADO</th>\n",
              "      <th>INFORME 2014 EN TIEMPO</th>\n",
              "      <th>INFORME 2015 PRESENTADO</th>\n",
              "      <th>INFORME 2015 EN TIEMPO</th>\n",
              "      <th>INFORME 2016 PRESENTADO</th>\n",
              "      <th>INFORME 2016 EN TIEMPO</th>\n",
              "      <th>INFORME 2017 PRESENTADO</th>\n",
              "      <th>INFORME 2017 EN TIEMPO</th>\n",
              "      <th>INFORME 2018 PRESENTADO</th>\n",
              "      <th>INFORME 2018 EN TIEMPO</th>\n",
              "      <th>INFORME 2019 PRESENTADO</th>\n",
              "      <th>INFORME 2019 EN TIEMPO</th>\n",
              "    </tr>\n",
              "  </thead>\n",
              "  <tbody>\n",
              "    <tr>\n",
              "      <th>29916</th>\n",
              "      <td>ICO150321093A0</td>\n",
              "      <td>Ixchel en Colectivo</td>\n",
              "      <td>Asociación Civil</td>\n",
              "      <td>ICO150321CJ9</td>\n",
              "      <td>INACTIVA</td>\n",
              "      <td>N/A</td>\n",
              "      <td>Liliana Rodríguez Martínez</td>\n",
              "      <td>VIGENTE</td>\n",
              "      <td>2015-03-21</td>\n",
              "      <td>2015-06-15</td>\n",
              "      <td>liliana83rm@gmail.com,albertgrg@outlook.com,ix...</td>\n",
              "      <td>(044) 5518360950,(044) 5518366366</td>\n",
              "      <td>Distrito Federal</td>\n",
              "      <td>Tlalpan</td>\n",
              "      <td>Ejidos de San Pedro Mártir</td>\n",
              "      <td>Crisantemo</td>\n",
              "      <td>Manzaa 8</td>\n",
              "      <td>Lote 12</td>\n",
              "      <td>14640</td>\n",
              "      <td></td>\n",
              "      <td>SI</td>\n",
              "      <td>SI</td>\n",
              "      <td>NO</td>\n",
              "      <td>NO</td>\n",
              "      <td>SI</td>\n",
              "      <td>NO</td>\n",
              "      <td>NO</td>\n",
              "      <td>SI</td>\n",
              "      <td>NO</td>\n",
              "      <td>NO</td>\n",
              "      <td>NO</td>\n",
              "      <td>NO</td>\n",
              "      <td>NO</td>\n",
              "      <td>SI</td>\n",
              "      <td>NO</td>\n",
              "      <td>NO</td>\n",
              "      <td>NO</td>\n",
              "      <td>NO</td>\n",
              "      <td>NO</td>\n",
              "      <td>NA</td>\n",
              "      <td>NA</td>\n",
              "      <td>NA</td>\n",
              "      <td>NA</td>\n",
              "      <td>NA</td>\n",
              "      <td>NA</td>\n",
              "      <td>NA</td>\n",
              "      <td>NA</td>\n",
              "      <td>NA</td>\n",
              "      <td>NA</td>\n",
              "      <td>NA</td>\n",
              "      <td>NA</td>\n",
              "      <td>NA</td>\n",
              "      <td>NA</td>\n",
              "      <td>NA</td>\n",
              "      <td>NA</td>\n",
              "      <td>NA</td>\n",
              "      <td>NA</td>\n",
              "      <td>NA</td>\n",
              "      <td>NA</td>\n",
              "      <td>SI</td>\n",
              "      <td>SI</td>\n",
              "      <td>SI</td>\n",
              "      <td>SI</td>\n",
              "      <td>SI</td>\n",
              "      <td>SI</td>\n",
              "      <td>SI</td>\n",
              "      <td>SI</td>\n",
              "      <td>NO</td>\n",
              "      <td>NA</td>\n",
              "    </tr>\n",
              "  </tbody>\n",
              "</table>\n",
              "</div>"
            ],
            "text/plain": [
              "                CLUNI  ... INFORME 2019 EN TIEMPO\n",
              "29916  ICO150321093A0  ...                     NA\n",
              "\n",
              "[1 rows x 69 columns]"
            ]
          },
          "metadata": {
            "tags": []
          },
          "execution_count": 76
        }
      ]
    },
    {
      "cell_type": "markdown",
      "metadata": {
        "id": "eMmFi-iBBeIV"
      },
      "source": [
        "## 2. OSC Registro Donatarias Autorizadas"
      ]
    },
    {
      "cell_type": "code",
      "metadata": {
        "id": "FzsAhw2PIMBt"
      },
      "source": [
        "# TODO: not download from source if data already exist\n",
        "\n",
        "YEAR = '2020'\n",
        "DONAUT_NOW = str(dt.now())[:19].replace(' ', '-').replace(':', '-')\n",
        "SAT_URL = f'http://omawww.sat.gob.mx/documentossat/Documents/DirectorioDonatariasAutorizadas{YEAR}.xls'\n",
        "\n",
        "response = requests.get(SAT_URL)\n",
        "\n",
        "with open(f\"/content/drive/MyDrive/NewCo/intel/data/DonatariasAutorizadas/report-sat-{YEAR}-{DONAUT_NOW}.xls\", \"wb\") as f:\n",
        "  f.write(response.content)"
      ],
      "execution_count": 77,
      "outputs": []
    },
    {
      "cell_type": "code",
      "metadata": {
        "id": "fli2emVBC0K1"
      },
      "source": [
        "df_osc_sat = pd.read_excel(\n",
        "    f\"/content/drive/MyDrive/NewCo/intel/data/DonatariasAutorizadas/report-sat-{YEAR}-{DONAUT_NOW}.xls\"\n",
        "    , skiprows = range(0, 27)\n",
        "    , usecols = \"A:O\"\n",
        "    )\n",
        "\n",
        "df_osc_sat = df_osc_sat.rename(columns=df_osc_sat.iloc[0]).iloc[1:]"
      ],
      "execution_count": 78,
      "outputs": []
    },
    {
      "cell_type": "code",
      "metadata": {
        "colab": {
          "base_uri": "https://localhost:8080/",
          "height": 564
        },
        "id": "fSY4NvvsC0C4",
        "outputId": "964ddf5b-c3b4-4809-f3ef-a0d1480b8cfe"
      },
      "source": [
        "df_osc_sat.head()"
      ],
      "execution_count": 79,
      "outputs": [
        {
          "output_type": "execute_result",
          "data": {
            "text/html": [
              "<div>\n",
              "<style scoped>\n",
              "    .dataframe tbody tr th:only-of-type {\n",
              "        vertical-align: middle;\n",
              "    }\n",
              "\n",
              "    .dataframe tbody tr th {\n",
              "        vertical-align: top;\n",
              "    }\n",
              "\n",
              "    .dataframe thead th {\n",
              "        text-align: right;\n",
              "    }\n",
              "</style>\n",
              "<table border=\"1\" class=\"dataframe\">\n",
              "  <thead>\n",
              "    <tr style=\"text-align: right;\">\n",
              "      <th></th>\n",
              "      <th>ENTIDAD FEDERATIVA</th>\n",
              "      <th>ADMINISTRACIÓN DESCONCENTRADA DE SERVICIOS AL CONTRIBUYENTE</th>\n",
              "      <th>ACTIVIDAD O FIN AUTORIZADO</th>\n",
              "      <th>RFC</th>\n",
              "      <th>DENOMINACIÓN O RAZÓN SOCIAL</th>\n",
              "      <th>DOMICILIO FISCAL</th>\n",
              "      <th>OFICIO DE AUTORIZACIÓN</th>\n",
              "      <th>FECHA DE OFICIO</th>\n",
              "      <th>OBJETO SOCIAL AUTORIZADO</th>\n",
              "      <th>REPRESENTANTE LEGAL</th>\n",
              "      <th>NÚMEROS TELEFÓNICOS</th>\n",
              "      <th>E-MAIL</th>\n",
              "      <th>DOMICILIO DE ESTABLECIMIENTO</th>\n",
              "      <th>NÚMEROS TELEFÓNICOS DEL ESTABLECIMIENTO</th>\n",
              "      <th>ACREDITAMIENTO</th>\n",
              "    </tr>\n",
              "  </thead>\n",
              "  <tbody>\n",
              "    <tr>\n",
              "      <th>1</th>\n",
              "      <td>AGUASCALIENTES</td>\n",
              "      <td>AGUASCALIENTES \"1\"</td>\n",
              "      <td>M</td>\n",
              "      <td>AAG150226BX0</td>\n",
              "      <td>Autismo Aguascalientes, A.C.</td>\n",
              "      <td>Canada Núm 301, Col. El Dorado 1a Sección, C.P...</td>\n",
              "      <td>700-02-01-2019-08990</td>\n",
              "      <td>2019-09-26 00:00:00</td>\n",
              "      <td>\"CUARTA.- La Asociación Autismo Aguascalientes...</td>\n",
              "      <td>Olga Rubio Camarena</td>\n",
              "      <td>No Manifestó</td>\n",
              "      <td>No Manifestó</td>\n",
              "      <td>No Manifestó</td>\n",
              "      <td>No Manifestó</td>\n",
              "      <td>Constancia de Inscripción ante el Registro Fed...</td>\n",
              "    </tr>\n",
              "    <tr>\n",
              "      <th>2</th>\n",
              "      <td>AGUASCALIENTES</td>\n",
              "      <td>AGUASCALIENTES \"1\"</td>\n",
              "      <td>A</td>\n",
              "      <td>AAG150226BX0</td>\n",
              "      <td>Autismo Aguascalientes, A.C.</td>\n",
              "      <td>Canada Núm 301, Col. El Dorado 1a Sección, C.P...</td>\n",
              "      <td>700-02-01-2019-08990</td>\n",
              "      <td>2019-09-26 00:00:00</td>\n",
              "      <td>\"CUARTA.- La Asociación Autismo Aguascalientes...</td>\n",
              "      <td>Olga Rubio Camarena</td>\n",
              "      <td>No Manifestó</td>\n",
              "      <td>No Manifestó</td>\n",
              "      <td>No Manifestó</td>\n",
              "      <td>No Manifestó</td>\n",
              "      <td>Constancia de Inscripción ante el Registro Fed...</td>\n",
              "    </tr>\n",
              "    <tr>\n",
              "      <th>3</th>\n",
              "      <td>AGUASCALIENTES</td>\n",
              "      <td>AGUASCALIENTES \"1\"</td>\n",
              "      <td>A</td>\n",
              "      <td>AAP010713QV5</td>\n",
              "      <td>Asilo de Ancianos de Pabellón de Arteaga, Agua...</td>\n",
              "      <td>Independencia Núm 48, Col. Francisco Villa, C....</td>\n",
              "      <td>700-02-01-2020-05788</td>\n",
              "      <td>2020-05-22 00:00:00</td>\n",
              "      <td>\"ARTICULO SEGUNDO.- La Asociación tendrá por o...</td>\n",
              "      <td>Ma del Rosario Bueno Martínez</td>\n",
              "      <td>01465 958 10 90</td>\n",
              "      <td>No Manifestó</td>\n",
              "      <td>No Manifestó</td>\n",
              "      <td>No Manifestó</td>\n",
              "      <td>oficio DGSEA/0914/2019 de fecha 18 de diciembr...</td>\n",
              "    </tr>\n",
              "    <tr>\n",
              "      <th>4</th>\n",
              "      <td>AGUASCALIENTES</td>\n",
              "      <td>AGUASCALIENTES \"1\"</td>\n",
              "      <td>A</td>\n",
              "      <td>AAP7601261F0</td>\n",
              "      <td>Asociación Aguascalentense para la Promoción I...</td>\n",
              "      <td>Olivos Núm 202, Col. Jardines de la Cruz, C.P....</td>\n",
              "      <td>600-04-05-2012-57253</td>\n",
              "      <td>2012-06-26 00:00:00</td>\n",
              "      <td>\"ARTICULO PRIMERO: OBJETO SOCIAL: La asociació...</td>\n",
              "      <td>Luis Manuel Macías López</td>\n",
              "      <td>(01449) 970-62-92</td>\n",
              "      <td>No Manifestó</td>\n",
              "      <td>No Manifestó</td>\n",
              "      <td>No Manifestó</td>\n",
              "      <td>oficio número DEIP-GF-80 de 24 de enero de 201...</td>\n",
              "    </tr>\n",
              "    <tr>\n",
              "      <th>5</th>\n",
              "      <td>AGUASCALIENTES</td>\n",
              "      <td>AGUASCALIENTES \"1\"</td>\n",
              "      <td>M</td>\n",
              "      <td>ACD130327SG7</td>\n",
              "      <td>Aliadas Carmelitas Descalzas de la Santísima T...</td>\n",
              "      <td>Salvador Quezada Limón Núm 1105, Col. Curtidor...</td>\n",
              "      <td>600-04-02-2014-6778</td>\n",
              "      <td>2014-08-26 00:00:00</td>\n",
              "      <td>\"ARTÍCULO SEGUNDO.- El objeto de la asociación...</td>\n",
              "      <td>Laura Patricia Colmenares Ramírez</td>\n",
              "      <td>449168395</td>\n",
              "      <td>alidesamparados@hotmail.com</td>\n",
              "      <td>No Manifestó</td>\n",
              "      <td>No Manifestó</td>\n",
              "      <td>oficio número DGSEA-009/2014 de 7 de enero de ...</td>\n",
              "    </tr>\n",
              "  </tbody>\n",
              "</table>\n",
              "</div>"
            ],
            "text/plain": [
              "  ENTIDAD FEDERATIVA  ...                                     ACREDITAMIENTO\n",
              "1     AGUASCALIENTES  ...  Constancia de Inscripción ante el Registro Fed...\n",
              "2     AGUASCALIENTES  ...  Constancia de Inscripción ante el Registro Fed...\n",
              "3     AGUASCALIENTES  ...  oficio DGSEA/0914/2019 de fecha 18 de diciembr...\n",
              "4     AGUASCALIENTES  ...  oficio número DEIP-GF-80 de 24 de enero de 201...\n",
              "5     AGUASCALIENTES  ...  oficio número DGSEA-009/2014 de 7 de enero de ...\n",
              "\n",
              "[5 rows x 15 columns]"
            ]
          },
          "metadata": {
            "tags": []
          },
          "execution_count": 79
        }
      ]
    },
    {
      "cell_type": "code",
      "metadata": {
        "id": "UhobnA0dHFos",
        "colab": {
          "base_uri": "https://localhost:8080/"
        },
        "outputId": "ac9b7217-c9fe-4075-df8c-a867e0b732e8"
      },
      "source": [
        "df_osc_sat.shape"
      ],
      "execution_count": 80,
      "outputs": [
        {
          "output_type": "execute_result",
          "data": {
            "text/plain": [
              "(13931, 15)"
            ]
          },
          "metadata": {
            "tags": []
          },
          "execution_count": 80
        }
      ]
    },
    {
      "cell_type": "code",
      "metadata": {
        "id": "BN_slOmajZ2I"
      },
      "source": [
        ""
      ],
      "execution_count": 80,
      "outputs": []
    },
    {
      "cell_type": "code",
      "metadata": {
        "id": "M7CoJ8zdHFks"
      },
      "source": [
        ""
      ],
      "execution_count": 80,
      "outputs": []
    },
    {
      "cell_type": "markdown",
      "metadata": {
        "id": "EJj-dMi7HFgw"
      },
      "source": [
        "## 3. CLUNI Activas y Donatarias Autorizazdas "
      ]
    },
    {
      "cell_type": "code",
      "metadata": {
        "id": "P6f9CxE-Cz6n"
      },
      "source": [
        "df_osc_actvig = df_osc_cluni[(df_osc_cluni['ESTATUS'] == 'ACTIVA') & (df_osc_cluni['ESTATUS DE LA REPRESENTACION'] == 'VIGENTE')][['CLUNI', 'RFC']]"
      ],
      "execution_count": 81,
      "outputs": []
    },
    {
      "cell_type": "code",
      "metadata": {
        "colab": {
          "base_uri": "https://localhost:8080/"
        },
        "id": "J0UlaBajWNcA",
        "outputId": "589ad552-f6d9-4a20-a761-7973bc17bdb2"
      },
      "source": [
        "df_osc_actvig.shape"
      ],
      "execution_count": 82,
      "outputs": [
        {
          "output_type": "execute_result",
          "data": {
            "text/plain": [
              "(12581, 2)"
            ]
          },
          "metadata": {
            "tags": []
          },
          "execution_count": 82
        }
      ]
    },
    {
      "cell_type": "code",
      "metadata": {
        "id": "DwVzT45nCzyk"
      },
      "source": [
        "df_osc = pd.merge(df_osc_actvig[['CLUNI', 'RFC']], df_osc_sat[['RFC']], how='outer')"
      ],
      "execution_count": 83,
      "outputs": []
    },
    {
      "cell_type": "code",
      "metadata": {
        "id": "Dzq8If6ZMrNZ"
      },
      "source": [
        "df_osc = df_osc.drop_duplicates().reset_index(drop=True).copy()"
      ],
      "execution_count": 84,
      "outputs": []
    },
    {
      "cell_type": "code",
      "metadata": {
        "colab": {
          "base_uri": "https://localhost:8080/"
        },
        "id": "WJHXHN8vNdLD",
        "outputId": "532d5c53-5fc9-4ffd-d6d1-c373d45af2da"
      },
      "source": [
        "len(df_osc)"
      ],
      "execution_count": 85,
      "outputs": [
        {
          "output_type": "execute_result",
          "data": {
            "text/plain": [
              "17679"
            ]
          },
          "metadata": {
            "tags": []
          },
          "execution_count": 85
        }
      ]
    },
    {
      "cell_type": "code",
      "metadata": {
        "colab": {
          "base_uri": "https://localhost:8080/"
        },
        "id": "jREqWVpHM1ZI",
        "outputId": "f43bd2ad-7239-46d8-a9f7-432eddd87b83"
      },
      "source": [
        "df_osc.isna().sum(axis=0)"
      ],
      "execution_count": 86,
      "outputs": [
        {
          "output_type": "execute_result",
          "data": {
            "text/plain": [
              "CLUNI    5098\n",
              "RFC         0\n",
              "dtype: int64"
            ]
          },
          "metadata": {
            "tags": []
          },
          "execution_count": 86
        }
      ]
    },
    {
      "cell_type": "code",
      "metadata": {
        "id": "6NQudc3XM2tw",
        "colab": {
          "base_uri": "https://localhost:8080/",
          "height": 0
        },
        "outputId": "769a9527-2777-4cb8-a144-3dbc2492560d"
      },
      "source": [
        "df_osc.sample(5)"
      ],
      "execution_count": 87,
      "outputs": [
        {
          "output_type": "execute_result",
          "data": {
            "text/html": [
              "<div>\n",
              "<style scoped>\n",
              "    .dataframe tbody tr th:only-of-type {\n",
              "        vertical-align: middle;\n",
              "    }\n",
              "\n",
              "    .dataframe tbody tr th {\n",
              "        vertical-align: top;\n",
              "    }\n",
              "\n",
              "    .dataframe thead th {\n",
              "        text-align: right;\n",
              "    }\n",
              "</style>\n",
              "<table border=\"1\" class=\"dataframe\">\n",
              "  <thead>\n",
              "    <tr style=\"text-align: right;\">\n",
              "      <th></th>\n",
              "      <th>CLUNI</th>\n",
              "      <th>RFC</th>\n",
              "    </tr>\n",
              "  </thead>\n",
              "  <tbody>\n",
              "    <tr>\n",
              "      <th>2036</th>\n",
              "      <td>CAY09092519010</td>\n",
              "      <td>CAY090925RL8</td>\n",
              "    </tr>\n",
              "    <tr>\n",
              "      <th>1235</th>\n",
              "      <td>PLU08072331013</td>\n",
              "      <td>PLU080723T26</td>\n",
              "    </tr>\n",
              "    <tr>\n",
              "      <th>15958</th>\n",
              "      <td>NaN</td>\n",
              "      <td>CEC990423B7A</td>\n",
              "    </tr>\n",
              "    <tr>\n",
              "      <th>17415</th>\n",
              "      <td>NaN</td>\n",
              "      <td>NAN080311IF4</td>\n",
              "    </tr>\n",
              "    <tr>\n",
              "      <th>13781</th>\n",
              "      <td>NaN</td>\n",
              "      <td>NOR950726RP5</td>\n",
              "    </tr>\n",
              "  </tbody>\n",
              "</table>\n",
              "</div>"
            ],
            "text/plain": [
              "                CLUNI           RFC\n",
              "2036   CAY09092519010  CAY090925RL8\n",
              "1235   PLU08072331013  PLU080723T26\n",
              "15958             NaN  CEC990423B7A\n",
              "17415             NaN  NAN080311IF4\n",
              "13781             NaN  NOR950726RP5"
            ]
          },
          "metadata": {
            "tags": []
          },
          "execution_count": 87
        }
      ]
    },
    {
      "cell_type": "code",
      "metadata": {
        "id": "B7nfyPKiXmVU"
      },
      "source": [
        ""
      ],
      "execution_count": 87,
      "outputs": []
    },
    {
      "cell_type": "code",
      "metadata": {
        "id": "iX1AGyR4XmPI"
      },
      "source": [
        ""
      ],
      "execution_count": 87,
      "outputs": []
    },
    {
      "cell_type": "markdown",
      "metadata": {
        "id": "gGbRTqIAXnTu"
      },
      "source": [
        "## 4. CLUNI Inactivas"
      ]
    },
    {
      "cell_type": "code",
      "metadata": {
        "id": "hI_mANUVXmHZ"
      },
      "source": [
        "df_osc_inactiva = df_osc_cluni[(df_osc_cluni['ESTATUS'] == 'INACTIVA')][['CLUNI', 'RFC']]"
      ],
      "execution_count": 88,
      "outputs": []
    },
    {
      "cell_type": "code",
      "metadata": {
        "colab": {
          "base_uri": "https://localhost:8080/"
        },
        "id": "AAJ4bZToXmA8",
        "outputId": "2edfc737-1980-4ef4-ceab-7366e78e92aa"
      },
      "source": [
        "df_osc_inactiva.shape"
      ],
      "execution_count": 89,
      "outputs": [
        {
          "output_type": "execute_result",
          "data": {
            "text/plain": [
              "(29291, 2)"
            ]
          },
          "metadata": {
            "tags": []
          },
          "execution_count": 89
        }
      ]
    },
    {
      "cell_type": "code",
      "metadata": {
        "colab": {
          "base_uri": "https://localhost:8080/",
          "height": 0
        },
        "id": "mj2vFDAsXk-J",
        "outputId": "d5ca5cc0-3bc8-4539-8d57-fa2ac4ee097e"
      },
      "source": [
        "pd.merge(df_osc_inactiva[['CLUNI', 'RFC']], df_osc_sat[['RFC']], how='outer').sample(5)"
      ],
      "execution_count": 90,
      "outputs": [
        {
          "output_type": "execute_result",
          "data": {
            "text/html": [
              "<div>\n",
              "<style scoped>\n",
              "    .dataframe tbody tr th:only-of-type {\n",
              "        vertical-align: middle;\n",
              "    }\n",
              "\n",
              "    .dataframe tbody tr th {\n",
              "        vertical-align: top;\n",
              "    }\n",
              "\n",
              "    .dataframe thead th {\n",
              "        text-align: right;\n",
              "    }\n",
              "</style>\n",
              "<table border=\"1\" class=\"dataframe\">\n",
              "  <thead>\n",
              "    <tr style=\"text-align: right;\">\n",
              "      <th></th>\n",
              "      <th>CLUNI</th>\n",
              "      <th>RFC</th>\n",
              "    </tr>\n",
              "  </thead>\n",
              "  <tbody>\n",
              "    <tr>\n",
              "      <th>19116</th>\n",
              "      <td>OBI1302272001J</td>\n",
              "      <td>OBI130227TBA</td>\n",
              "    </tr>\n",
              "    <tr>\n",
              "      <th>7211</th>\n",
              "      <td>OMS08123014019</td>\n",
              "      <td>OMS0812308R5</td>\n",
              "    </tr>\n",
              "    <tr>\n",
              "      <th>33144</th>\n",
              "      <td>NaN</td>\n",
              "      <td>VES1805115H4</td>\n",
              "    </tr>\n",
              "    <tr>\n",
              "      <th>17882</th>\n",
              "      <td>CSS1307180701M</td>\n",
              "      <td>CSS130718PS3</td>\n",
              "    </tr>\n",
              "    <tr>\n",
              "      <th>35979</th>\n",
              "      <td>NaN</td>\n",
              "      <td>MDB141205612</td>\n",
              "    </tr>\n",
              "  </tbody>\n",
              "</table>\n",
              "</div>"
            ],
            "text/plain": [
              "                CLUNI           RFC\n",
              "19116  OBI1302272001J  OBI130227TBA\n",
              "7211   OMS08123014019  OMS0812308R5\n",
              "33144             NaN  VES1805115H4\n",
              "17882  CSS1307180701M  CSS130718PS3\n",
              "35979             NaN  MDB141205612"
            ]
          },
          "metadata": {
            "tags": []
          },
          "execution_count": 90
        }
      ]
    },
    {
      "cell_type": "code",
      "metadata": {
        "id": "ceeVqDD0Ww9W"
      },
      "source": [
        ""
      ],
      "execution_count": 90,
      "outputs": []
    },
    {
      "cell_type": "markdown",
      "metadata": {
        "id": "cT6d15Sk5-G9"
      },
      "source": [
        "## 5. Donatarias Autorizadas (Resolución Miscelánea Fiscal)"
      ]
    },
    {
      "cell_type": "code",
      "metadata": {
        "colab": {
          "base_uri": "https://localhost:8080/"
        },
        "id": "zJmrBqGi5-a8",
        "outputId": "1987ad7a-bdff-4143-f517-584a29553283"
      },
      "source": [
        "!pip install ghostscript\n",
        "!pip install \"camelot-py[cv]\"\n",
        "!pip install excalibur-py\n",
        "!apt install ghostscript python3-tk\n",
        "\n",
        "from ctypes.util import find_library\n",
        "print(find_library(\"gs\")) #will display libgs.so.9 if installed; will print None if not\n",
        "!excalibur initdb"
      ],
      "execution_count": 6,
      "outputs": [
        {
          "output_type": "stream",
          "text": [
            "Collecting ghostscript\n",
            "  Downloading https://files.pythonhosted.org/packages/d0/bd/c96072da3a98a498285382ec6ee4b18379c021e4bb6561308e25bc4c04d0/ghostscript-0.6-py2.py3-none-any.whl\n",
            "Requirement already satisfied: setuptools in /usr/local/lib/python3.6/dist-packages (from ghostscript) (53.0.0)\n",
            "Installing collected packages: ghostscript\n",
            "Successfully installed ghostscript-0.6\n",
            "Collecting camelot-py[cv]\n",
            "\u001b[?25l  Downloading https://files.pythonhosted.org/packages/ed/78/123007d6aff9811bd087ff5dd68e06a9df62b2fdbf7685d74c9d6f247921/camelot_py-0.8.2-py3-none-any.whl (42kB)\n",
            "\u001b[K     |████████████████████████████████| 51kB 2.8MB/s \n",
            "\u001b[?25hRequirement already satisfied: pandas>=0.23.4 in /usr/local/lib/python3.6/dist-packages (from camelot-py[cv]) (1.1.5)\n",
            "Requirement already satisfied: numpy>=1.13.3 in /usr/local/lib/python3.6/dist-packages (from camelot-py[cv]) (1.19.5)\n",
            "Requirement already satisfied: chardet>=3.0.4 in /usr/local/lib/python3.6/dist-packages (from camelot-py[cv]) (3.0.4)\n",
            "Collecting pdfminer.six>=20200726\n",
            "\u001b[?25l  Downloading https://files.pythonhosted.org/packages/93/f3/4fec7dabe8802ebec46141345bf714cd1fc7d93cb74ddde917e4b6d97d88/pdfminer.six-20201018-py3-none-any.whl (5.6MB)\n",
            "\u001b[K     |████████████████████████████████| 5.6MB 6.1MB/s \n",
            "\u001b[?25hCollecting PyPDF2>=1.26.0\n",
            "\u001b[?25l  Downloading https://files.pythonhosted.org/packages/b4/01/68fcc0d43daf4c6bdbc6b33cc3f77bda531c86b174cac56ef0ffdb96faab/PyPDF2-1.26.0.tar.gz (77kB)\n",
            "\u001b[K     |████████████████████████████████| 81kB 7.4MB/s \n",
            "\u001b[?25hRequirement already satisfied: click>=6.7 in /usr/local/lib/python3.6/dist-packages (from camelot-py[cv]) (7.1.2)\n",
            "Requirement already satisfied: openpyxl>=2.5.8 in /usr/local/lib/python3.6/dist-packages (from camelot-py[cv]) (2.5.9)\n",
            "Requirement already satisfied: opencv-python>=3.4.2.17; extra == \"cv\" in /usr/local/lib/python3.6/dist-packages (from camelot-py[cv]) (4.1.2.30)\n",
            "Requirement already satisfied: python-dateutil>=2.7.3 in /usr/local/lib/python3.6/dist-packages (from pandas>=0.23.4->camelot-py[cv]) (2.8.1)\n",
            "Requirement already satisfied: pytz>=2017.2 in /usr/local/lib/python3.6/dist-packages (from pandas>=0.23.4->camelot-py[cv]) (2018.9)\n",
            "Requirement already satisfied: sortedcontainers in /usr/local/lib/python3.6/dist-packages (from pdfminer.six>=20200726->camelot-py[cv]) (2.3.0)\n",
            "Collecting cryptography\n",
            "\u001b[?25l  Downloading https://files.pythonhosted.org/packages/f8/1f/acde6ff69864c5e78b56488e3afd93c1ccc8c2651186e2a5f93d93f64859/cryptography-3.4.6-cp36-abi3-manylinux2014_x86_64.whl (3.2MB)\n",
            "\u001b[K     |████████████████████████████████| 3.2MB 33.1MB/s \n",
            "\u001b[?25hRequirement already satisfied: jdcal in /usr/local/lib/python3.6/dist-packages (from openpyxl>=2.5.8->camelot-py[cv]) (1.4.1)\n",
            "Requirement already satisfied: et-xmlfile in /usr/local/lib/python3.6/dist-packages (from openpyxl>=2.5.8->camelot-py[cv]) (1.0.1)\n",
            "Requirement already satisfied: six>=1.5 in /usr/local/lib/python3.6/dist-packages (from python-dateutil>=2.7.3->pandas>=0.23.4->camelot-py[cv]) (1.15.0)\n",
            "Requirement already satisfied: cffi>=1.12 in /usr/local/lib/python3.6/dist-packages (from cryptography->pdfminer.six>=20200726->camelot-py[cv]) (1.14.4)\n",
            "Requirement already satisfied: pycparser in /usr/local/lib/python3.6/dist-packages (from cffi>=1.12->cryptography->pdfminer.six>=20200726->camelot-py[cv]) (2.20)\n",
            "Building wheels for collected packages: PyPDF2\n",
            "  Building wheel for PyPDF2 (setup.py) ... \u001b[?25l\u001b[?25hdone\n",
            "  Created wheel for PyPDF2: filename=PyPDF2-1.26.0-cp36-none-any.whl size=61087 sha256=8c5406dad167f314245fc8fdb9a8a12de0d82f3e976a575d323569b4e1bd2a31\n",
            "  Stored in directory: /root/.cache/pip/wheels/53/84/19/35bc977c8bf5f0c23a8a011aa958acd4da4bbd7a229315c1b7\n",
            "Successfully built PyPDF2\n",
            "Installing collected packages: cryptography, pdfminer.six, PyPDF2, camelot-py\n",
            "Successfully installed PyPDF2-1.26.0 camelot-py-0.8.2 cryptography-3.4.6 pdfminer.six-20201018\n",
            "Collecting excalibur-py\n",
            "\u001b[?25l  Downloading https://files.pythonhosted.org/packages/27/bd/86ccb5d9a7d6466f299321138df47d38109ffb9a7fa521476cc21ef580ca/excalibur_py-0.4.3-py3-none-any.whl (1.5MB)\n",
            "\u001b[K     |████████████████████████████████| 1.5MB 5.1MB/s \n",
            "\u001b[?25hCollecting configparser<3.6.0,>=3.5.0\n",
            "  Downloading https://files.pythonhosted.org/packages/55/c0/e0206081eaad646c6f5e2dc266edf457110d9031b363518d3264880e675d/configparser-3.5.3-py3-none-any.whl\n",
            "Collecting celery>=4.1.1\n",
            "\u001b[?25l  Downloading https://files.pythonhosted.org/packages/95/79/d73247b42082076bb32c828e3361cda2604ee523aa3bfe972bdfabffc6d0/celery-5.0.5-py3-none-any.whl (392kB)\n",
            "\u001b[K     |████████████████████████████████| 399kB 20.1MB/s \n",
            "\u001b[?25hRequirement already satisfied: camelot-py[cv]>=0.7.1 in /usr/local/lib/python3.6/dist-packages (from excalibur-py) (0.8.2)\n",
            "Requirement already satisfied: SQLAlchemy>=1.2.12 in /usr/local/lib/python3.6/dist-packages (from excalibur-py) (1.3.23)\n",
            "Collecting Werkzeug<1.0.0\n",
            "\u001b[?25l  Downloading https://files.pythonhosted.org/packages/c2/e4/a859d2fe516f466642fa5c6054fd9646271f9da26b0cac0d2f37fc858c8f/Werkzeug-0.16.1-py2.py3-none-any.whl (327kB)\n",
            "\u001b[K     |████████████████████████████████| 327kB 19.3MB/s \n",
            "\u001b[?25hRequirement already satisfied: Click>=7.0 in /usr/local/lib/python3.6/dist-packages (from excalibur-py) (7.1.2)\n",
            "Requirement already satisfied: Flask>=1.0.2 in /usr/local/lib/python3.6/dist-packages (from excalibur-py) (1.1.2)\n",
            "Collecting kombu<6.0,>=5.0.0\n",
            "\u001b[?25l  Downloading https://files.pythonhosted.org/packages/22/6e/69bc1061633a88aa47beaa8bbecff1c3c555a005603cfbebcec4aa37f183/kombu-5.0.2-py2.py3-none-any.whl (180kB)\n",
            "\u001b[K     |████████████████████████████████| 184kB 15.7MB/s \n",
            "\u001b[?25hCollecting click-didyoumean>=0.0.3\n",
            "  Downloading https://files.pythonhosted.org/packages/9f/79/d265d783dd022541b744d002745d9e55d84c04a41930e35d8795934f6526/click-didyoumean-0.0.3.tar.gz\n",
            "Collecting click-repl>=0.1.6\n",
            "  Downloading https://files.pythonhosted.org/packages/6c/4e/577214ee76a5a36af485ae9ec01b4a47ee607b5d413b2063dafccf41f3ad/click_repl-0.1.6-py3-none-any.whl\n",
            "Collecting vine<6.0,>=5.0.0\n",
            "  Downloading https://files.pythonhosted.org/packages/8d/61/a7badb48186919a9fd7cf0ef427cab6d16e0ed474035c36fa64ddd72bfa2/vine-5.0.0-py2.py3-none-any.whl\n",
            "Collecting billiard<4.0,>=3.6.3.0\n",
            "\u001b[?25l  Downloading https://files.pythonhosted.org/packages/e8/5e/7591866ff45b370354bd20291cb6f87ddb2eef1f1c88c890a38412037e11/billiard-3.6.3.0-py3-none-any.whl (89kB)\n",
            "\u001b[K     |████████████████████████████████| 92kB 8.4MB/s \n",
            "\u001b[?25hCollecting click-plugins>=1.1.1\n",
            "  Downloading https://files.pythonhosted.org/packages/e9/da/824b92d9942f4e472702488857914bdd50f73021efea15b4cad9aca8ecef/click_plugins-1.1.1-py2.py3-none-any.whl\n",
            "Requirement already satisfied: pytz>dev in /usr/local/lib/python3.6/dist-packages (from celery>=4.1.1->excalibur-py) (2018.9)\n",
            "Requirement already satisfied: openpyxl>=2.5.8 in /usr/local/lib/python3.6/dist-packages (from camelot-py[cv]>=0.7.1->excalibur-py) (2.5.9)\n",
            "Requirement already satisfied: numpy>=1.13.3 in /usr/local/lib/python3.6/dist-packages (from camelot-py[cv]>=0.7.1->excalibur-py) (1.19.5)\n",
            "Requirement already satisfied: chardet>=3.0.4 in /usr/local/lib/python3.6/dist-packages (from camelot-py[cv]>=0.7.1->excalibur-py) (3.0.4)\n",
            "Requirement already satisfied: PyPDF2>=1.26.0 in /usr/local/lib/python3.6/dist-packages (from camelot-py[cv]>=0.7.1->excalibur-py) (1.26.0)\n",
            "Requirement already satisfied: pandas>=0.23.4 in /usr/local/lib/python3.6/dist-packages (from camelot-py[cv]>=0.7.1->excalibur-py) (1.1.5)\n",
            "Requirement already satisfied: pdfminer.six>=20200726 in /usr/local/lib/python3.6/dist-packages (from camelot-py[cv]>=0.7.1->excalibur-py) (20201018)\n",
            "Requirement already satisfied: opencv-python>=3.4.2.17; extra == \"cv\" in /usr/local/lib/python3.6/dist-packages (from camelot-py[cv]>=0.7.1->excalibur-py) (4.1.2.30)\n",
            "Requirement already satisfied: Jinja2>=2.10.1 in /usr/local/lib/python3.6/dist-packages (from Flask>=1.0.2->excalibur-py) (2.11.3)\n",
            "Requirement already satisfied: itsdangerous>=0.24 in /usr/local/lib/python3.6/dist-packages (from Flask>=1.0.2->excalibur-py) (1.1.0)\n",
            "Requirement already satisfied: importlib-metadata>=0.18; python_version < \"3.8\" in /usr/local/lib/python3.6/dist-packages (from kombu<6.0,>=5.0.0->celery>=4.1.1->excalibur-py) (3.4.0)\n",
            "Collecting amqp<6.0.0,>=5.0.0\n",
            "\u001b[?25l  Downloading https://files.pythonhosted.org/packages/89/52/452f0f12126bdf381176d65aab12320155d238c865f88c5b56901457d594/amqp-5.0.5-py3-none-any.whl (51kB)\n",
            "\u001b[K     |████████████████████████████████| 51kB 4.9MB/s \n",
            "\u001b[?25hRequirement already satisfied: prompt-toolkit in /usr/local/lib/python3.6/dist-packages (from click-repl>=0.1.6->celery>=4.1.1->excalibur-py) (1.0.18)\n",
            "Requirement already satisfied: six in /usr/local/lib/python3.6/dist-packages (from click-repl>=0.1.6->celery>=4.1.1->excalibur-py) (1.15.0)\n",
            "Requirement already satisfied: et-xmlfile in /usr/local/lib/python3.6/dist-packages (from openpyxl>=2.5.8->camelot-py[cv]>=0.7.1->excalibur-py) (1.0.1)\n",
            "Requirement already satisfied: jdcal in /usr/local/lib/python3.6/dist-packages (from openpyxl>=2.5.8->camelot-py[cv]>=0.7.1->excalibur-py) (1.4.1)\n",
            "Requirement already satisfied: python-dateutil>=2.7.3 in /usr/local/lib/python3.6/dist-packages (from pandas>=0.23.4->camelot-py[cv]>=0.7.1->excalibur-py) (2.8.1)\n",
            "Requirement already satisfied: cryptography in /usr/local/lib/python3.6/dist-packages (from pdfminer.six>=20200726->camelot-py[cv]>=0.7.1->excalibur-py) (3.4.6)\n",
            "Requirement already satisfied: sortedcontainers in /usr/local/lib/python3.6/dist-packages (from pdfminer.six>=20200726->camelot-py[cv]>=0.7.1->excalibur-py) (2.3.0)\n",
            "Requirement already satisfied: MarkupSafe>=0.23 in /usr/local/lib/python3.6/dist-packages (from Jinja2>=2.10.1->Flask>=1.0.2->excalibur-py) (1.1.1)\n",
            "Requirement already satisfied: zipp>=0.5 in /usr/local/lib/python3.6/dist-packages (from importlib-metadata>=0.18; python_version < \"3.8\"->kombu<6.0,>=5.0.0->celery>=4.1.1->excalibur-py) (3.4.0)\n",
            "Requirement already satisfied: typing-extensions>=3.6.4; python_version < \"3.8\" in /usr/local/lib/python3.6/dist-packages (from importlib-metadata>=0.18; python_version < \"3.8\"->kombu<6.0,>=5.0.0->celery>=4.1.1->excalibur-py) (3.7.4.3)\n",
            "Requirement already satisfied: wcwidth in /usr/local/lib/python3.6/dist-packages (from prompt-toolkit->click-repl>=0.1.6->celery>=4.1.1->excalibur-py) (0.2.5)\n",
            "Requirement already satisfied: cffi>=1.12 in /usr/local/lib/python3.6/dist-packages (from cryptography->pdfminer.six>=20200726->camelot-py[cv]>=0.7.1->excalibur-py) (1.14.4)\n",
            "Requirement already satisfied: pycparser in /usr/local/lib/python3.6/dist-packages (from cffi>=1.12->cryptography->pdfminer.six>=20200726->camelot-py[cv]>=0.7.1->excalibur-py) (2.20)\n",
            "Building wheels for collected packages: click-didyoumean\n",
            "  Building wheel for click-didyoumean (setup.py) ... \u001b[?25l\u001b[?25hdone\n",
            "  Created wheel for click-didyoumean: filename=click_didyoumean-0.0.3-cp36-none-any.whl size=2148 sha256=176891a086049d04f7aee8a533569c505aad718d70c6cb7bad3cb189cf08e700\n",
            "  Stored in directory: /root/.cache/pip/wheels/6e/b6/7e/f5861c2196073138d49bbe662671e6a983236ea10db6ad9836\n",
            "Successfully built click-didyoumean\n",
            "Installing collected packages: configparser, vine, amqp, kombu, click-didyoumean, click-repl, billiard, click-plugins, celery, Werkzeug, excalibur-py\n",
            "  Found existing installation: Werkzeug 1.0.1\n",
            "    Uninstalling Werkzeug-1.0.1:\n",
            "      Successfully uninstalled Werkzeug-1.0.1\n",
            "Successfully installed Werkzeug-0.16.1 amqp-5.0.5 billiard-3.6.3.0 celery-5.0.5 click-didyoumean-0.0.3 click-plugins-1.1.1 click-repl-0.1.6 configparser-3.5.3 excalibur-py-0.4.3 kombu-5.0.2 vine-5.0.0\n",
            "Reading package lists... Done\n",
            "Building dependency tree       \n",
            "Reading state information... Done\n",
            "ghostscript is already the newest version (9.26~dfsg+0-0ubuntu0.18.04.14).\n",
            "python3-tk is already the newest version (3.6.9-1~18.04).\n",
            "0 upgraded, 0 newly installed, 0 to remove and 17 not upgraded.\n",
            "libgs.so.9\n",
            "Creating new Excalibur configuration file in: /root/excalibur/excalibur.cfg\n"
          ],
          "name": "stdout"
        }
      ]
    },
    {
      "cell_type": "code",
      "metadata": {
        "id": "0zW82ABUAaxR"
      },
      "source": [
        "# !camelot lattice -plot text /content/drive/MyDrive/NewCo/intel/data/a14-rms/test.pdf"
      ],
      "execution_count": 7,
      "outputs": []
    },
    {
      "cell_type": "code",
      "metadata": {
        "id": "yCiu9iH0-Tam"
      },
      "source": [
        "import camelot\n",
        "import json"
      ],
      "execution_count": 9,
      "outputs": []
    },
    {
      "cell_type": "code",
      "metadata": {
        "id": "42EXit01N0a3"
      },
      "source": [
        "DOF_YEAR = '2021'"
      ],
      "execution_count": 16,
      "outputs": []
    },
    {
      "cell_type": "code",
      "metadata": {
        "id": "UrAfkAbvNKJl"
      },
      "source": [
        "with open(\"/content/drive/MyDrive/NewCo/intel/params/dof_page_breaks.json\", \"r\") as  params:\n",
        "  jParams = json.load(params)"
      ],
      "execution_count": 14,
      "outputs": []
    },
    {
      "cell_type": "code",
      "metadata": {
        "colab": {
          "base_uri": "https://localhost:8080/"
        },
        "id": "RxqWJoBuNwdY",
        "outputId": "2c98aac5-55dc-4b3d-9e0f-e76adc7aeb6a"
      },
      "source": [
        "jParams['2021']['parse']"
      ],
      "execution_count": 47,
      "outputs": [
        {
          "output_type": "execute_result",
          "data": {
            "text/plain": [
              "{'end': {'bottom-right': ['528', '450'],\n",
              "  'pages': '300',\n",
              "  'top-left': ['115', '738']},\n",
              " 'full': {'bottom-right': ['528', '57'],\n",
              "  'pages': '4-299',\n",
              "  'top-left': ['115', '738']},\n",
              " 'start': {'bottom-right': ['528', '57'],\n",
              "  'pages': '3',\n",
              "  'top-left': ['115', '528']}}"
            ]
          },
          "metadata": {
            "tags": []
          },
          "execution_count": 47
        }
      ]
    },
    {
      "cell_type": "code",
      "metadata": {
        "id": "n030le57PFG-"
      },
      "source": [
        "def fix_multiple_cols_name(df):\n",
        "  ncols = df.shape[1]\n",
        "  if ncols == 2:\n",
        "    return(df)\n",
        "  elif ncols > 2:\n",
        "    # names can generate multiple columns due to bad parsing\n",
        "    name_cols = list(range(1, ncols))\n",
        "    df[1] = df[name_cols].apply(lambda row: ' '.join(row.values.astype(str)), axis=1)\n",
        "    df = df[[0, 1]]\n",
        "    return(df)\n",
        "  else:\n",
        "    print('Check dataframe')\n",
        "    print(df.head(3))\n",
        "    return(pd.DataFrame(columns=[0, 1]))"
      ],
      "execution_count": 57,
      "outputs": []
    },
    {
      "cell_type": "code",
      "metadata": {
        "colab": {
          "base_uri": "https://localhost:8080/",
          "height": 35
        },
        "id": "J-5C286QUHQB",
        "outputId": "c7041119-4d48-466d-81e2-d4fc19d717c2"
      },
      "source": [
        "jParams[DOF_YEAR]['parse']['full']['pages']"
      ],
      "execution_count": 55,
      "outputs": [
        {
          "output_type": "execute_result",
          "data": {
            "application/vnd.google.colaboratory.intrinsic+json": {
              "type": "string"
            },
            "text/plain": [
              "'4-299'"
            ]
          },
          "metadata": {
            "tags": []
          },
          "execution_count": 55
        }
      ]
    },
    {
      "cell_type": "code",
      "metadata": {
        "colab": {
          "base_uri": "https://localhost:8080/"
        },
        "id": "7Bk6DCAqOA79",
        "outputId": "4af9eca8-4d4e-43d0-c3b2-799efdc6daf3"
      },
      "source": [
        "df_donaut_rms = pd.DataFrame(columns=[0, 1])\n",
        "\n",
        "# parsing first page where osc start (truncated)\n",
        "start_tl = jParams[DOF_YEAR]['parse']['start']['top-left']\n",
        "start_br = jParams[DOF_YEAR]['parse']['start']['bottom-right']\n",
        "first_page = camelot.read_pdf(\n",
        "    '/content/drive/MyDrive/NewCo/intel/data/a14-rms/a14-rms-2021.pdf'\n",
        "    , flavor='stream'\n",
        "    , table_areas=[','.join(start_tl + start_br)]\n",
        "    , pages=jParams[DOF_YEAR]['parse']['start']['pages']\n",
        "    )\n",
        "\n",
        "df_donaut_rms = pd.concat([df_donaut_rms, fix_multiple_cols_name(first_page[0].df)])\n",
        "\n",
        "\n",
        "# parsing full pages where osc continue\n",
        "full_tl = jParams[DOF_YEAR]['parse']['full']['top-left']\n",
        "full_br = jParams[DOF_YEAR]['parse']['full']['bottom-right']\n",
        "full_pages = camelot.read_pdf(\n",
        "    '/content/drive/MyDrive/NewCo/intel/data/a14-rms/a14-rms-2021.pdf'\n",
        "    , flavor='stream'\n",
        "    , table_areas=[','.join(full_tl + full_br)]\n",
        "    , pages=jParams[DOF_YEAR]['parse']['full']['pages']\n",
        "    )\n",
        "\n",
        "accuracies = []\n",
        "whitespaces = []\n",
        "\n",
        "for n in range(len(full_pages)):\n",
        "  aux = fix_multiple_cols_name(full_pages[n].df)\n",
        "  df_donaut_rms = pd.concat([df_donaut_rms, aux])\n",
        "\n",
        "  accuracies += [full_pages[n].parsing_report['accuracy']]\n",
        "  whitespaces += [full_pages[n].parsing_report['accuracy']]\n",
        "\n",
        "\n",
        "# parsing last page where osc end (truncated)\n",
        "end_tl = jParams[DOF_YEAR]['parse']['end']['top-left']\n",
        "end_br = jParams[DOF_YEAR]['parse']['end']['bottom-right']\n",
        "last_page = camelot.read_pdf(\n",
        "    '/content/drive/MyDrive/NewCo/intel/data/a14-rms/a14-rms-2021.pdf'\n",
        "    , flavor='stream'\n",
        "    , table_areas=[','.join(end_tl + end_br)]\n",
        "    , pages=jParams[DOF_YEAR]['parse']['end']['pages']\n",
        "    )\n",
        "\n",
        "df_donaut_rms = pd.concat([df_donaut_rms, fix_multiple_cols_name(last_page[0].df)])\n",
        "\n",
        "\n",
        "# some cleaning over here\n",
        "df_donaut_rms = df_donaut_rms.rename(columns={0: 'RFC', 1: 'razon_social'})\n",
        "# remove headers when osc changes their social objective in pdf\n",
        "df_donaut_rms = df_donaut_rms[~((df_donaut_rms.RFC == 'RFC') & (df_donaut_rms.razon_social == 'Denominación Social'))].reset_index(drop=True)\n",
        "df_donaut_rms = df_donaut_rms[df_donaut_rms.RFC.str.len().isin([0, 12]) ]"
      ],
      "execution_count": 95,
      "outputs": [
        {
          "output_type": "stream",
          "text": [
            "Check dataframe\n",
            "                                                   0\n",
            "0  Organizaciones  civiles  y  fideicomisos  para...\n",
            "1  peligro de extinción (artículo 79, fracción XX...\n",
            "2                          RFC \\nDenominación Social\n",
            "Check dataframe\n",
            "                                                   0\n",
            "0              STO080319IH8 \\nSELVA DEL TOZTLAN, A.C\n",
            "1           SHU1909193FA \\nSENDEROS CON HUELLA, A.C.\n",
            "2  SND9903113M7 \\nSistemas Naturales y Desarrollo AC\n"
          ],
          "name": "stdout"
        }
      ]
    },
    {
      "cell_type": "code",
      "metadata": {
        "colab": {
          "base_uri": "https://localhost:8080/"
        },
        "id": "46RQCROGW4S3",
        "outputId": "f58e8e30-fa4b-413c-f231-d7a6df0e37da"
      },
      "source": [
        "print('Average parsed accuracy', np.mean(accuracies).round(2))\n",
        "print('Average parsed whitespace', np.mean(whitespaces).round(2))"
      ],
      "execution_count": 96,
      "outputs": [
        {
          "output_type": "stream",
          "text": [
            "Average parsed accuracy 99.91\n",
            "Average parsed whitespace 99.91\n"
          ],
          "name": "stdout"
        }
      ]
    },
    {
      "cell_type": "code",
      "metadata": {
        "id": "bwk7QU0jOBCR"
      },
      "source": [
        "df_donaut_rms = df_donaut_rms.drop_duplicates(\"RFC\").reset_index(drop=True)"
      ],
      "execution_count": 98,
      "outputs": []
    },
    {
      "cell_type": "code",
      "metadata": {
        "colab": {
          "base_uri": "https://localhost:8080/",
          "height": 204
        },
        "id": "_89h-vb1Xn_L",
        "outputId": "25b9b181-bfed-48ba-f500-d0594a803979"
      },
      "source": [
        "df_donaut_rms.sample(5)"
      ],
      "execution_count": 100,
      "outputs": [
        {
          "output_type": "execute_result",
          "data": {
            "text/html": [
              "<div>\n",
              "<style scoped>\n",
              "    .dataframe tbody tr th:only-of-type {\n",
              "        vertical-align: middle;\n",
              "    }\n",
              "\n",
              "    .dataframe tbody tr th {\n",
              "        vertical-align: top;\n",
              "    }\n",
              "\n",
              "    .dataframe thead th {\n",
              "        text-align: right;\n",
              "    }\n",
              "</style>\n",
              "<table border=\"1\" class=\"dataframe\">\n",
              "  <thead>\n",
              "    <tr style=\"text-align: right;\">\n",
              "      <th></th>\n",
              "      <th>RFC</th>\n",
              "      <th>razon_social</th>\n",
              "    </tr>\n",
              "  </thead>\n",
              "  <tbody>\n",
              "    <tr>\n",
              "      <th>9153</th>\n",
              "      <td>AMG121122BVA</td>\n",
              "      <td>Amigos del Museo Guasave, A.C.</td>\n",
              "    </tr>\n",
              "    <tr>\n",
              "      <th>2201</th>\n",
              "      <td>DHR970219675</td>\n",
              "      <td>Desarrollo Humano Rotarios Monterrey Cumbres, ...</td>\n",
              "    </tr>\n",
              "    <tr>\n",
              "      <th>7160</th>\n",
              "      <td>JNP730906JG9</td>\n",
              "      <td>Jardín de Niños y Primaria Particular Bilingüe...</td>\n",
              "    </tr>\n",
              "    <tr>\n",
              "      <th>2793</th>\n",
              "      <td>FBM160915GX0</td>\n",
              "      <td>FUNDACION BARRA DE MIÑO, A.C.</td>\n",
              "    </tr>\n",
              "    <tr>\n",
              "      <th>1124</th>\n",
              "      <td>CHA970624N91</td>\n",
              "      <td>Casa Hogar Alegría, I.A.P.</td>\n",
              "    </tr>\n",
              "  </tbody>\n",
              "</table>\n",
              "</div>"
            ],
            "text/plain": [
              "               RFC                                       razon_social\n",
              "9153  AMG121122BVA                     Amigos del Museo Guasave, A.C.\n",
              "2201  DHR970219675  Desarrollo Humano Rotarios Monterrey Cumbres, ...\n",
              "7160  JNP730906JG9  Jardín de Niños y Primaria Particular Bilingüe...\n",
              "2793  FBM160915GX0                      FUNDACION BARRA DE MIÑO, A.C.\n",
              "1124  CHA970624N91                        Casa Hogar Alegría, I.A.P. "
            ]
          },
          "metadata": {
            "tags": []
          },
          "execution_count": 100
        }
      ]
    },
    {
      "cell_type": "code",
      "metadata": {
        "id": "V0p7xlvg_edW"
      },
      "source": [
        ""
      ],
      "execution_count": null,
      "outputs": []
    },
    {
      "cell_type": "code",
      "metadata": {
        "id": "5xU2YYDXIJ6z"
      },
      "source": [
        "df_osc2 = pd.merge(df_osc_cluni[['CLUNI', 'RFC', 'ESTATUS']], df_donaut_rms, how='outer')# .drop_duplicates().reset_index(drop=True)"
      ],
      "execution_count": 101,
      "outputs": []
    },
    {
      "cell_type": "code",
      "metadata": {
        "colab": {
          "base_uri": "https://localhost:8080/"
        },
        "id": "0ArkPHpoK8qw",
        "outputId": "4b3c1c04-1224-461c-a1b5-7aac8f20103d"
      },
      "source": [
        "(~df_osc2.isna()).sum(axis=0)"
      ],
      "execution_count": 103,
      "outputs": [
        {
          "output_type": "execute_result",
          "data": {
            "text/plain": [
              "CLUNI           42728\n",
              "RFC             46121\n",
              "ESTATUS         42728\n",
              "razon_social     9563\n",
              "dtype: int64"
            ]
          },
          "metadata": {
            "tags": []
          },
          "execution_count": 103
        }
      ]
    },
    {
      "cell_type": "code",
      "metadata": {
        "colab": {
          "base_uri": "https://localhost:8080/"
        },
        "id": "EQ49sqBiYyWS",
        "outputId": "1a59e26c-8429-409f-ba55-316a9ba6bcb8"
      },
      "source": [
        "(~df_osc2[df_osc2.ESTATUS == 'ACTIVA'].isna()).sum(axis=0)"
      ],
      "execution_count": 105,
      "outputs": [
        {
          "output_type": "execute_result",
          "data": {
            "text/plain": [
              "CLUNI           13436\n",
              "RFC             13436\n",
              "ESTATUS         13436\n",
              "razon_social     4693\n",
              "dtype: int64"
            ]
          },
          "metadata": {
            "tags": []
          },
          "execution_count": 105
        }
      ]
    },
    {
      "cell_type": "code",
      "metadata": {
        "id": "7ErTB7jUY5-6"
      },
      "source": [
        "df_osc_activas = df_osc2[df_osc2.ESTATUS == 'ACTIVA']"
      ],
      "execution_count": 106,
      "outputs": []
    },
    {
      "cell_type": "code",
      "metadata": {
        "colab": {
          "base_uri": "https://localhost:8080/",
          "height": 204
        },
        "id": "8odhpBGOLGax",
        "outputId": "c008a09e-77e7-487d-cad3-54d125be33f1"
      },
      "source": [
        "# OSC not present in DOF might be delay delivering tax annual reports\n",
        "df_osc_activas[df_osc_activas.razon_social.isna()].sample(5)"
      ],
      "execution_count": 111,
      "outputs": [
        {
          "output_type": "execute_result",
          "data": {
            "text/html": [
              "<div>\n",
              "<style scoped>\n",
              "    .dataframe tbody tr th:only-of-type {\n",
              "        vertical-align: middle;\n",
              "    }\n",
              "\n",
              "    .dataframe tbody tr th {\n",
              "        vertical-align: top;\n",
              "    }\n",
              "\n",
              "    .dataframe thead th {\n",
              "        text-align: right;\n",
              "    }\n",
              "</style>\n",
              "<table border=\"1\" class=\"dataframe\">\n",
              "  <thead>\n",
              "    <tr style=\"text-align: right;\">\n",
              "      <th></th>\n",
              "      <th>CLUNI</th>\n",
              "      <th>RFC</th>\n",
              "      <th>ESTATUS</th>\n",
              "      <th>razon_social</th>\n",
              "    </tr>\n",
              "  </thead>\n",
              "  <tbody>\n",
              "    <tr>\n",
              "      <th>8969</th>\n",
              "      <td>CBE0910022001C</td>\n",
              "      <td>CBE091002CJ9</td>\n",
              "      <td>ACTIVA</td>\n",
              "      <td>NaN</td>\n",
              "    </tr>\n",
              "    <tr>\n",
              "      <th>9707</th>\n",
              "      <td>CIA07110202012</td>\n",
              "      <td>CIA071102EZ3</td>\n",
              "      <td>ACTIVA</td>\n",
              "      <td>NaN</td>\n",
              "    </tr>\n",
              "    <tr>\n",
              "      <th>34497</th>\n",
              "      <td>IID16061628JH6</td>\n",
              "      <td>IID160616BT3</td>\n",
              "      <td>ACTIVA</td>\n",
              "      <td>NaN</td>\n",
              "    </tr>\n",
              "    <tr>\n",
              "      <th>40552</th>\n",
              "      <td>CQR18021223IFM</td>\n",
              "      <td>CQR1802128U0</td>\n",
              "      <td>ACTIVA</td>\n",
              "      <td>NaN</td>\n",
              "    </tr>\n",
              "    <tr>\n",
              "      <th>11660</th>\n",
              "      <td>DSH1008031601A</td>\n",
              "      <td>DSH100803T45</td>\n",
              "      <td>ACTIVA</td>\n",
              "      <td>NaN</td>\n",
              "    </tr>\n",
              "  </tbody>\n",
              "</table>\n",
              "</div>"
            ],
            "text/plain": [
              "                CLUNI           RFC ESTATUS razon_social\n",
              "8969   CBE0910022001C  CBE091002CJ9  ACTIVA          NaN\n",
              "9707   CIA07110202012  CIA071102EZ3  ACTIVA          NaN\n",
              "34497  IID16061628JH6  IID160616BT3  ACTIVA          NaN\n",
              "40552  CQR18021223IFM  CQR1802128U0  ACTIVA          NaN\n",
              "11660  DSH1008031601A  DSH100803T45  ACTIVA          NaN"
            ]
          },
          "metadata": {
            "tags": []
          },
          "execution_count": 111
        }
      ]
    },
    {
      "cell_type": "code",
      "metadata": {
        "colab": {
          "base_uri": "https://localhost:8080/",
          "height": 335
        },
        "id": "fX5ggQFGaSKZ",
        "outputId": "832c07ef-a0a6-4cdc-97ce-989b992cd503"
      },
      "source": [
        "df_osc_sat[df_osc_sat.RFC == 'CHA970624N91']"
      ],
      "execution_count": 119,
      "outputs": [
        {
          "output_type": "execute_result",
          "data": {
            "text/html": [
              "<div>\n",
              "<style scoped>\n",
              "    .dataframe tbody tr th:only-of-type {\n",
              "        vertical-align: middle;\n",
              "    }\n",
              "\n",
              "    .dataframe tbody tr th {\n",
              "        vertical-align: top;\n",
              "    }\n",
              "\n",
              "    .dataframe thead th {\n",
              "        text-align: right;\n",
              "    }\n",
              "</style>\n",
              "<table border=\"1\" class=\"dataframe\">\n",
              "  <thead>\n",
              "    <tr style=\"text-align: right;\">\n",
              "      <th></th>\n",
              "      <th>ENTIDAD FEDERATIVA</th>\n",
              "      <th>ADMINISTRACIÓN DESCONCENTRADA DE SERVICIOS AL CONTRIBUYENTE</th>\n",
              "      <th>ACTIVIDAD O FIN AUTORIZADO</th>\n",
              "      <th>RFC</th>\n",
              "      <th>DENOMINACIÓN O RAZÓN SOCIAL</th>\n",
              "      <th>DOMICILIO FISCAL</th>\n",
              "      <th>OFICIO DE AUTORIZACIÓN</th>\n",
              "      <th>FECHA DE OFICIO</th>\n",
              "      <th>OBJETO SOCIAL AUTORIZADO</th>\n",
              "      <th>REPRESENTANTE LEGAL</th>\n",
              "      <th>NÚMEROS TELEFÓNICOS</th>\n",
              "      <th>E-MAIL</th>\n",
              "      <th>DOMICILIO DE ESTABLECIMIENTO</th>\n",
              "      <th>NÚMEROS TELEFÓNICOS DEL ESTABLECIMIENTO</th>\n",
              "      <th>ACREDITAMIENTO</th>\n",
              "    </tr>\n",
              "  </thead>\n",
              "  <tbody>\n",
              "    <tr>\n",
              "      <th>7364</th>\n",
              "      <td>ESTADO DE MÉXICO</td>\n",
              "      <td>MÉXICO \"1\"</td>\n",
              "      <td>M</td>\n",
              "      <td>CHA970624N91</td>\n",
              "      <td>Casa Hogar Alegría, I.A.P.</td>\n",
              "      <td>Lanceros de Toluca Núm 208, Col. Héroes de 5 d...</td>\n",
              "      <td>600-04-05-2013-10047</td>\n",
              "      <td>2013-01-31 00:00:00</td>\n",
              "      <td>La Atención a Personas que por sus Carencias S...</td>\n",
              "      <td>Alva Margarita Cervera Lavat</td>\n",
              "      <td>722 208 92 55</td>\n",
              "      <td>casahogar_alegria@hotmail.com</td>\n",
              "      <td>No Manifestó</td>\n",
              "      <td>No Manifestó</td>\n",
              "      <td>Constancia sin fecha, firmada por el Lic. Agus...</td>\n",
              "    </tr>\n",
              "    <tr>\n",
              "      <th>7365</th>\n",
              "      <td>ESTADO DE MÉXICO</td>\n",
              "      <td>MÉXICO \"1\"</td>\n",
              "      <td>A</td>\n",
              "      <td>CHA970624N91</td>\n",
              "      <td>Casa Hogar Alegría, I.A.P.</td>\n",
              "      <td>Lanceros de Toluca Núm 208, Col. Héroes de 5 d...</td>\n",
              "      <td>600-04-05-2011-54503</td>\n",
              "      <td>2011-02-03 00:00:00</td>\n",
              "      <td>La Atención a Personas que por sus Carencias S...</td>\n",
              "      <td>Alva Margarita Cervera Lavat</td>\n",
              "      <td>722 208 92 55</td>\n",
              "      <td>casahogar_alegria@hotmail.com</td>\n",
              "      <td>No Manifestó</td>\n",
              "      <td>No Manifestó</td>\n",
              "      <td>Constancia sin fecha, firmada por el Lic. Agus...</td>\n",
              "    </tr>\n",
              "  </tbody>\n",
              "</table>\n",
              "</div>"
            ],
            "text/plain": [
              "     ENTIDAD FEDERATIVA  ...                                     ACREDITAMIENTO\n",
              "7364   ESTADO DE MÉXICO  ...  Constancia sin fecha, firmada por el Lic. Agus...\n",
              "7365   ESTADO DE MÉXICO  ...  Constancia sin fecha, firmada por el Lic. Agus...\n",
              "\n",
              "[2 rows x 15 columns]"
            ]
          },
          "metadata": {
            "tags": []
          },
          "execution_count": 119
        }
      ]
    },
    {
      "cell_type": "code",
      "metadata": {
        "colab": {
          "base_uri": "https://localhost:8080/",
          "height": 49
        },
        "id": "QDnbcRKtLc1C",
        "outputId": "23191598-9a12-4b7d-a0a9-e50380aa2e79"
      },
      "source": [
        "df_osc_activas[df_osc_activas.CLUNI.isna()]"
      ],
      "execution_count": 113,
      "outputs": [
        {
          "output_type": "execute_result",
          "data": {
            "text/html": [
              "<div>\n",
              "<style scoped>\n",
              "    .dataframe tbody tr th:only-of-type {\n",
              "        vertical-align: middle;\n",
              "    }\n",
              "\n",
              "    .dataframe tbody tr th {\n",
              "        vertical-align: top;\n",
              "    }\n",
              "\n",
              "    .dataframe thead th {\n",
              "        text-align: right;\n",
              "    }\n",
              "</style>\n",
              "<table border=\"1\" class=\"dataframe\">\n",
              "  <thead>\n",
              "    <tr style=\"text-align: right;\">\n",
              "      <th></th>\n",
              "      <th>CLUNI</th>\n",
              "      <th>RFC</th>\n",
              "      <th>ESTATUS</th>\n",
              "      <th>razon_social</th>\n",
              "    </tr>\n",
              "  </thead>\n",
              "  <tbody>\n",
              "  </tbody>\n",
              "</table>\n",
              "</div>"
            ],
            "text/plain": [
              "Empty DataFrame\n",
              "Columns: [CLUNI, RFC, ESTATUS, razon_social]\n",
              "Index: []"
            ]
          },
          "metadata": {
            "tags": []
          },
          "execution_count": 113
        }
      ]
    },
    {
      "cell_type": "code",
      "metadata": {
        "colab": {
          "base_uri": "https://localhost:8080/"
        },
        "id": "YkkYX-M9MPHD",
        "outputId": "dd24c8a1-c5d1-4bbe-94a0-496f0ea9cd35"
      },
      "source": [
        "df_osc_activas.RFC.value_counts()[df_osc_activas.RFC.value_counts() > 1]"
      ],
      "execution_count": 120,
      "outputs": [
        {
          "output_type": "execute_result",
          "data": {
            "text/plain": [
              "Series([], Name: RFC, dtype: int64)"
            ]
          },
          "metadata": {
            "tags": []
          },
          "execution_count": 120
        }
      ]
    },
    {
      "cell_type": "code",
      "metadata": {
        "id": "EkkTAeHDL3Ef"
      },
      "source": [
        ""
      ],
      "execution_count": null,
      "outputs": []
    }
  ]
}