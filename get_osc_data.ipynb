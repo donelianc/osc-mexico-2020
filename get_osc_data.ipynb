{
 "cells": [
  {
   "cell_type": "code",
   "execution_count": 1,
   "metadata": {
    "id": "mV8WD56fP2Zr"
   },
   "outputs": [],
   "source": [
    "import requests\n",
    "import pandas as pd\n",
    "import numpy as np\n",
    "from datetime import datetime as dt"
   ]
  },
  {
   "cell_type": "code",
   "execution_count": 3,
   "metadata": {
    "id": "ISvfBehEIC-5"
   },
   "outputs": [],
   "source": [
    "import matplotlib.pyplot as plt\n",
    "plt.rcParams['figure.figsize'] = [10, 10]"
   ]
  },
  {
   "cell_type": "markdown",
   "metadata": {
    "id": "iI6hplGSBPtH"
   },
   "source": [
    "## 1. OSC con Clave Única de Inscripción"
   ]
  },
  {
   "cell_type": "code",
   "execution_count": 4,
   "metadata": {
    "id": "7JD9SYvKCkx7"
   },
   "outputs": [],
   "source": [
    "CLUNI = ''\n",
    "NOMBRE = ''\n",
    "ACRONIMO = ''\n",
    "RFC = ''\n",
    "STATUS_OSC = ''\n",
    "STATUS_SANCION = ''\n",
    "FIGURA_JURIDICA = ''\n",
    "ESTADO = ''\n",
    "MUNICIPIO = ''\n",
    "ASENTAMIENTO = ''\n",
    "CP = ''\n",
    "REP_NOMBRE = ''\n",
    "REP_APATERNO = ''\n",
    "REP_AMATERNO = ''\n",
    "NUM_NOTARIA = ''\n",
    "OBJETO_SOCIAL = ''\n",
    "RED = ''\n",
    "ADVANCED = ''"
   ]
  },
  {
   "cell_type": "code",
   "execution_count": 5,
   "metadata": {
    "id": "1GtEqjMSCuKG"
   },
   "outputs": [],
   "source": [
    "CLUNI_URL = f\"http://www.sii.gob.mx/portal/organizaciones/excel/?cluni={CLUNI}&nombre={NOMBRE}&acronimo={ACRONIMO}&rfc={RFC}&status_osc={STATUS_OSC}&status_sancion={STATUS_SANCION}&figura_juridica={FIGURA_JURIDICA}&estado={ESTADO}&municipio={MUNICIPIO}&asentamiento={ASENTAMIENTO}&cp={CP}&rep_nombre={REP_NOMBRE}&rep_apaterno={REP_APATERNO}&rep_amaterno={REP_AMATERNO}&num_notaria={NUM_NOTARIA}&objeto_social={OBJETO_SOCIAL}&red={RED}&advanced=1\""
   ]
  },
  {
   "cell_type": "code",
   "execution_count": 6,
   "metadata": {
    "id": "kn_rrecRDh1z"
   },
   "outputs": [],
   "source": [
    "payload={}\n",
    "headers = {\n",
    "  'Upgrade-Insecure-Requests': '1',\n",
    "  'User-Agent': 'Mozilla/5.0 (Macintosh; Intel Mac OS X 11_2_0) AppleWebKit/537.36 (KHTML, like Gecko) Chrome/88.0.4324.96 Safari/537.36',\n",
    "  'Accept': 'text/html,application/xhtml+xml,application/xml;q=0.9,image/avif,image/webp,image/apng,*/*;q=0.8,application/signed-exchange;v=b3;q=0.9'\n",
    "}"
   ]
  },
  {
   "cell_type": "code",
   "execution_count": 7,
   "metadata": {
    "id": "HfEtPSjLDIoH"
   },
   "outputs": [],
   "source": [
    "cluni_response = requests.request(\"GET\", CLUNI_URL, headers=headers, data=payload)"
   ]
  },
  {
   "cell_type": "code",
   "execution_count": 8,
   "metadata": {
    "id": "LjPR-20_-ber"
   },
   "outputs": [],
   "source": [
    "CLUNI_NOW = str(dt.now())[:19].replace(' ', '-').replace(':', '-')"
   ]
  },
  {
   "cell_type": "code",
   "execution_count": 9,
   "metadata": {
    "id": "5xd2The89OC1"
   },
   "outputs": [],
   "source": [
    "with open(f\"./data/SIRFOSC/report-rfosc-{CLUNI_NOW}.txt\", \"w+\") as f:\n",
    "  f.write(cluni_response.text)"
   ]
  },
  {
   "cell_type": "code",
   "execution_count": 10,
   "metadata": {
    "id": "ZOH43fh5Dqb_"
   },
   "outputs": [],
   "source": [
    "df_osc_cluni = pd.DataFrame([row.split('\",\"') for row in cluni_response.text.split('\\n')])\n",
    "df_osc_cluni[0] = df_osc_cluni[0].str.replace('\"', '')\n",
    "df_osc_cluni[df_osc_cluni.shape[1]-1] = df_osc_cluni[df_osc_cluni.shape[1]-1].str.replace('\"\\r', '')\n",
    "df_osc_cluni = df_osc_cluni.rename(columns=df_osc_cluni.iloc[0]).iloc[1:]\n",
    "df_osc_cluni = df_osc_cluni[:-1]"
   ]
  },
  {
   "cell_type": "code",
   "execution_count": 11,
   "metadata": {
    "colab": {
     "base_uri": "https://localhost:8080/",
     "height": 496
    },
    "id": "Ahac-XYg8Pps",
    "outputId": "05a93770-0701-447f-e4ee-0b2a9ade3a1a"
   },
   "outputs": [
    {
     "data": {
      "text/html": [
       "<div>\n",
       "<style scoped>\n",
       "    .dataframe tbody tr th:only-of-type {\n",
       "        vertical-align: middle;\n",
       "    }\n",
       "\n",
       "    .dataframe tbody tr th {\n",
       "        vertical-align: top;\n",
       "    }\n",
       "\n",
       "    .dataframe thead th {\n",
       "        text-align: right;\n",
       "    }\n",
       "</style>\n",
       "<table border=\"1\" class=\"dataframe\">\n",
       "  <thead>\n",
       "    <tr style=\"text-align: right;\">\n",
       "      <th></th>\n",
       "      <th>CLUNI</th>\n",
       "      <th>RAZON SOCIAL</th>\n",
       "      <th>FIGURA JURIDICA</th>\n",
       "      <th>RFC</th>\n",
       "      <th>ESTATUS</th>\n",
       "      <th>ESTATUS DE SANCION</th>\n",
       "      <th>REPRESENTANTES LEGALES</th>\n",
       "      <th>ESTATUS DE LA REPRESENTACION</th>\n",
       "      <th>FECHA DE CONSTITUCION</th>\n",
       "      <th>FECHA DE INSCRIPCION</th>\n",
       "      <th>...</th>\n",
       "      <th>INFORME 2015 PRESENTADO</th>\n",
       "      <th>INFORME 2015 EN TIEMPO</th>\n",
       "      <th>INFORME 2016 PRESENTADO</th>\n",
       "      <th>INFORME 2016 EN TIEMPO</th>\n",
       "      <th>INFORME 2017 PRESENTADO</th>\n",
       "      <th>INFORME 2017 EN TIEMPO</th>\n",
       "      <th>INFORME 2018 PRESENTADO</th>\n",
       "      <th>INFORME 2018 EN TIEMPO</th>\n",
       "      <th>INFORME 2019 PRESENTADO</th>\n",
       "      <th>INFORME 2019 EN TIEMPO</th>\n",
       "    </tr>\n",
       "  </thead>\n",
       "  <tbody>\n",
       "    <tr>\n",
       "      <th>1</th>\n",
       "      <td>VCO98091405018</td>\n",
       "      <td>Voluntades por Coahuila</td>\n",
       "      <td>Asociación Civil</td>\n",
       "      <td>VCO980914457</td>\n",
       "      <td>INACTIVA</td>\n",
       "      <td>N/A</td>\n",
       "      <td>Rodrigo Montelongo Suárez</td>\n",
       "      <td>VENCIDA</td>\n",
       "      <td>1998-09-14</td>\n",
       "      <td>2005-05-18</td>\n",
       "      <td>...</td>\n",
       "      <td>NO</td>\n",
       "      <td>NA</td>\n",
       "      <td>NO</td>\n",
       "      <td>NA</td>\n",
       "      <td>NO</td>\n",
       "      <td>NA</td>\n",
       "      <td>NO</td>\n",
       "      <td>NA</td>\n",
       "      <td>NO</td>\n",
       "      <td>NA</td>\n",
       "    </tr>\n",
       "    <tr>\n",
       "      <th>2</th>\n",
       "      <td>UEF0303170101D</td>\n",
       "      <td>Unión Estatal Femenil FEPRA</td>\n",
       "      <td>Asociación Civil</td>\n",
       "      <td>UEF0303179P9</td>\n",
       "      <td>INACTIVA</td>\n",
       "      <td>N/A</td>\n",
       "      <td>Adriana Díaz de León Valdivia</td>\n",
       "      <td>VIGENTE</td>\n",
       "      <td>2003-03-17</td>\n",
       "      <td>2005-02-22</td>\n",
       "      <td>...</td>\n",
       "      <td>NO</td>\n",
       "      <td>NA</td>\n",
       "      <td>NO</td>\n",
       "      <td>NA</td>\n",
       "      <td>NO</td>\n",
       "      <td>NA</td>\n",
       "      <td>NO</td>\n",
       "      <td>NA</td>\n",
       "      <td>NO</td>\n",
       "      <td>NA</td>\n",
       "    </tr>\n",
       "    <tr>\n",
       "      <th>3</th>\n",
       "      <td>FOJ04100219013</td>\n",
       "      <td>Federación de Organizaciones Juveniles</td>\n",
       "      <td>Asociación Civil</td>\n",
       "      <td>FOJ041002PB3</td>\n",
       "      <td>INACTIVA</td>\n",
       "      <td>N/A</td>\n",
       "      <td>Jorge Alberto Arrambide Montemayor</td>\n",
       "      <td>VIGENTE</td>\n",
       "      <td>2004-10-02</td>\n",
       "      <td>2005-03-09</td>\n",
       "      <td>...</td>\n",
       "      <td>NO</td>\n",
       "      <td>NA</td>\n",
       "      <td>NO</td>\n",
       "      <td>NA</td>\n",
       "      <td>NO</td>\n",
       "      <td>NA</td>\n",
       "      <td>NO</td>\n",
       "      <td>NA</td>\n",
       "      <td>NO</td>\n",
       "      <td>NA</td>\n",
       "    </tr>\n",
       "    <tr>\n",
       "      <th>4</th>\n",
       "      <td>ARP95040609019</td>\n",
       "      <td>Aguilas Reales Pro Dignidad del Discapacitado</td>\n",
       "      <td>Asociación Civil</td>\n",
       "      <td>ARP950406IF8</td>\n",
       "      <td>INACTIVA</td>\n",
       "      <td>N/A</td>\n",
       "      <td>David Peral Manzo,David Peral Manzo</td>\n",
       "      <td>VENCIDA</td>\n",
       "      <td>1995-04-06</td>\n",
       "      <td>2005-04-21</td>\n",
       "      <td>...</td>\n",
       "      <td>NO</td>\n",
       "      <td>NA</td>\n",
       "      <td>NO</td>\n",
       "      <td>NA</td>\n",
       "      <td>NO</td>\n",
       "      <td>NA</td>\n",
       "      <td>NO</td>\n",
       "      <td>NA</td>\n",
       "      <td>NO</td>\n",
       "      <td>NA</td>\n",
       "    </tr>\n",
       "    <tr>\n",
       "      <th>5</th>\n",
       "      <td>FIM97120122015</td>\n",
       "      <td>Formación Integral de la Mujer</td>\n",
       "      <td>Institución de Asistencia Privada</td>\n",
       "      <td>FIM971201896</td>\n",
       "      <td>INACTIVA</td>\n",
       "      <td>N/A</td>\n",
       "      <td>María Teresa Duarte Belloc,María Teresa Rodríg...</td>\n",
       "      <td>VIGENTE</td>\n",
       "      <td>1997-09-18</td>\n",
       "      <td>2005-04-08</td>\n",
       "      <td>...</td>\n",
       "      <td>SI</td>\n",
       "      <td>SI</td>\n",
       "      <td>SI</td>\n",
       "      <td>SI</td>\n",
       "      <td>SI</td>\n",
       "      <td>SI</td>\n",
       "      <td>SI</td>\n",
       "      <td>SI</td>\n",
       "      <td>NO</td>\n",
       "      <td>NA</td>\n",
       "    </tr>\n",
       "  </tbody>\n",
       "</table>\n",
       "<p>5 rows × 69 columns</p>\n",
       "</div>"
      ],
      "text/plain": [
       "            CLUNI                                   RAZON SOCIAL  \\\n",
       "1  VCO98091405018                        Voluntades por Coahuila   \n",
       "2  UEF0303170101D                    Unión Estatal Femenil FEPRA   \n",
       "3  FOJ04100219013         Federación de Organizaciones Juveniles   \n",
       "4  ARP95040609019  Aguilas Reales Pro Dignidad del Discapacitado   \n",
       "5  FIM97120122015                 Formación Integral de la Mujer   \n",
       "\n",
       "                     FIGURA JURIDICA           RFC   ESTATUS  \\\n",
       "1                   Asociación Civil  VCO980914457  INACTIVA   \n",
       "2                   Asociación Civil  UEF0303179P9  INACTIVA   \n",
       "3                   Asociación Civil  FOJ041002PB3  INACTIVA   \n",
       "4                   Asociación Civil  ARP950406IF8  INACTIVA   \n",
       "5  Institución de Asistencia Privada  FIM971201896  INACTIVA   \n",
       "\n",
       "  ESTATUS DE SANCION                             REPRESENTANTES LEGALES  \\\n",
       "1                N/A                          Rodrigo Montelongo Suárez   \n",
       "2                N/A                      Adriana Díaz de León Valdivia   \n",
       "3                N/A                 Jorge Alberto Arrambide Montemayor   \n",
       "4                N/A                David Peral Manzo,David Peral Manzo   \n",
       "5                N/A  María Teresa Duarte Belloc,María Teresa Rodríg...   \n",
       "\n",
       "  ESTATUS DE LA REPRESENTACION FECHA DE CONSTITUCION FECHA DE INSCRIPCION  \\\n",
       "1                      VENCIDA            1998-09-14           2005-05-18   \n",
       "2                      VIGENTE            2003-03-17           2005-02-22   \n",
       "3                      VIGENTE            2004-10-02           2005-03-09   \n",
       "4                      VENCIDA            1995-04-06           2005-04-21   \n",
       "5                      VIGENTE            1997-09-18           2005-04-08   \n",
       "\n",
       "   ... INFORME 2015 PRESENTADO INFORME 2015 EN TIEMPO INFORME 2016 PRESENTADO  \\\n",
       "1  ...                      NO                     NA                      NO   \n",
       "2  ...                      NO                     NA                      NO   \n",
       "3  ...                      NO                     NA                      NO   \n",
       "4  ...                      NO                     NA                      NO   \n",
       "5  ...                      SI                     SI                      SI   \n",
       "\n",
       "  INFORME 2016 EN TIEMPO INFORME 2017 PRESENTADO INFORME 2017 EN TIEMPO  \\\n",
       "1                     NA                      NO                     NA   \n",
       "2                     NA                      NO                     NA   \n",
       "3                     NA                      NO                     NA   \n",
       "4                     NA                      NO                     NA   \n",
       "5                     SI                      SI                     SI   \n",
       "\n",
       "  INFORME 2018 PRESENTADO INFORME 2018 EN TIEMPO INFORME 2019 PRESENTADO  \\\n",
       "1                      NO                     NA                      NO   \n",
       "2                      NO                     NA                      NO   \n",
       "3                      NO                     NA                      NO   \n",
       "4                      NO                     NA                      NO   \n",
       "5                      SI                     SI                      NO   \n",
       "\n",
       "  INFORME 2019 EN TIEMPO  \n",
       "1                     NA  \n",
       "2                     NA  \n",
       "3                     NA  \n",
       "4                     NA  \n",
       "5                     NA  \n",
       "\n",
       "[5 rows x 69 columns]"
      ]
     },
     "execution_count": 11,
     "metadata": {},
     "output_type": "execute_result"
    }
   ],
   "source": [
    "df_osc_cluni.head()"
   ]
  },
  {
   "cell_type": "code",
   "execution_count": 12,
   "metadata": {
    "colab": {
     "base_uri": "https://localhost:8080/"
    },
    "id": "kehbMf_6THlH",
    "outputId": "b43ad6d0-f678-419c-cb1e-dfc09dfe3d4d"
   },
   "outputs": [
    {
     "data": {
      "text/plain": [
       "(42731, 69)"
      ]
     },
     "execution_count": 12,
     "metadata": {},
     "output_type": "execute_result"
    }
   ],
   "source": [
    "df_osc_cluni.shape"
   ]
  },
  {
   "cell_type": "code",
   "execution_count": 13,
   "metadata": {
    "id": "-QkjRNEn8obu"
   },
   "outputs": [],
   "source": [
    "df_osc_cluni.to_csv(f\"./data/SIRFOSC/report-rfosc-{CLUNI_NOW}.csv\")"
   ]
  },
  {
   "cell_type": "code",
   "execution_count": 14,
   "metadata": {
    "colab": {
     "base_uri": "https://localhost:8080/"
    },
    "id": "ZvFo7AzTH_Wd",
    "outputId": "b7d16d87-026a-415d-df6b-83a36ced14cf"
   },
   "outputs": [
    {
     "name": "stdout",
     "output_type": "stream",
     "text": [
      "<class 'pandas.core.frame.DataFrame'>\n",
      "RangeIndex: 42731 entries, 1 to 42731\n",
      "Data columns (total 69 columns):\n",
      " #   Column                        Non-Null Count  Dtype \n",
      "---  ------                        --------------  ----- \n",
      " 0   CLUNI                         42731 non-null  object\n",
      " 1   RAZON SOCIAL                  42731 non-null  object\n",
      " 2   FIGURA JURIDICA               42731 non-null  object\n",
      " 3   RFC                           42731 non-null  object\n",
      " 4   ESTATUS                       42731 non-null  object\n",
      " 5   ESTATUS DE SANCION            42731 non-null  object\n",
      " 6   REPRESENTANTES LEGALES        42731 non-null  object\n",
      " 7   ESTATUS DE LA REPRESENTACION  42731 non-null  object\n",
      " 8   FECHA DE CONSTITUCION         42731 non-null  object\n",
      " 9   FECHA DE INSCRIPCION          42731 non-null  object\n",
      " 10  CORREO(S)                     42731 non-null  object\n",
      " 11  TELEFONO(S)                   42730 non-null  object\n",
      " 12  ENTIDAD FEDERATIVA DOMICILIO  42730 non-null  object\n",
      " 13  MUNICIPIO                     42730 non-null  object\n",
      " 14  ASENTAMIENTO(COLONIA)         42730 non-null  object\n",
      " 15  VIALIDAD (CALLE)              42730 non-null  object\n",
      " 16  NUMERO EXTERIOR               42730 non-null  object\n",
      " 17  NUMERO INTERIOR               42730 non-null  object\n",
      " 18  CP                            42730 non-null  object\n",
      " 19  REDES                         42730 non-null  object\n",
      " 20  ACTIVIDAD_1                   42730 non-null  object\n",
      " 21  ACTIVIDAD_2                   42730 non-null  object\n",
      " 22  ACTIVIDAD_3                   42730 non-null  object\n",
      " 23  ACTIVIDAD_4                   42730 non-null  object\n",
      " 24  ACTIVIDAD_5                   42730 non-null  object\n",
      " 25  ACTIVIDAD_6                   42730 non-null  object\n",
      " 26  ACTIVIDAD_7                   42730 non-null  object\n",
      " 27  ACTIVIDAD_8                   42730 non-null  object\n",
      " 28  ACTIVIDAD_9                   42730 non-null  object\n",
      " 29  ACTIVIDAD_10                  42730 non-null  object\n",
      " 30  ACTIVIDAD_11                  42730 non-null  object\n",
      " 31  ACTIVIDAD_12                  42730 non-null  object\n",
      " 32  ACTIVIDAD_13                  42730 non-null  object\n",
      " 33  ACTIVIDAD_14                  42730 non-null  object\n",
      " 34  ACTIVIDAD_15                  42730 non-null  object\n",
      " 35  ACTIVIDAD_16                  42730 non-null  object\n",
      " 36  ACTIVIDAD_17                  42730 non-null  object\n",
      " 37  ACTIVIDAD_18                  42730 non-null  object\n",
      " 38  ACTIVIDAD_19                  42730 non-null  object\n",
      " 39  INFORME 2005 PRESENTADO       42730 non-null  object\n",
      " 40  INFORME 2005 EN TIEMPO        42730 non-null  object\n",
      " 41  INFORME 2006 PRESENTADO       42730 non-null  object\n",
      " 42  INFORME 2006 EN TIEMPO        42730 non-null  object\n",
      " 43  INFORME 2007 PRESENTADO       42730 non-null  object\n",
      " 44  INFORME 2007 EN TIEMPO        42730 non-null  object\n",
      " 45  INFORME 2008 PRESENTADO       42730 non-null  object\n",
      " 46  INFORME 2008 EN TIEMPO        42730 non-null  object\n",
      " 47  INFORME 2009 PRESENTADO       42730 non-null  object\n",
      " 48  INFORME 2009 EN TIEMPO        42730 non-null  object\n",
      " 49  INFORME 2010 PRESENTADO       42730 non-null  object\n",
      " 50  INFORME 2010 EN TIEMPO        42730 non-null  object\n",
      " 51  INFORME 2011 PRESENTADO       42730 non-null  object\n",
      " 52  INFORME 2011 EN TIEMPO        42730 non-null  object\n",
      " 53  INFORME 2012 PRESENTADO       42730 non-null  object\n",
      " 54  INFORME 2012 EN TIEMPO        42730 non-null  object\n",
      " 55  INFORME 2013 PRESENTADO       42730 non-null  object\n",
      " 56  INFORME 2013 EN TIEMPO        42730 non-null  object\n",
      " 57  INFORME 2014 PRESENTADO       42730 non-null  object\n",
      " 58  INFORME 2014 EN TIEMPO        42730 non-null  object\n",
      " 59  INFORME 2015 PRESENTADO       42729 non-null  object\n",
      " 60  INFORME 2015 EN TIEMPO        42729 non-null  object\n",
      " 61  INFORME 2016 PRESENTADO       42729 non-null  object\n",
      " 62  INFORME 2016 EN TIEMPO        42729 non-null  object\n",
      " 63  INFORME 2017 PRESENTADO       42729 non-null  object\n",
      " 64  INFORME 2017 EN TIEMPO        42729 non-null  object\n",
      " 65  INFORME 2018 PRESENTADO       42729 non-null  object\n",
      " 66  INFORME 2018 EN TIEMPO        42729 non-null  object\n",
      " 67  INFORME 2019 PRESENTADO       42729 non-null  object\n",
      " 68  INFORME 2019 EN TIEMPO        42729 non-null  object\n",
      "dtypes: object(69)\n",
      "memory usage: 22.5+ MB\n"
     ]
    }
   ],
   "source": [
    "df_osc_cluni.info()"
   ]
  },
  {
   "cell_type": "code",
   "execution_count": 15,
   "metadata": {
    "colab": {
     "base_uri": "https://localhost:8080/"
    },
    "id": "8lR6S6bXJ8UK",
    "outputId": "8a6b28da-087c-4177-c484-18f2b95822a9"
   },
   "outputs": [
    {
     "data": {
      "text/plain": [
       "INACTIVA          29276\n",
       "ACTIVA            13454\n",
       "Cruz del Farol        1\n",
       "Name: ESTATUS, dtype: int64"
      ]
     },
     "execution_count": 15,
     "metadata": {},
     "output_type": "execute_result"
    }
   ],
   "source": [
    "df_osc_cluni.ESTATUS.value_counts()"
   ]
  },
  {
   "cell_type": "code",
   "execution_count": 16,
   "metadata": {
    "colab": {
     "base_uri": "https://localhost:8080/"
    },
    "id": "rJ78m285DvkK",
    "outputId": "a1383cb7-3144-4502-c10e-21f25f19870f"
   },
   "outputs": [
    {
     "data": {
      "text/plain": [
       "2020    0.004831\n",
       "2019    0.028542\n",
       "2018    0.058496\n",
       "2017    0.074550\n",
       "2016    0.078713\n",
       "2015    0.072469\n",
       "2014    0.068307\n",
       "2013    0.076186\n",
       "2012    0.067341\n",
       "2011    0.060354\n",
       "2010    0.052921\n",
       "2009    0.043779\n",
       "2008    0.039988\n",
       "2007    0.029582\n",
       "2006    0.025420\n",
       "2005    0.026089\n",
       "2004    0.019176\n",
       "2003    0.016501\n",
       "2002    0.013676\n",
       "2001    0.013528\n",
       "2000    0.011521\n",
       "Name: FECHA DE CONSTITUCION, dtype: float64"
      ]
     },
     "execution_count": 16,
     "metadata": {},
     "output_type": "execute_result"
    }
   ],
   "source": [
    "(df_osc_cluni[df_osc_cluni.ESTATUS == 'ACTIVA']['FECHA DE CONSTITUCION'].str[0:4].value_counts() / len(df_osc_cluni[df_osc_cluni.ESTATUS == 'ACTIVA'])).sort_index(ascending=False).head(21)"
   ]
  },
  {
   "cell_type": "code",
   "execution_count": 17,
   "metadata": {
    "colab": {
     "base_uri": "https://localhost:8080/"
    },
    "id": "oAXJ19ERFrnf",
    "outputId": "db8f883f-2b9e-4f88-f89e-07dfa39ccbbb"
   },
   "outputs": [
    {
     "data": {
      "text/plain": [
       "Distrito Federal       0.246544\n",
       "Estado de México       0.097592\n",
       "Oaxaca                 0.056489\n",
       "Veracruz               0.055448\n",
       "Jalisco                0.041400\n",
       "Chiapas                0.040880\n",
       "Puebla                 0.040137\n",
       "Baja California        0.035677\n",
       "Guanajuato             0.029434\n",
       "Chihuahua              0.029062\n",
       "Michoacán              0.027427\n",
       "Sonora                 0.024825\n",
       "Nuevo León             0.023190\n",
       "Yucatán                0.021258\n",
       "Durango                0.020812\n",
       "Hidalgo                0.019920\n",
       "Morelos                0.019028\n",
       "Guerrero               0.017764\n",
       "Querétaro              0.017170\n",
       "Coahuila               0.017021\n",
       "Sinaloa                0.016426\n",
       "Tamaulipas             0.014197\n",
       "Tabasco                0.012561\n",
       "Quintana Roo           0.012041\n",
       "Tlaxcala               0.010777\n",
       "San Luis Potosí        0.010703\n",
       "Zacatecas              0.008325\n",
       "Aguascalientes         0.007507\n",
       "Baja California Sur    0.007061\n",
       "Nayarit                0.006912\n",
       "Colima                 0.006764\n",
       "Campeche               0.005649\n",
       "Name: ENTIDAD FEDERATIVA DOMICILIO, dtype: float64"
      ]
     },
     "execution_count": 17,
     "metadata": {},
     "output_type": "execute_result"
    }
   ],
   "source": [
    "(df_osc_cluni[df_osc_cluni.ESTATUS == 'ACTIVA']['ENTIDAD FEDERATIVA DOMICILIO'].value_counts() / len(df_osc_cluni[df_osc_cluni.ESTATUS == 'ACTIVA'])) # .cumsum()"
   ]
  },
  {
   "cell_type": "code",
   "execution_count": 18,
   "metadata": {
    "colab": {
     "base_uri": "https://localhost:8080/",
     "height": 185
    },
    "id": "YUrjmfkOHlmK",
    "outputId": "e9d03f0a-7203-4c95-aa5e-23378494e143"
   },
   "outputs": [
    {
     "data": {
      "text/html": [
       "<div>\n",
       "<style scoped>\n",
       "    .dataframe tbody tr th:only-of-type {\n",
       "        vertical-align: middle;\n",
       "    }\n",
       "\n",
       "    .dataframe tbody tr th {\n",
       "        vertical-align: top;\n",
       "    }\n",
       "\n",
       "    .dataframe thead th {\n",
       "        text-align: right;\n",
       "    }\n",
       "</style>\n",
       "<table border=\"1\" class=\"dataframe\">\n",
       "  <thead>\n",
       "    <tr style=\"text-align: right;\">\n",
       "      <th></th>\n",
       "      <th>CLUNI</th>\n",
       "      <th>RAZON SOCIAL</th>\n",
       "      <th>FIGURA JURIDICA</th>\n",
       "      <th>RFC</th>\n",
       "      <th>ESTATUS</th>\n",
       "      <th>ESTATUS DE SANCION</th>\n",
       "      <th>REPRESENTANTES LEGALES</th>\n",
       "      <th>ESTATUS DE LA REPRESENTACION</th>\n",
       "      <th>FECHA DE CONSTITUCION</th>\n",
       "      <th>FECHA DE INSCRIPCION</th>\n",
       "      <th>...</th>\n",
       "      <th>INFORME 2015 PRESENTADO</th>\n",
       "      <th>INFORME 2015 EN TIEMPO</th>\n",
       "      <th>INFORME 2016 PRESENTADO</th>\n",
       "      <th>INFORME 2016 EN TIEMPO</th>\n",
       "      <th>INFORME 2017 PRESENTADO</th>\n",
       "      <th>INFORME 2017 EN TIEMPO</th>\n",
       "      <th>INFORME 2018 PRESENTADO</th>\n",
       "      <th>INFORME 2018 EN TIEMPO</th>\n",
       "      <th>INFORME 2019 PRESENTADO</th>\n",
       "      <th>INFORME 2019 EN TIEMPO</th>\n",
       "    </tr>\n",
       "  </thead>\n",
       "  <tbody>\n",
       "    <tr>\n",
       "      <th>40929</th>\n",
       "      <td>FAG18062709ZQE</td>\n",
       "      <td>Fundación de Asistencia, Generación e Innovaci...</td>\n",
       "      <td>Asociación Civil</td>\n",
       "      <td>FAG180627FD6</td>\n",
       "      <td>ACTIVA</td>\n",
       "      <td>N/A</td>\n",
       "      <td>José Armando Madrazo De la Garza</td>\n",
       "      <td>VIGENTE</td>\n",
       "      <td>2018-06-12</td>\n",
       "      <td>2018-10-22</td>\n",
       "      <td>...</td>\n",
       "      <td>NA</td>\n",
       "      <td>NA</td>\n",
       "      <td>NA</td>\n",
       "      <td>NA</td>\n",
       "      <td>NA</td>\n",
       "      <td>NA</td>\n",
       "      <td>SI</td>\n",
       "      <td>SI</td>\n",
       "      <td>SI</td>\n",
       "      <td>SI</td>\n",
       "    </tr>\n",
       "  </tbody>\n",
       "</table>\n",
       "<p>1 rows × 69 columns</p>\n",
       "</div>"
      ],
      "text/plain": [
       "                CLUNI                                       RAZON SOCIAL  \\\n",
       "40929  FAG18062709ZQE  Fundación de Asistencia, Generación e Innovaci...   \n",
       "\n",
       "        FIGURA JURIDICA           RFC ESTATUS ESTATUS DE SANCION  \\\n",
       "40929  Asociación Civil  FAG180627FD6  ACTIVA                N/A   \n",
       "\n",
       "                 REPRESENTANTES LEGALES ESTATUS DE LA REPRESENTACION  \\\n",
       "40929  José Armando Madrazo De la Garza                      VIGENTE   \n",
       "\n",
       "      FECHA DE CONSTITUCION FECHA DE INSCRIPCION  ... INFORME 2015 PRESENTADO  \\\n",
       "40929            2018-06-12           2018-10-22  ...                      NA   \n",
       "\n",
       "      INFORME 2015 EN TIEMPO INFORME 2016 PRESENTADO INFORME 2016 EN TIEMPO  \\\n",
       "40929                     NA                      NA                     NA   \n",
       "\n",
       "      INFORME 2017 PRESENTADO INFORME 2017 EN TIEMPO INFORME 2018 PRESENTADO  \\\n",
       "40929                      NA                     NA                      SI   \n",
       "\n",
       "      INFORME 2018 EN TIEMPO INFORME 2019 PRESENTADO INFORME 2019 EN TIEMPO  \n",
       "40929                     SI                      SI                     SI  \n",
       "\n",
       "[1 rows x 69 columns]"
      ]
     },
     "execution_count": 18,
     "metadata": {},
     "output_type": "execute_result"
    }
   ],
   "source": [
    "df_osc_cluni.sample(1)"
   ]
  },
  {
   "cell_type": "code",
   "execution_count": null,
   "metadata": {},
   "outputs": [],
   "source": []
  },
  {
   "cell_type": "markdown",
   "metadata": {
    "id": "eMmFi-iBBeIV"
   },
   "source": [
    "## 2. OSC Registro Donatarias Autorizadas"
   ]
  },
  {
   "cell_type": "code",
   "execution_count": 19,
   "metadata": {
    "id": "FzsAhw2PIMBt"
   },
   "outputs": [],
   "source": [
    "# TODO: not download from source if data already exist\n",
    "\n",
    "YEAR = '2020'\n",
    "DONAUT_NOW = str(dt.now())[:19].replace(' ', '-').replace(':', '-')\n",
    "SAT_URL = f'http://omawww.sat.gob.mx/documentossat/Documents/DirectorioDonatariasAutorizadas{YEAR}.xls'\n",
    "\n",
    "response = requests.get(SAT_URL)\n",
    "\n",
    "with open(f\"./data/DonatariasAutorizadas/report-sat-{YEAR}-{DONAUT_NOW}.xls\", \"wb\") as f:\n",
    "  f.write(response.content)"
   ]
  },
  {
   "cell_type": "code",
   "execution_count": 21,
   "metadata": {
    "id": "fli2emVBC0K1"
   },
   "outputs": [],
   "source": [
    "df_osc_sat = pd.read_excel(\n",
    "    f\"./data/DonatariasAutorizadas/report-sat-{YEAR}-{DONAUT_NOW}.xls\"\n",
    "    , skiprows = range(0, 27)\n",
    "    , usecols = \"A:O\"\n",
    "    )\n",
    "\n",
    "df_osc_sat = df_osc_sat.rename(columns=df_osc_sat.iloc[0]).iloc[1:]"
   ]
  },
  {
   "cell_type": "code",
   "execution_count": 22,
   "metadata": {
    "colab": {
     "base_uri": "https://localhost:8080/",
     "height": 564
    },
    "id": "fSY4NvvsC0C4",
    "outputId": "964ddf5b-c3b4-4809-f3ef-a0d1480b8cfe"
   },
   "outputs": [
    {
     "data": {
      "text/html": [
       "<div>\n",
       "<style scoped>\n",
       "    .dataframe tbody tr th:only-of-type {\n",
       "        vertical-align: middle;\n",
       "    }\n",
       "\n",
       "    .dataframe tbody tr th {\n",
       "        vertical-align: top;\n",
       "    }\n",
       "\n",
       "    .dataframe thead th {\n",
       "        text-align: right;\n",
       "    }\n",
       "</style>\n",
       "<table border=\"1\" class=\"dataframe\">\n",
       "  <thead>\n",
       "    <tr style=\"text-align: right;\">\n",
       "      <th></th>\n",
       "      <th>ENTIDAD FEDERATIVA</th>\n",
       "      <th>ADMINISTRACIÓN DESCONCENTRADA DE SERVICIOS AL CONTRIBUYENTE</th>\n",
       "      <th>ACTIVIDAD O FIN AUTORIZADO</th>\n",
       "      <th>RFC</th>\n",
       "      <th>DENOMINACIÓN O RAZÓN SOCIAL</th>\n",
       "      <th>DOMICILIO FISCAL</th>\n",
       "      <th>OFICIO DE AUTORIZACIÓN</th>\n",
       "      <th>FECHA DE OFICIO</th>\n",
       "      <th>OBJETO SOCIAL AUTORIZADO</th>\n",
       "      <th>REPRESENTANTE LEGAL</th>\n",
       "      <th>NÚMEROS TELEFÓNICOS</th>\n",
       "      <th>E-MAIL</th>\n",
       "      <th>DOMICILIO DE ESTABLECIMIENTO</th>\n",
       "      <th>NÚMEROS TELEFÓNICOS DEL ESTABLECIMIENTO</th>\n",
       "      <th>ACREDITAMIENTO</th>\n",
       "    </tr>\n",
       "  </thead>\n",
       "  <tbody>\n",
       "    <tr>\n",
       "      <th>1</th>\n",
       "      <td>AGUASCALIENTES</td>\n",
       "      <td>AGUASCALIENTES \"1\"</td>\n",
       "      <td>M</td>\n",
       "      <td>AAG150226BX0</td>\n",
       "      <td>Autismo Aguascalientes, A.C.</td>\n",
       "      <td>Canada Núm 301, Col. El Dorado 1a Sección, C.P...</td>\n",
       "      <td>700-02-01-2019-08990</td>\n",
       "      <td>2019-09-26 00:00:00</td>\n",
       "      <td>\"CUARTA.- La Asociación Autismo Aguascalientes...</td>\n",
       "      <td>Olga Rubio Camarena</td>\n",
       "      <td>No Manifestó</td>\n",
       "      <td>No Manifestó</td>\n",
       "      <td>No Manifestó</td>\n",
       "      <td>No Manifestó</td>\n",
       "      <td>Constancia de Inscripción ante el Registro Fed...</td>\n",
       "    </tr>\n",
       "    <tr>\n",
       "      <th>2</th>\n",
       "      <td>AGUASCALIENTES</td>\n",
       "      <td>AGUASCALIENTES \"1\"</td>\n",
       "      <td>A</td>\n",
       "      <td>AAG150226BX0</td>\n",
       "      <td>Autismo Aguascalientes, A.C.</td>\n",
       "      <td>Canada Núm 301, Col. El Dorado 1a Sección, C.P...</td>\n",
       "      <td>700-02-01-2019-08990</td>\n",
       "      <td>2019-09-26 00:00:00</td>\n",
       "      <td>\"CUARTA.- La Asociación Autismo Aguascalientes...</td>\n",
       "      <td>Olga Rubio Camarena</td>\n",
       "      <td>No Manifestó</td>\n",
       "      <td>No Manifestó</td>\n",
       "      <td>No Manifestó</td>\n",
       "      <td>No Manifestó</td>\n",
       "      <td>Constancia de Inscripción ante el Registro Fed...</td>\n",
       "    </tr>\n",
       "    <tr>\n",
       "      <th>3</th>\n",
       "      <td>AGUASCALIENTES</td>\n",
       "      <td>AGUASCALIENTES \"1\"</td>\n",
       "      <td>A</td>\n",
       "      <td>AAP010713QV5</td>\n",
       "      <td>Asilo de Ancianos de Pabellón de Arteaga, Agua...</td>\n",
       "      <td>Independencia Núm 48, Col. Francisco Villa, C....</td>\n",
       "      <td>700-02-01-2020-05788</td>\n",
       "      <td>2020-05-22 00:00:00</td>\n",
       "      <td>\"ARTICULO SEGUNDO.- La Asociación tendrá por o...</td>\n",
       "      <td>Ma del Rosario Bueno Martínez</td>\n",
       "      <td>01465 958 10 90</td>\n",
       "      <td>No Manifestó</td>\n",
       "      <td>No Manifestó</td>\n",
       "      <td>No Manifestó</td>\n",
       "      <td>oficio DGSEA/0914/2019 de fecha 18 de diciembr...</td>\n",
       "    </tr>\n",
       "    <tr>\n",
       "      <th>4</th>\n",
       "      <td>AGUASCALIENTES</td>\n",
       "      <td>AGUASCALIENTES \"1\"</td>\n",
       "      <td>A</td>\n",
       "      <td>AAP7601261F0</td>\n",
       "      <td>Asociación Aguascalentense para la Promoción I...</td>\n",
       "      <td>Olivos Núm 202, Col. Jardines de la Cruz, C.P....</td>\n",
       "      <td>600-04-05-2012-57253</td>\n",
       "      <td>2012-06-26 00:00:00</td>\n",
       "      <td>\"ARTICULO PRIMERO: OBJETO SOCIAL: La asociació...</td>\n",
       "      <td>Luis Manuel Macías López</td>\n",
       "      <td>(01449) 970-62-92</td>\n",
       "      <td>No Manifestó</td>\n",
       "      <td>No Manifestó</td>\n",
       "      <td>No Manifestó</td>\n",
       "      <td>oficio número DEIP-GF-80 de 24 de enero de 201...</td>\n",
       "    </tr>\n",
       "    <tr>\n",
       "      <th>5</th>\n",
       "      <td>AGUASCALIENTES</td>\n",
       "      <td>AGUASCALIENTES \"1\"</td>\n",
       "      <td>M</td>\n",
       "      <td>ACD130327SG7</td>\n",
       "      <td>Aliadas Carmelitas Descalzas de la Santísima T...</td>\n",
       "      <td>Salvador Quezada Limón Núm 1105, Col. Curtidor...</td>\n",
       "      <td>600-04-02-2014-6778</td>\n",
       "      <td>2014-08-26 00:00:00</td>\n",
       "      <td>\"ARTÍCULO SEGUNDO.- El objeto de la asociación...</td>\n",
       "      <td>Laura Patricia Colmenares Ramírez</td>\n",
       "      <td>449168395</td>\n",
       "      <td>alidesamparados@hotmail.com</td>\n",
       "      <td>No Manifestó</td>\n",
       "      <td>No Manifestó</td>\n",
       "      <td>oficio número DGSEA-009/2014 de 7 de enero de ...</td>\n",
       "    </tr>\n",
       "  </tbody>\n",
       "</table>\n",
       "</div>"
      ],
      "text/plain": [
       "  ENTIDAD FEDERATIVA  \\\n",
       "1     AGUASCALIENTES   \n",
       "2     AGUASCALIENTES   \n",
       "3     AGUASCALIENTES   \n",
       "4     AGUASCALIENTES   \n",
       "5     AGUASCALIENTES   \n",
       "\n",
       "  ADMINISTRACIÓN DESCONCENTRADA DE SERVICIOS AL CONTRIBUYENTE  \\\n",
       "1                                 AGUASCALIENTES \"1\"            \n",
       "2                                 AGUASCALIENTES \"1\"            \n",
       "3                                 AGUASCALIENTES \"1\"            \n",
       "4                                 AGUASCALIENTES \"1\"            \n",
       "5                                 AGUASCALIENTES \"1\"            \n",
       "\n",
       "  ACTIVIDAD O FIN AUTORIZADO           RFC  \\\n",
       "1                          M  AAG150226BX0   \n",
       "2                          A  AAG150226BX0   \n",
       "3                          A  AAP010713QV5   \n",
       "4                          A  AAP7601261F0   \n",
       "5                          M  ACD130327SG7   \n",
       "\n",
       "                         DENOMINACIÓN O RAZÓN SOCIAL  \\\n",
       "1                       Autismo Aguascalientes, A.C.   \n",
       "2                       Autismo Aguascalientes, A.C.   \n",
       "3  Asilo de Ancianos de Pabellón de Arteaga, Agua...   \n",
       "4  Asociación Aguascalentense para la Promoción I...   \n",
       "5  Aliadas Carmelitas Descalzas de la Santísima T...   \n",
       "\n",
       "                                    DOMICILIO FISCAL OFICIO DE AUTORIZACIÓN  \\\n",
       "1  Canada Núm 301, Col. El Dorado 1a Sección, C.P...   700-02-01-2019-08990   \n",
       "2  Canada Núm 301, Col. El Dorado 1a Sección, C.P...   700-02-01-2019-08990   \n",
       "3  Independencia Núm 48, Col. Francisco Villa, C....   700-02-01-2020-05788   \n",
       "4  Olivos Núm 202, Col. Jardines de la Cruz, C.P....   600-04-05-2012-57253   \n",
       "5  Salvador Quezada Limón Núm 1105, Col. Curtidor...    600-04-02-2014-6778   \n",
       "\n",
       "       FECHA DE OFICIO                           OBJETO SOCIAL AUTORIZADO  \\\n",
       "1  2019-09-26 00:00:00  \"CUARTA.- La Asociación Autismo Aguascalientes...   \n",
       "2  2019-09-26 00:00:00  \"CUARTA.- La Asociación Autismo Aguascalientes...   \n",
       "3  2020-05-22 00:00:00  \"ARTICULO SEGUNDO.- La Asociación tendrá por o...   \n",
       "4  2012-06-26 00:00:00  \"ARTICULO PRIMERO: OBJETO SOCIAL: La asociació...   \n",
       "5  2014-08-26 00:00:00  \"ARTÍCULO SEGUNDO.- El objeto de la asociación...   \n",
       "\n",
       "                 REPRESENTANTE LEGAL NÚMEROS TELEFÓNICOS  \\\n",
       "1                Olga Rubio Camarena        No Manifestó   \n",
       "2                Olga Rubio Camarena        No Manifestó   \n",
       "3      Ma del Rosario Bueno Martínez     01465 958 10 90   \n",
       "4           Luis Manuel Macías López   (01449) 970-62-92   \n",
       "5  Laura Patricia Colmenares Ramírez           449168395   \n",
       "\n",
       "                        E-MAIL DOMICILIO DE ESTABLECIMIENTO   \\\n",
       "1                 No Manifestó                  No Manifestó   \n",
       "2                 No Manifestó                  No Manifestó   \n",
       "3                 No Manifestó                  No Manifestó   \n",
       "4                 No Manifestó                  No Manifestó   \n",
       "5  alidesamparados@hotmail.com                  No Manifestó   \n",
       "\n",
       "  NÚMEROS TELEFÓNICOS DEL ESTABLECIMIENTO  \\\n",
       "1                            No Manifestó   \n",
       "2                            No Manifestó   \n",
       "3                            No Manifestó   \n",
       "4                            No Manifestó   \n",
       "5                            No Manifestó   \n",
       "\n",
       "                                      ACREDITAMIENTO  \n",
       "1  Constancia de Inscripción ante el Registro Fed...  \n",
       "2  Constancia de Inscripción ante el Registro Fed...  \n",
       "3  oficio DGSEA/0914/2019 de fecha 18 de diciembr...  \n",
       "4  oficio número DEIP-GF-80 de 24 de enero de 201...  \n",
       "5  oficio número DGSEA-009/2014 de 7 de enero de ...  "
      ]
     },
     "execution_count": 22,
     "metadata": {},
     "output_type": "execute_result"
    }
   ],
   "source": [
    "df_osc_sat.head()"
   ]
  },
  {
   "cell_type": "code",
   "execution_count": 23,
   "metadata": {
    "colab": {
     "base_uri": "https://localhost:8080/"
    },
    "id": "UhobnA0dHFos",
    "outputId": "ac9b7217-c9fe-4075-df8c-a867e0b732e8"
   },
   "outputs": [
    {
     "data": {
      "text/plain": [
       "(13931, 15)"
      ]
     },
     "execution_count": 23,
     "metadata": {},
     "output_type": "execute_result"
    }
   ],
   "source": [
    "df_osc_sat.shape"
   ]
  },
  {
   "cell_type": "code",
   "execution_count": null,
   "metadata": {
    "id": "M7CoJ8zdHFks"
   },
   "outputs": [],
   "source": []
  },
  {
   "cell_type": "markdown",
   "metadata": {
    "id": "EJj-dMi7HFgw"
   },
   "source": [
    "## 3. CLUNI Activas y Donatarias Autorizazdas "
   ]
  },
  {
   "cell_type": "code",
   "execution_count": 24,
   "metadata": {
    "id": "P6f9CxE-Cz6n"
   },
   "outputs": [],
   "source": [
    "df_osc_actvig = df_osc_cluni[(df_osc_cluni['ESTATUS'] == 'ACTIVA') & (df_osc_cluni['ESTATUS DE LA REPRESENTACION'] == 'VIGENTE')][['CLUNI', 'RFC']]"
   ]
  },
  {
   "cell_type": "code",
   "execution_count": 25,
   "metadata": {
    "colab": {
     "base_uri": "https://localhost:8080/"
    },
    "id": "J0UlaBajWNcA",
    "outputId": "589ad552-f6d9-4a20-a761-7973bc17bdb2"
   },
   "outputs": [
    {
     "data": {
      "text/plain": [
       "(12644, 2)"
      ]
     },
     "execution_count": 25,
     "metadata": {},
     "output_type": "execute_result"
    }
   ],
   "source": [
    "df_osc_actvig.shape"
   ]
  },
  {
   "cell_type": "code",
   "execution_count": 26,
   "metadata": {
    "id": "DwVzT45nCzyk"
   },
   "outputs": [],
   "source": [
    "df_osc = pd.merge(df_osc_actvig[['CLUNI', 'RFC']], df_osc_sat[['RFC']], how='outer')"
   ]
  },
  {
   "cell_type": "code",
   "execution_count": 27,
   "metadata": {
    "id": "Dzq8If6ZMrNZ"
   },
   "outputs": [],
   "source": [
    "df_osc = df_osc.drop_duplicates().reset_index(drop=True).copy()"
   ]
  },
  {
   "cell_type": "code",
   "execution_count": 28,
   "metadata": {
    "colab": {
     "base_uri": "https://localhost:8080/"
    },
    "id": "WJHXHN8vNdLD",
    "outputId": "532d5c53-5fc9-4ffd-d6d1-c373d45af2da"
   },
   "outputs": [
    {
     "data": {
      "text/plain": [
       "17716"
      ]
     },
     "execution_count": 28,
     "metadata": {},
     "output_type": "execute_result"
    }
   ],
   "source": [
    "len(df_osc)"
   ]
  },
  {
   "cell_type": "code",
   "execution_count": 29,
   "metadata": {
    "colab": {
     "base_uri": "https://localhost:8080/"
    },
    "id": "jREqWVpHM1ZI",
    "outputId": "f43bd2ad-7239-46d8-a9f7-432eddd87b83"
   },
   "outputs": [
    {
     "data": {
      "text/plain": [
       "CLUNI    5072\n",
       "RFC         0\n",
       "dtype: int64"
      ]
     },
     "execution_count": 29,
     "metadata": {},
     "output_type": "execute_result"
    }
   ],
   "source": [
    "df_osc.isna().sum(axis=0)"
   ]
  },
  {
   "cell_type": "code",
   "execution_count": 30,
   "metadata": {
    "colab": {
     "base_uri": "https://localhost:8080/",
     "height": 0
    },
    "id": "6NQudc3XM2tw",
    "outputId": "769a9527-2777-4cb8-a144-3dbc2492560d"
   },
   "outputs": [
    {
     "data": {
      "text/html": [
       "<div>\n",
       "<style scoped>\n",
       "    .dataframe tbody tr th:only-of-type {\n",
       "        vertical-align: middle;\n",
       "    }\n",
       "\n",
       "    .dataframe tbody tr th {\n",
       "        vertical-align: top;\n",
       "    }\n",
       "\n",
       "    .dataframe thead th {\n",
       "        text-align: right;\n",
       "    }\n",
       "</style>\n",
       "<table border=\"1\" class=\"dataframe\">\n",
       "  <thead>\n",
       "    <tr style=\"text-align: right;\">\n",
       "      <th></th>\n",
       "      <th>CLUNI</th>\n",
       "      <th>RFC</th>\n",
       "    </tr>\n",
       "  </thead>\n",
       "  <tbody>\n",
       "    <tr>\n",
       "      <th>13009</th>\n",
       "      <td>NaN</td>\n",
       "      <td>CSL180706MEA</td>\n",
       "    </tr>\n",
       "    <tr>\n",
       "      <th>11201</th>\n",
       "      <td>CEN99120926H3Z</td>\n",
       "      <td>CEN991209D5A</td>\n",
       "    </tr>\n",
       "    <tr>\n",
       "      <th>14964</th>\n",
       "      <td>NaN</td>\n",
       "      <td>FRS8910231X4</td>\n",
       "    </tr>\n",
       "    <tr>\n",
       "      <th>1537</th>\n",
       "      <td>CHH68091809013</td>\n",
       "      <td>CHH680918PQ8</td>\n",
       "    </tr>\n",
       "    <tr>\n",
       "      <th>6395</th>\n",
       "      <td>AMD0705220902C</td>\n",
       "      <td>AMD070522IG3</td>\n",
       "    </tr>\n",
       "  </tbody>\n",
       "</table>\n",
       "</div>"
      ],
      "text/plain": [
       "                CLUNI           RFC\n",
       "13009             NaN  CSL180706MEA\n",
       "11201  CEN99120926H3Z  CEN991209D5A\n",
       "14964             NaN  FRS8910231X4\n",
       "1537   CHH68091809013  CHH680918PQ8\n",
       "6395   AMD0705220902C  AMD070522IG3"
      ]
     },
     "execution_count": 30,
     "metadata": {},
     "output_type": "execute_result"
    }
   ],
   "source": [
    "df_osc.sample(5)"
   ]
  },
  {
   "cell_type": "code",
   "execution_count": null,
   "metadata": {
    "id": "B7nfyPKiXmVU"
   },
   "outputs": [],
   "source": []
  },
  {
   "cell_type": "code",
   "execution_count": null,
   "metadata": {
    "id": "iX1AGyR4XmPI"
   },
   "outputs": [],
   "source": []
  },
  {
   "cell_type": "markdown",
   "metadata": {
    "id": "gGbRTqIAXnTu"
   },
   "source": [
    "## 4. CLUNI Inactivas"
   ]
  },
  {
   "cell_type": "code",
   "execution_count": 31,
   "metadata": {
    "id": "hI_mANUVXmHZ"
   },
   "outputs": [],
   "source": [
    "df_osc_inactiva = df_osc_cluni[(df_osc_cluni['ESTATUS'] == 'INACTIVA')][['CLUNI', 'RFC']]"
   ]
  },
  {
   "cell_type": "code",
   "execution_count": 32,
   "metadata": {
    "colab": {
     "base_uri": "https://localhost:8080/"
    },
    "id": "AAJ4bZToXmA8",
    "outputId": "2edfc737-1980-4ef4-ceab-7366e78e92aa"
   },
   "outputs": [
    {
     "data": {
      "text/plain": [
       "(29276, 2)"
      ]
     },
     "execution_count": 32,
     "metadata": {},
     "output_type": "execute_result"
    }
   ],
   "source": [
    "df_osc_inactiva.shape"
   ]
  },
  {
   "cell_type": "code",
   "execution_count": 33,
   "metadata": {
    "colab": {
     "base_uri": "https://localhost:8080/",
     "height": 0
    },
    "id": "mj2vFDAsXk-J",
    "outputId": "d5ca5cc0-3bc8-4539-8d57-fa2ac4ee097e"
   },
   "outputs": [
    {
     "data": {
      "text/html": [
       "<div>\n",
       "<style scoped>\n",
       "    .dataframe tbody tr th:only-of-type {\n",
       "        vertical-align: middle;\n",
       "    }\n",
       "\n",
       "    .dataframe tbody tr th {\n",
       "        vertical-align: top;\n",
       "    }\n",
       "\n",
       "    .dataframe thead th {\n",
       "        text-align: right;\n",
       "    }\n",
       "</style>\n",
       "<table border=\"1\" class=\"dataframe\">\n",
       "  <thead>\n",
       "    <tr style=\"text-align: right;\">\n",
       "      <th></th>\n",
       "      <th>CLUNI</th>\n",
       "      <th>RFC</th>\n",
       "    </tr>\n",
       "  </thead>\n",
       "  <tbody>\n",
       "    <tr>\n",
       "      <th>37962</th>\n",
       "      <td>NaN</td>\n",
       "      <td>CIS070720272</td>\n",
       "    </tr>\n",
       "    <tr>\n",
       "      <th>14380</th>\n",
       "      <td>CEC1105243001E</td>\n",
       "      <td>CEC1105248P8</td>\n",
       "    </tr>\n",
       "    <tr>\n",
       "      <th>1488</th>\n",
       "      <td>SHG67050811012</td>\n",
       "      <td>SHG670508FN2</td>\n",
       "    </tr>\n",
       "    <tr>\n",
       "      <th>41495</th>\n",
       "      <td>NaN</td>\n",
       "      <td>FAM170718130</td>\n",
       "    </tr>\n",
       "    <tr>\n",
       "      <th>27864</th>\n",
       "      <td>ARM1511032686B</td>\n",
       "      <td>ARM151103T13</td>\n",
       "    </tr>\n",
       "  </tbody>\n",
       "</table>\n",
       "</div>"
      ],
      "text/plain": [
       "                CLUNI           RFC\n",
       "37962             NaN  CIS070720272\n",
       "14380  CEC1105243001E  CEC1105248P8\n",
       "1488   SHG67050811012  SHG670508FN2\n",
       "41495             NaN  FAM170718130\n",
       "27864  ARM1511032686B  ARM151103T13"
      ]
     },
     "execution_count": 33,
     "metadata": {},
     "output_type": "execute_result"
    }
   ],
   "source": [
    "pd.merge(df_osc_inactiva[['CLUNI', 'RFC']], df_osc_sat[['RFC']], how='outer').sample(5)"
   ]
  },
  {
   "cell_type": "code",
   "execution_count": null,
   "metadata": {
    "id": "ceeVqDD0Ww9W"
   },
   "outputs": [],
   "source": []
  },
  {
   "cell_type": "markdown",
   "metadata": {
    "id": "cT6d15Sk5-G9"
   },
   "source": [
    "## 5. Donatarias Autorizadas (Resolución Miscelánea Fiscal)"
   ]
  },
  {
   "cell_type": "code",
   "execution_count": 37,
   "metadata": {
    "colab": {
     "base_uri": "https://localhost:8080/"
    },
    "id": "zJmrBqGi5-a8",
    "outputId": "1987ad7a-bdff-4143-f517-584a29553283"
   },
   "outputs": [],
   "source": [
    "# !brew install ghostscript tcl-tk"
   ]
  },
  {
   "cell_type": "code",
   "execution_count": 38,
   "metadata": {
    "colab": {
     "base_uri": "https://localhost:8080/"
    },
    "id": "zJmrBqGi5-a8",
    "outputId": "1987ad7a-bdff-4143-f517-584a29553283"
   },
   "outputs": [
    {
     "name": "stdout",
     "output_type": "stream",
     "text": [
      "/usr/local/lib/libgs.dylib\n"
     ]
    }
   ],
   "source": [
    "from ctypes.util import find_library\n",
    "print(find_library(\"gs\"))                 # will display libgs.so.9 if installed; will print None if not\n",
    "# !excalibur initdb"
   ]
  },
  {
   "cell_type": "code",
   "execution_count": null,
   "metadata": {
    "id": "0zW82ABUAaxR"
   },
   "outputs": [],
   "source": [
    "# !camelot lattice -plot text /content/drive/MyDrive/NewCo/intel/data/a14-rms/test.pdf"
   ]
  },
  {
   "cell_type": "code",
   "execution_count": 40,
   "metadata": {
    "id": "yCiu9iH0-Tam"
   },
   "outputs": [],
   "source": [
    "import camelot\n",
    "import json"
   ]
  },
  {
   "cell_type": "code",
   "execution_count": 41,
   "metadata": {
    "id": "42EXit01N0a3"
   },
   "outputs": [],
   "source": [
    "DOF_YEAR = '2021'"
   ]
  },
  {
   "cell_type": "code",
   "execution_count": 42,
   "metadata": {
    "id": "UrAfkAbvNKJl"
   },
   "outputs": [],
   "source": [
    "with open(\"./params/dof_page_breaks.json\", \"r\") as  params:\n",
    "  jParams = json.load(params)"
   ]
  },
  {
   "cell_type": "code",
   "execution_count": 43,
   "metadata": {
    "colab": {
     "base_uri": "https://localhost:8080/"
    },
    "id": "RxqWJoBuNwdY",
    "outputId": "2c98aac5-55dc-4b3d-9e0f-e76adc7aeb6a"
   },
   "outputs": [
    {
     "data": {
      "text/plain": [
       "{'start': {'pages': '3',\n",
       "  'top-left': ['115', '528'],\n",
       "  'bottom-right': ['528', '57']},\n",
       " 'end': {'pages': '300',\n",
       "  'top-left': ['115', '738'],\n",
       "  'bottom-right': ['528', '450']},\n",
       " 'full': {'pages': '4-299',\n",
       "  'top-left': ['115', '738'],\n",
       "  'bottom-right': ['528', '57']}}"
      ]
     },
     "execution_count": 43,
     "metadata": {},
     "output_type": "execute_result"
    }
   ],
   "source": [
    "jParams['2021']['parse']"
   ]
  },
  {
   "cell_type": "code",
   "execution_count": 44,
   "metadata": {
    "id": "n030le57PFG-"
   },
   "outputs": [],
   "source": [
    "def fix_multiple_cols_name(df):\n",
    "    ncols = df.shape[1]\n",
    "    if ncols == 2: return(df)\n",
    "    elif ncols > 2:\n",
    "        # names can generate multiple columns due to bad parsing\n",
    "        name_cols = list(range(1, ncols))\n",
    "        df[1] = df[name_cols].apply(lambda row: ' '.join(row.values.astype(str)), axis=1)\n",
    "        df = df[[0, 1]]\n",
    "        return(df)\n",
    "    else:\n",
    "        print('Check dataframe')\n",
    "        print(df.head(3))\n",
    "        return(pd.DataFrame(columns=[0, 1]))"
   ]
  },
  {
   "cell_type": "code",
   "execution_count": 45,
   "metadata": {
    "colab": {
     "base_uri": "https://localhost:8080/",
     "height": 35
    },
    "id": "J-5C286QUHQB",
    "outputId": "c7041119-4d48-466d-81e2-d4fc19d717c2"
   },
   "outputs": [
    {
     "data": {
      "text/plain": [
       "'4-299'"
      ]
     },
     "execution_count": 45,
     "metadata": {},
     "output_type": "execute_result"
    }
   ],
   "source": [
    "jParams[DOF_YEAR]['parse']['full']['pages']"
   ]
  },
  {
   "cell_type": "code",
   "execution_count": 47,
   "metadata": {
    "colab": {
     "base_uri": "https://localhost:8080/"
    },
    "id": "7Bk6DCAqOA79",
    "outputId": "4af9eca8-4d4e-43d0-c3b2-799efdc6daf3"
   },
   "outputs": [
    {
     "name": "stdout",
     "output_type": "stream",
     "text": [
      "Check dataframe\n",
      "                                                   0\n",
      "0  Organizaciones  civiles  y  fideicomisos  para...\n",
      "1  peligro de extinción (artículo 79, fracción XX...\n",
      "2                          RFC \\nDenominación Social\n",
      "Check dataframe\n",
      "                                                   0\n",
      "0              STO080319IH8 \\nSELVA DEL TOZTLAN, A.C\n",
      "1           SHU1909193FA \\nSENDEROS CON HUELLA, A.C.\n",
      "2  SND9903113M7 \\nSistemas Naturales y Desarrollo AC\n"
     ]
    }
   ],
   "source": [
    "df_donaut_rms = pd.DataFrame(columns=[0, 1])\n",
    "\n",
    "# parsing first page where osc start (truncated)\n",
    "start_tl = jParams[DOF_YEAR]['parse']['start']['top-left']\n",
    "start_br = jParams[DOF_YEAR]['parse']['start']['bottom-right']\n",
    "first_page = camelot.read_pdf(\n",
    "    './data/A14-RMS/a14-rms-2021.pdf'\n",
    "    , flavor='stream'\n",
    "    , table_areas=[','.join(start_tl + start_br)]\n",
    "    , pages=jParams[DOF_YEAR]['parse']['start']['pages']\n",
    "    )\n",
    "\n",
    "df_donaut_rms = pd.concat([df_donaut_rms, fix_multiple_cols_name(first_page[0].df)])\n",
    "\n",
    "\n",
    "# parsing full pages where osc continue\n",
    "full_tl = jParams[DOF_YEAR]['parse']['full']['top-left']\n",
    "full_br = jParams[DOF_YEAR]['parse']['full']['bottom-right']\n",
    "full_pages = camelot.read_pdf(\n",
    "    './data/A14-RMS/a14-rms-2021.pdf'\n",
    "    , flavor='stream'\n",
    "    , table_areas=[','.join(full_tl + full_br)]\n",
    "    , pages=jParams[DOF_YEAR]['parse']['full']['pages']\n",
    "    )\n",
    "\n",
    "accuracies = []\n",
    "whitespaces = []\n",
    "\n",
    "for n in range(len(full_pages)):\n",
    "    aux = fix_multiple_cols_name(full_pages[n].df)\n",
    "    df_donaut_rms = pd.concat([df_donaut_rms, aux])\n",
    "\n",
    "    accuracies += [full_pages[n].parsing_report['accuracy']]\n",
    "    whitespaces += [full_pages[n].parsing_report['accuracy']]\n",
    "\n",
    "\n",
    "# parsing last page where osc end (truncated)\n",
    "end_tl = jParams[DOF_YEAR]['parse']['end']['top-left']\n",
    "end_br = jParams[DOF_YEAR]['parse']['end']['bottom-right']\n",
    "last_page = camelot.read_pdf(\n",
    "    './data/A14-RMS/a14-rms-2021.pdf'\n",
    "    , flavor='stream'\n",
    "    , table_areas=[','.join(end_tl + end_br)]\n",
    "    , pages=jParams[DOF_YEAR]['parse']['end']['pages']\n",
    "    )\n",
    "\n",
    "df_donaut_rms = pd.concat([df_donaut_rms, fix_multiple_cols_name(last_page[0].df)])\n",
    "\n",
    "\n",
    "# some cleaning over here\n",
    "df_donaut_rms = df_donaut_rms.rename(columns={0: 'RFC', 1: 'razon_social'})\n",
    "# remove headers when osc changes their social objective in pdf\n",
    "df_donaut_rms = df_donaut_rms[~((df_donaut_rms.RFC == 'RFC') & (df_donaut_rms.razon_social == 'Denominación Social'))].reset_index(drop=True)\n",
    "df_donaut_rms = df_donaut_rms[df_donaut_rms.RFC.str.len().isin([0, 12]) ]"
   ]
  },
  {
   "cell_type": "code",
   "execution_count": 48,
   "metadata": {
    "colab": {
     "base_uri": "https://localhost:8080/"
    },
    "id": "46RQCROGW4S3",
    "outputId": "f58e8e30-fa4b-413c-f231-d7a6df0e37da"
   },
   "outputs": [
    {
     "name": "stdout",
     "output_type": "stream",
     "text": [
      "Average parsed accuracy 99.91\n",
      "Average parsed whitespace 99.91\n"
     ]
    }
   ],
   "source": [
    "print('Average parsed accuracy', np.mean(accuracies).round(2))\n",
    "print('Average parsed whitespace', np.mean(whitespaces).round(2))"
   ]
  },
  {
   "cell_type": "code",
   "execution_count": 49,
   "metadata": {
    "id": "bwk7QU0jOBCR"
   },
   "outputs": [],
   "source": [
    "df_donaut_rms = df_donaut_rms.drop_duplicates(\"RFC\").reset_index(drop=True)"
   ]
  },
  {
   "cell_type": "code",
   "execution_count": 50,
   "metadata": {
    "colab": {
     "base_uri": "https://localhost:8080/",
     "height": 204
    },
    "id": "_89h-vb1Xn_L",
    "outputId": "25b9b181-bfed-48ba-f500-d0594a803979"
   },
   "outputs": [
    {
     "data": {
      "text/html": [
       "<div>\n",
       "<style scoped>\n",
       "    .dataframe tbody tr th:only-of-type {\n",
       "        vertical-align: middle;\n",
       "    }\n",
       "\n",
       "    .dataframe tbody tr th {\n",
       "        vertical-align: top;\n",
       "    }\n",
       "\n",
       "    .dataframe thead th {\n",
       "        text-align: right;\n",
       "    }\n",
       "</style>\n",
       "<table border=\"1\" class=\"dataframe\">\n",
       "  <thead>\n",
       "    <tr style=\"text-align: right;\">\n",
       "      <th></th>\n",
       "      <th>RFC</th>\n",
       "      <th>razon_social</th>\n",
       "    </tr>\n",
       "  </thead>\n",
       "  <tbody>\n",
       "    <tr>\n",
       "      <th>7866</th>\n",
       "      <td>FEV041117BAA</td>\n",
       "      <td>Fondo Ventura, A.C.</td>\n",
       "    </tr>\n",
       "    <tr>\n",
       "      <th>8710</th>\n",
       "      <td>PVI091012M61</td>\n",
       "      <td>Programa Viva, A.C.</td>\n",
       "    </tr>\n",
       "    <tr>\n",
       "      <th>2636</th>\n",
       "      <td>FTE1001081V9</td>\n",
       "      <td>FRASAC de Tehuacán, A.C.</td>\n",
       "    </tr>\n",
       "    <tr>\n",
       "      <th>2236</th>\n",
       "      <td>DGL160909QW3</td>\n",
       "      <td>Día de Gloria A.C.</td>\n",
       "    </tr>\n",
       "    <tr>\n",
       "      <th>3776</th>\n",
       "      <td>FUM961104MI3</td>\n",
       "      <td>Fundación una Mano Amiga, I.A.P.</td>\n",
       "    </tr>\n",
       "  </tbody>\n",
       "</table>\n",
       "</div>"
      ],
      "text/plain": [
       "               RFC                      razon_social\n",
       "7866  FEV041117BAA               Fondo Ventura, A.C.\n",
       "8710  PVI091012M61               Programa Viva, A.C.\n",
       "2636  FTE1001081V9         FRASAC de Tehuacán, A.C. \n",
       "2236  DGL160909QW3                Día de Gloria A.C.\n",
       "3776  FUM961104MI3  Fundación una Mano Amiga, I.A.P."
      ]
     },
     "execution_count": 50,
     "metadata": {},
     "output_type": "execute_result"
    }
   ],
   "source": [
    "df_donaut_rms.sample(5)"
   ]
  },
  {
   "cell_type": "code",
   "execution_count": null,
   "metadata": {
    "id": "V0p7xlvg_edW"
   },
   "outputs": [],
   "source": []
  },
  {
   "cell_type": "code",
   "execution_count": 51,
   "metadata": {
    "id": "5xU2YYDXIJ6z"
   },
   "outputs": [],
   "source": [
    "df_osc2 = pd.merge(df_osc_cluni[['CLUNI', 'RFC', 'ESTATUS']], df_donaut_rms, how='outer')# .drop_duplicates().reset_index(drop=True)"
   ]
  },
  {
   "cell_type": "code",
   "execution_count": 52,
   "metadata": {
    "colab": {
     "base_uri": "https://localhost:8080/"
    },
    "id": "0ArkPHpoK8qw",
    "outputId": "4b3c1c04-1224-461c-a1b5-7aac8f20103d"
   },
   "outputs": [
    {
     "data": {
      "text/plain": [
       "CLUNI           42731\n",
       "RFC             46124\n",
       "ESTATUS         42731\n",
       "razon_social     9563\n",
       "dtype: int64"
      ]
     },
     "execution_count": 52,
     "metadata": {},
     "output_type": "execute_result"
    }
   ],
   "source": [
    "(~df_osc2.isna()).sum(axis=0)"
   ]
  },
  {
   "cell_type": "code",
   "execution_count": 53,
   "metadata": {
    "colab": {
     "base_uri": "https://localhost:8080/"
    },
    "id": "EQ49sqBiYyWS",
    "outputId": "1a59e26c-8429-409f-ba55-316a9ba6bcb8"
   },
   "outputs": [
    {
     "data": {
      "text/plain": [
       "CLUNI           13454\n",
       "RFC             13454\n",
       "ESTATUS         13454\n",
       "razon_social     4705\n",
       "dtype: int64"
      ]
     },
     "execution_count": 53,
     "metadata": {},
     "output_type": "execute_result"
    }
   ],
   "source": [
    "(~df_osc2[df_osc2.ESTATUS == 'ACTIVA'].isna()).sum(axis=0)"
   ]
  },
  {
   "cell_type": "code",
   "execution_count": 54,
   "metadata": {
    "id": "7ErTB7jUY5-6"
   },
   "outputs": [],
   "source": [
    "df_osc_activas = df_osc2[df_osc2.ESTATUS == 'ACTIVA']"
   ]
  },
  {
   "cell_type": "code",
   "execution_count": 55,
   "metadata": {
    "colab": {
     "base_uri": "https://localhost:8080/",
     "height": 204
    },
    "id": "8odhpBGOLGax",
    "outputId": "c008a09e-77e7-487d-cad3-54d125be33f1"
   },
   "outputs": [
    {
     "data": {
      "text/html": [
       "<div>\n",
       "<style scoped>\n",
       "    .dataframe tbody tr th:only-of-type {\n",
       "        vertical-align: middle;\n",
       "    }\n",
       "\n",
       "    .dataframe tbody tr th {\n",
       "        vertical-align: top;\n",
       "    }\n",
       "\n",
       "    .dataframe thead th {\n",
       "        text-align: right;\n",
       "    }\n",
       "</style>\n",
       "<table border=\"1\" class=\"dataframe\">\n",
       "  <thead>\n",
       "    <tr style=\"text-align: right;\">\n",
       "      <th></th>\n",
       "      <th>CLUNI</th>\n",
       "      <th>RFC</th>\n",
       "      <th>ESTATUS</th>\n",
       "      <th>razon_social</th>\n",
       "    </tr>\n",
       "  </thead>\n",
       "  <tbody>\n",
       "    <tr>\n",
       "      <th>39583</th>\n",
       "      <td>GIG18022009A2M</td>\n",
       "      <td>GIG1802206G1</td>\n",
       "      <td>ACTIVA</td>\n",
       "      <td>NaN</td>\n",
       "    </tr>\n",
       "    <tr>\n",
       "      <th>40170</th>\n",
       "      <td>PMA15081001AKZ</td>\n",
       "      <td>PMA150810GJ8</td>\n",
       "      <td>ACTIVA</td>\n",
       "      <td>NaN</td>\n",
       "    </tr>\n",
       "    <tr>\n",
       "      <th>15728</th>\n",
       "      <td>IVB0010061101E</td>\n",
       "      <td>IVB001006XJ5</td>\n",
       "      <td>ACTIVA</td>\n",
       "      <td>NaN</td>\n",
       "    </tr>\n",
       "    <tr>\n",
       "      <th>20908</th>\n",
       "      <td>AAD1110270701T</td>\n",
       "      <td>AAD1110275H5</td>\n",
       "      <td>ACTIVA</td>\n",
       "      <td>NaN</td>\n",
       "    </tr>\n",
       "    <tr>\n",
       "      <th>33509</th>\n",
       "      <td>FCC16031112UKP</td>\n",
       "      <td>FCC160311BY0</td>\n",
       "      <td>ACTIVA</td>\n",
       "      <td>NaN</td>\n",
       "    </tr>\n",
       "  </tbody>\n",
       "</table>\n",
       "</div>"
      ],
      "text/plain": [
       "                CLUNI           RFC ESTATUS razon_social\n",
       "39583  GIG18022009A2M  GIG1802206G1  ACTIVA          NaN\n",
       "40170  PMA15081001AKZ  PMA150810GJ8  ACTIVA          NaN\n",
       "15728  IVB0010061101E  IVB001006XJ5  ACTIVA          NaN\n",
       "20908  AAD1110270701T  AAD1110275H5  ACTIVA          NaN\n",
       "33509  FCC16031112UKP  FCC160311BY0  ACTIVA          NaN"
      ]
     },
     "execution_count": 55,
     "metadata": {},
     "output_type": "execute_result"
    }
   ],
   "source": [
    "# OSC not present in DOF might be delay delivering tax annual reports\n",
    "df_osc_activas[df_osc_activas.razon_social.isna()].sample(5)"
   ]
  },
  {
   "cell_type": "code",
   "execution_count": 58,
   "metadata": {
    "colab": {
     "base_uri": "https://localhost:8080/",
     "height": 335
    },
    "id": "fX5ggQFGaSKZ",
    "outputId": "832c07ef-a0a6-4cdc-97ce-989b992cd503"
   },
   "outputs": [
    {
     "data": {
      "text/html": [
       "<div>\n",
       "<style scoped>\n",
       "    .dataframe tbody tr th:only-of-type {\n",
       "        vertical-align: middle;\n",
       "    }\n",
       "\n",
       "    .dataframe tbody tr th {\n",
       "        vertical-align: top;\n",
       "    }\n",
       "\n",
       "    .dataframe thead th {\n",
       "        text-align: right;\n",
       "    }\n",
       "</style>\n",
       "<table border=\"1\" class=\"dataframe\">\n",
       "  <thead>\n",
       "    <tr style=\"text-align: right;\">\n",
       "      <th></th>\n",
       "      <th>ENTIDAD FEDERATIVA</th>\n",
       "      <th>ADMINISTRACIÓN DESCONCENTRADA DE SERVICIOS AL CONTRIBUYENTE</th>\n",
       "      <th>ACTIVIDAD O FIN AUTORIZADO</th>\n",
       "      <th>RFC</th>\n",
       "      <th>DENOMINACIÓN O RAZÓN SOCIAL</th>\n",
       "      <th>DOMICILIO FISCAL</th>\n",
       "      <th>OFICIO DE AUTORIZACIÓN</th>\n",
       "      <th>FECHA DE OFICIO</th>\n",
       "      <th>OBJETO SOCIAL AUTORIZADO</th>\n",
       "      <th>REPRESENTANTE LEGAL</th>\n",
       "      <th>NÚMEROS TELEFÓNICOS</th>\n",
       "      <th>E-MAIL</th>\n",
       "      <th>DOMICILIO DE ESTABLECIMIENTO</th>\n",
       "      <th>NÚMEROS TELEFÓNICOS DEL ESTABLECIMIENTO</th>\n",
       "      <th>ACREDITAMIENTO</th>\n",
       "    </tr>\n",
       "  </thead>\n",
       "  <tbody>\n",
       "    <tr>\n",
       "      <th>7364</th>\n",
       "      <td>ESTADO DE MÉXICO</td>\n",
       "      <td>MÉXICO \"1\"</td>\n",
       "      <td>M</td>\n",
       "      <td>CHA970624N91</td>\n",
       "      <td>Casa Hogar Alegría, I.A.P.</td>\n",
       "      <td>Lanceros de Toluca Núm 208, Col. Héroes de 5 d...</td>\n",
       "      <td>600-04-05-2013-10047</td>\n",
       "      <td>2013-01-31 00:00:00</td>\n",
       "      <td>La Atención a Personas que por sus Carencias S...</td>\n",
       "      <td>Alva Margarita Cervera Lavat</td>\n",
       "      <td>722 208 92 55</td>\n",
       "      <td>casahogar_alegria@hotmail.com</td>\n",
       "      <td>No Manifestó</td>\n",
       "      <td>No Manifestó</td>\n",
       "      <td>Constancia sin fecha, firmada por el Lic. Agus...</td>\n",
       "    </tr>\n",
       "    <tr>\n",
       "      <th>7365</th>\n",
       "      <td>ESTADO DE MÉXICO</td>\n",
       "      <td>MÉXICO \"1\"</td>\n",
       "      <td>A</td>\n",
       "      <td>CHA970624N91</td>\n",
       "      <td>Casa Hogar Alegría, I.A.P.</td>\n",
       "      <td>Lanceros de Toluca Núm 208, Col. Héroes de 5 d...</td>\n",
       "      <td>600-04-05-2011-54503</td>\n",
       "      <td>2011-02-03 00:00:00</td>\n",
       "      <td>La Atención a Personas que por sus Carencias S...</td>\n",
       "      <td>Alva Margarita Cervera Lavat</td>\n",
       "      <td>722 208 92 55</td>\n",
       "      <td>casahogar_alegria@hotmail.com</td>\n",
       "      <td>No Manifestó</td>\n",
       "      <td>No Manifestó</td>\n",
       "      <td>Constancia sin fecha, firmada por el Lic. Agus...</td>\n",
       "    </tr>\n",
       "  </tbody>\n",
       "</table>\n",
       "</div>"
      ],
      "text/plain": [
       "     ENTIDAD FEDERATIVA  \\\n",
       "7364   ESTADO DE MÉXICO   \n",
       "7365   ESTADO DE MÉXICO   \n",
       "\n",
       "     ADMINISTRACIÓN DESCONCENTRADA DE SERVICIOS AL CONTRIBUYENTE  \\\n",
       "7364                                         MÉXICO \"1\"            \n",
       "7365                                         MÉXICO \"1\"            \n",
       "\n",
       "     ACTIVIDAD O FIN AUTORIZADO           RFC DENOMINACIÓN O RAZÓN SOCIAL  \\\n",
       "7364                          M  CHA970624N91  Casa Hogar Alegría, I.A.P.   \n",
       "7365                          A  CHA970624N91  Casa Hogar Alegría, I.A.P.   \n",
       "\n",
       "                                       DOMICILIO FISCAL  \\\n",
       "7364  Lanceros de Toluca Núm 208, Col. Héroes de 5 d...   \n",
       "7365  Lanceros de Toluca Núm 208, Col. Héroes de 5 d...   \n",
       "\n",
       "     OFICIO DE AUTORIZACIÓN      FECHA DE OFICIO  \\\n",
       "7364   600-04-05-2013-10047  2013-01-31 00:00:00   \n",
       "7365   600-04-05-2011-54503  2011-02-03 00:00:00   \n",
       "\n",
       "                               OBJETO SOCIAL AUTORIZADO  \\\n",
       "7364  La Atención a Personas que por sus Carencias S...   \n",
       "7365  La Atención a Personas que por sus Carencias S...   \n",
       "\n",
       "               REPRESENTANTE LEGAL NÚMEROS TELEFÓNICOS  \\\n",
       "7364  Alva Margarita Cervera Lavat       722 208 92 55   \n",
       "7365  Alva Margarita Cervera Lavat       722 208 92 55   \n",
       "\n",
       "                             E-MAIL DOMICILIO DE ESTABLECIMIENTO   \\\n",
       "7364  casahogar_alegria@hotmail.com                  No Manifestó   \n",
       "7365  casahogar_alegria@hotmail.com                  No Manifestó   \n",
       "\n",
       "     NÚMEROS TELEFÓNICOS DEL ESTABLECIMIENTO  \\\n",
       "7364                            No Manifestó   \n",
       "7365                            No Manifestó   \n",
       "\n",
       "                                         ACREDITAMIENTO  \n",
       "7364  Constancia sin fecha, firmada por el Lic. Agus...  \n",
       "7365  Constancia sin fecha, firmada por el Lic. Agus...  "
      ]
     },
     "execution_count": 58,
     "metadata": {},
     "output_type": "execute_result"
    }
   ],
   "source": [
    "df_osc_sat[df_osc_sat.RFC == 'CHA970624N91']"
   ]
  },
  {
   "cell_type": "code",
   "execution_count": 59,
   "metadata": {
    "colab": {
     "base_uri": "https://localhost:8080/",
     "height": 49
    },
    "id": "QDnbcRKtLc1C",
    "outputId": "23191598-9a12-4b7d-a0a9-e50380aa2e79"
   },
   "outputs": [
    {
     "data": {
      "text/html": [
       "<div>\n",
       "<style scoped>\n",
       "    .dataframe tbody tr th:only-of-type {\n",
       "        vertical-align: middle;\n",
       "    }\n",
       "\n",
       "    .dataframe tbody tr th {\n",
       "        vertical-align: top;\n",
       "    }\n",
       "\n",
       "    .dataframe thead th {\n",
       "        text-align: right;\n",
       "    }\n",
       "</style>\n",
       "<table border=\"1\" class=\"dataframe\">\n",
       "  <thead>\n",
       "    <tr style=\"text-align: right;\">\n",
       "      <th></th>\n",
       "      <th>CLUNI</th>\n",
       "      <th>RFC</th>\n",
       "      <th>ESTATUS</th>\n",
       "      <th>razon_social</th>\n",
       "    </tr>\n",
       "  </thead>\n",
       "  <tbody>\n",
       "  </tbody>\n",
       "</table>\n",
       "</div>"
      ],
      "text/plain": [
       "Empty DataFrame\n",
       "Columns: [CLUNI, RFC, ESTATUS, razon_social]\n",
       "Index: []"
      ]
     },
     "execution_count": 59,
     "metadata": {},
     "output_type": "execute_result"
    }
   ],
   "source": [
    "df_osc_activas[df_osc_activas.CLUNI.isna()]"
   ]
  },
  {
   "cell_type": "code",
   "execution_count": 60,
   "metadata": {
    "colab": {
     "base_uri": "https://localhost:8080/"
    },
    "id": "YkkYX-M9MPHD",
    "outputId": "dd24c8a1-c5d1-4bbe-94a0-496f0ea9cd35"
   },
   "outputs": [
    {
     "data": {
      "text/plain": [
       "Series([], Name: RFC, dtype: int64)"
      ]
     },
     "execution_count": 60,
     "metadata": {},
     "output_type": "execute_result"
    }
   ],
   "source": [
    "df_osc_activas.RFC.value_counts()[df_osc_activas.RFC.value_counts() > 1]"
   ]
  },
  {
   "cell_type": "code",
   "execution_count": null,
   "metadata": {
    "id": "EkkTAeHDL3Ef"
   },
   "outputs": [],
   "source": []
  }
 ],
 "metadata": {
  "colab": {
   "collapsed_sections": [
    "iI6hplGSBPtH",
    "EJj-dMi7HFgw",
    "gGbRTqIAXnTu"
   ],
   "name": "get_osc_data.ipynb",
   "provenance": [],
   "toc_visible": true
  },
  "kernelspec": {
   "display_name": "Python [conda env:osc-mexico-2021]",
   "language": "python",
   "name": "osc-mexico-2021"
  },
  "language_info": {
   "codemirror_mode": {
    "name": "ipython",
    "version": 3
   },
   "file_extension": ".py",
   "mimetype": "text/x-python",
   "name": "python",
   "nbconvert_exporter": "python",
   "pygments_lexer": "ipython3",
   "version": "3.9.1"
  }
 },
 "nbformat": 4,
 "nbformat_minor": 1
}
